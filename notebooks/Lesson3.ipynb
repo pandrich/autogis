{
 "cells": [
  {
   "cell_type": "code",
   "execution_count": 333,
   "id": "7462b0ed-7f05-4f89-a5e5-7fddc2206aea",
   "metadata": {},
   "outputs": [],
   "source": [
    "from pathlib import Path\n",
    "import numpy as np\n",
    "import pandas as pd\n",
    "import geopandas as gpd\n",
    "from shapely.geometry import Point, MultiPoint, Polygon, LineString, MultiLineString\n",
    "import matplotlib.pyplot as plt\n",
    "import requests\n",
    "import geojson\n",
    "from pyproj import CRS"
   ]
  },
  {
   "cell_type": "code",
   "execution_count": 138,
   "id": "20cca6aa-15a0-42df-b235-48094ff4c46b",
   "metadata": {},
   "outputs": [],
   "source": [
    "DATA_PATH = Path(\"../site-master/source/notebooks/L3/data\")"
   ]
  },
  {
   "cell_type": "code",
   "execution_count": 139,
   "id": "562a4936-f58c-44e8-af9a-fcb24d9ae4f3",
   "metadata": {},
   "outputs": [
    {
     "data": {
      "text/plain": [
       "WindowsPath('../site-master/source/notebooks/L3/data')"
      ]
     },
     "execution_count": 139,
     "metadata": {},
     "output_type": "execute_result"
    }
   ],
   "source": [
    "DATA_PATH"
   ]
  },
  {
   "cell_type": "code",
   "execution_count": 5,
   "id": "ae43a26a-411b-42f6-876a-23b85e29f779",
   "metadata": {},
   "outputs": [],
   "source": [
    "data = pd.read_csv(DATA_PATH / \"addresses.txt\", sep=\";\")"
   ]
  },
  {
   "cell_type": "code",
   "execution_count": 6,
   "id": "73cf90be-9718-453b-ab43-e1a3483825aa",
   "metadata": {},
   "outputs": [
    {
     "data": {
      "text/html": [
       "<div>\n",
       "<style scoped>\n",
       "    .dataframe tbody tr th:only-of-type {\n",
       "        vertical-align: middle;\n",
       "    }\n",
       "\n",
       "    .dataframe tbody tr th {\n",
       "        vertical-align: top;\n",
       "    }\n",
       "\n",
       "    .dataframe thead th {\n",
       "        text-align: right;\n",
       "    }\n",
       "</style>\n",
       "<table border=\"1\" class=\"dataframe\">\n",
       "  <thead>\n",
       "    <tr style=\"text-align: right;\">\n",
       "      <th></th>\n",
       "      <th>id</th>\n",
       "      <th>addr</th>\n",
       "    </tr>\n",
       "  </thead>\n",
       "  <tbody>\n",
       "    <tr>\n",
       "      <th>0</th>\n",
       "      <td>1000</td>\n",
       "      <td>Itämerenkatu 14, 00101 Helsinki, Finland</td>\n",
       "    </tr>\n",
       "    <tr>\n",
       "      <th>1</th>\n",
       "      <td>1001</td>\n",
       "      <td>Kampinkuja 1, 00100 Helsinki, Finland</td>\n",
       "    </tr>\n",
       "    <tr>\n",
       "      <th>2</th>\n",
       "      <td>1002</td>\n",
       "      <td>Kaivokatu 8, 00101 Helsinki, Finland</td>\n",
       "    </tr>\n",
       "    <tr>\n",
       "      <th>3</th>\n",
       "      <td>1003</td>\n",
       "      <td>Hermannin rantatie 1, 00580 Helsinki, Finland</td>\n",
       "    </tr>\n",
       "    <tr>\n",
       "      <th>4</th>\n",
       "      <td>1005</td>\n",
       "      <td>Tyynenmerenkatu 9, 00220 Helsinki, Finland</td>\n",
       "    </tr>\n",
       "  </tbody>\n",
       "</table>\n",
       "</div>"
      ],
      "text/plain": [
       "     id                                           addr\n",
       "0  1000       Itämerenkatu 14, 00101 Helsinki, Finland\n",
       "1  1001          Kampinkuja 1, 00100 Helsinki, Finland\n",
       "2  1002           Kaivokatu 8, 00101 Helsinki, Finland\n",
       "3  1003  Hermannin rantatie 1, 00580 Helsinki, Finland\n",
       "4  1005     Tyynenmerenkatu 9, 00220 Helsinki, Finland"
      ]
     },
     "execution_count": 6,
     "metadata": {},
     "output_type": "execute_result"
    }
   ],
   "source": [
    "data.head()"
   ]
  },
  {
   "cell_type": "code",
   "execution_count": 7,
   "id": "dffd560f-c306-409e-b544-94fbb1b1efb4",
   "metadata": {},
   "outputs": [],
   "source": [
    "geo = gpd.tools.geocode(data[\"addr\"],\n",
    "                        provider=\"nominatim\",\n",
    "                        user_agent=\"paolo_test\",\n",
    "                        timeout=4\n",
    "                       )"
   ]
  },
  {
   "cell_type": "code",
   "execution_count": 8,
   "id": "aabc6d9e-6df5-43a6-b0bd-17be3b568bee",
   "metadata": {},
   "outputs": [
    {
     "data": {
      "text/html": [
       "<div>\n",
       "<style scoped>\n",
       "    .dataframe tbody tr th:only-of-type {\n",
       "        vertical-align: middle;\n",
       "    }\n",
       "\n",
       "    .dataframe tbody tr th {\n",
       "        vertical-align: top;\n",
       "    }\n",
       "\n",
       "    .dataframe thead th {\n",
       "        text-align: right;\n",
       "    }\n",
       "</style>\n",
       "<table border=\"1\" class=\"dataframe\">\n",
       "  <thead>\n",
       "    <tr style=\"text-align: right;\">\n",
       "      <th></th>\n",
       "      <th>geometry</th>\n",
       "      <th>address</th>\n",
       "    </tr>\n",
       "  </thead>\n",
       "  <tbody>\n",
       "    <tr>\n",
       "      <th>0</th>\n",
       "      <td>POINT (24.91556 60.16320)</td>\n",
       "      <td>Ruoholahti, 14, Itämerenkatu, Ruoholahti, Läns...</td>\n",
       "    </tr>\n",
       "    <tr>\n",
       "      <th>1</th>\n",
       "      <td>POINT (24.93166 60.16905)</td>\n",
       "      <td>Kamppi, 1, Kampinkuja, Kamppi, Eteläinen suurp...</td>\n",
       "    </tr>\n",
       "    <tr>\n",
       "      <th>2</th>\n",
       "      <td>POINT (24.94179 60.16989)</td>\n",
       "      <td>Kauppakeskus Citycenter, 8, Kaivokatu, Keskust...</td>\n",
       "    </tr>\n",
       "    <tr>\n",
       "      <th>3</th>\n",
       "      <td>POINT (24.97783 60.18892)</td>\n",
       "      <td>Hermannin rantatie, Verkkosaari, Kalasatama, S...</td>\n",
       "    </tr>\n",
       "    <tr>\n",
       "      <th>4</th>\n",
       "      <td>POINT (24.92160 60.15665)</td>\n",
       "      <td>Hesburger, 9, Tyynenmerenkatu, Jätkäsaari, Län...</td>\n",
       "    </tr>\n",
       "  </tbody>\n",
       "</table>\n",
       "</div>"
      ],
      "text/plain": [
       "                    geometry  \\\n",
       "0  POINT (24.91556 60.16320)   \n",
       "1  POINT (24.93166 60.16905)   \n",
       "2  POINT (24.94179 60.16989)   \n",
       "3  POINT (24.97783 60.18892)   \n",
       "4  POINT (24.92160 60.15665)   \n",
       "\n",
       "                                             address  \n",
       "0  Ruoholahti, 14, Itämerenkatu, Ruoholahti, Läns...  \n",
       "1  Kamppi, 1, Kampinkuja, Kamppi, Eteläinen suurp...  \n",
       "2  Kauppakeskus Citycenter, 8, Kaivokatu, Keskust...  \n",
       "3  Hermannin rantatie, Verkkosaari, Kalasatama, S...  \n",
       "4  Hesburger, 9, Tyynenmerenkatu, Jätkäsaari, Län...  "
      ]
     },
     "execution_count": 8,
     "metadata": {},
     "output_type": "execute_result"
    }
   ],
   "source": [
    "geo.head()"
   ]
  },
  {
   "cell_type": "code",
   "execution_count": 9,
   "id": "7bddaef6-e661-4279-a0ad-c3477981e679",
   "metadata": {},
   "outputs": [],
   "source": [
    "geo2 = gpd.GeoDataFrame(\n",
    "    data=data,\n",
    "    geometry=gpd.tools.geocode(data[\"addr\"],\n",
    "                               provider=\"nominatim\",\n",
    "                               user_agent=\"paolo_test\",\n",
    "                               timeout=4\n",
    "                              )[\"geometry\"]\n",
    ")"
   ]
  },
  {
   "cell_type": "code",
   "execution_count": 10,
   "id": "7dc5bf3a-a780-4282-96d4-a73f036b7843",
   "metadata": {},
   "outputs": [
    {
     "data": {
      "text/html": [
       "<div>\n",
       "<style scoped>\n",
       "    .dataframe tbody tr th:only-of-type {\n",
       "        vertical-align: middle;\n",
       "    }\n",
       "\n",
       "    .dataframe tbody tr th {\n",
       "        vertical-align: top;\n",
       "    }\n",
       "\n",
       "    .dataframe thead th {\n",
       "        text-align: right;\n",
       "    }\n",
       "</style>\n",
       "<table border=\"1\" class=\"dataframe\">\n",
       "  <thead>\n",
       "    <tr style=\"text-align: right;\">\n",
       "      <th></th>\n",
       "      <th>id</th>\n",
       "      <th>addr</th>\n",
       "      <th>geometry</th>\n",
       "    </tr>\n",
       "  </thead>\n",
       "  <tbody>\n",
       "    <tr>\n",
       "      <th>0</th>\n",
       "      <td>1000</td>\n",
       "      <td>Itämerenkatu 14, 00101 Helsinki, Finland</td>\n",
       "      <td>POINT (24.91556 60.16320)</td>\n",
       "    </tr>\n",
       "    <tr>\n",
       "      <th>1</th>\n",
       "      <td>1001</td>\n",
       "      <td>Kampinkuja 1, 00100 Helsinki, Finland</td>\n",
       "      <td>POINT (24.93166 60.16905)</td>\n",
       "    </tr>\n",
       "    <tr>\n",
       "      <th>2</th>\n",
       "      <td>1002</td>\n",
       "      <td>Kaivokatu 8, 00101 Helsinki, Finland</td>\n",
       "      <td>POINT (24.94179 60.16989)</td>\n",
       "    </tr>\n",
       "    <tr>\n",
       "      <th>3</th>\n",
       "      <td>1003</td>\n",
       "      <td>Hermannin rantatie 1, 00580 Helsinki, Finland</td>\n",
       "      <td>POINT (24.97783 60.18892)</td>\n",
       "    </tr>\n",
       "    <tr>\n",
       "      <th>4</th>\n",
       "      <td>1005</td>\n",
       "      <td>Tyynenmerenkatu 9, 00220 Helsinki, Finland</td>\n",
       "      <td>POINT (24.92160 60.15665)</td>\n",
       "    </tr>\n",
       "  </tbody>\n",
       "</table>\n",
       "</div>"
      ],
      "text/plain": [
       "     id                                           addr  \\\n",
       "0  1000       Itämerenkatu 14, 00101 Helsinki, Finland   \n",
       "1  1001          Kampinkuja 1, 00100 Helsinki, Finland   \n",
       "2  1002           Kaivokatu 8, 00101 Helsinki, Finland   \n",
       "3  1003  Hermannin rantatie 1, 00580 Helsinki, Finland   \n",
       "4  1005     Tyynenmerenkatu 9, 00220 Helsinki, Finland   \n",
       "\n",
       "                    geometry  \n",
       "0  POINT (24.91556 60.16320)  \n",
       "1  POINT (24.93166 60.16905)  \n",
       "2  POINT (24.94179 60.16989)  \n",
       "3  POINT (24.97783 60.18892)  \n",
       "4  POINT (24.92160 60.15665)  "
      ]
     },
     "execution_count": 10,
     "metadata": {},
     "output_type": "execute_result"
    }
   ],
   "source": [
    "geo2.head()"
   ]
  },
  {
   "cell_type": "code",
   "execution_count": 11,
   "id": "e1df73c3-3ea8-4e77-8e4c-9420e4f85ac6",
   "metadata": {},
   "outputs": [],
   "source": [
    "geo2.to_file(DATA_PATH / \"addresses.shp\")"
   ]
  },
  {
   "cell_type": "markdown",
   "id": "654cc2e7-8738-414e-bb79-d29ca6c6c266",
   "metadata": {},
   "source": [
    "## Point in Polygons"
   ]
  },
  {
   "cell_type": "code",
   "execution_count": 12,
   "id": "3e81723d-7da8-40fb-b51c-919ba2c8ba75",
   "metadata": {},
   "outputs": [],
   "source": [
    "p1 = Point(24.952242, 60.1696017)\n",
    "p2 = Point(24.976567, 60.1612500)\n",
    "poly_coords = [(24.950899, 60.169158), (24.953492, 60.169158), \n",
    "               (24.953510, 60.170104), (24.950958, 60.169990)]\n",
    "poly = Polygon(poly_coords)"
   ]
  },
  {
   "cell_type": "code",
   "execution_count": 13,
   "id": "eb7e992b-d92b-4cf2-9cfd-22c2a782cb0b",
   "metadata": {},
   "outputs": [
    {
     "data": {
      "text/plain": [
       "True"
      ]
     },
     "execution_count": 13,
     "metadata": {},
     "output_type": "execute_result"
    }
   ],
   "source": [
    "p1.within(poly)"
   ]
  },
  {
   "cell_type": "code",
   "execution_count": 14,
   "id": "b78958c6-66a9-4c34-8f12-bdd5a1523b31",
   "metadata": {},
   "outputs": [
    {
     "data": {
      "text/plain": [
       "False"
      ]
     },
     "execution_count": 14,
     "metadata": {},
     "output_type": "execute_result"
    }
   ],
   "source": [
    "poly.contains(p2)"
   ]
  },
  {
   "cell_type": "code",
   "execution_count": 15,
   "id": "aa1f07e5-04e5-41ab-9658-532149f99cd6",
   "metadata": {},
   "outputs": [
    {
     "name": "stdout",
     "output_type": "stream",
     "text": [
      "POINT (24.952242428492358 60.16960179038188)\n"
     ]
    }
   ],
   "source": [
    "print(poly.centroid)"
   ]
  },
  {
   "cell_type": "code",
   "execution_count": 16,
   "id": "fb8cfbcd-f418-40a7-9122-238160a799c2",
   "metadata": {},
   "outputs": [],
   "source": [
    "dist = LineString([p1, poly.centroid]).length"
   ]
  },
  {
   "cell_type": "code",
   "execution_count": 17,
   "id": "97ca0090-79da-404f-a75d-96913a310f4c",
   "metadata": {},
   "outputs": [
    {
     "data": {
      "text/plain": [
       "4.3792075416758285e-07"
      ]
     },
     "execution_count": 17,
     "metadata": {},
     "output_type": "execute_result"
    }
   ],
   "source": [
    "dist"
   ]
  },
  {
   "cell_type": "markdown",
   "id": "aede42bb-bec4-44ef-beee-4690b11c987b",
   "metadata": {},
   "source": [
    "## Intersections"
   ]
  },
  {
   "cell_type": "code",
   "execution_count": 18,
   "id": "bb28ca61-87c3-45d7-ab7a-6d2887432b62",
   "metadata": {},
   "outputs": [],
   "source": [
    "l1 = LineString([(0, 0), (1, 1)])\n",
    "l2 = LineString([(1, 1), (0, 2)])"
   ]
  },
  {
   "cell_type": "code",
   "execution_count": 19,
   "id": "5405cdfc-2f13-4631-b100-39c5d0931adc",
   "metadata": {},
   "outputs": [
    {
     "data": {
      "text/plain": [
       "True"
      ]
     },
     "execution_count": 19,
     "metadata": {},
     "output_type": "execute_result"
    }
   ],
   "source": [
    "l1.intersects(l2)"
   ]
  },
  {
   "cell_type": "code",
   "execution_count": 20,
   "id": "1a2cbdc1-8dbd-49b9-ad15-9b9ddc780fd7",
   "metadata": {},
   "outputs": [
    {
     "data": {
      "text/plain": [
       "True"
      ]
     },
     "execution_count": 20,
     "metadata": {},
     "output_type": "execute_result"
    }
   ],
   "source": [
    "l1.touches(l2)"
   ]
  },
  {
   "cell_type": "code",
   "execution_count": 21,
   "id": "0a7ad497-96bc-4450-aefc-ed5478eb6a3e",
   "metadata": {},
   "outputs": [
    {
     "data": {
      "image/svg+xml": [
       "<svg xmlns=\"http://www.w3.org/2000/svg\" xmlns:xlink=\"http://www.w3.org/1999/xlink\" width=\"100.0\" height=\"100.0\" viewBox=\"-0.08 -0.08 1.1600000000000001 2.16\" preserveAspectRatio=\"xMinYMin meet\"><g transform=\"matrix(1,0,0,-1,0,2.0)\"><g><polyline fill=\"none\" stroke=\"#66cc99\" stroke-width=\"0.0432\" points=\"0.0,0.0 1.0,1.0\" opacity=\"0.8\" /><polyline fill=\"none\" stroke=\"#66cc99\" stroke-width=\"0.0432\" points=\"1.0,1.0 0.0,2.0\" opacity=\"0.8\" /></g></g></svg>"
      ],
      "text/plain": [
       "<shapely.geometry.multilinestring.MultiLineString at 0x2c971b43d90>"
      ]
     },
     "execution_count": 21,
     "metadata": {},
     "output_type": "execute_result"
    }
   ],
   "source": [
    "ml = MultiLineString([l1, l2])\n",
    "ml"
   ]
  },
  {
   "cell_type": "code",
   "execution_count": 22,
   "id": "90dfeec1-770b-4d77-83e7-984470938e8d",
   "metadata": {},
   "outputs": [],
   "source": [
    "l3 = LineString([(0, 1), (1, 0)])"
   ]
  },
  {
   "cell_type": "code",
   "execution_count": 23,
   "id": "a0ced0be-06db-43f7-a3b3-afc688b91475",
   "metadata": {},
   "outputs": [
    {
     "data": {
      "text/plain": [
       "True"
      ]
     },
     "execution_count": 23,
     "metadata": {},
     "output_type": "execute_result"
    }
   ],
   "source": [
    "l1.intersects(l3)"
   ]
  },
  {
   "cell_type": "code",
   "execution_count": 24,
   "id": "9d6cf271-72ca-4a3d-b65c-5df6ce520537",
   "metadata": {},
   "outputs": [
    {
     "data": {
      "text/plain": [
       "False"
      ]
     },
     "execution_count": 24,
     "metadata": {},
     "output_type": "execute_result"
    }
   ],
   "source": [
    "l1.touches(l3)"
   ]
  },
  {
   "cell_type": "markdown",
   "id": "16a9a0a6-3782-4d1a-a378-1429fadf6505",
   "metadata": {},
   "source": [
    "## Locations in regions"
   ]
  },
  {
   "cell_type": "code",
   "execution_count": 25,
   "id": "16b8aee2-1cc6-44c8-bb92-350b99e47e75",
   "metadata": {},
   "outputs": [],
   "source": [
    "data = gpd.read_file(DATA_PATH / \"addresses.shp\")"
   ]
  },
  {
   "cell_type": "code",
   "execution_count": 26,
   "id": "e9dc0489-6069-4160-8157-5c166311dc0f",
   "metadata": {},
   "outputs": [
    {
     "data": {
      "text/html": [
       "<div>\n",
       "<style scoped>\n",
       "    .dataframe tbody tr th:only-of-type {\n",
       "        vertical-align: middle;\n",
       "    }\n",
       "\n",
       "    .dataframe tbody tr th {\n",
       "        vertical-align: top;\n",
       "    }\n",
       "\n",
       "    .dataframe thead th {\n",
       "        text-align: right;\n",
       "    }\n",
       "</style>\n",
       "<table border=\"1\" class=\"dataframe\">\n",
       "  <thead>\n",
       "    <tr style=\"text-align: right;\">\n",
       "      <th></th>\n",
       "      <th>id</th>\n",
       "      <th>addr</th>\n",
       "      <th>geometry</th>\n",
       "    </tr>\n",
       "  </thead>\n",
       "  <tbody>\n",
       "    <tr>\n",
       "      <th>0</th>\n",
       "      <td>1000</td>\n",
       "      <td>Itämerenkatu 14, 00101 Helsinki, Finland</td>\n",
       "      <td>POINT (24.91556 60.16320)</td>\n",
       "    </tr>\n",
       "    <tr>\n",
       "      <th>1</th>\n",
       "      <td>1001</td>\n",
       "      <td>Kampinkuja 1, 00100 Helsinki, Finland</td>\n",
       "      <td>POINT (24.93166 60.16905)</td>\n",
       "    </tr>\n",
       "    <tr>\n",
       "      <th>2</th>\n",
       "      <td>1002</td>\n",
       "      <td>Kaivokatu 8, 00101 Helsinki, Finland</td>\n",
       "      <td>POINT (24.94179 60.16989)</td>\n",
       "    </tr>\n",
       "    <tr>\n",
       "      <th>3</th>\n",
       "      <td>1003</td>\n",
       "      <td>Hermannin rantatie 1, 00580 Helsinki, Finland</td>\n",
       "      <td>POINT (24.97783 60.18892)</td>\n",
       "    </tr>\n",
       "    <tr>\n",
       "      <th>4</th>\n",
       "      <td>1005</td>\n",
       "      <td>Tyynenmerenkatu 9, 00220 Helsinki, Finland</td>\n",
       "      <td>POINT (24.92160 60.15665)</td>\n",
       "    </tr>\n",
       "  </tbody>\n",
       "</table>\n",
       "</div>"
      ],
      "text/plain": [
       "     id                                           addr  \\\n",
       "0  1000       Itämerenkatu 14, 00101 Helsinki, Finland   \n",
       "1  1001          Kampinkuja 1, 00100 Helsinki, Finland   \n",
       "2  1002           Kaivokatu 8, 00101 Helsinki, Finland   \n",
       "3  1003  Hermannin rantatie 1, 00580 Helsinki, Finland   \n",
       "4  1005     Tyynenmerenkatu 9, 00220 Helsinki, Finland   \n",
       "\n",
       "                    geometry  \n",
       "0  POINT (24.91556 60.16320)  \n",
       "1  POINT (24.93166 60.16905)  \n",
       "2  POINT (24.94179 60.16989)  \n",
       "3  POINT (24.97783 60.18892)  \n",
       "4  POINT (24.92160 60.15665)  "
      ]
     },
     "execution_count": 26,
     "metadata": {},
     "output_type": "execute_result"
    }
   ],
   "source": [
    "data.head()"
   ]
  },
  {
   "cell_type": "code",
   "execution_count": 27,
   "id": "630b99b7-1ec9-4c29-bef9-dc8cf35abbb1",
   "metadata": {},
   "outputs": [
    {
     "data": {
      "text/plain": [
       "{'ARCGEN': 'r',\n",
       " 'DXF': 'rw',\n",
       " 'CSV': 'raw',\n",
       " 'OpenFileGDB': 'r',\n",
       " 'ESRIJSON': 'r',\n",
       " 'ESRI Shapefile': 'raw',\n",
       " 'FlatGeobuf': 'rw',\n",
       " 'GeoJSON': 'raw',\n",
       " 'GeoJSONSeq': 'rw',\n",
       " 'GPKG': 'raw',\n",
       " 'GML': 'rw',\n",
       " 'OGR_GMT': 'rw',\n",
       " 'GPX': 'rw',\n",
       " 'GPSTrackMaker': 'rw',\n",
       " 'Idrisi': 'r',\n",
       " 'MapInfo File': 'raw',\n",
       " 'DGN': 'raw',\n",
       " 'PCIDSK': 'rw',\n",
       " 'OGR_PDS': 'r',\n",
       " 'S57': 'r',\n",
       " 'SQLite': 'raw',\n",
       " 'TopoJSON': 'r'}"
      ]
     },
     "execution_count": 27,
     "metadata": {},
     "output_type": "execute_result"
    }
   ],
   "source": [
    "gpd.io.file.fiona.drvsupport.supported_drivers"
   ]
  },
  {
   "cell_type": "code",
   "execution_count": 28,
   "id": "a6fd17b2-d53d-48be-942c-f43116ff3bfb",
   "metadata": {},
   "outputs": [],
   "source": [
    "# Enable KML driver\n",
    "gpd.io.file.fiona.drvsupport.supported_drivers[\"LIBKML\"] = \"rw\""
   ]
  },
  {
   "cell_type": "code",
   "execution_count": 29,
   "id": "0472210c-023d-43e2-9fdb-187f43321f84",
   "metadata": {},
   "outputs": [],
   "source": [
    "polys = (gpd.read_file(DATA_PATH / \"PKS_suuralue.kml\",\n",
    "                      driver=\"LIBKLM\")\n",
    "         [[\"Name\", \"description\", \"geometry\"]]\n",
    "        )"
   ]
  },
  {
   "cell_type": "code",
   "execution_count": 30,
   "id": "6c878029-64b9-4113-aeea-71fe3b394cfa",
   "metadata": {},
   "outputs": [
    {
     "data": {
      "text/html": [
       "<div>\n",
       "<style scoped>\n",
       "    .dataframe tbody tr th:only-of-type {\n",
       "        vertical-align: middle;\n",
       "    }\n",
       "\n",
       "    .dataframe tbody tr th {\n",
       "        vertical-align: top;\n",
       "    }\n",
       "\n",
       "    .dataframe thead th {\n",
       "        text-align: right;\n",
       "    }\n",
       "</style>\n",
       "<table border=\"1\" class=\"dataframe\">\n",
       "  <thead>\n",
       "    <tr style=\"text-align: right;\">\n",
       "      <th></th>\n",
       "      <th>Name</th>\n",
       "      <th>description</th>\n",
       "      <th>geometry</th>\n",
       "    </tr>\n",
       "  </thead>\n",
       "  <tbody>\n",
       "    <tr>\n",
       "      <th>0</th>\n",
       "      <td>Suur-Espoonlahti</td>\n",
       "      <td>None</td>\n",
       "      <td>POLYGON Z ((24.77506 60.10906 0.00000, 24.7766...</td>\n",
       "    </tr>\n",
       "    <tr>\n",
       "      <th>1</th>\n",
       "      <td>Suur-Kauklahti</td>\n",
       "      <td>None</td>\n",
       "      <td>POLYGON Z ((24.61578 60.17257 0.00000, 24.6155...</td>\n",
       "    </tr>\n",
       "    <tr>\n",
       "      <th>2</th>\n",
       "      <td>Vanha-Espoo</td>\n",
       "      <td>None</td>\n",
       "      <td>POLYGON Z ((24.67576 60.21201 0.00000, 24.6752...</td>\n",
       "    </tr>\n",
       "    <tr>\n",
       "      <th>3</th>\n",
       "      <td>Pohjois-Espoo</td>\n",
       "      <td>None</td>\n",
       "      <td>POLYGON Z ((24.76792 60.26920 0.00000, 24.7699...</td>\n",
       "    </tr>\n",
       "    <tr>\n",
       "      <th>4</th>\n",
       "      <td>Suur-Matinkylä</td>\n",
       "      <td>None</td>\n",
       "      <td>POLYGON Z ((24.75361 60.16631 0.00000, 24.7537...</td>\n",
       "    </tr>\n",
       "  </tbody>\n",
       "</table>\n",
       "</div>"
      ],
      "text/plain": [
       "               Name description  \\\n",
       "0  Suur-Espoonlahti        None   \n",
       "1    Suur-Kauklahti        None   \n",
       "2       Vanha-Espoo        None   \n",
       "3     Pohjois-Espoo        None   \n",
       "4    Suur-Matinkylä        None   \n",
       "\n",
       "                                            geometry  \n",
       "0  POLYGON Z ((24.77506 60.10906 0.00000, 24.7766...  \n",
       "1  POLYGON Z ((24.61578 60.17257 0.00000, 24.6155...  \n",
       "2  POLYGON Z ((24.67576 60.21201 0.00000, 24.6752...  \n",
       "3  POLYGON Z ((24.76792 60.26920 0.00000, 24.7699...  \n",
       "4  POLYGON Z ((24.75361 60.16631 0.00000, 24.7537...  "
      ]
     },
     "execution_count": 30,
     "metadata": {},
     "output_type": "execute_result"
    }
   ],
   "source": [
    "polys.head()"
   ]
  },
  {
   "cell_type": "code",
   "execution_count": 31,
   "id": "26212a0d-41f1-429c-ba15-c3cff04ab403",
   "metadata": {},
   "outputs": [
    {
     "data": {
      "text/plain": [
       "<AxesSubplot:>"
      ]
     },
     "execution_count": 31,
     "metadata": {},
     "output_type": "execute_result"
    },
    {
     "data": {
      "image/png": "[encoded data removed]",
      "text/plain": [
       "<Figure size 432x432 with 1 Axes>"
      ]
     },
     "metadata": {
      "needs_background": "light"
     },
     "output_type": "display_data"
    }
   ],
   "source": [
    "fig, ax = plt.subplots(figsize=(6, 6))\n",
    "polys.plot(ax = ax,\n",
    "           facecolor=\"gray\", \n",
    "           edgecolor=\"white\",\n",
    "           linewidth=1\n",
    "          )\n",
    "(polys\n",
    " .query(\"Name == 'Eteläinen'\")\n",
    " .plot(\n",
    "     ax=ax,\n",
    "     facecolor=\"red\",\n",
    "     edgecolor=\"k\",\n",
    "     linewidth=3\n",
    " )\n",
    ")\n",
    "data.plot(\n",
    "    ax=ax,\n",
    "    color=\"blue\",\n",
    "    markersize=14\n",
    ")"
   ]
  },
  {
   "cell_type": "code",
   "execution_count": 32,
   "id": "4964cca9-0cdd-462e-b875-55a0baa80ad7",
   "metadata": {},
   "outputs": [
    {
     "data": {
      "text/plain": [
       "10    POLYGON Z ((24.78277 60.09997 0.00000, 24.8197...\n",
       "Name: geometry, dtype: geometry"
      ]
     },
     "execution_count": 32,
     "metadata": {},
     "output_type": "execute_result"
    }
   ],
   "source": [
    "polys.query(\"Name == 'Eteläinen'\")[\"geometry\"]"
   ]
  },
  {
   "cell_type": "code",
   "execution_count": 33,
   "id": "489bd00d-ac80-4d58-a819-cd10e8e47c3a",
   "metadata": {},
   "outputs": [
    {
     "data": {
      "text/html": [
       "<div>\n",
       "<style scoped>\n",
       "    .dataframe tbody tr th:only-of-type {\n",
       "        vertical-align: middle;\n",
       "    }\n",
       "\n",
       "    .dataframe tbody tr th {\n",
       "        vertical-align: top;\n",
       "    }\n",
       "\n",
       "    .dataframe thead th {\n",
       "        text-align: right;\n",
       "    }\n",
       "</style>\n",
       "<table border=\"1\" class=\"dataframe\">\n",
       "  <thead>\n",
       "    <tr style=\"text-align: right;\">\n",
       "      <th></th>\n",
       "      <th>id</th>\n",
       "      <th>addr</th>\n",
       "      <th>geometry</th>\n",
       "    </tr>\n",
       "  </thead>\n",
       "  <tbody>\n",
       "    <tr>\n",
       "      <th>0</th>\n",
       "      <td>1000</td>\n",
       "      <td>Itämerenkatu 14, 00101 Helsinki, Finland</td>\n",
       "      <td>POINT (24.91556 60.16320)</td>\n",
       "    </tr>\n",
       "    <tr>\n",
       "      <th>1</th>\n",
       "      <td>1001</td>\n",
       "      <td>Kampinkuja 1, 00100 Helsinki, Finland</td>\n",
       "      <td>POINT (24.93166 60.16905)</td>\n",
       "    </tr>\n",
       "    <tr>\n",
       "      <th>2</th>\n",
       "      <td>1002</td>\n",
       "      <td>Kaivokatu 8, 00101 Helsinki, Finland</td>\n",
       "      <td>POINT (24.94179 60.16989)</td>\n",
       "    </tr>\n",
       "    <tr>\n",
       "      <th>3</th>\n",
       "      <td>1003</td>\n",
       "      <td>Hermannin rantatie 1, 00580 Helsinki, Finland</td>\n",
       "      <td>POINT (24.97783 60.18892)</td>\n",
       "    </tr>\n",
       "    <tr>\n",
       "      <th>4</th>\n",
       "      <td>1005</td>\n",
       "      <td>Tyynenmerenkatu 9, 00220 Helsinki, Finland</td>\n",
       "      <td>POINT (24.92160 60.15665)</td>\n",
       "    </tr>\n",
       "  </tbody>\n",
       "</table>\n",
       "</div>"
      ],
      "text/plain": [
       "     id                                           addr  \\\n",
       "0  1000       Itämerenkatu 14, 00101 Helsinki, Finland   \n",
       "1  1001          Kampinkuja 1, 00100 Helsinki, Finland   \n",
       "2  1002           Kaivokatu 8, 00101 Helsinki, Finland   \n",
       "3  1003  Hermannin rantatie 1, 00580 Helsinki, Finland   \n",
       "4  1005     Tyynenmerenkatu 9, 00220 Helsinki, Finland   \n",
       "\n",
       "                    geometry  \n",
       "0  POINT (24.91556 60.16320)  \n",
       "1  POINT (24.93166 60.16905)  \n",
       "2  POINT (24.94179 60.16989)  \n",
       "3  POINT (24.97783 60.18892)  \n",
       "4  POINT (24.92160 60.15665)  "
      ]
     },
     "execution_count": 33,
     "metadata": {},
     "output_type": "execute_result"
    }
   ],
   "source": [
    "data.head()"
   ]
  },
  {
   "cell_type": "code",
   "execution_count": 34,
   "id": "6c2ff4e0-430f-4d57-83e7-1df6d54fb330",
   "metadata": {},
   "outputs": [],
   "source": [
    "pip_mask = data.within((polys\n",
    "                        .query(\"Name == 'Eteläinen'\")\n",
    "                        .reset_index()\n",
    "                        .at[0, \"geometry\"])\n",
    "                      )"
   ]
  },
  {
   "cell_type": "code",
   "execution_count": 35,
   "id": "74294ba1-d7d2-4a35-ba79-bba13bd3c5d3",
   "metadata": {},
   "outputs": [],
   "source": [
    "pip_data = data[pip_mask]"
   ]
  },
  {
   "cell_type": "code",
   "execution_count": 37,
   "id": "0a9954dc-6560-4e16-9c5e-8c13a5dd57bb",
   "metadata": {},
   "outputs": [
    {
     "data": {
      "text/html": [
       "<div>\n",
       "<style scoped>\n",
       "    .dataframe tbody tr th:only-of-type {\n",
       "        vertical-align: middle;\n",
       "    }\n",
       "\n",
       "    .dataframe tbody tr th {\n",
       "        vertical-align: top;\n",
       "    }\n",
       "\n",
       "    .dataframe thead th {\n",
       "        text-align: right;\n",
       "    }\n",
       "</style>\n",
       "<table border=\"1\" class=\"dataframe\">\n",
       "  <thead>\n",
       "    <tr style=\"text-align: right;\">\n",
       "      <th></th>\n",
       "      <th>id</th>\n",
       "      <th>addr</th>\n",
       "      <th>geometry</th>\n",
       "    </tr>\n",
       "  </thead>\n",
       "  <tbody>\n",
       "    <tr>\n",
       "      <th>0</th>\n",
       "      <td>1000</td>\n",
       "      <td>Itämerenkatu 14, 00101 Helsinki, Finland</td>\n",
       "      <td>POINT (24.91556 60.16320)</td>\n",
       "    </tr>\n",
       "    <tr>\n",
       "      <th>1</th>\n",
       "      <td>1001</td>\n",
       "      <td>Kampinkuja 1, 00100 Helsinki, Finland</td>\n",
       "      <td>POINT (24.93166 60.16905)</td>\n",
       "    </tr>\n",
       "    <tr>\n",
       "      <th>2</th>\n",
       "      <td>1002</td>\n",
       "      <td>Kaivokatu 8, 00101 Helsinki, Finland</td>\n",
       "      <td>POINT (24.94179 60.16989)</td>\n",
       "    </tr>\n",
       "    <tr>\n",
       "      <th>4</th>\n",
       "      <td>1005</td>\n",
       "      <td>Tyynenmerenkatu 9, 00220 Helsinki, Finland</td>\n",
       "      <td>POINT (24.92160 60.15665)</td>\n",
       "    </tr>\n",
       "    <tr>\n",
       "      <th>10</th>\n",
       "      <td>1011</td>\n",
       "      <td>Rautatientori 1, 00100 Helsinki, Finland</td>\n",
       "      <td>POINT (24.94410 60.17133)</td>\n",
       "    </tr>\n",
       "  </tbody>\n",
       "</table>\n",
       "</div>"
      ],
      "text/plain": [
       "      id                                        addr  \\\n",
       "0   1000    Itämerenkatu 14, 00101 Helsinki, Finland   \n",
       "1   1001       Kampinkuja 1, 00100 Helsinki, Finland   \n",
       "2   1002        Kaivokatu 8, 00101 Helsinki, Finland   \n",
       "4   1005  Tyynenmerenkatu 9, 00220 Helsinki, Finland   \n",
       "10  1011    Rautatientori 1, 00100 Helsinki, Finland   \n",
       "\n",
       "                     geometry  \n",
       "0   POINT (24.91556 60.16320)  \n",
       "1   POINT (24.93166 60.16905)  \n",
       "2   POINT (24.94179 60.16989)  \n",
       "4   POINT (24.92160 60.15665)  \n",
       "10  POINT (24.94410 60.17133)  "
      ]
     },
     "execution_count": 37,
     "metadata": {},
     "output_type": "execute_result"
    }
   ],
   "source": [
    "pip_data.head()"
   ]
  },
  {
   "cell_type": "code",
   "execution_count": 40,
   "id": "5ff6d1d4-6f88-41b8-b487-1619d71a6bea",
   "metadata": {},
   "outputs": [
    {
     "data": {
      "text/plain": [
       "<AxesSubplot:>"
      ]
     },
     "execution_count": 40,
     "metadata": {},
     "output_type": "execute_result"
    },
    {
     "data": {
      "image/png": "[encoded data removed]",
      "text/plain": [
       "<Figure size 360x504 with 1 Axes>"
      ]
     },
     "metadata": {
      "needs_background": "light"
     },
     "output_type": "display_data"
    }
   ],
   "source": [
    "fig, ax = plt.subplots(figsize=(5, 7))\n",
    "polys.plot(\n",
    "    ax=ax,\n",
    "    facecolor=\"gray\",\n",
    "    edgecolor=\"white\",\n",
    "    linewidth=1,\n",
    "    alpha=0.6\n",
    ")\n",
    "(polys\n",
    " .query(\"Name == 'Eteläinen'\")\n",
    " .plot(\n",
    "     ax=ax,\n",
    "     facecolor=\"red\",\n",
    "     edgecolor=\"black\",\n",
    "     linewidth=1.5,\n",
    " )\n",
    ")\n",
    "pip_data.plot(\n",
    "    ax=ax,\n",
    "    color=\"b\",\n",
    "    markersize=14\n",
    ")"
   ]
  },
  {
   "cell_type": "markdown",
   "id": "539bb729-6d54-4eec-a299-6f6ecc2a5f1f",
   "metadata": {},
   "source": [
    "## Spatial joins"
   ]
  },
  {
   "cell_type": "code",
   "execution_count": 43,
   "id": "cb644886-c5b3-4b9d-bc78-fc5e3b606105",
   "metadata": {},
   "outputs": [],
   "source": [
    "url = \"https://kartta.hsy.fi/geoserver/wfs\"\n",
    "\n",
    "params = dict(service='WFS', \n",
    "              version='2.0.0', \n",
    "              request='GetFeature', \n",
    "              typeName='asuminen_ja_maankaytto:Vaestotietoruudukko_2018', \n",
    "              outputFormat='json')\n",
    "\n",
    "req = requests.get(url, params=params)\n",
    "\n",
    "pop = gpd.GeoDataFrame.from_features(geojson.loads(req.content))"
   ]
  },
  {
   "cell_type": "code",
   "execution_count": 44,
   "id": "36ddfb12-99b2-43fb-836b-f3db613769d6",
   "metadata": {},
   "outputs": [
    {
     "data": {
      "text/html": [
       "<div>\n",
       "<style scoped>\n",
       "    .dataframe tbody tr th:only-of-type {\n",
       "        vertical-align: middle;\n",
       "    }\n",
       "\n",
       "    .dataframe tbody tr th {\n",
       "        vertical-align: top;\n",
       "    }\n",
       "\n",
       "    .dataframe thead th {\n",
       "        text-align: right;\n",
       "    }\n",
       "</style>\n",
       "<table border=\"1\" class=\"dataframe\">\n",
       "  <thead>\n",
       "    <tr style=\"text-align: right;\">\n",
       "      <th></th>\n",
       "      <th>geometry</th>\n",
       "      <th>index</th>\n",
       "      <th>asukkaita</th>\n",
       "      <th>asvaljyys</th>\n",
       "      <th>ika0_9</th>\n",
       "      <th>ika10_19</th>\n",
       "      <th>ika20_29</th>\n",
       "      <th>ika30_39</th>\n",
       "      <th>ika40_49</th>\n",
       "      <th>ika50_59</th>\n",
       "      <th>ika60_69</th>\n",
       "      <th>ika70_79</th>\n",
       "      <th>ika_yli80</th>\n",
       "    </tr>\n",
       "  </thead>\n",
       "  <tbody>\n",
       "    <tr>\n",
       "      <th>0</th>\n",
       "      <td>POLYGON ((25472499.995 6689749.005, 25472499.9...</td>\n",
       "      <td>688</td>\n",
       "      <td>9</td>\n",
       "      <td>28.0</td>\n",
       "      <td>99</td>\n",
       "      <td>99</td>\n",
       "      <td>99</td>\n",
       "      <td>99</td>\n",
       "      <td>99</td>\n",
       "      <td>99</td>\n",
       "      <td>99</td>\n",
       "      <td>99</td>\n",
       "      <td>99</td>\n",
       "    </tr>\n",
       "    <tr>\n",
       "      <th>1</th>\n",
       "      <td>POLYGON ((25472499.995 6685998.998, 25472499.9...</td>\n",
       "      <td>703</td>\n",
       "      <td>5</td>\n",
       "      <td>51.0</td>\n",
       "      <td>99</td>\n",
       "      <td>99</td>\n",
       "      <td>99</td>\n",
       "      <td>99</td>\n",
       "      <td>99</td>\n",
       "      <td>99</td>\n",
       "      <td>99</td>\n",
       "      <td>99</td>\n",
       "      <td>99</td>\n",
       "    </tr>\n",
       "    <tr>\n",
       "      <th>2</th>\n",
       "      <td>POLYGON ((25472499.995 6684249.004, 25472499.9...</td>\n",
       "      <td>710</td>\n",
       "      <td>8</td>\n",
       "      <td>44.0</td>\n",
       "      <td>99</td>\n",
       "      <td>99</td>\n",
       "      <td>99</td>\n",
       "      <td>99</td>\n",
       "      <td>99</td>\n",
       "      <td>99</td>\n",
       "      <td>99</td>\n",
       "      <td>99</td>\n",
       "      <td>99</td>\n",
       "    </tr>\n",
       "    <tr>\n",
       "      <th>3</th>\n",
       "      <td>POLYGON ((25472499.995 6683999.005, 25472499.9...</td>\n",
       "      <td>711</td>\n",
       "      <td>5</td>\n",
       "      <td>90.0</td>\n",
       "      <td>99</td>\n",
       "      <td>99</td>\n",
       "      <td>99</td>\n",
       "      <td>99</td>\n",
       "      <td>99</td>\n",
       "      <td>99</td>\n",
       "      <td>99</td>\n",
       "      <td>99</td>\n",
       "      <td>99</td>\n",
       "    </tr>\n",
       "    <tr>\n",
       "      <th>4</th>\n",
       "      <td>POLYGON ((25472499.995 6682998.998, 25472499.9...</td>\n",
       "      <td>715</td>\n",
       "      <td>11</td>\n",
       "      <td>41.0</td>\n",
       "      <td>99</td>\n",
       "      <td>99</td>\n",
       "      <td>99</td>\n",
       "      <td>99</td>\n",
       "      <td>99</td>\n",
       "      <td>99</td>\n",
       "      <td>99</td>\n",
       "      <td>99</td>\n",
       "      <td>99</td>\n",
       "    </tr>\n",
       "  </tbody>\n",
       "</table>\n",
       "</div>"
      ],
      "text/plain": [
       "                                            geometry  index  asukkaita  \\\n",
       "0  POLYGON ((25472499.995 6689749.005, 25472499.9...    688          9   \n",
       "1  POLYGON ((25472499.995 6685998.998, 25472499.9...    703          5   \n",
       "2  POLYGON ((25472499.995 6684249.004, 25472499.9...    710          8   \n",
       "3  POLYGON ((25472499.995 6683999.005, 25472499.9...    711          5   \n",
       "4  POLYGON ((25472499.995 6682998.998, 25472499.9...    715         11   \n",
       "\n",
       "   asvaljyys  ika0_9  ika10_19  ika20_29  ika30_39  ika40_49  ika50_59  \\\n",
       "0       28.0      99        99        99        99        99        99   \n",
       "1       51.0      99        99        99        99        99        99   \n",
       "2       44.0      99        99        99        99        99        99   \n",
       "3       90.0      99        99        99        99        99        99   \n",
       "4       41.0      99        99        99        99        99        99   \n",
       "\n",
       "   ika60_69  ika70_79  ika_yli80  \n",
       "0        99        99         99  \n",
       "1        99        99         99  \n",
       "2        99        99         99  \n",
       "3        99        99         99  \n",
       "4        99        99         99  "
      ]
     },
     "execution_count": 44,
     "metadata": {},
     "output_type": "execute_result"
    }
   ],
   "source": [
    "pop.head()"
   ]
  },
  {
   "cell_type": "code",
   "execution_count": 45,
   "id": "1aafa898-8413-4ed8-95ac-958384f24f29",
   "metadata": {},
   "outputs": [],
   "source": [
    "pop = (pop\n",
    "       .rename(\n",
    "           columns={\"asukkaita\": \"population\"}\n",
    "       )\n",
    "       [[\"geometry\", \"population\"]]\n",
    "      )"
   ]
  },
  {
   "cell_type": "code",
   "execution_count": 46,
   "id": "abeb06a5-6a8a-489e-b8e2-16fb1754c6fa",
   "metadata": {},
   "outputs": [
    {
     "data": {
      "text/html": [
       "<div>\n",
       "<style scoped>\n",
       "    .dataframe tbody tr th:only-of-type {\n",
       "        vertical-align: middle;\n",
       "    }\n",
       "\n",
       "    .dataframe tbody tr th {\n",
       "        vertical-align: top;\n",
       "    }\n",
       "\n",
       "    .dataframe thead th {\n",
       "        text-align: right;\n",
       "    }\n",
       "</style>\n",
       "<table border=\"1\" class=\"dataframe\">\n",
       "  <thead>\n",
       "    <tr style=\"text-align: right;\">\n",
       "      <th></th>\n",
       "      <th>geometry</th>\n",
       "      <th>population</th>\n",
       "    </tr>\n",
       "  </thead>\n",
       "  <tbody>\n",
       "    <tr>\n",
       "      <th>0</th>\n",
       "      <td>POLYGON ((25472499.995 6689749.005, 25472499.9...</td>\n",
       "      <td>9</td>\n",
       "    </tr>\n",
       "    <tr>\n",
       "      <th>1</th>\n",
       "      <td>POLYGON ((25472499.995 6685998.998, 25472499.9...</td>\n",
       "      <td>5</td>\n",
       "    </tr>\n",
       "    <tr>\n",
       "      <th>2</th>\n",
       "      <td>POLYGON ((25472499.995 6684249.004, 25472499.9...</td>\n",
       "      <td>8</td>\n",
       "    </tr>\n",
       "    <tr>\n",
       "      <th>3</th>\n",
       "      <td>POLYGON ((25472499.995 6683999.005, 25472499.9...</td>\n",
       "      <td>5</td>\n",
       "    </tr>\n",
       "    <tr>\n",
       "      <th>4</th>\n",
       "      <td>POLYGON ((25472499.995 6682998.998, 25472499.9...</td>\n",
       "      <td>11</td>\n",
       "    </tr>\n",
       "  </tbody>\n",
       "</table>\n",
       "</div>"
      ],
      "text/plain": [
       "                                            geometry  population\n",
       "0  POLYGON ((25472499.995 6689749.005, 25472499.9...           9\n",
       "1  POLYGON ((25472499.995 6685998.998, 25472499.9...           5\n",
       "2  POLYGON ((25472499.995 6684249.004, 25472499.9...           8\n",
       "3  POLYGON ((25472499.995 6683999.005, 25472499.9...           5\n",
       "4  POLYGON ((25472499.995 6682998.998, 25472499.9...          11"
      ]
     },
     "execution_count": 46,
     "metadata": {},
     "output_type": "execute_result"
    }
   ],
   "source": [
    "pop.head()"
   ]
  },
  {
   "cell_type": "code",
   "execution_count": 48,
   "id": "0598f3a4-c3f0-4823-8eda-aabe3525ac7b",
   "metadata": {},
   "outputs": [],
   "source": [
    "addrs = gpd.read_file(DATA_PATH / \"addresses.shp\")"
   ]
  },
  {
   "cell_type": "code",
   "execution_count": 49,
   "id": "cbb6f90d-34aa-4bc7-a0d2-0bbe182cdeb1",
   "metadata": {},
   "outputs": [
    {
     "data": {
      "text/html": [
       "<div>\n",
       "<style scoped>\n",
       "    .dataframe tbody tr th:only-of-type {\n",
       "        vertical-align: middle;\n",
       "    }\n",
       "\n",
       "    .dataframe tbody tr th {\n",
       "        vertical-align: top;\n",
       "    }\n",
       "\n",
       "    .dataframe thead th {\n",
       "        text-align: right;\n",
       "    }\n",
       "</style>\n",
       "<table border=\"1\" class=\"dataframe\">\n",
       "  <thead>\n",
       "    <tr style=\"text-align: right;\">\n",
       "      <th></th>\n",
       "      <th>id</th>\n",
       "      <th>addr</th>\n",
       "      <th>geometry</th>\n",
       "    </tr>\n",
       "  </thead>\n",
       "  <tbody>\n",
       "    <tr>\n",
       "      <th>0</th>\n",
       "      <td>1000</td>\n",
       "      <td>Itämerenkatu 14, 00101 Helsinki, Finland</td>\n",
       "      <td>POINT (24.91556 60.16320)</td>\n",
       "    </tr>\n",
       "    <tr>\n",
       "      <th>1</th>\n",
       "      <td>1001</td>\n",
       "      <td>Kampinkuja 1, 00100 Helsinki, Finland</td>\n",
       "      <td>POINT (24.93166 60.16905)</td>\n",
       "    </tr>\n",
       "    <tr>\n",
       "      <th>2</th>\n",
       "      <td>1002</td>\n",
       "      <td>Kaivokatu 8, 00101 Helsinki, Finland</td>\n",
       "      <td>POINT (24.94179 60.16989)</td>\n",
       "    </tr>\n",
       "    <tr>\n",
       "      <th>3</th>\n",
       "      <td>1003</td>\n",
       "      <td>Hermannin rantatie 1, 00580 Helsinki, Finland</td>\n",
       "      <td>POINT (24.97783 60.18892)</td>\n",
       "    </tr>\n",
       "    <tr>\n",
       "      <th>4</th>\n",
       "      <td>1005</td>\n",
       "      <td>Tyynenmerenkatu 9, 00220 Helsinki, Finland</td>\n",
       "      <td>POINT (24.92160 60.15665)</td>\n",
       "    </tr>\n",
       "  </tbody>\n",
       "</table>\n",
       "</div>"
      ],
      "text/plain": [
       "     id                                           addr  \\\n",
       "0  1000       Itämerenkatu 14, 00101 Helsinki, Finland   \n",
       "1  1001          Kampinkuja 1, 00100 Helsinki, Finland   \n",
       "2  1002           Kaivokatu 8, 00101 Helsinki, Finland   \n",
       "3  1003  Hermannin rantatie 1, 00580 Helsinki, Finland   \n",
       "4  1005     Tyynenmerenkatu 9, 00220 Helsinki, Finland   \n",
       "\n",
       "                    geometry  \n",
       "0  POINT (24.91556 60.16320)  \n",
       "1  POINT (24.93166 60.16905)  \n",
       "2  POINT (24.94179 60.16989)  \n",
       "3  POINT (24.97783 60.18892)  \n",
       "4  POINT (24.92160 60.15665)  "
      ]
     },
     "execution_count": 49,
     "metadata": {},
     "output_type": "execute_result"
    }
   ],
   "source": [
    "addrs.head()"
   ]
  },
  {
   "cell_type": "code",
   "execution_count": 50,
   "id": "5a6eb06d-2f2f-40ad-98d7-1ff25f1a3a6b",
   "metadata": {},
   "outputs": [
    {
     "data": {
      "text/plain": [
       "False"
      ]
     },
     "execution_count": 50,
     "metadata": {},
     "output_type": "execute_result"
    }
   ],
   "source": [
    "addrs.crs == pop.crs"
   ]
  },
  {
   "cell_type": "code",
   "execution_count": 51,
   "id": "6188131b-0a7e-4d7a-ac51-b6bc1e38c57b",
   "metadata": {},
   "outputs": [
    {
     "data": {
      "text/plain": [
       "<Geographic 2D CRS: EPSG:4326>\n",
       "Name: WGS 84\n",
       "Axis Info [ellipsoidal]:\n",
       "- Lat[north]: Geodetic latitude (degree)\n",
       "- Lon[east]: Geodetic longitude (degree)\n",
       "Area of Use:\n",
       "- name: World.\n",
       "- bounds: (-180.0, -90.0, 180.0, 90.0)\n",
       "Datum: World Geodetic System 1984 ensemble\n",
       "- Ellipsoid: WGS 84\n",
       "- Prime Meridian: Greenwich"
      ]
     },
     "execution_count": 51,
     "metadata": {},
     "output_type": "execute_result"
    }
   ],
   "source": [
    "addrs.crs"
   ]
  },
  {
   "cell_type": "code",
   "execution_count": 52,
   "id": "203544b2-e706-4f94-8daf-291a54622aa5",
   "metadata": {},
   "outputs": [],
   "source": [
    "pop.crs"
   ]
  },
  {
   "cell_type": "code",
   "execution_count": 54,
   "id": "e3fd906e-30c3-4734-b9a0-53b90171076a",
   "metadata": {},
   "outputs": [],
   "source": [
    "pop.crs = CRS.from_epsg(3879).to_wkt()"
   ]
  },
  {
   "cell_type": "code",
   "execution_count": 55,
   "id": "89ddca95-812c-4169-b5d9-19b8caea03d1",
   "metadata": {},
   "outputs": [
    {
     "data": {
      "text/plain": [
       "False"
      ]
     },
     "execution_count": 55,
     "metadata": {},
     "output_type": "execute_result"
    }
   ],
   "source": [
    "addrs.crs == pop.crs"
   ]
  },
  {
   "cell_type": "code",
   "execution_count": 56,
   "id": "17c94242-2e85-4b27-8e40-cf7528e6d5a7",
   "metadata": {},
   "outputs": [],
   "source": [
    "addrs = (addrs\n",
    "         .to_crs(pop.crs)\n",
    "        )"
   ]
  },
  {
   "cell_type": "code",
   "execution_count": 57,
   "id": "8ba213c2-2b81-45d3-97ca-5146eda94f02",
   "metadata": {},
   "outputs": [
    {
     "data": {
      "text/plain": [
       "True"
      ]
     },
     "execution_count": 57,
     "metadata": {},
     "output_type": "execute_result"
    }
   ],
   "source": [
    "addrs.crs == pop.crs"
   ]
  },
  {
   "cell_type": "code",
   "execution_count": 58,
   "id": "e5e373ee-4a45-4b50-9f61-8c2a2899536c",
   "metadata": {},
   "outputs": [],
   "source": [
    "# Spatial join\n",
    "\n",
    "pop_addrs = gpd.sjoin(addrs, pop, how=\"inner\", predicate=\"within\")"
   ]
  },
  {
   "cell_type": "code",
   "execution_count": 59,
   "id": "6caf9aca-3369-4fa3-9ad0-397d82947a3e",
   "metadata": {},
   "outputs": [
    {
     "data": {
      "text/html": [
       "<div>\n",
       "<style scoped>\n",
       "    .dataframe tbody tr th:only-of-type {\n",
       "        vertical-align: middle;\n",
       "    }\n",
       "\n",
       "    .dataframe tbody tr th {\n",
       "        vertical-align: top;\n",
       "    }\n",
       "\n",
       "    .dataframe thead th {\n",
       "        text-align: right;\n",
       "    }\n",
       "</style>\n",
       "<table border=\"1\" class=\"dataframe\">\n",
       "  <thead>\n",
       "    <tr style=\"text-align: right;\">\n",
       "      <th></th>\n",
       "      <th>id</th>\n",
       "      <th>addr</th>\n",
       "      <th>geometry</th>\n",
       "      <th>index_right</th>\n",
       "      <th>population</th>\n",
       "    </tr>\n",
       "  </thead>\n",
       "  <tbody>\n",
       "    <tr>\n",
       "      <th>0</th>\n",
       "      <td>1000</td>\n",
       "      <td>Itämerenkatu 14, 00101 Helsinki, Finland</td>\n",
       "      <td>POINT (25495311.608 6672258.695)</td>\n",
       "      <td>3252</td>\n",
       "      <td>515</td>\n",
       "    </tr>\n",
       "    <tr>\n",
       "      <th>1</th>\n",
       "      <td>1001</td>\n",
       "      <td>Kampinkuja 1, 00100 Helsinki, Finland</td>\n",
       "      <td>POINT (25496206.216 6672909.016)</td>\n",
       "      <td>3364</td>\n",
       "      <td>182</td>\n",
       "    </tr>\n",
       "    <tr>\n",
       "      <th>2</th>\n",
       "      <td>1002</td>\n",
       "      <td>Kaivokatu 8, 00101 Helsinki, Finland</td>\n",
       "      <td>POINT (25496768.622 6673002.004)</td>\n",
       "      <td>3488</td>\n",
       "      <td>38</td>\n",
       "    </tr>\n",
       "    <tr>\n",
       "      <th>10</th>\n",
       "      <td>1011</td>\n",
       "      <td>Rautatientori 1, 00100 Helsinki, Finland</td>\n",
       "      <td>POINT (25496896.734 6673162.114)</td>\n",
       "      <td>3488</td>\n",
       "      <td>38</td>\n",
       "    </tr>\n",
       "    <tr>\n",
       "      <th>3</th>\n",
       "      <td>1003</td>\n",
       "      <td>Hermannin rantatie 1, 00580 Helsinki, Finland</td>\n",
       "      <td>POINT (25498769.713 6675121.127)</td>\n",
       "      <td>3822</td>\n",
       "      <td>61</td>\n",
       "    </tr>\n",
       "  </tbody>\n",
       "</table>\n",
       "</div>"
      ],
      "text/plain": [
       "      id                                           addr  \\\n",
       "0   1000       Itämerenkatu 14, 00101 Helsinki, Finland   \n",
       "1   1001          Kampinkuja 1, 00100 Helsinki, Finland   \n",
       "2   1002           Kaivokatu 8, 00101 Helsinki, Finland   \n",
       "10  1011       Rautatientori 1, 00100 Helsinki, Finland   \n",
       "3   1003  Hermannin rantatie 1, 00580 Helsinki, Finland   \n",
       "\n",
       "                            geometry  index_right  population  \n",
       "0   POINT (25495311.608 6672258.695)         3252         515  \n",
       "1   POINT (25496206.216 6672909.016)         3364         182  \n",
       "2   POINT (25496768.622 6673002.004)         3488          38  \n",
       "10  POINT (25496896.734 6673162.114)         3488          38  \n",
       "3   POINT (25498769.713 6675121.127)         3822          61  "
      ]
     },
     "execution_count": 59,
     "metadata": {},
     "output_type": "execute_result"
    }
   ],
   "source": [
    "pop_addrs.head()"
   ]
  },
  {
   "cell_type": "code",
   "execution_count": 70,
   "id": "d639ed30-6e92-44bc-8679-dd03dffebffd",
   "metadata": {},
   "outputs": [
    {
     "data": {
      "text/plain": [
       "<AxesSubplot:>"
      ]
     },
     "execution_count": 70,
     "metadata": {},
     "output_type": "execute_result"
    },
    {
     "data": {
      "image/png": "[encoded data removed]",
      "text/plain": [
       "<Figure size 576x432 with 1 Axes>"
      ]
     },
     "metadata": {
      "needs_background": "light"
     },
     "output_type": "display_data"
    }
   ],
   "source": [
    "_, ax = plt.subplots(figsize=(8, 6))\n",
    "pop.plot(\n",
    "    ax=ax,\n",
    "    column=\"population\",\n",
    "    scheme=\"Quantiles\",\n",
    "    cmap=\"magma\",\n",
    "    edgecolor=\"white\",\n",
    "    # linewidth=1\n",
    "    legend=True\n",
    ")\n",
    "addrs.plot(\n",
    "    ax=ax,\n",
    "    color=\"r\",\n",
    "    markersize=14\n",
    ")\n",
    "    "
   ]
  },
  {
   "cell_type": "code",
   "execution_count": 71,
   "id": "833cf589-088e-460a-bfab-7ba864f0a8b5",
   "metadata": {},
   "outputs": [
    {
     "name": "stderr",
     "output_type": "stream",
     "text": [
      "C:\\Users\\andri\\AppData\\Local\\Temp/ipykernel_19164/3237536941.py:1: UserWarning: Column names longer than 10 characters will be truncated when saved to ESRI Shapefile.\n",
      "  pop_addrs.to_file(DATA_PATH / \"addesses_population.shp\")\n"
     ]
    }
   ],
   "source": [
    "pop_addrs.to_file(DATA_PATH / \"addesses_population.shp\")"
   ]
  },
  {
   "cell_type": "markdown",
   "id": "e0620356-394d-4546-9970-6166f90f2fe2",
   "metadata": {},
   "source": [
    "## Nearest neighbor analysis"
   ]
  },
  {
   "cell_type": "code",
   "execution_count": 73,
   "id": "3892b987-1519-4da5-b8e0-713f9f19f560",
   "metadata": {},
   "outputs": [],
   "source": [
    "from shapely.ops import nearest_points"
   ]
  },
  {
   "cell_type": "code",
   "execution_count": 75,
   "id": "c81a9645-bfca-4670-bf26-8c8f5c66c718",
   "metadata": {},
   "outputs": [],
   "source": [
    "# Origin point\n",
    "orig = Point(1, 1.67)\n",
    "\n",
    "# Possible destination points\n",
    "dest1 = Point(0, 1.45)\n",
    "dest2 = Point(2, 2)\n",
    "dest3 = Point(0, 2.5)\n",
    "\n",
    "destinations = MultiPoint([dest1, dest2, dest3])"
   ]
  },
  {
   "cell_type": "code",
   "execution_count": 76,
   "id": "e1ce6751-756f-48b0-8f6d-6a1eeca76730",
   "metadata": {},
   "outputs": [
    {
     "data": {
      "image/svg+xml": [
       "<svg xmlns=\"http://www.w3.org/2000/svg\" xmlns:xlink=\"http://www.w3.org/1999/xlink\" width=\"100.0\" height=\"100.0\" viewBox=\"-0.08 1.3699999999999999 2.16 1.2100000000000002\" preserveAspectRatio=\"xMinYMin meet\"><g transform=\"matrix(1,0,0,-1,0,3.95)\"><g><circle cx=\"0.0\" cy=\"1.45\" r=\"0.0648\" stroke=\"#555555\" stroke-width=\"0.0216\" fill=\"#66cc99\" opacity=\"0.6\" /><circle cx=\"2.0\" cy=\"2.0\" r=\"0.0648\" stroke=\"#555555\" stroke-width=\"0.0216\" fill=\"#66cc99\" opacity=\"0.6\" /><circle cx=\"0.0\" cy=\"2.5\" r=\"0.0648\" stroke=\"#555555\" stroke-width=\"0.0216\" fill=\"#66cc99\" opacity=\"0.6\" /></g></g></svg>"
      ],
      "text/plain": [
       "<shapely.geometry.multipoint.MultiPoint at 0x2c976da6220>"
      ]
     },
     "execution_count": 76,
     "metadata": {},
     "output_type": "execute_result"
    }
   ],
   "source": [
    "destinations"
   ]
  },
  {
   "cell_type": "code",
   "execution_count": 77,
   "id": "7dc03b34-8e44-4780-816e-0f854553966e",
   "metadata": {},
   "outputs": [],
   "source": [
    "nearest_loc = nearest_points(orig, destinations)"
   ]
  },
  {
   "cell_type": "code",
   "execution_count": 78,
   "id": "dbf90bc6-ab3e-434c-b4c8-21e69b4f7886",
   "metadata": {},
   "outputs": [
    {
     "data": {
      "text/plain": [
       "2"
      ]
     },
     "execution_count": 78,
     "metadata": {},
     "output_type": "execute_result"
    }
   ],
   "source": [
    "len(nearest_loc)"
   ]
  },
  {
   "cell_type": "code",
   "execution_count": 79,
   "id": "1355985c-aeec-4101-8e96-1f27f6411be7",
   "metadata": {},
   "outputs": [
    {
     "name": "stdout",
     "output_type": "stream",
     "text": [
      "POINT (1 1.67)\n",
      "POINT (0 1.45)\n"
     ]
    }
   ],
   "source": [
    "print(nearest_loc[0])\n",
    "print(nearest_loc[1])"
   ]
  },
  {
   "cell_type": "code",
   "execution_count": 80,
   "id": "4590afa0-4977-41ec-92d5-75d61d3c27c3",
   "metadata": {},
   "outputs": [],
   "source": [
    "gpd.io.file.fiona.drvsupport.supported_drivers[\"LIBKML\"] = \"rw\""
   ]
  },
  {
   "cell_type": "code",
   "execution_count": 83,
   "id": "b0569811-e410-49b8-b5a5-061b91a4519e",
   "metadata": {},
   "outputs": [],
   "source": [
    "locs = (gpd.read_file(DATA_PATH / \"PKS_suuralue.kml\", driver=\"LIBKML\")\n",
    "        [[\"Name\", \"description\", \"geometry\"]])\n",
    "addrs = gpd.read_file(DATA_PATH / \"addresses.shp\")"
   ]
  },
  {
   "cell_type": "code",
   "execution_count": 84,
   "id": "cd0cbec5-daeb-4335-a2a8-566a295e347d",
   "metadata": {},
   "outputs": [
    {
     "data": {
      "text/html": [
       "<div>\n",
       "<style scoped>\n",
       "    .dataframe tbody tr th:only-of-type {\n",
       "        vertical-align: middle;\n",
       "    }\n",
       "\n",
       "    .dataframe tbody tr th {\n",
       "        vertical-align: top;\n",
       "    }\n",
       "\n",
       "    .dataframe thead th {\n",
       "        text-align: right;\n",
       "    }\n",
       "</style>\n",
       "<table border=\"1\" class=\"dataframe\">\n",
       "  <thead>\n",
       "    <tr style=\"text-align: right;\">\n",
       "      <th></th>\n",
       "      <th>Name</th>\n",
       "      <th>description</th>\n",
       "      <th>geometry</th>\n",
       "    </tr>\n",
       "  </thead>\n",
       "  <tbody>\n",
       "    <tr>\n",
       "      <th>0</th>\n",
       "      <td>Suur-Espoonlahti</td>\n",
       "      <td>None</td>\n",
       "      <td>POLYGON Z ((24.77506 60.10906 0.00000, 24.7766...</td>\n",
       "    </tr>\n",
       "    <tr>\n",
       "      <th>1</th>\n",
       "      <td>Suur-Kauklahti</td>\n",
       "      <td>None</td>\n",
       "      <td>POLYGON Z ((24.61578 60.17257 0.00000, 24.6155...</td>\n",
       "    </tr>\n",
       "    <tr>\n",
       "      <th>2</th>\n",
       "      <td>Vanha-Espoo</td>\n",
       "      <td>None</td>\n",
       "      <td>POLYGON Z ((24.67576 60.21201 0.00000, 24.6752...</td>\n",
       "    </tr>\n",
       "    <tr>\n",
       "      <th>3</th>\n",
       "      <td>Pohjois-Espoo</td>\n",
       "      <td>None</td>\n",
       "      <td>POLYGON Z ((24.76792 60.26920 0.00000, 24.7699...</td>\n",
       "    </tr>\n",
       "    <tr>\n",
       "      <th>4</th>\n",
       "      <td>Suur-Matinkylä</td>\n",
       "      <td>None</td>\n",
       "      <td>POLYGON Z ((24.75361 60.16631 0.00000, 24.7537...</td>\n",
       "    </tr>\n",
       "  </tbody>\n",
       "</table>\n",
       "</div>"
      ],
      "text/plain": [
       "               Name description  \\\n",
       "0  Suur-Espoonlahti        None   \n",
       "1    Suur-Kauklahti        None   \n",
       "2       Vanha-Espoo        None   \n",
       "3     Pohjois-Espoo        None   \n",
       "4    Suur-Matinkylä        None   \n",
       "\n",
       "                                            geometry  \n",
       "0  POLYGON Z ((24.77506 60.10906 0.00000, 24.7766...  \n",
       "1  POLYGON Z ((24.61578 60.17257 0.00000, 24.6155...  \n",
       "2  POLYGON Z ((24.67576 60.21201 0.00000, 24.6752...  \n",
       "3  POLYGON Z ((24.76792 60.26920 0.00000, 24.7699...  \n",
       "4  POLYGON Z ((24.75361 60.16631 0.00000, 24.7537...  "
      ]
     },
     "execution_count": 84,
     "metadata": {},
     "output_type": "execute_result"
    }
   ],
   "source": [
    "locs.head()"
   ]
  },
  {
   "cell_type": "code",
   "execution_count": 86,
   "id": "a643212e-d329-4a02-bf11-c786ec8e7020",
   "metadata": {},
   "outputs": [
    {
     "data": {
      "text/plain": [
       "<Geographic 2D CRS: EPSG:4326>\n",
       "Name: WGS 84\n",
       "Axis Info [ellipsoidal]:\n",
       "- Lat[north]: Geodetic latitude (degree)\n",
       "- Lon[east]: Geodetic longitude (degree)\n",
       "Area of Use:\n",
       "- name: World.\n",
       "- bounds: (-180.0, -90.0, 180.0, 90.0)\n",
       "Datum: World Geodetic System 1984 ensemble\n",
       "- Ellipsoid: WGS 84\n",
       "- Prime Meridian: Greenwich"
      ]
     },
     "execution_count": 86,
     "metadata": {},
     "output_type": "execute_result"
    }
   ],
   "source": [
    "locs.crs"
   ]
  },
  {
   "cell_type": "code",
   "execution_count": 87,
   "id": "bc3771de-1a0c-4b62-8b69-de0b019fe143",
   "metadata": {},
   "outputs": [
    {
     "data": {
      "text/plain": [
       "<Geographic 2D CRS: EPSG:4326>\n",
       "Name: WGS 84\n",
       "Axis Info [ellipsoidal]:\n",
       "- Lat[north]: Geodetic latitude (degree)\n",
       "- Lon[east]: Geodetic longitude (degree)\n",
       "Area of Use:\n",
       "- name: World.\n",
       "- bounds: (-180.0, -90.0, 180.0, 90.0)\n",
       "Datum: World Geodetic System 1984 ensemble\n",
       "- Ellipsoid: WGS 84\n",
       "- Prime Meridian: Greenwich"
      ]
     },
     "execution_count": 87,
     "metadata": {},
     "output_type": "execute_result"
    }
   ],
   "source": [
    "addrs.crs"
   ]
  },
  {
   "cell_type": "code",
   "execution_count": 90,
   "id": "b90b8560-4d85-4723-8b6f-68273817bc16",
   "metadata": {},
   "outputs": [],
   "source": [
    "locs = (locs\n",
    "        .to_crs(epsg=3067)\n",
    "        .assign(\n",
    "            centroid=lambda x:x.centroid\n",
    "        )\n",
    "       )\n",
    "addrs = addrs.to_crs(epsg=3067)"
   ]
  },
  {
   "cell_type": "code",
   "execution_count": 91,
   "id": "885310d5-82ab-42b4-915f-fb3ca43b2e9b",
   "metadata": {},
   "outputs": [
    {
     "data": {
      "text/html": [
       "<div>\n",
       "<style scoped>\n",
       "    .dataframe tbody tr th:only-of-type {\n",
       "        vertical-align: middle;\n",
       "    }\n",
       "\n",
       "    .dataframe tbody tr th {\n",
       "        vertical-align: top;\n",
       "    }\n",
       "\n",
       "    .dataframe thead th {\n",
       "        text-align: right;\n",
       "    }\n",
       "</style>\n",
       "<table border=\"1\" class=\"dataframe\">\n",
       "  <thead>\n",
       "    <tr style=\"text-align: right;\">\n",
       "      <th></th>\n",
       "      <th>Name</th>\n",
       "      <th>description</th>\n",
       "      <th>geometry</th>\n",
       "      <th>centroid</th>\n",
       "    </tr>\n",
       "  </thead>\n",
       "  <tbody>\n",
       "    <tr>\n",
       "      <th>0</th>\n",
       "      <td>Suur-Espoonlahti</td>\n",
       "      <td>None</td>\n",
       "      <td>POLYGON ((376322.317 6665639.417, 376401.244 6...</td>\n",
       "      <td>POINT (375676.529 6658405.261)</td>\n",
       "    </tr>\n",
       "    <tr>\n",
       "      <th>1</th>\n",
       "      <td>Suur-Kauklahti</td>\n",
       "      <td>None</td>\n",
       "      <td>POLYGON ((367726.077 6673018.023, 367715.245 6...</td>\n",
       "      <td>POINT (365520.906 6675893.101)</td>\n",
       "    </tr>\n",
       "    <tr>\n",
       "      <th>2</th>\n",
       "      <td>Vanha-Espoo</td>\n",
       "      <td>None</td>\n",
       "      <td>POLYGON ((371207.712 6677289.881, 371174.739 6...</td>\n",
       "      <td>POINT (367400.175 6681941.088)</td>\n",
       "    </tr>\n",
       "    <tr>\n",
       "      <th>3</th>\n",
       "      <td>Pohjois-Espoo</td>\n",
       "      <td>None</td>\n",
       "      <td>POLYGON ((376528.523 6683480.345, 376638.253 6...</td>\n",
       "      <td>POINT (372191.037 6687785.458)</td>\n",
       "    </tr>\n",
       "    <tr>\n",
       "      <th>4</th>\n",
       "      <td>Suur-Matinkylä</td>\n",
       "      <td>None</td>\n",
       "      <td>POLYGON ((375347.271 6672052.630, 375354.852 6...</td>\n",
       "      <td>POINT (375678.189 6670243.076)</td>\n",
       "    </tr>\n",
       "  </tbody>\n",
       "</table>\n",
       "</div>"
      ],
      "text/plain": [
       "               Name description  \\\n",
       "0  Suur-Espoonlahti        None   \n",
       "1    Suur-Kauklahti        None   \n",
       "2       Vanha-Espoo        None   \n",
       "3     Pohjois-Espoo        None   \n",
       "4    Suur-Matinkylä        None   \n",
       "\n",
       "                                            geometry  \\\n",
       "0  POLYGON ((376322.317 6665639.417, 376401.244 6...   \n",
       "1  POLYGON ((367726.077 6673018.023, 367715.245 6...   \n",
       "2  POLYGON ((371207.712 6677289.881, 371174.739 6...   \n",
       "3  POLYGON ((376528.523 6683480.345, 376638.253 6...   \n",
       "4  POLYGON ((375347.271 6672052.630, 375354.852 6...   \n",
       "\n",
       "                         centroid  \n",
       "0  POINT (375676.529 6658405.261)  \n",
       "1  POINT (365520.906 6675893.101)  \n",
       "2  POINT (367400.175 6681941.088)  \n",
       "3  POINT (372191.037 6687785.458)  \n",
       "4  POINT (375678.189 6670243.076)  "
      ]
     },
     "execution_count": 91,
     "metadata": {},
     "output_type": "execute_result"
    }
   ],
   "source": [
    "locs.head()"
   ]
  },
  {
   "cell_type": "code",
   "execution_count": 129,
   "id": "d9a3dfc4-676b-45c5-9521-3d7202ccd6a0",
   "metadata": {},
   "outputs": [],
   "source": [
    "def get_nearest_address(orig_row, dest_gdf):\n",
    "    #List of destinations\n",
    "    dests = dest_gdf[\"centroid\"].unary_union\n",
    "    \n",
    "    # Get nearest destination centroid\n",
    "    nearest_info = nearest_points(orig_row[\"geometry\"], dests)\n",
    "    nearest_centroid = nearest_info[1]\n",
    "    \n",
    "    # Get nearest destination name\n",
    "    nearest_data = (dest_gdf\n",
    "                    .loc[dest_gdf[\"centroid\"] == nearest_centroid]\n",
    "                    .reset_index()\n",
    "                    )\n",
    "    nearest_name = nearest_data.loc[0, \"Name\"]\n",
    "    return nearest_name"
   ]
  },
  {
   "cell_type": "code",
   "execution_count": 130,
   "id": "31ecc9fb-29e4-4533-9829-6323223846fa",
   "metadata": {},
   "outputs": [],
   "source": [
    "addrs = (addrs\n",
    "         .assign(\n",
    "             nearest_location=lambda y:y.apply(\n",
    "                 get_nearest_address, dest_gdf=locs, axis=1)\n",
    "         )\n",
    "        )"
   ]
  },
  {
   "cell_type": "code",
   "execution_count": 131,
   "id": "115e1f43-f48b-4f10-82a1-be404159cb07",
   "metadata": {},
   "outputs": [
    {
     "data": {
      "text/html": [
       "<div>\n",
       "<style scoped>\n",
       "    .dataframe tbody tr th:only-of-type {\n",
       "        vertical-align: middle;\n",
       "    }\n",
       "\n",
       "    .dataframe tbody tr th {\n",
       "        vertical-align: top;\n",
       "    }\n",
       "\n",
       "    .dataframe thead th {\n",
       "        text-align: right;\n",
       "    }\n",
       "</style>\n",
       "<table border=\"1\" class=\"dataframe\">\n",
       "  <thead>\n",
       "    <tr style=\"text-align: right;\">\n",
       "      <th></th>\n",
       "      <th>id</th>\n",
       "      <th>addr</th>\n",
       "      <th>geometry</th>\n",
       "      <th>nearest_location</th>\n",
       "    </tr>\n",
       "  </thead>\n",
       "  <tbody>\n",
       "    <tr>\n",
       "      <th>0</th>\n",
       "      <td>1000</td>\n",
       "      <td>Itämerenkatu 14, 00101 Helsinki, Finland</td>\n",
       "      <td>POINT (384320.898 6671412.395)</td>\n",
       "      <td>Keskinen</td>\n",
       "    </tr>\n",
       "    <tr>\n",
       "      <th>1</th>\n",
       "      <td>1001</td>\n",
       "      <td>Kampinkuja 1, 00100 Helsinki, Finland</td>\n",
       "      <td>POINT (385234.571 6672035.181)</td>\n",
       "      <td>Keskinen</td>\n",
       "    </tr>\n",
       "    <tr>\n",
       "      <th>2</th>\n",
       "      <td>1002</td>\n",
       "      <td>Kaivokatu 8, 00101 Helsinki, Finland</td>\n",
       "      <td>POINT (385799.399 6672111.080)</td>\n",
       "      <td>Keskinen</td>\n",
       "    </tr>\n",
       "    <tr>\n",
       "      <th>3</th>\n",
       "      <td>1003</td>\n",
       "      <td>Hermannin rantatie 1, 00580 Helsinki, Finland</td>\n",
       "      <td>POINT (387863.244 6674168.130)</td>\n",
       "      <td>Keskinen</td>\n",
       "    </tr>\n",
       "    <tr>\n",
       "      <th>4</th>\n",
       "      <td>1005</td>\n",
       "      <td>Tyynenmerenkatu 9, 00220 Helsinki, Finland</td>\n",
       "      <td>POINT (384632.937 6670672.154)</td>\n",
       "      <td>Keskinen</td>\n",
       "    </tr>\n",
       "  </tbody>\n",
       "</table>\n",
       "</div>"
      ],
      "text/plain": [
       "     id                                           addr  \\\n",
       "0  1000       Itämerenkatu 14, 00101 Helsinki, Finland   \n",
       "1  1001          Kampinkuja 1, 00100 Helsinki, Finland   \n",
       "2  1002           Kaivokatu 8, 00101 Helsinki, Finland   \n",
       "3  1003  Hermannin rantatie 1, 00580 Helsinki, Finland   \n",
       "4  1005     Tyynenmerenkatu 9, 00220 Helsinki, Finland   \n",
       "\n",
       "                         geometry nearest_location  \n",
       "0  POINT (384320.898 6671412.395)         Keskinen  \n",
       "1  POINT (385234.571 6672035.181)         Keskinen  \n",
       "2  POINT (385799.399 6672111.080)         Keskinen  \n",
       "3  POINT (387863.244 6674168.130)         Keskinen  \n",
       "4  POINT (384632.937 6670672.154)         Keskinen  "
      ]
     },
     "execution_count": 131,
     "metadata": {},
     "output_type": "execute_result"
    }
   ],
   "source": [
    "addrs.head()"
   ]
  },
  {
   "cell_type": "markdown",
   "id": "d2f7251e-bf0f-430b-8113-5e5fcf7ff38e",
   "metadata": {},
   "source": [
    "## Spatial Index"
   ]
  },
  {
   "cell_type": "code",
   "execution_count": 224,
   "id": "a8777fa2-eb70-4ce0-b5a6-f1df23e30d55",
   "metadata": {},
   "outputs": [],
   "source": [
    "# Intersections\n",
    "inters = gpd.read_file(DATA_PATH / \"uusimaa_intersections.gpkg\")\n",
    "postcodes = gpd.read_file(DATA_PATH / \"uusimaa_postal_code_areas.gpkg\")"
   ]
  },
  {
   "cell_type": "code",
   "execution_count": 225,
   "id": "5ed0b239-928e-418c-a45b-cdcfc9dc156c",
   "metadata": {},
   "outputs": [
    {
     "data": {
      "text/html": [
       "<div>\n",
       "<style scoped>\n",
       "    .dataframe tbody tr th:only-of-type {\n",
       "        vertical-align: middle;\n",
       "    }\n",
       "\n",
       "    .dataframe tbody tr th {\n",
       "        vertical-align: top;\n",
       "    }\n",
       "\n",
       "    .dataframe thead th {\n",
       "        text-align: right;\n",
       "    }\n",
       "</style>\n",
       "<table border=\"1\" class=\"dataframe\">\n",
       "  <thead>\n",
       "    <tr style=\"text-align: right;\">\n",
       "      <th></th>\n",
       "      <th>x</th>\n",
       "      <th>y</th>\n",
       "      <th>geometry</th>\n",
       "    </tr>\n",
       "  </thead>\n",
       "  <tbody>\n",
       "    <tr>\n",
       "      <th>0</th>\n",
       "      <td>330888.502</td>\n",
       "      <td>6675829.949</td>\n",
       "      <td>POINT (330888.502 6675829.949)</td>\n",
       "    </tr>\n",
       "    <tr>\n",
       "      <th>1</th>\n",
       "      <td>348059.990</td>\n",
       "      <td>6670041.685</td>\n",
       "      <td>POINT (348059.990 6670041.685)</td>\n",
       "    </tr>\n",
       "    <tr>\n",
       "      <th>2</th>\n",
       "      <td>348022.592</td>\n",
       "      <td>6670202.858</td>\n",
       "      <td>POINT (348022.592 6670202.858)</td>\n",
       "    </tr>\n",
       "    <tr>\n",
       "      <th>3</th>\n",
       "      <td>297208.220</td>\n",
       "      <td>6669048.357</td>\n",
       "      <td>POINT (297208.220 6669048.357)</td>\n",
       "    </tr>\n",
       "    <tr>\n",
       "      <th>4</th>\n",
       "      <td>330835.341</td>\n",
       "      <td>6675586.834</td>\n",
       "      <td>POINT (330835.341 6675586.834)</td>\n",
       "    </tr>\n",
       "  </tbody>\n",
       "</table>\n",
       "</div>"
      ],
      "text/plain": [
       "            x            y                        geometry\n",
       "0  330888.502  6675829.949  POINT (330888.502 6675829.949)\n",
       "1  348059.990  6670041.685  POINT (348059.990 6670041.685)\n",
       "2  348022.592  6670202.858  POINT (348022.592 6670202.858)\n",
       "3  297208.220  6669048.357  POINT (297208.220 6669048.357)\n",
       "4  330835.341  6675586.834  POINT (330835.341 6675586.834)"
      ]
     },
     "execution_count": 225,
     "metadata": {},
     "output_type": "execute_result"
    }
   ],
   "source": [
    "inters.head()"
   ]
  },
  {
   "cell_type": "code",
   "execution_count": 226,
   "id": "6e9fbf29-1d9c-4101-831c-d52c26b341df",
   "metadata": {},
   "outputs": [
    {
     "data": {
      "text/html": [
       "<div>\n",
       "<style scoped>\n",
       "    .dataframe tbody tr th:only-of-type {\n",
       "        vertical-align: middle;\n",
       "    }\n",
       "\n",
       "    .dataframe tbody tr th {\n",
       "        vertical-align: top;\n",
       "    }\n",
       "\n",
       "    .dataframe thead th {\n",
       "        text-align: right;\n",
       "    }\n",
       "</style>\n",
       "<table border=\"1\" class=\"dataframe\">\n",
       "  <thead>\n",
       "    <tr style=\"text-align: right;\">\n",
       "      <th></th>\n",
       "      <th>posti_alue</th>\n",
       "      <th>he_vakiy</th>\n",
       "      <th>geometry</th>\n",
       "    </tr>\n",
       "  </thead>\n",
       "  <tbody>\n",
       "    <tr>\n",
       "      <th>0</th>\n",
       "      <td>00100</td>\n",
       "      <td>18284.0</td>\n",
       "      <td>MULTIPOLYGON (((385653.893 6671591.048, 385573...</td>\n",
       "    </tr>\n",
       "    <tr>\n",
       "      <th>1</th>\n",
       "      <td>00120</td>\n",
       "      <td>7108.0</td>\n",
       "      <td>MULTIPOLYGON (((385316.092 6671076.984, 385279...</td>\n",
       "    </tr>\n",
       "    <tr>\n",
       "      <th>2</th>\n",
       "      <td>00130</td>\n",
       "      <td>1508.0</td>\n",
       "      <td>MULTIPOLYGON (((386212.111 6671061.262, 386176...</td>\n",
       "    </tr>\n",
       "    <tr>\n",
       "      <th>3</th>\n",
       "      <td>00140</td>\n",
       "      <td>7865.0</td>\n",
       "      <td>MULTIPOLYGON (((386577.050 6670280.544, 386552...</td>\n",
       "    </tr>\n",
       "    <tr>\n",
       "      <th>4</th>\n",
       "      <td>00150</td>\n",
       "      <td>9496.0</td>\n",
       "      <td>MULTIPOLYGON (((384846.102 6669565.816, 384823...</td>\n",
       "    </tr>\n",
       "  </tbody>\n",
       "</table>\n",
       "</div>"
      ],
      "text/plain": [
       "  posti_alue  he_vakiy                                           geometry\n",
       "0      00100   18284.0  MULTIPOLYGON (((385653.893 6671591.048, 385573...\n",
       "1      00120    7108.0  MULTIPOLYGON (((385316.092 6671076.984, 385279...\n",
       "2      00130    1508.0  MULTIPOLYGON (((386212.111 6671061.262, 386176...\n",
       "3      00140    7865.0  MULTIPOLYGON (((386577.050 6670280.544, 386552...\n",
       "4      00150    9496.0  MULTIPOLYGON (((384846.102 6669565.816, 384823..."
      ]
     },
     "execution_count": 226,
     "metadata": {},
     "output_type": "execute_result"
    }
   ],
   "source": [
    "postcodes.head()"
   ]
  },
  {
   "cell_type": "code",
   "execution_count": 227,
   "id": "303c22ef-9483-4d3a-8c3d-366dfd5b6c03",
   "metadata": {},
   "outputs": [
    {
     "data": {
      "text/plain": [
       "<Derived Projected CRS: EPSG:3067>\n",
       "Name: ETRS89 / TM35FIN(E,N)\n",
       "Axis Info [cartesian]:\n",
       "- E[east]: Easting (metre)\n",
       "- N[north]: Northing (metre)\n",
       "Area of Use:\n",
       "- name: Finland - onshore and offshore.\n",
       "- bounds: (19.08, 58.84, 31.59, 70.09)\n",
       "Coordinate Operation:\n",
       "- name: TM35FIN\n",
       "- method: Transverse Mercator\n",
       "Datum: European Terrestrial Reference System 1989 ensemble\n",
       "- Ellipsoid: GRS 1980\n",
       "- Prime Meridian: Greenwich"
      ]
     },
     "execution_count": 227,
     "metadata": {},
     "output_type": "execute_result"
    }
   ],
   "source": [
    "inters.crs"
   ]
  },
  {
   "cell_type": "code",
   "execution_count": 228,
   "id": "ff4a4607-02c9-4a4f-9fa2-efc13c2e4be2",
   "metadata": {},
   "outputs": [
    {
     "data": {
      "text/plain": [
       "<Derived Projected CRS: EPSG:3067>\n",
       "Name: ETRS89 / TM35FIN(E,N)\n",
       "Axis Info [cartesian]:\n",
       "- E[east]: Easting (metre)\n",
       "- N[north]: Northing (metre)\n",
       "Area of Use:\n",
       "- name: Finland - onshore and offshore.\n",
       "- bounds: (19.08, 58.84, 31.59, 70.09)\n",
       "Coordinate Operation:\n",
       "- name: TM35FIN\n",
       "- method: Transverse Mercator\n",
       "Datum: European Terrestrial Reference System 1989 ensemble\n",
       "- Ellipsoid: GRS 1980\n",
       "- Prime Meridian: Greenwich"
      ]
     },
     "execution_count": 228,
     "metadata": {},
     "output_type": "execute_result"
    }
   ],
   "source": [
    "postcodes.crs"
   ]
  },
  {
   "cell_type": "code",
   "execution_count": 229,
   "id": "cf6f7de5-c7ae-44de-beef-e4279b0fad9f",
   "metadata": {},
   "outputs": [
    {
     "data": {
      "text/plain": [
       "<AxesSubplot:>"
      ]
     },
     "execution_count": 229,
     "metadata": {},
     "output_type": "execute_result"
    },
    {
     "data": {
      "image/png": "[encoded data removed]",
      "text/plain": [
       "<Figure size 576x576 with 1 Axes>"
      ]
     },
     "metadata": {
      "needs_background": "light"
     },
     "output_type": "display_data"
    }
   ],
   "source": [
    "_, ax = plt.subplots(figsize=(8, 8))\n",
    "ax.set_xlim([380000, 395000])\n",
    "ax.set_ylim([6667500, 6680000])\n",
    "postcodes.plot(\n",
    "    ax=ax,\n",
    "    facecolor=\"blue\",\n",
    "    edgecolor=\"white\",\n",
    "    linewidth=1.5,\n",
    "    alpha=0.6\n",
    ")\n",
    "inters.plot(\n",
    "    ax=ax,\n",
    "    color=\"orange\",\n",
    "    markersize=4,\n",
    "    alpha=0.5\n",
    ")\n"
   ]
  },
  {
   "cell_type": "code",
   "execution_count": 230,
   "id": "90661d63-74b2-4b8b-8d52-0deb2f7473ef",
   "metadata": {},
   "outputs": [],
   "source": [
    "inters = (inters\n",
    "          .assign(\n",
    "              sindex=lambda x:x.sindex\n",
    "          )\n",
    "         )"
   ]
  },
  {
   "cell_type": "code",
   "execution_count": 231,
   "id": "c1e35bed-3ad6-4e47-a619-721834e0f4a9",
   "metadata": {},
   "outputs": [
    {
     "data": {
      "text/html": [
       "<div>\n",
       "<style scoped>\n",
       "    .dataframe tbody tr th:only-of-type {\n",
       "        vertical-align: middle;\n",
       "    }\n",
       "\n",
       "    .dataframe tbody tr th {\n",
       "        vertical-align: top;\n",
       "    }\n",
       "\n",
       "    .dataframe thead th {\n",
       "        text-align: right;\n",
       "    }\n",
       "</style>\n",
       "<table border=\"1\" class=\"dataframe\">\n",
       "  <thead>\n",
       "    <tr style=\"text-align: right;\">\n",
       "      <th></th>\n",
       "      <th>x</th>\n",
       "      <th>y</th>\n",
       "      <th>geometry</th>\n",
       "      <th>sindex</th>\n",
       "    </tr>\n",
       "  </thead>\n",
       "  <tbody>\n",
       "    <tr>\n",
       "      <th>0</th>\n",
       "      <td>330888.502</td>\n",
       "      <td>6675829.949</td>\n",
       "      <td>POINT (330888.502 6675829.949)</td>\n",
       "      <td>&lt;geopandas.sindex.PyGEOSSTRTreeIndex object at...</td>\n",
       "    </tr>\n",
       "    <tr>\n",
       "      <th>1</th>\n",
       "      <td>348059.990</td>\n",
       "      <td>6670041.685</td>\n",
       "      <td>POINT (348059.990 6670041.685)</td>\n",
       "      <td>&lt;geopandas.sindex.PyGEOSSTRTreeIndex object at...</td>\n",
       "    </tr>\n",
       "    <tr>\n",
       "      <th>2</th>\n",
       "      <td>348022.592</td>\n",
       "      <td>6670202.858</td>\n",
       "      <td>POINT (348022.592 6670202.858)</td>\n",
       "      <td>&lt;geopandas.sindex.PyGEOSSTRTreeIndex object at...</td>\n",
       "    </tr>\n",
       "    <tr>\n",
       "      <th>3</th>\n",
       "      <td>297208.220</td>\n",
       "      <td>6669048.357</td>\n",
       "      <td>POINT (297208.220 6669048.357)</td>\n",
       "      <td>&lt;geopandas.sindex.PyGEOSSTRTreeIndex object at...</td>\n",
       "    </tr>\n",
       "    <tr>\n",
       "      <th>4</th>\n",
       "      <td>330835.341</td>\n",
       "      <td>6675586.834</td>\n",
       "      <td>POINT (330835.341 6675586.834)</td>\n",
       "      <td>&lt;geopandas.sindex.PyGEOSSTRTreeIndex object at...</td>\n",
       "    </tr>\n",
       "  </tbody>\n",
       "</table>\n",
       "</div>"
      ],
      "text/plain": [
       "            x            y                        geometry  \\\n",
       "0  330888.502  6675829.949  POINT (330888.502 6675829.949)   \n",
       "1  348059.990  6670041.685  POINT (348059.990 6670041.685)   \n",
       "2  348022.592  6670202.858  POINT (348022.592 6670202.858)   \n",
       "3  297208.220  6669048.357  POINT (297208.220 6669048.357)   \n",
       "4  330835.341  6675586.834  POINT (330835.341 6675586.834)   \n",
       "\n",
       "                                              sindex  \n",
       "0  <geopandas.sindex.PyGEOSSTRTreeIndex object at...  \n",
       "1  <geopandas.sindex.PyGEOSSTRTreeIndex object at...  \n",
       "2  <geopandas.sindex.PyGEOSSTRTreeIndex object at...  \n",
       "3  <geopandas.sindex.PyGEOSSTRTreeIndex object at...  \n",
       "4  <geopandas.sindex.PyGEOSSTRTreeIndex object at...  "
      ]
     },
     "execution_count": 231,
     "metadata": {},
     "output_type": "execute_result"
    }
   ],
   "source": [
    "inters.head()"
   ]
  },
  {
   "cell_type": "code",
   "execution_count": 232,
   "id": "4ca1208d-c9a2-48bc-aa4c-44daa2d7fa8e",
   "metadata": {},
   "outputs": [],
   "source": [
    "# Focusing on city center\n",
    "city_center = (postcodes\n",
    "               .query(\"posti_alue == '00100'\")\n",
    "               .reset_index()\n",
    "              )"
   ]
  },
  {
   "cell_type": "code",
   "execution_count": 233,
   "id": "129446cb-44c8-4d89-bb8f-0ac6bc2a02ad",
   "metadata": {},
   "outputs": [],
   "source": [
    "inters_sindex = inters.sindex"
   ]
  },
  {
   "cell_type": "code",
   "execution_count": 234,
   "id": "7b696f80-6fac-4b99-84a9-b40bf3549736",
   "metadata": {},
   "outputs": [
    {
     "data": {
      "text/plain": [
       "<geopandas.sindex.PyGEOSSTRTreeIndex at 0x2c97d901a00>"
      ]
     },
     "execution_count": 234,
     "metadata": {},
     "output_type": "execute_result"
    }
   ],
   "source": [
    "inters_sindex"
   ]
  },
  {
   "cell_type": "code",
   "execution_count": 235,
   "id": "469176d2-db49-4201-9ee0-db13286bd837",
   "metadata": {},
   "outputs": [],
   "source": [
    "test = city_center[\"geometry\"].values[0]"
   ]
  },
  {
   "cell_type": "code",
   "execution_count": 236,
   "id": "c71200c5-1739-4f95-9d39-f357c7ae3c49",
   "metadata": {},
   "outputs": [
    {
     "data": {
      "image/svg+xml": [
       "<svg xmlns=\"http://www.w3.org/2000/svg\" xmlns:xlink=\"http://www.w3.org/1999/xlink\" width=\"300\" height=\"300\" viewBox=\"383550.61007599987 6671484.547876001 2875.4898480002303 1753.8452479979023\" preserveAspectRatio=\"xMinYMin meet\"><g transform=\"matrix(1,0,0,-1,0,13344722.941)\"><g><path fill-rule=\"evenodd\" fill=\"#66cc99\" stroke=\"#555555\" stroke-width=\"19.169932320001536\" opacity=\"0.6\" d=\"M 385653.89280000003,6671591.047500001 L 385573.61950000015,6671699.800500001 L 385612.65930000006,6671729.6573 L 385575.7769,6671779.056499999 L 385548.6877,6671753.901899999 L 385510.9652,6671720.773700001 L 385461.1218000001,6671698.7267 L 385390.1366000001,6671644.3401999995 L 385345.97990000003,6671615.715999999 L 385343.33320000017,6671614.833499999 L 385311.9982000001,6671592.797 L 385310.76450000005,6671592.928099999 L 385294.6530000001,6671592.432099999 L 385222.6021000001,6671697.9232 L 385291.6376000001,6671739.344499999 L 385184.2491,6671782.299999999 L 385153.5666,6671765.4246 L 385125.016,6671798.1337 L 385095.20800000004,6671799.624 L 385096.26840000006,6671820.832400001 L 385068.1936,6671830.4498 L 385055.3828,6671854.403699998 L 385006.42390000017,6671838.730199999 L 384984.64610000007,6671864.1748 L 384776.1723999999,6671920.3709999975 L 384684.0309,6671919.136299998 L 384507.1820999999,6672049.149999999 L 384392.6461000002,6672053.786200001 L 384294.1153999999,6672168.521599999 L 384263.1148,6672200.5006 L 384193.8058,6672207.333599999 L 384170.3668000001,6672217.245199999 L 384145.4371999999,6672226.155 L 384119.8744,6672233.877899998 L 384093.8350000002,6672240.4109 L 384067.4241000002,6672245.6684 L 384040.3694,6672249.649999999 L 384013.1656000001,6672252.656399999 L 383932.1496,6672260.2036999995 L 383905.8852000002,6672263.659599998 L 383880.33559999993,6672268.389699999 L 383855.7845000001,6672274.995499999 L 383832.59239999996,6672284.205299999 L 383809.53890000004,6672297.613199999 L 383788.09949999995,6672314.027199999 L 383767.93739999994,6672332.645099998 L 383748.84830000007,6672352.843799999 L 383730.7548,6672374.139999999 L 383713.70859999995,6672396.155999999 L 383697.90040000004,6672418.590399999 L 383683.67949999997,6672441.192100001 L 383671.5832,6672463.7378 L 383662.3775,6672486.0121 L 383657.10969999986,6672507.787999999 L 383657.1723999999,6672528.8098 L 383663.70490000007,6672548.924400001 L 383675.5263999999,6672568.2779 L 383691.1699,6672587.1185 L 383709.50010000006,6672605.654600001 L 383729.6403000001,6672624.066799999 L 383794.76500000025,6672680.156199999 L 383876.6650000001,6672754.0679 L 383896.9916,6672771.7431 L 383917.42419999995,6672788.4251999995 L 383938.07459999993,6672803.645 L 383959.07629999996,6672816.811700001 L 383980.5906000002,6672827.178699999 L 384002.8121000002,6672833.8050999995 L 384025.4063,6672835.9891 L 384048.61840000015,6672834.818 L 384072.1889000002,6672831.4626 L 384119.39289999986,6672822.2873 L 384142.4773,6672818.4004 L 384164.7788000001,6672816.3196 L 384185.8787999999,6672817.181299998 L 384198.8316000001,6672820.350999997 L 384261.5686,6672778.738499999 L 384419.84230000013,6672818.699499998 L 384761.4247999999,6672925.253999999 L 385168.56909999996,6672996.2051 L 385456.4778000002,6673131.893499999 L 385829.5336000001,6672936.305000001 L 385964.8726,6672731.113699999 L 385995.433,6672499.727699999 L 386209.35580000014,6672521.5566 L 386213.72159999993,6672399.315 L 386223.95599999995,6672203.529299999 L 386226.8189,6672010.7612999985 L 386307.4172,6671999.767299999 L 386319.6003000001,6671875.085 L 385898.73330000014,6671865.8463 L 385854.52960000007,6671869.568499999 L 385834.7828,6671846.579800001 L 385835.1546,6671843.424 L 385850.28090000007,6671805.312899999 L 385880.9647,6671720.460399999 L 385822.4624000001,6671699.546699999 L 385812.8996000001,6671727.542999999 L 385792.98030000005,6671756.7104 L 385750.9263999999,6671822.7591 L 385725.7944000002,6671860.5402 L 385704.3028,6671877.276099999 L 385678.23659999995,6671848.267199999 L 385638.4899999999,6671807.916199998 L 385665.9636,6671773.0951999985 L 385705.68220000004,6671787.336200001 L 385779.6422000002,6671672.885 L 385653.89280000003,6671591.047500001 z\" /></g></g></svg>"
      ],
      "text/plain": [
       "<shapely.geometry.multipolygon.MultiPolygon at 0x2c97d76c190>"
      ]
     },
     "execution_count": 236,
     "metadata": {},
     "output_type": "execute_result"
    }
   ],
   "source": [
    "test"
   ]
  },
  {
   "cell_type": "code",
   "execution_count": 237,
   "id": "05186d76-3913-4645-a408-c57704de3f31",
   "metadata": {},
   "outputs": [
    {
     "data": {
      "text/plain": [
       "array([ 383657.1097, 6671591.0475,  386319.6003, 6673131.8935])"
      ]
     },
     "execution_count": 237,
     "metadata": {},
     "output_type": "execute_result"
    }
   ],
   "source": [
    "city_center.bounds.values[0]"
   ]
  },
  {
   "cell_type": "code",
   "execution_count": 238,
   "id": "f05db2bb-b67a-42bb-8c66-5a676a490579",
   "metadata": {},
   "outputs": [],
   "source": [
    "point_candidates = (inters\n",
    "                    .loc[inters_sindex.intersection(city_center.bounds.values[0])]\n",
    "                    .reset_index()\n",
    "                   )"
   ]
  },
  {
   "cell_type": "code",
   "execution_count": 239,
   "id": "a69d0466-ac47-4536-a3a6-9962877e51e5",
   "metadata": {},
   "outputs": [
    {
     "data": {
      "text/plain": [
       "<AxesSubplot:>"
      ]
     },
     "execution_count": 239,
     "metadata": {},
     "output_type": "execute_result"
    },
    {
     "data": {
      "image/png": "[encoded data removed]",
      "text/plain": [
       "<Figure size 576x576 with 1 Axes>"
      ]
     },
     "metadata": {
      "needs_background": "light"
     },
     "output_type": "display_data"
    }
   ],
   "source": [
    "_, ax = plt.subplots(figsize=(8, 8))\n",
    "city_center.plot(\n",
    "    ax=ax,\n",
    "    facecolor=\"blue\",\n",
    "    alpha=0.6\n",
    ")\n",
    "point_candidates.plot(\n",
    "    ax=ax,\n",
    "    markersize=10,\n",
    "    color=\"orange\"\n",
    ")"
   ]
  },
  {
   "cell_type": "code",
   "execution_count": 240,
   "id": "20ab4ab8-8410-4f35-bac7-77049d9ebd5c",
   "metadata": {},
   "outputs": [],
   "source": [
    "points_idx = point_candidates.within(city_center[\"geometry\"].values[0], align=True)"
   ]
  },
  {
   "cell_type": "code",
   "execution_count": 241,
   "id": "4e3c5587-e1f2-4381-9b94-7ce093e7ad6f",
   "metadata": {},
   "outputs": [
    {
     "data": {
      "text/plain": [
       "203"
      ]
     },
     "execution_count": 241,
     "metadata": {},
     "output_type": "execute_result"
    }
   ],
   "source": [
    "points_idx.sum()"
   ]
  },
  {
   "cell_type": "code",
   "execution_count": 242,
   "id": "baf8e7a1-bdc6-4780-a42d-cd2c00fe18be",
   "metadata": {},
   "outputs": [
    {
     "data": {
      "text/plain": [
       "<AxesSubplot:>"
      ]
     },
     "execution_count": 242,
     "metadata": {},
     "output_type": "execute_result"
    },
    {
     "data": {
      "image/png": "[encoded data removed]",
      "text/plain": [
       "<Figure size 576x576 with 1 Axes>"
      ]
     },
     "metadata": {
      "needs_background": "light"
     },
     "output_type": "display_data"
    }
   ],
   "source": [
    "_, ax = plt.subplots(figsize=(8, 8))\n",
    "city_center.plot(\n",
    "    ax=ax,\n",
    "    facecolor=\"blue\",\n",
    "    alpha=0.6\n",
    ")\n",
    "(point_candidates\n",
    " .loc[points_idx]\n",
    " .plot(\n",
    "     ax=ax,\n",
    "     markersize=10,\n",
    "     color=\"orange\"\n",
    " )\n",
    ")"
   ]
  },
  {
   "cell_type": "markdown",
   "id": "87cd3fcb-578e-413f-8e78-bf0013fcbabf",
   "metadata": {},
   "source": [
    "## Number of intersections per postcodes"
   ]
  },
  {
   "cell_type": "code",
   "execution_count": 243,
   "id": "6591d7fd-d335-4c34-bf1c-efc6041fc270",
   "metadata": {},
   "outputs": [],
   "source": [
    "inters_cnts = (gpd.sjoin(postcodes, inters, how=\"inner\")\n",
    "               .groupby(\n",
    "                   by=\"posti_alue\"\n",
    "               )\n",
    "               .agg(\n",
    "                   num_inters=(\"posti_alue\", len)\n",
    "               )\n",
    "               .reset_index()\n",
    "              )"
   ]
  },
  {
   "cell_type": "code",
   "execution_count": 244,
   "id": "1299249b-d894-4727-aecf-846915c13010",
   "metadata": {},
   "outputs": [
    {
     "data": {
      "text/html": [
       "<div>\n",
       "<style scoped>\n",
       "    .dataframe tbody tr th:only-of-type {\n",
       "        vertical-align: middle;\n",
       "    }\n",
       "\n",
       "    .dataframe tbody tr th {\n",
       "        vertical-align: top;\n",
       "    }\n",
       "\n",
       "    .dataframe thead th {\n",
       "        text-align: right;\n",
       "    }\n",
       "</style>\n",
       "<table border=\"1\" class=\"dataframe\">\n",
       "  <thead>\n",
       "    <tr style=\"text-align: right;\">\n",
       "      <th></th>\n",
       "      <th>posti_alue</th>\n",
       "      <th>num_inters</th>\n",
       "    </tr>\n",
       "  </thead>\n",
       "  <tbody>\n",
       "    <tr>\n",
       "      <th>0</th>\n",
       "      <td>00100</td>\n",
       "      <td>203</td>\n",
       "    </tr>\n",
       "    <tr>\n",
       "      <th>1</th>\n",
       "      <td>00120</td>\n",
       "      <td>35</td>\n",
       "    </tr>\n",
       "    <tr>\n",
       "      <th>2</th>\n",
       "      <td>00130</td>\n",
       "      <td>50</td>\n",
       "    </tr>\n",
       "    <tr>\n",
       "      <th>3</th>\n",
       "      <td>00140</td>\n",
       "      <td>44</td>\n",
       "    </tr>\n",
       "    <tr>\n",
       "      <th>4</th>\n",
       "      <td>00150</td>\n",
       "      <td>68</td>\n",
       "    </tr>\n",
       "  </tbody>\n",
       "</table>\n",
       "</div>"
      ],
      "text/plain": [
       "  posti_alue  num_inters\n",
       "0      00100         203\n",
       "1      00120          35\n",
       "2      00130          50\n",
       "3      00140          44\n",
       "4      00150          68"
      ]
     },
     "execution_count": 244,
     "metadata": {},
     "output_type": "execute_result"
    }
   ],
   "source": [
    "inters_cnts.head()"
   ]
  },
  {
   "cell_type": "code",
   "execution_count": 245,
   "id": "b803ea32-d1ae-4264-b207-50afd319b404",
   "metadata": {},
   "outputs": [],
   "source": [
    "postcodes_inters = (postcodes\n",
    "                    .merge(inters_cnts, on=\"posti_alue\")\n",
    "                    .assign(\n",
    "                        inters_density=lambda x:(x[\"num_inters\"]\n",
    "                                                 /(x.area / 1000000))\n",
    "                    )\n",
    "                   )"
   ]
  },
  {
   "cell_type": "code",
   "execution_count": 247,
   "id": "ea209bd2-555d-4356-8fff-2776ae392bd2",
   "metadata": {},
   "outputs": [
    {
     "data": {
      "text/html": [
       "<div>\n",
       "<style scoped>\n",
       "    .dataframe tbody tr th:only-of-type {\n",
       "        vertical-align: middle;\n",
       "    }\n",
       "\n",
       "    .dataframe tbody tr th {\n",
       "        vertical-align: top;\n",
       "    }\n",
       "\n",
       "    .dataframe thead th {\n",
       "        text-align: right;\n",
       "    }\n",
       "</style>\n",
       "<table border=\"1\" class=\"dataframe\">\n",
       "  <thead>\n",
       "    <tr style=\"text-align: right;\">\n",
       "      <th></th>\n",
       "      <th>posti_alue</th>\n",
       "      <th>he_vakiy</th>\n",
       "      <th>geometry</th>\n",
       "      <th>num_inters</th>\n",
       "      <th>inters_density</th>\n",
       "    </tr>\n",
       "  </thead>\n",
       "  <tbody>\n",
       "    <tr>\n",
       "      <th>0</th>\n",
       "      <td>00100</td>\n",
       "      <td>18284.0</td>\n",
       "      <td>MULTIPOLYGON (((385653.893 6671591.048, 385573...</td>\n",
       "      <td>203</td>\n",
       "      <td>86.262634</td>\n",
       "    </tr>\n",
       "    <tr>\n",
       "      <th>1</th>\n",
       "      <td>00120</td>\n",
       "      <td>7108.0</td>\n",
       "      <td>MULTIPOLYGON (((385316.092 6671076.984, 385279...</td>\n",
       "      <td>35</td>\n",
       "      <td>84.539110</td>\n",
       "    </tr>\n",
       "    <tr>\n",
       "      <th>2</th>\n",
       "      <td>00130</td>\n",
       "      <td>1508.0</td>\n",
       "      <td>MULTIPOLYGON (((386212.111 6671061.262, 386176...</td>\n",
       "      <td>50</td>\n",
       "      <td>116.560895</td>\n",
       "    </tr>\n",
       "    <tr>\n",
       "      <th>3</th>\n",
       "      <td>00140</td>\n",
       "      <td>7865.0</td>\n",
       "      <td>MULTIPOLYGON (((386577.050 6670280.544, 386552...</td>\n",
       "      <td>44</td>\n",
       "      <td>47.218358</td>\n",
       "    </tr>\n",
       "    <tr>\n",
       "      <th>4</th>\n",
       "      <td>00150</td>\n",
       "      <td>9496.0</td>\n",
       "      <td>MULTIPOLYGON (((384846.102 6669565.816, 384823...</td>\n",
       "      <td>68</td>\n",
       "      <td>49.732046</td>\n",
       "    </tr>\n",
       "  </tbody>\n",
       "</table>\n",
       "</div>"
      ],
      "text/plain": [
       "  posti_alue  he_vakiy                                           geometry  \\\n",
       "0      00100   18284.0  MULTIPOLYGON (((385653.893 6671591.048, 385573...   \n",
       "1      00120    7108.0  MULTIPOLYGON (((385316.092 6671076.984, 385279...   \n",
       "2      00130    1508.0  MULTIPOLYGON (((386212.111 6671061.262, 386176...   \n",
       "3      00140    7865.0  MULTIPOLYGON (((386577.050 6670280.544, 386552...   \n",
       "4      00150    9496.0  MULTIPOLYGON (((384846.102 6669565.816, 384823...   \n",
       "\n",
       "   num_inters  inters_density  \n",
       "0         203       86.262634  \n",
       "1          35       84.539110  \n",
       "2          50      116.560895  \n",
       "3          44       47.218358  \n",
       "4          68       49.732046  "
      ]
     },
     "execution_count": 247,
     "metadata": {},
     "output_type": "execute_result"
    }
   ],
   "source": [
    "postcodes_inters.head()"
   ]
  },
  {
   "cell_type": "code",
   "execution_count": 252,
   "id": "6b084265-4867-4913-8976-ef7310f39198",
   "metadata": {},
   "outputs": [
    {
     "data": {
      "text/plain": [
       "<AxesSubplot:>"
      ]
     },
     "execution_count": 252,
     "metadata": {},
     "output_type": "execute_result"
    },
    {
     "data": {
      "image/png": "[encoded data removed]",
      "text/plain": [
       "<Figure size 648x432 with 2 Axes>"
      ]
     },
     "metadata": {
      "needs_background": "light"
     },
     "output_type": "display_data"
    }
   ],
   "source": [
    "_, ax = plt.subplots(figsize=(9, 6))\n",
    "postcodes_inters.plot(\n",
    "    ax=ax,\n",
    "    column=\"inters_density\",\n",
    "    cmap=\"RdYlBu_r\",\n",
    "    legend=True\n",
    ")"
   ]
  },
  {
   "cell_type": "markdown",
   "id": "7b32ff6d-28dd-49cc-ab71-9244ea057758",
   "metadata": {},
   "source": [
    "## Nearest neighbor analysis with large datasets"
   ]
  },
  {
   "cell_type": "code",
   "execution_count": 253,
   "id": "1c937250-104e-474e-bdd8-a1c58b475986",
   "metadata": {},
   "outputs": [],
   "source": [
    "from zipfile import ZipFile\n",
    "import io"
   ]
  },
  {
   "cell_type": "code",
   "execution_count": 254,
   "id": "d42e8be1-bdf1-4fa4-a9f5-a92052425d3d",
   "metadata": {},
   "outputs": [],
   "source": [
    "stops = gpd.read_file(DATA_PATH / \"pt_stops_helsinki.gpkg\")"
   ]
  },
  {
   "cell_type": "code",
   "execution_count": 257,
   "id": "a7b7ae0c-26b1-4fc5-9fff-73dffb8bdf10",
   "metadata": {},
   "outputs": [
    {
     "data": {
      "text/html": [
       "<div>\n",
       "<style scoped>\n",
       "    .dataframe tbody tr th:only-of-type {\n",
       "        vertical-align: middle;\n",
       "    }\n",
       "\n",
       "    .dataframe tbody tr th {\n",
       "        vertical-align: top;\n",
       "    }\n",
       "\n",
       "    .dataframe thead th {\n",
       "        text-align: right;\n",
       "    }\n",
       "</style>\n",
       "<table border=\"1\" class=\"dataframe\">\n",
       "  <thead>\n",
       "    <tr style=\"text-align: right;\">\n",
       "      <th></th>\n",
       "      <th>stop_name</th>\n",
       "      <th>stop_lat</th>\n",
       "      <th>stop_lon</th>\n",
       "      <th>stop_id</th>\n",
       "      <th>geometry</th>\n",
       "    </tr>\n",
       "  </thead>\n",
       "  <tbody>\n",
       "    <tr>\n",
       "      <th>0</th>\n",
       "      <td>Ritarihuone</td>\n",
       "      <td>60.169460</td>\n",
       "      <td>24.956670</td>\n",
       "      <td>1010102</td>\n",
       "      <td>POINT (24.95667 60.16946)</td>\n",
       "    </tr>\n",
       "    <tr>\n",
       "      <th>1</th>\n",
       "      <td>Kirkkokatu</td>\n",
       "      <td>60.171270</td>\n",
       "      <td>24.956570</td>\n",
       "      <td>1010103</td>\n",
       "      <td>POINT (24.95657 60.17127)</td>\n",
       "    </tr>\n",
       "    <tr>\n",
       "      <th>2</th>\n",
       "      <td>Kirkkokatu</td>\n",
       "      <td>60.170293</td>\n",
       "      <td>24.956721</td>\n",
       "      <td>1010104</td>\n",
       "      <td>POINT (24.95672 60.17029)</td>\n",
       "    </tr>\n",
       "    <tr>\n",
       "      <th>3</th>\n",
       "      <td>Vironkatu</td>\n",
       "      <td>60.172580</td>\n",
       "      <td>24.956554</td>\n",
       "      <td>1010105</td>\n",
       "      <td>POINT (24.95655 60.17258)</td>\n",
       "    </tr>\n",
       "    <tr>\n",
       "      <th>4</th>\n",
       "      <td>Vironkatu</td>\n",
       "      <td>60.172990</td>\n",
       "      <td>24.956380</td>\n",
       "      <td>1010106</td>\n",
       "      <td>POINT (24.95638 60.17299)</td>\n",
       "    </tr>\n",
       "  </tbody>\n",
       "</table>\n",
       "</div>"
      ],
      "text/plain": [
       "     stop_name   stop_lat   stop_lon  stop_id                   geometry\n",
       "0  Ritarihuone  60.169460  24.956670  1010102  POINT (24.95667 60.16946)\n",
       "1   Kirkkokatu  60.171270  24.956570  1010103  POINT (24.95657 60.17127)\n",
       "2   Kirkkokatu  60.170293  24.956721  1010104  POINT (24.95672 60.17029)\n",
       "3    Vironkatu  60.172580  24.956554  1010105  POINT (24.95655 60.17258)\n",
       "4    Vironkatu  60.172990  24.956380  1010106  POINT (24.95638 60.17299)"
      ]
     },
     "execution_count": 257,
     "metadata": {},
     "output_type": "execute_result"
    }
   ],
   "source": [
    "stops.head()"
   ]
  },
  {
   "cell_type": "code",
   "execution_count": 256,
   "id": "7d63d3ab-37a1-4a6f-aaa3-11eef44122ec",
   "metadata": {},
   "outputs": [
    {
     "name": "stdout",
     "output_type": "stream",
     "text": [
      "building_points_helsinki.gpkg\n",
      "<_io.BytesIO object at 0x000002C902BEACC0>\n"
     ]
    }
   ],
   "source": [
    "with ZipFile(DATA_PATH / \"building_points_helsinki.zip\") as z:\n",
    "    filename = z.namelist()[0]\n",
    "    print(filename)\n",
    "    print(io.BytesIO(z.read(filename)))\n",
    "    buildings = gpd.read_file(io.BytesIO(z.read(filename)))"
   ]
  },
  {
   "cell_type": "code",
   "execution_count": 258,
   "id": "c08af67c-6f6f-422e-9d91-686bc8730dd2",
   "metadata": {},
   "outputs": [
    {
     "data": {
      "text/html": [
       "<div>\n",
       "<style scoped>\n",
       "    .dataframe tbody tr th:only-of-type {\n",
       "        vertical-align: middle;\n",
       "    }\n",
       "\n",
       "    .dataframe tbody tr th {\n",
       "        vertical-align: top;\n",
       "    }\n",
       "\n",
       "    .dataframe thead th {\n",
       "        text-align: right;\n",
       "    }\n",
       "</style>\n",
       "<table border=\"1\" class=\"dataframe\">\n",
       "  <thead>\n",
       "    <tr style=\"text-align: right;\">\n",
       "      <th></th>\n",
       "      <th>name</th>\n",
       "      <th>geometry</th>\n",
       "    </tr>\n",
       "  </thead>\n",
       "  <tbody>\n",
       "    <tr>\n",
       "      <th>0</th>\n",
       "      <td>None</td>\n",
       "      <td>POINT (24.85584 60.20727)</td>\n",
       "    </tr>\n",
       "    <tr>\n",
       "      <th>1</th>\n",
       "      <td>Uimastadion</td>\n",
       "      <td>POINT (24.93045 60.18882)</td>\n",
       "    </tr>\n",
       "    <tr>\n",
       "      <th>2</th>\n",
       "      <td>None</td>\n",
       "      <td>POINT (24.95113 60.16994)</td>\n",
       "    </tr>\n",
       "    <tr>\n",
       "      <th>3</th>\n",
       "      <td>Hartwall Arena</td>\n",
       "      <td>POINT (24.92918 60.20570)</td>\n",
       "    </tr>\n",
       "    <tr>\n",
       "      <th>4</th>\n",
       "      <td>Talli</td>\n",
       "      <td>POINT (24.92607 60.21346)</td>\n",
       "    </tr>\n",
       "  </tbody>\n",
       "</table>\n",
       "</div>"
      ],
      "text/plain": [
       "             name                   geometry\n",
       "0            None  POINT (24.85584 60.20727)\n",
       "1     Uimastadion  POINT (24.93045 60.18882)\n",
       "2            None  POINT (24.95113 60.16994)\n",
       "3  Hartwall Arena  POINT (24.92918 60.20570)\n",
       "4           Talli  POINT (24.92607 60.21346)"
      ]
     },
     "execution_count": 258,
     "metadata": {},
     "output_type": "execute_result"
    }
   ],
   "source": [
    "buildings.head()"
   ]
  },
  {
   "cell_type": "code",
   "execution_count": 261,
   "id": "3ceacef4-d8db-4492-9152-1eea1b947ed5",
   "metadata": {},
   "outputs": [],
   "source": [
    "from shapely.geometry import box"
   ]
  },
  {
   "cell_type": "code",
   "execution_count": 267,
   "id": "a0db209b-1697-4868-9214-46702131ae77",
   "metadata": {},
   "outputs": [
    {
     "data": {
      "text/plain": [
       "<AxesSubplot:>"
      ]
     },
     "execution_count": 267,
     "metadata": {},
     "output_type": "execute_result"
    },
    {
     "data": {
      "image/png": "[encoded data removed]",
      "text/plain": [
       "<Figure size 504x504 with 1 Axes>"
      ]
     },
     "metadata": {
      "needs_background": "light"
     },
     "output_type": "display_data"
    }
   ],
   "source": [
    "_, ax = plt.subplots(figsize=(7, 7))\n",
    "(buildings\n",
    " .loc[(buildings\n",
    "       .within(box(24.9, 60.2, 24.95, 60.25)))]\n",
    " .plot(\n",
    "    ax=ax,\n",
    "    color=\"blue\",\n",
    "    markersize=8,\n",
    "    alpha=0.5\n",
    " )\n",
    ")\n",
    "(stops\n",
    " .loc[(stops\n",
    "       .within(box(24.9, 60.2, 24.95, 60.25)))]\n",
    " .plot(\n",
    "     ax=ax,\n",
    "     color=\"red\",\n",
    "     markersize=4,\n",
    "     alpha=0.6\n",
    " )\n",
    ")\n",
    "# ax.set_xlim([24.9, 24.95])\n",
    "# ax.set_ylim([60.2, 60.25])"
   ]
  },
  {
   "cell_type": "code",
   "execution_count": 268,
   "id": "19bb2d21-b483-4ccc-8ea3-3301ba5a32b0",
   "metadata": {},
   "outputs": [],
   "source": [
    "from sklearn.neighbors import BallTree"
   ]
  },
  {
   "cell_type": "code",
   "execution_count": null,
   "id": "71d4d54f-f9f9-4d14-9b6a-d0856305dd6a",
   "metadata": {},
   "outputs": [],
   "source": []
  },
  {
   "cell_type": "markdown",
   "id": "45e10e9f-b06e-4010-8252-86c6cad665ee",
   "metadata": {},
   "source": [
    "## Exercises\n",
    "\n",
    "### 1"
   ]
  },
  {
   "cell_type": "code",
   "execution_count": 276,
   "id": "edd0f0c2-eaf0-4625-a63c-67ac4dd3f6b0",
   "metadata": {},
   "outputs": [],
   "source": [
    "data = pd.read_csv(DATA_PATH / \"shopping_centers.txt\", sep=\";\")"
   ]
  },
  {
   "cell_type": "code",
   "execution_count": 277,
   "id": "d59dea0f-a8fa-41fc-aa17-4c8e859a0960",
   "metadata": {},
   "outputs": [
    {
     "data": {
      "text/html": [
       "<div>\n",
       "<style scoped>\n",
       "    .dataframe tbody tr th:only-of-type {\n",
       "        vertical-align: middle;\n",
       "    }\n",
       "\n",
       "    .dataframe tbody tr th {\n",
       "        vertical-align: top;\n",
       "    }\n",
       "\n",
       "    .dataframe thead th {\n",
       "        text-align: right;\n",
       "    }\n",
       "</style>\n",
       "<table border=\"1\" class=\"dataframe\">\n",
       "  <thead>\n",
       "    <tr style=\"text-align: right;\">\n",
       "      <th></th>\n",
       "      <th>id</th>\n",
       "      <th>name</th>\n",
       "      <th>addr</th>\n",
       "    </tr>\n",
       "  </thead>\n",
       "  <tbody>\n",
       "    <tr>\n",
       "      <th>0</th>\n",
       "      <td>1001</td>\n",
       "      <td>Itis</td>\n",
       "      <td>Itäkatu 1, 00930 Helsinki, Finland</td>\n",
       "    </tr>\n",
       "    <tr>\n",
       "      <th>1</th>\n",
       "      <td>1002</td>\n",
       "      <td>Forum</td>\n",
       "      <td>Mannerheimintie 20, 00100 Helsinki, Finland</td>\n",
       "    </tr>\n",
       "    <tr>\n",
       "      <th>2</th>\n",
       "      <td>1003</td>\n",
       "      <td>Iso-omena</td>\n",
       "      <td>Piispansilta 11, 02230 Espoo, Finland</td>\n",
       "    </tr>\n",
       "    <tr>\n",
       "      <th>3</th>\n",
       "      <td>1004</td>\n",
       "      <td>Sello</td>\n",
       "      <td>Leppävaarankatu 3-9, 02600 Espoo, Finland</td>\n",
       "    </tr>\n",
       "    <tr>\n",
       "      <th>4</th>\n",
       "      <td>1005</td>\n",
       "      <td>Jumbo</td>\n",
       "      <td>Vantaanportinkatu 3, 01510 Vantaa, Finland</td>\n",
       "    </tr>\n",
       "    <tr>\n",
       "      <th>5</th>\n",
       "      <td>1006</td>\n",
       "      <td>REDI</td>\n",
       "      <td>Hermannin rantatie 5, 00580 Helsinki, Finland</td>\n",
       "    </tr>\n",
       "    <tr>\n",
       "      <th>6</th>\n",
       "      <td>1007</td>\n",
       "      <td>Tripla</td>\n",
       "      <td>Fredikanterassi 1, 00520 Helsinki, Finland</td>\n",
       "    </tr>\n",
       "  </tbody>\n",
       "</table>\n",
       "</div>"
      ],
      "text/plain": [
       "     id       name                                           addr\n",
       "0  1001       Itis             Itäkatu 1, 00930 Helsinki, Finland\n",
       "1  1002      Forum    Mannerheimintie 20, 00100 Helsinki, Finland\n",
       "2  1003  Iso-omena          Piispansilta 11, 02230 Espoo, Finland\n",
       "3  1004      Sello      Leppävaarankatu 3-9, 02600 Espoo, Finland\n",
       "4  1005      Jumbo     Vantaanportinkatu 3, 01510 Vantaa, Finland\n",
       "5  1006       REDI  Hermannin rantatie 5, 00580 Helsinki, Finland\n",
       "6  1007     Tripla     Fredikanterassi 1, 00520 Helsinki, Finland"
      ]
     },
     "execution_count": 277,
     "metadata": {},
     "output_type": "execute_result"
    }
   ],
   "source": [
    "data"
   ]
  },
  {
   "cell_type": "code",
   "execution_count": 278,
   "id": "482bbdd4-de2f-4fc3-a167-b4e6235ff009",
   "metadata": {},
   "outputs": [],
   "source": [
    "geodata = gpd.GeoDataFrame(\n",
    "    data=data,\n",
    "    geometry=gpd.tools.geocode(\n",
    "        data[\"addr\"],\n",
    "        provider=\"nominatim\",\n",
    "        user_agent=\"malls\",\n",
    "        timeout=4\n",
    "    )[\"geometry\"]\n",
    ")           "
   ]
  },
  {
   "cell_type": "code",
   "execution_count": 279,
   "id": "5ac63287-8162-4709-bcdb-3f010f4f1c3b",
   "metadata": {},
   "outputs": [
    {
     "data": {
      "text/html": [
       "<div>\n",
       "<style scoped>\n",
       "    .dataframe tbody tr th:only-of-type {\n",
       "        vertical-align: middle;\n",
       "    }\n",
       "\n",
       "    .dataframe tbody tr th {\n",
       "        vertical-align: top;\n",
       "    }\n",
       "\n",
       "    .dataframe thead th {\n",
       "        text-align: right;\n",
       "    }\n",
       "</style>\n",
       "<table border=\"1\" class=\"dataframe\">\n",
       "  <thead>\n",
       "    <tr style=\"text-align: right;\">\n",
       "      <th></th>\n",
       "      <th>id</th>\n",
       "      <th>name</th>\n",
       "      <th>addr</th>\n",
       "      <th>geometry</th>\n",
       "    </tr>\n",
       "  </thead>\n",
       "  <tbody>\n",
       "    <tr>\n",
       "      <th>0</th>\n",
       "      <td>1001</td>\n",
       "      <td>Itis</td>\n",
       "      <td>Itäkatu 1, 00930 Helsinki, Finland</td>\n",
       "      <td>POINT (25.08294 60.21170)</td>\n",
       "    </tr>\n",
       "    <tr>\n",
       "      <th>1</th>\n",
       "      <td>1002</td>\n",
       "      <td>Forum</td>\n",
       "      <td>Mannerheimintie 20, 00100 Helsinki, Finland</td>\n",
       "      <td>POINT (24.93858 60.16893)</td>\n",
       "    </tr>\n",
       "    <tr>\n",
       "      <th>2</th>\n",
       "      <td>1003</td>\n",
       "      <td>Iso-omena</td>\n",
       "      <td>Piispansilta 11, 02230 Espoo, Finland</td>\n",
       "      <td>POINT (24.73763 60.16291)</td>\n",
       "    </tr>\n",
       "    <tr>\n",
       "      <th>3</th>\n",
       "      <td>1004</td>\n",
       "      <td>Sello</td>\n",
       "      <td>Leppävaarankatu 3-9, 02600 Espoo, Finland</td>\n",
       "      <td>POINT (24.81042 60.21752)</td>\n",
       "    </tr>\n",
       "    <tr>\n",
       "      <th>4</th>\n",
       "      <td>1005</td>\n",
       "      <td>Jumbo</td>\n",
       "      <td>Vantaanportinkatu 3, 01510 Vantaa, Finland</td>\n",
       "      <td>POINT (24.96282 60.29245)</td>\n",
       "    </tr>\n",
       "    <tr>\n",
       "      <th>5</th>\n",
       "      <td>1006</td>\n",
       "      <td>REDI</td>\n",
       "      <td>Hermannin rantatie 5, 00580 Helsinki, Finland</td>\n",
       "      <td>POINT (24.97904 60.18702)</td>\n",
       "    </tr>\n",
       "    <tr>\n",
       "      <th>6</th>\n",
       "      <td>1007</td>\n",
       "      <td>Tripla</td>\n",
       "      <td>Fredikanterassi 1, 00520 Helsinki, Finland</td>\n",
       "      <td>POINT (24.93137 60.19866)</td>\n",
       "    </tr>\n",
       "  </tbody>\n",
       "</table>\n",
       "</div>"
      ],
      "text/plain": [
       "     id       name                                           addr  \\\n",
       "0  1001       Itis             Itäkatu 1, 00930 Helsinki, Finland   \n",
       "1  1002      Forum    Mannerheimintie 20, 00100 Helsinki, Finland   \n",
       "2  1003  Iso-omena          Piispansilta 11, 02230 Espoo, Finland   \n",
       "3  1004      Sello      Leppävaarankatu 3-9, 02600 Espoo, Finland   \n",
       "4  1005      Jumbo     Vantaanportinkatu 3, 01510 Vantaa, Finland   \n",
       "5  1006       REDI  Hermannin rantatie 5, 00580 Helsinki, Finland   \n",
       "6  1007     Tripla     Fredikanterassi 1, 00520 Helsinki, Finland   \n",
       "\n",
       "                    geometry  \n",
       "0  POINT (25.08294 60.21170)  \n",
       "1  POINT (24.93858 60.16893)  \n",
       "2  POINT (24.73763 60.16291)  \n",
       "3  POINT (24.81042 60.21752)  \n",
       "4  POINT (24.96282 60.29245)  \n",
       "5  POINT (24.97904 60.18702)  \n",
       "6  POINT (24.93137 60.19866)  "
      ]
     },
     "execution_count": 279,
     "metadata": {},
     "output_type": "execute_result"
    }
   ],
   "source": [
    "geodata"
   ]
  },
  {
   "cell_type": "code",
   "execution_count": 280,
   "id": "40ab6406-e67b-4d2b-8636-b48d1f89cbf9",
   "metadata": {},
   "outputs": [
    {
     "data": {
      "text/plain": [
       "<Geographic 2D CRS: EPSG:4326>\n",
       "Name: WGS 84\n",
       "Axis Info [ellipsoidal]:\n",
       "- Lat[north]: Geodetic latitude (degree)\n",
       "- Lon[east]: Geodetic longitude (degree)\n",
       "Area of Use:\n",
       "- name: World.\n",
       "- bounds: (-180.0, -90.0, 180.0, 90.0)\n",
       "Datum: World Geodetic System 1984 ensemble\n",
       "- Ellipsoid: WGS 84\n",
       "- Prime Meridian: Greenwich"
      ]
     },
     "execution_count": 280,
     "metadata": {},
     "output_type": "execute_result"
    }
   ],
   "source": [
    "geodata.crs"
   ]
  },
  {
   "cell_type": "code",
   "execution_count": 281,
   "id": "956b7ae1-9e60-4048-b27c-1096f28de233",
   "metadata": {},
   "outputs": [],
   "source": [
    "geodata = (geodata\n",
    "           .to_crs(epsg=3879)\n",
    "          )"
   ]
  },
  {
   "cell_type": "code",
   "execution_count": 282,
   "id": "5bbbe29f-30da-4bde-8c61-57b25c411ca3",
   "metadata": {},
   "outputs": [],
   "source": [
    "geodata.to_file(DATA_PATH / \"shopping_centers.shp\")"
   ]
  },
  {
   "cell_type": "markdown",
   "id": "0d3c9e03-387f-492c-b37b-72a8db1876a1",
   "metadata": {},
   "source": [
    "### 2"
   ]
  },
  {
   "cell_type": "code",
   "execution_count": 283,
   "id": "00b6058e-1a3a-4878-abef-906799172ea3",
   "metadata": {},
   "outputs": [],
   "source": [
    "geodata = (geodata\n",
    "           .assign(\n",
    "               buffer=lambda x:x.buffer(\n",
    "                   distance=1500\n",
    "               )\n",
    "           )\n",
    "          )"
   ]
  },
  {
   "cell_type": "code",
   "execution_count": 284,
   "id": "7fc4c926-f97b-4e78-9770-4a9824d7e0b4",
   "metadata": {},
   "outputs": [
    {
     "data": {
      "text/html": [
       "<div>\n",
       "<style scoped>\n",
       "    .dataframe tbody tr th:only-of-type {\n",
       "        vertical-align: middle;\n",
       "    }\n",
       "\n",
       "    .dataframe tbody tr th {\n",
       "        vertical-align: top;\n",
       "    }\n",
       "\n",
       "    .dataframe thead th {\n",
       "        text-align: right;\n",
       "    }\n",
       "</style>\n",
       "<table border=\"1\" class=\"dataframe\">\n",
       "  <thead>\n",
       "    <tr style=\"text-align: right;\">\n",
       "      <th></th>\n",
       "      <th>id</th>\n",
       "      <th>name</th>\n",
       "      <th>addr</th>\n",
       "      <th>geometry</th>\n",
       "      <th>buffer</th>\n",
       "    </tr>\n",
       "  </thead>\n",
       "  <tbody>\n",
       "    <tr>\n",
       "      <th>0</th>\n",
       "      <td>1001</td>\n",
       "      <td>Itis</td>\n",
       "      <td>Itäkatu 1, 00930 Helsinki, Finland</td>\n",
       "      <td>POINT (25504598.602 6677662.109)</td>\n",
       "      <td>POLYGON ((25506098.602 6677662.109, 25506091.3...</td>\n",
       "    </tr>\n",
       "    <tr>\n",
       "      <th>1</th>\n",
       "      <td>1002</td>\n",
       "      <td>Forum</td>\n",
       "      <td>Mannerheimintie 20, 00100 Helsinki, Finland</td>\n",
       "      <td>POINT (25496590.247 6672895.892)</td>\n",
       "      <td>POLYGON ((25498090.247 6672895.892, 25498083.0...</td>\n",
       "    </tr>\n",
       "    <tr>\n",
       "      <th>2</th>\n",
       "      <td>1003</td>\n",
       "      <td>Iso-omena</td>\n",
       "      <td>Piispansilta 11, 02230 Espoo, Finland</td>\n",
       "      <td>POINT (25485431.705 6672252.372)</td>\n",
       "      <td>POLYGON ((25486931.705 6672252.372, 25486924.4...</td>\n",
       "    </tr>\n",
       "    <tr>\n",
       "      <th>3</th>\n",
       "      <td>1004</td>\n",
       "      <td>Sello</td>\n",
       "      <td>Leppävaarankatu 3-9, 02600 Espoo, Finland</td>\n",
       "      <td>POINT (25489491.076 6678322.265)</td>\n",
       "      <td>POLYGON ((25490991.076 6678322.265, 25490983.8...</td>\n",
       "    </tr>\n",
       "    <tr>\n",
       "      <th>4</th>\n",
       "      <td>1005</td>\n",
       "      <td>Jumbo</td>\n",
       "      <td>Vantaanportinkatu 3, 01510 Vantaa, Finland</td>\n",
       "      <td>POINT (25497943.932 6686656.982)</td>\n",
       "      <td>POLYGON ((25499443.932 6686656.982, 25499436.7...</td>\n",
       "    </tr>\n",
       "  </tbody>\n",
       "</table>\n",
       "</div>"
      ],
      "text/plain": [
       "     id       name                                         addr  \\\n",
       "0  1001       Itis           Itäkatu 1, 00930 Helsinki, Finland   \n",
       "1  1002      Forum  Mannerheimintie 20, 00100 Helsinki, Finland   \n",
       "2  1003  Iso-omena        Piispansilta 11, 02230 Espoo, Finland   \n",
       "3  1004      Sello    Leppävaarankatu 3-9, 02600 Espoo, Finland   \n",
       "4  1005      Jumbo   Vantaanportinkatu 3, 01510 Vantaa, Finland   \n",
       "\n",
       "                           geometry  \\\n",
       "0  POINT (25504598.602 6677662.109)   \n",
       "1  POINT (25496590.247 6672895.892)   \n",
       "2  POINT (25485431.705 6672252.372)   \n",
       "3  POINT (25489491.076 6678322.265)   \n",
       "4  POINT (25497943.932 6686656.982)   \n",
       "\n",
       "                                              buffer  \n",
       "0  POLYGON ((25506098.602 6677662.109, 25506091.3...  \n",
       "1  POLYGON ((25498090.247 6672895.892, 25498083.0...  \n",
       "2  POLYGON ((25486931.705 6672252.372, 25486924.4...  \n",
       "3  POLYGON ((25490991.076 6678322.265, 25490983.8...  \n",
       "4  POLYGON ((25499443.932 6686656.982, 25499436.7...  "
      ]
     },
     "execution_count": 284,
     "metadata": {},
     "output_type": "execute_result"
    }
   ],
   "source": [
    "geodata.head()"
   ]
  },
  {
   "cell_type": "code",
   "execution_count": 286,
   "id": "3aea1774-6bb0-4f42-bcd6-abdcbf936982",
   "metadata": {},
   "outputs": [],
   "source": [
    "import contextily as cx"
   ]
  },
  {
   "cell_type": "code",
   "execution_count": 287,
   "id": "97267611-3724-41dd-9349-08123d0b9548",
   "metadata": {},
   "outputs": [
    {
     "data": {
      "image/png": "[encoded data removed]",
      "text/plain": [
       "<Figure size 504x504 with 1 Axes>"
      ]
     },
     "metadata": {
      "needs_background": "light"
     },
     "output_type": "display_data"
    }
   ],
   "source": [
    "_, ax = plt.subplots(figsize=(7, 7))\n",
    "geodata.plot(ax=ax)\n",
    "geodata[\"buffer\"].plot(ax=ax,\n",
    "                       facecolor=\"orange\",\n",
    "                       edgecolor=\"red\",\n",
    "                       alpha=0.5\n",
    "                      )\n",
    "cx.add_basemap(ax=ax,\n",
    "               source=cx.providers.CartoDB.PositronNoLabels,\n",
    "               crs=geodata.crs.to_string()\n",
    "              )"
   ]
  },
  {
   "cell_type": "code",
   "execution_count": 288,
   "id": "37be6f7e-f0d3-4af3-a8bd-c23581cb4a48",
   "metadata": {},
   "outputs": [
    {
     "data": {
      "text/html": [
       "<div>\n",
       "<style scoped>\n",
       "    .dataframe tbody tr th:only-of-type {\n",
       "        vertical-align: middle;\n",
       "    }\n",
       "\n",
       "    .dataframe tbody tr th {\n",
       "        vertical-align: top;\n",
       "    }\n",
       "\n",
       "    .dataframe thead th {\n",
       "        text-align: right;\n",
       "    }\n",
       "</style>\n",
       "<table border=\"1\" class=\"dataframe\">\n",
       "  <thead>\n",
       "    <tr style=\"text-align: right;\">\n",
       "      <th></th>\n",
       "      <th>id</th>\n",
       "      <th>name</th>\n",
       "      <th>addr</th>\n",
       "      <th>geometry</th>\n",
       "      <th>buffer</th>\n",
       "    </tr>\n",
       "  </thead>\n",
       "  <tbody>\n",
       "    <tr>\n",
       "      <th>0</th>\n",
       "      <td>1001</td>\n",
       "      <td>Itis</td>\n",
       "      <td>Itäkatu 1, 00930 Helsinki, Finland</td>\n",
       "      <td>POINT (25504598.602 6677662.109)</td>\n",
       "      <td>POLYGON ((25506098.602 6677662.109, 25506091.3...</td>\n",
       "    </tr>\n",
       "    <tr>\n",
       "      <th>1</th>\n",
       "      <td>1002</td>\n",
       "      <td>Forum</td>\n",
       "      <td>Mannerheimintie 20, 00100 Helsinki, Finland</td>\n",
       "      <td>POINT (25496590.247 6672895.892)</td>\n",
       "      <td>POLYGON ((25498090.247 6672895.892, 25498083.0...</td>\n",
       "    </tr>\n",
       "    <tr>\n",
       "      <th>2</th>\n",
       "      <td>1003</td>\n",
       "      <td>Iso-omena</td>\n",
       "      <td>Piispansilta 11, 02230 Espoo, Finland</td>\n",
       "      <td>POINT (25485431.705 6672252.372)</td>\n",
       "      <td>POLYGON ((25486931.705 6672252.372, 25486924.4...</td>\n",
       "    </tr>\n",
       "    <tr>\n",
       "      <th>3</th>\n",
       "      <td>1004</td>\n",
       "      <td>Sello</td>\n",
       "      <td>Leppävaarankatu 3-9, 02600 Espoo, Finland</td>\n",
       "      <td>POINT (25489491.076 6678322.265)</td>\n",
       "      <td>POLYGON ((25490991.076 6678322.265, 25490983.8...</td>\n",
       "    </tr>\n",
       "    <tr>\n",
       "      <th>4</th>\n",
       "      <td>1005</td>\n",
       "      <td>Jumbo</td>\n",
       "      <td>Vantaanportinkatu 3, 01510 Vantaa, Finland</td>\n",
       "      <td>POINT (25497943.932 6686656.982)</td>\n",
       "      <td>POLYGON ((25499443.932 6686656.982, 25499436.7...</td>\n",
       "    </tr>\n",
       "    <tr>\n",
       "      <th>5</th>\n",
       "      <td>1006</td>\n",
       "      <td>REDI</td>\n",
       "      <td>Hermannin rantatie 5, 00580 Helsinki, Finland</td>\n",
       "      <td>POINT (25498837.156 6674909.983)</td>\n",
       "      <td>POLYGON ((25500337.156 6674909.983, 25500329.9...</td>\n",
       "    </tr>\n",
       "    <tr>\n",
       "      <th>6</th>\n",
       "      <td>1007</td>\n",
       "      <td>Tripla</td>\n",
       "      <td>Fredikanterassi 1, 00520 Helsinki, Finland</td>\n",
       "      <td>POINT (25496193.557 6676208.169)</td>\n",
       "      <td>POLYGON ((25497693.557 6676208.169, 25497686.3...</td>\n",
       "    </tr>\n",
       "  </tbody>\n",
       "</table>\n",
       "</div>"
      ],
      "text/plain": [
       "     id       name                                           addr  \\\n",
       "0  1001       Itis             Itäkatu 1, 00930 Helsinki, Finland   \n",
       "1  1002      Forum    Mannerheimintie 20, 00100 Helsinki, Finland   \n",
       "2  1003  Iso-omena          Piispansilta 11, 02230 Espoo, Finland   \n",
       "3  1004      Sello      Leppävaarankatu 3-9, 02600 Espoo, Finland   \n",
       "4  1005      Jumbo     Vantaanportinkatu 3, 01510 Vantaa, Finland   \n",
       "5  1006       REDI  Hermannin rantatie 5, 00580 Helsinki, Finland   \n",
       "6  1007     Tripla     Fredikanterassi 1, 00520 Helsinki, Finland   \n",
       "\n",
       "                           geometry  \\\n",
       "0  POINT (25504598.602 6677662.109)   \n",
       "1  POINT (25496590.247 6672895.892)   \n",
       "2  POINT (25485431.705 6672252.372)   \n",
       "3  POINT (25489491.076 6678322.265)   \n",
       "4  POINT (25497943.932 6686656.982)   \n",
       "5  POINT (25498837.156 6674909.983)   \n",
       "6  POINT (25496193.557 6676208.169)   \n",
       "\n",
       "                                              buffer  \n",
       "0  POLYGON ((25506098.602 6677662.109, 25506091.3...  \n",
       "1  POLYGON ((25498090.247 6672895.892, 25498083.0...  \n",
       "2  POLYGON ((25486931.705 6672252.372, 25486924.4...  \n",
       "3  POLYGON ((25490991.076 6678322.265, 25490983.8...  \n",
       "4  POLYGON ((25499443.932 6686656.982, 25499436.7...  \n",
       "5  POLYGON ((25500337.156 6674909.983, 25500329.9...  \n",
       "6  POLYGON ((25497693.557 6676208.169, 25497686.3...  "
      ]
     },
     "execution_count": 288,
     "metadata": {},
     "output_type": "execute_result"
    }
   ],
   "source": [
    "geodata"
   ]
  },
  {
   "cell_type": "code",
   "execution_count": 289,
   "id": "9f002a9c-2d8e-4844-bdb8-a5ed03f50f6a",
   "metadata": {},
   "outputs": [],
   "source": [
    "geodata = (geodata\n",
    "           .drop([\"addr\", \"geometry\"], axis=1)\n",
    "           .rename(\n",
    "               columns={\"buffer\": \"geometry\"}\n",
    "           )\n",
    "          )"
   ]
  },
  {
   "cell_type": "markdown",
   "id": "795001cf-31e5-4c1a-aa05-9e8932236ce3",
   "metadata": {},
   "source": [
    "### 3"
   ]
  },
  {
   "cell_type": "code",
   "execution_count": 290,
   "id": "b0714a5c-831a-4bf1-bb89-5cd5cbdfdd5e",
   "metadata": {},
   "outputs": [
    {
     "data": {
      "text/plain": [
       "geopandas.geodataframe.GeoDataFrame"
      ]
     },
     "execution_count": 290,
     "metadata": {},
     "output_type": "execute_result"
    }
   ],
   "source": [
    "type(geodata)"
   ]
  },
  {
   "cell_type": "code",
   "execution_count": 296,
   "id": "70d8cf76-a30f-4443-9ae9-540fde826186",
   "metadata": {},
   "outputs": [],
   "source": [
    "url = \"https://kartta.hsy.fi/geoserver/wfs\"\n",
    "\n",
    "params = dict(service='WFS', \n",
    "              version='2.0.0', \n",
    "              request='GetFeature', \n",
    "              typeName='asuminen_ja_maankaytto:Vaestotietoruudukko_2018', \n",
    "              outputFormat='json')\n",
    "\n",
    "req = requests.get(url, params=params)\n",
    "pop = (gpd.GeoDataFrame.from_features(geojson.loads(req.content))\n",
    "       .rename(\n",
    "           columns={\"asukkaita\": \"population\"}\n",
    "       )\n",
    "       [[\"geometry\", \"population\"]]\n",
    "       .set_crs(epsg=3879)\n",
    "      )"
   ]
  },
  {
   "cell_type": "code",
   "execution_count": 297,
   "id": "7a7cce86-f111-4946-b3d0-65a49fdd6e96",
   "metadata": {},
   "outputs": [
    {
     "data": {
      "text/html": [
       "<div>\n",
       "<style scoped>\n",
       "    .dataframe tbody tr th:only-of-type {\n",
       "        vertical-align: middle;\n",
       "    }\n",
       "\n",
       "    .dataframe tbody tr th {\n",
       "        vertical-align: top;\n",
       "    }\n",
       "\n",
       "    .dataframe thead th {\n",
       "        text-align: right;\n",
       "    }\n",
       "</style>\n",
       "<table border=\"1\" class=\"dataframe\">\n",
       "  <thead>\n",
       "    <tr style=\"text-align: right;\">\n",
       "      <th></th>\n",
       "      <th>id</th>\n",
       "      <th>name</th>\n",
       "      <th>geometry</th>\n",
       "    </tr>\n",
       "  </thead>\n",
       "  <tbody>\n",
       "    <tr>\n",
       "      <th>0</th>\n",
       "      <td>1001</td>\n",
       "      <td>Itis</td>\n",
       "      <td>POLYGON ((25506098.602 6677662.109, 25506091.3...</td>\n",
       "    </tr>\n",
       "    <tr>\n",
       "      <th>1</th>\n",
       "      <td>1002</td>\n",
       "      <td>Forum</td>\n",
       "      <td>POLYGON ((25498090.247 6672895.892, 25498083.0...</td>\n",
       "    </tr>\n",
       "    <tr>\n",
       "      <th>2</th>\n",
       "      <td>1003</td>\n",
       "      <td>Iso-omena</td>\n",
       "      <td>POLYGON ((25486931.705 6672252.372, 25486924.4...</td>\n",
       "    </tr>\n",
       "    <tr>\n",
       "      <th>3</th>\n",
       "      <td>1004</td>\n",
       "      <td>Sello</td>\n",
       "      <td>POLYGON ((25490991.076 6678322.265, 25490983.8...</td>\n",
       "    </tr>\n",
       "    <tr>\n",
       "      <th>4</th>\n",
       "      <td>1005</td>\n",
       "      <td>Jumbo</td>\n",
       "      <td>POLYGON ((25499443.932 6686656.982, 25499436.7...</td>\n",
       "    </tr>\n",
       "    <tr>\n",
       "      <th>5</th>\n",
       "      <td>1006</td>\n",
       "      <td>REDI</td>\n",
       "      <td>POLYGON ((25500337.156 6674909.983, 25500329.9...</td>\n",
       "    </tr>\n",
       "    <tr>\n",
       "      <th>6</th>\n",
       "      <td>1007</td>\n",
       "      <td>Tripla</td>\n",
       "      <td>POLYGON ((25497693.557 6676208.169, 25497686.3...</td>\n",
       "    </tr>\n",
       "  </tbody>\n",
       "</table>\n",
       "</div>"
      ],
      "text/plain": [
       "     id       name                                           geometry\n",
       "0  1001       Itis  POLYGON ((25506098.602 6677662.109, 25506091.3...\n",
       "1  1002      Forum  POLYGON ((25498090.247 6672895.892, 25498083.0...\n",
       "2  1003  Iso-omena  POLYGON ((25486931.705 6672252.372, 25486924.4...\n",
       "3  1004      Sello  POLYGON ((25490991.076 6678322.265, 25490983.8...\n",
       "4  1005      Jumbo  POLYGON ((25499443.932 6686656.982, 25499436.7...\n",
       "5  1006       REDI  POLYGON ((25500337.156 6674909.983, 25500329.9...\n",
       "6  1007     Tripla  POLYGON ((25497693.557 6676208.169, 25497686.3..."
      ]
     },
     "execution_count": 297,
     "metadata": {},
     "output_type": "execute_result"
    }
   ],
   "source": [
    "geodata"
   ]
  },
  {
   "cell_type": "code",
   "execution_count": 298,
   "id": "7d87437d-17e7-48f1-b213-589640a0c89f",
   "metadata": {},
   "outputs": [
    {
     "data": {
      "text/html": [
       "<div>\n",
       "<style scoped>\n",
       "    .dataframe tbody tr th:only-of-type {\n",
       "        vertical-align: middle;\n",
       "    }\n",
       "\n",
       "    .dataframe tbody tr th {\n",
       "        vertical-align: top;\n",
       "    }\n",
       "\n",
       "    .dataframe thead th {\n",
       "        text-align: right;\n",
       "    }\n",
       "</style>\n",
       "<table border=\"1\" class=\"dataframe\">\n",
       "  <thead>\n",
       "    <tr style=\"text-align: right;\">\n",
       "      <th></th>\n",
       "      <th>geometry</th>\n",
       "      <th>population</th>\n",
       "    </tr>\n",
       "  </thead>\n",
       "  <tbody>\n",
       "    <tr>\n",
       "      <th>0</th>\n",
       "      <td>POLYGON ((25472499.995 6689749.005, 25472499.9...</td>\n",
       "      <td>9</td>\n",
       "    </tr>\n",
       "    <tr>\n",
       "      <th>1</th>\n",
       "      <td>POLYGON ((25472499.995 6685998.998, 25472499.9...</td>\n",
       "      <td>5</td>\n",
       "    </tr>\n",
       "    <tr>\n",
       "      <th>2</th>\n",
       "      <td>POLYGON ((25472499.995 6684249.004, 25472499.9...</td>\n",
       "      <td>8</td>\n",
       "    </tr>\n",
       "    <tr>\n",
       "      <th>3</th>\n",
       "      <td>POLYGON ((25472499.995 6683999.005, 25472499.9...</td>\n",
       "      <td>5</td>\n",
       "    </tr>\n",
       "    <tr>\n",
       "      <th>4</th>\n",
       "      <td>POLYGON ((25472499.995 6682998.998, 25472499.9...</td>\n",
       "      <td>11</td>\n",
       "    </tr>\n",
       "  </tbody>\n",
       "</table>\n",
       "</div>"
      ],
      "text/plain": [
       "                                            geometry  population\n",
       "0  POLYGON ((25472499.995 6689749.005, 25472499.9...           9\n",
       "1  POLYGON ((25472499.995 6685998.998, 25472499.9...           5\n",
       "2  POLYGON ((25472499.995 6684249.004, 25472499.9...           8\n",
       "3  POLYGON ((25472499.995 6683999.005, 25472499.9...           5\n",
       "4  POLYGON ((25472499.995 6682998.998, 25472499.9...          11"
      ]
     },
     "execution_count": 298,
     "metadata": {},
     "output_type": "execute_result"
    }
   ],
   "source": [
    "pop.head()"
   ]
  },
  {
   "cell_type": "code",
   "execution_count": 299,
   "id": "e91d7c9a-dcdd-4563-a6e2-e8baa8d0d707",
   "metadata": {},
   "outputs": [
    {
     "data": {
      "text/plain": [
       "<Derived Projected CRS: EPSG:3879>\n",
       "Name: ETRS89 / GK25FIN\n",
       "Axis Info [cartesian]:\n",
       "- N[north]: Northing (metre)\n",
       "- E[east]: Easting (metre)\n",
       "Area of Use:\n",
       "- name: Finland - nominally onshore between 24°30'E and 25°30'E but may be used in adjacent areas if a municipality chooses to use one zone over its whole extent.\n",
       "- bounds: (24.5, 59.94, 25.5, 68.9)\n",
       "Coordinate Operation:\n",
       "- name: Finland Gauss-Kruger zone 25\n",
       "- method: Transverse Mercator\n",
       "Datum: European Terrestrial Reference System 1989 ensemble\n",
       "- Ellipsoid: GRS 1980\n",
       "- Prime Meridian: Greenwich"
      ]
     },
     "execution_count": 299,
     "metadata": {},
     "output_type": "execute_result"
    }
   ],
   "source": [
    "pop.crs"
   ]
  },
  {
   "cell_type": "code",
   "execution_count": 313,
   "id": "74bb0bda-7819-4bf3-9062-73d467c968ac",
   "metadata": {},
   "outputs": [],
   "source": [
    "malls_pop = gpd.sjoin(geodata, pop, how=\"inner\", predicate=\"contains\")"
   ]
  },
  {
   "cell_type": "code",
   "execution_count": 306,
   "id": "eb3c2d2f-663c-428b-9c85-1ea9db1214f5",
   "metadata": {},
   "outputs": [
    {
     "data": {
      "text/html": [
       "<div>\n",
       "<style scoped>\n",
       "    .dataframe tbody tr th:only-of-type {\n",
       "        vertical-align: middle;\n",
       "    }\n",
       "\n",
       "    .dataframe tbody tr th {\n",
       "        vertical-align: top;\n",
       "    }\n",
       "\n",
       "    .dataframe thead th {\n",
       "        text-align: right;\n",
       "    }\n",
       "</style>\n",
       "<table border=\"1\" class=\"dataframe\">\n",
       "  <thead>\n",
       "    <tr style=\"text-align: right;\">\n",
       "      <th></th>\n",
       "      <th>id</th>\n",
       "      <th>name</th>\n",
       "      <th>geometry</th>\n",
       "      <th>index_right</th>\n",
       "      <th>population</th>\n",
       "    </tr>\n",
       "  </thead>\n",
       "  <tbody>\n",
       "    <tr>\n",
       "      <th>0</th>\n",
       "      <td>1001</td>\n",
       "      <td>Itis</td>\n",
       "      <td>POLYGON ((25506098.602 6677662.109, 25506091.3...</td>\n",
       "      <td>5230</td>\n",
       "      <td>59</td>\n",
       "    </tr>\n",
       "    <tr>\n",
       "      <th>0</th>\n",
       "      <td>1001</td>\n",
       "      <td>Itis</td>\n",
       "      <td>POLYGON ((25506098.602 6677662.109, 25506091.3...</td>\n",
       "      <td>5169</td>\n",
       "      <td>147</td>\n",
       "    </tr>\n",
       "    <tr>\n",
       "      <th>0</th>\n",
       "      <td>1001</td>\n",
       "      <td>Itis</td>\n",
       "      <td>POLYGON ((25506098.602 6677662.109, 25506091.3...</td>\n",
       "      <td>5229</td>\n",
       "      <td>31</td>\n",
       "    </tr>\n",
       "    <tr>\n",
       "      <th>0</th>\n",
       "      <td>1001</td>\n",
       "      <td>Itis</td>\n",
       "      <td>POLYGON ((25506098.602 6677662.109, 25506091.3...</td>\n",
       "      <td>5168</td>\n",
       "      <td>186</td>\n",
       "    </tr>\n",
       "    <tr>\n",
       "      <th>0</th>\n",
       "      <td>1001</td>\n",
       "      <td>Itis</td>\n",
       "      <td>POLYGON ((25506098.602 6677662.109, 25506091.3...</td>\n",
       "      <td>5228</td>\n",
       "      <td>82</td>\n",
       "    </tr>\n",
       "  </tbody>\n",
       "</table>\n",
       "</div>"
      ],
      "text/plain": [
       "     id  name                                           geometry  index_right  \\\n",
       "0  1001  Itis  POLYGON ((25506098.602 6677662.109, 25506091.3...         5230   \n",
       "0  1001  Itis  POLYGON ((25506098.602 6677662.109, 25506091.3...         5169   \n",
       "0  1001  Itis  POLYGON ((25506098.602 6677662.109, 25506091.3...         5229   \n",
       "0  1001  Itis  POLYGON ((25506098.602 6677662.109, 25506091.3...         5168   \n",
       "0  1001  Itis  POLYGON ((25506098.602 6677662.109, 25506091.3...         5228   \n",
       "\n",
       "   population  \n",
       "0          59  \n",
       "0         147  \n",
       "0          31  \n",
       "0         186  \n",
       "0          82  "
      ]
     },
     "execution_count": 306,
     "metadata": {},
     "output_type": "execute_result"
    }
   ],
   "source": [
    "malls_pop.head()"
   ]
  },
  {
   "cell_type": "code",
   "execution_count": 314,
   "id": "9f367119-37c6-45e2-9fb7-34def969aea1",
   "metadata": {},
   "outputs": [
    {
     "data": {
      "text/html": [
       "<div>\n",
       "<style scoped>\n",
       "    .dataframe tbody tr th:only-of-type {\n",
       "        vertical-align: middle;\n",
       "    }\n",
       "\n",
       "    .dataframe tbody tr th {\n",
       "        vertical-align: top;\n",
       "    }\n",
       "\n",
       "    .dataframe thead th {\n",
       "        text-align: right;\n",
       "    }\n",
       "</style>\n",
       "<table border=\"1\" class=\"dataframe\">\n",
       "  <thead>\n",
       "    <tr style=\"text-align: right;\">\n",
       "      <th></th>\n",
       "      <th>pop_coverage</th>\n",
       "    </tr>\n",
       "    <tr>\n",
       "      <th>name</th>\n",
       "      <th></th>\n",
       "    </tr>\n",
       "  </thead>\n",
       "  <tbody>\n",
       "    <tr>\n",
       "      <th>Jumbo</th>\n",
       "      <td>10569</td>\n",
       "    </tr>\n",
       "    <tr>\n",
       "      <th>Sello</th>\n",
       "      <td>20965</td>\n",
       "    </tr>\n",
       "    <tr>\n",
       "      <th>Itis</th>\n",
       "      <td>21008</td>\n",
       "    </tr>\n",
       "    <tr>\n",
       "      <th>Tripla</th>\n",
       "      <td>21569</td>\n",
       "    </tr>\n",
       "    <tr>\n",
       "      <th>REDI</th>\n",
       "      <td>24913</td>\n",
       "    </tr>\n",
       "    <tr>\n",
       "      <th>Iso-omena</th>\n",
       "      <td>27301</td>\n",
       "    </tr>\n",
       "    <tr>\n",
       "      <th>Forum</th>\n",
       "      <td>56322</td>\n",
       "    </tr>\n",
       "  </tbody>\n",
       "</table>\n",
       "</div>"
      ],
      "text/plain": [
       "           pop_coverage\n",
       "name                   \n",
       "Jumbo             10569\n",
       "Sello             20965\n",
       "Itis              21008\n",
       "Tripla            21569\n",
       "REDI              24913\n",
       "Iso-omena         27301\n",
       "Forum             56322"
      ]
     },
     "execution_count": 314,
     "metadata": {},
     "output_type": "execute_result"
    }
   ],
   "source": [
    "(malls_pop\n",
    " .groupby(\n",
    "     by=[\"name\"]\n",
    " )\n",
    " .agg(\n",
    "     pop_coverage=(\"population\", sum)\n",
    " )\n",
    " .sort_values(\n",
    "     by=[\"pop_coverage\"]\n",
    " )\n",
    ")"
   ]
  },
  {
   "cell_type": "markdown",
   "id": "00d0f727-37f8-41cf-872a-bec022e002d9",
   "metadata": {},
   "source": [
    "### 4"
   ]
  },
  {
   "cell_type": "code",
   "execution_count": 315,
   "id": "7006ae5f-615a-463c-95bf-b0b68a88fb78",
   "metadata": {},
   "outputs": [],
   "source": [
    "locs = pd.read_csv(DATA_PATH / \"activity_locations.txt\", sep=\";\")"
   ]
  },
  {
   "cell_type": "code",
   "execution_count": 317,
   "id": "79ddc728-cb86-4c79-aa96-2a50d913cfbd",
   "metadata": {},
   "outputs": [
    {
     "data": {
      "text/html": [
       "<div>\n",
       "<style scoped>\n",
       "    .dataframe tbody tr th:only-of-type {\n",
       "        vertical-align: middle;\n",
       "    }\n",
       "\n",
       "    .dataframe tbody tr th {\n",
       "        vertical-align: top;\n",
       "    }\n",
       "\n",
       "    .dataframe thead th {\n",
       "        text-align: right;\n",
       "    }\n",
       "</style>\n",
       "<table border=\"1\" class=\"dataframe\">\n",
       "  <thead>\n",
       "    <tr style=\"text-align: right;\">\n",
       "      <th></th>\n",
       "      <th>id</th>\n",
       "      <th>addr</th>\n",
       "    </tr>\n",
       "  </thead>\n",
       "  <tbody>\n",
       "    <tr>\n",
       "      <th>0</th>\n",
       "      <td>1001</td>\n",
       "      <td>Klausstrasse, 20, 22765 Hamburg, Germany</td>\n",
       "    </tr>\n",
       "    <tr>\n",
       "      <th>1</th>\n",
       "      <td>1002</td>\n",
       "      <td>Via Nazionale, 7, 23038 Valdidentro, Italy</td>\n",
       "    </tr>\n",
       "  </tbody>\n",
       "</table>\n",
       "</div>"
      ],
      "text/plain": [
       "     id                                        addr\n",
       "0  1001    Klausstrasse, 20, 22765 Hamburg, Germany\n",
       "1  1002  Via Nazionale, 7, 23038 Valdidentro, Italy"
      ]
     },
     "execution_count": 317,
     "metadata": {},
     "output_type": "execute_result"
    }
   ],
   "source": [
    "locs"
   ]
  },
  {
   "cell_type": "code",
   "execution_count": 323,
   "id": "1d2efc24-0256-4b23-9c8a-a60148a702c9",
   "metadata": {},
   "outputs": [],
   "source": [
    "geo_locs = gpd.GeoDataFrame(\n",
    "    data=locs,\n",
    "    geometry=gpd.tools.geocode(\n",
    "        locs[\"addr\"],\n",
    "        provider=\"nominatim\",\n",
    "        user_agent=\"locs\",\n",
    "        timeout=4\n",
    "    )[\"geometry\"]\n",
    ")"
   ]
  },
  {
   "cell_type": "code",
   "execution_count": 319,
   "id": "418ec656-7a38-4b12-b17b-7f25697df75c",
   "metadata": {},
   "outputs": [
    {
     "data": {
      "text/html": [
       "<div>\n",
       "<style scoped>\n",
       "    .dataframe tbody tr th:only-of-type {\n",
       "        vertical-align: middle;\n",
       "    }\n",
       "\n",
       "    .dataframe tbody tr th {\n",
       "        vertical-align: top;\n",
       "    }\n",
       "\n",
       "    .dataframe thead th {\n",
       "        text-align: right;\n",
       "    }\n",
       "</style>\n",
       "<table border=\"1\" class=\"dataframe\">\n",
       "  <thead>\n",
       "    <tr style=\"text-align: right;\">\n",
       "      <th></th>\n",
       "      <th>id</th>\n",
       "      <th>addr</th>\n",
       "      <th>geometry</th>\n",
       "    </tr>\n",
       "  </thead>\n",
       "  <tbody>\n",
       "    <tr>\n",
       "      <th>0</th>\n",
       "      <td>1001</td>\n",
       "      <td>Klausstrasse, 20, 22765 Hamburg, Germany</td>\n",
       "      <td>POINT (9.93174 53.55008)</td>\n",
       "    </tr>\n",
       "    <tr>\n",
       "      <th>1</th>\n",
       "      <td>1002</td>\n",
       "      <td>Via Nazionale, 7, 23038 Valdidentro, Italy</td>\n",
       "      <td>POINT (10.29617 46.48862)</td>\n",
       "    </tr>\n",
       "  </tbody>\n",
       "</table>\n",
       "</div>"
      ],
      "text/plain": [
       "     id                                        addr                   geometry\n",
       "0  1001    Klausstrasse, 20, 22765 Hamburg, Germany   POINT (9.93174 53.55008)\n",
       "1  1002  Via Nazionale, 7, 23038 Valdidentro, Italy  POINT (10.29617 46.48862)"
      ]
     },
     "execution_count": 319,
     "metadata": {},
     "output_type": "execute_result"
    }
   ],
   "source": [
    "geo_loc"
   ]
  },
  {
   "cell_type": "code",
   "execution_count": 320,
   "id": "99c004f6-2afc-4d81-9b56-ddf8fe0ec3ee",
   "metadata": {},
   "outputs": [],
   "source": [
    "malls = pd.read_csv(DATA_PATH / \"shopping_centers.txt\", sep=\";\")"
   ]
  },
  {
   "cell_type": "code",
   "execution_count": 321,
   "id": "177fba8d-9cc7-4174-a3b1-93b723ab1eab",
   "metadata": {},
   "outputs": [],
   "source": [
    "geo_malls = gpd.GeoDataFrame(\n",
    "    data=malls,\n",
    "    geometry=gpd.tools.geocode(\n",
    "        malls[\"addr\"],\n",
    "        provider=\"nominatim\",\n",
    "        user_agent=\"malls\",\n",
    "        timeout=4\n",
    "    )[\"geometry\"]\n",
    ")"
   ]
  },
  {
   "cell_type": "code",
   "execution_count": 322,
   "id": "ddc3ccf9-ad19-4412-bd27-5b51837def5b",
   "metadata": {},
   "outputs": [
    {
     "data": {
      "text/html": [
       "<div>\n",
       "<style scoped>\n",
       "    .dataframe tbody tr th:only-of-type {\n",
       "        vertical-align: middle;\n",
       "    }\n",
       "\n",
       "    .dataframe tbody tr th {\n",
       "        vertical-align: top;\n",
       "    }\n",
       "\n",
       "    .dataframe thead th {\n",
       "        text-align: right;\n",
       "    }\n",
       "</style>\n",
       "<table border=\"1\" class=\"dataframe\">\n",
       "  <thead>\n",
       "    <tr style=\"text-align: right;\">\n",
       "      <th></th>\n",
       "      <th>id</th>\n",
       "      <th>name</th>\n",
       "      <th>addr</th>\n",
       "      <th>geometry</th>\n",
       "    </tr>\n",
       "  </thead>\n",
       "  <tbody>\n",
       "    <tr>\n",
       "      <th>0</th>\n",
       "      <td>1001</td>\n",
       "      <td>Itis</td>\n",
       "      <td>Itäkatu 1, 00930 Helsinki, Finland</td>\n",
       "      <td>POINT (25.08294 60.21170)</td>\n",
       "    </tr>\n",
       "    <tr>\n",
       "      <th>1</th>\n",
       "      <td>1002</td>\n",
       "      <td>Forum</td>\n",
       "      <td>Mannerheimintie 20, 00100 Helsinki, Finland</td>\n",
       "      <td>POINT (24.93858 60.16893)</td>\n",
       "    </tr>\n",
       "    <tr>\n",
       "      <th>2</th>\n",
       "      <td>1003</td>\n",
       "      <td>Iso-omena</td>\n",
       "      <td>Piispansilta 11, 02230 Espoo, Finland</td>\n",
       "      <td>POINT (24.73763 60.16291)</td>\n",
       "    </tr>\n",
       "    <tr>\n",
       "      <th>3</th>\n",
       "      <td>1004</td>\n",
       "      <td>Sello</td>\n",
       "      <td>Leppävaarankatu 3-9, 02600 Espoo, Finland</td>\n",
       "      <td>POINT (24.81042 60.21752)</td>\n",
       "    </tr>\n",
       "    <tr>\n",
       "      <th>4</th>\n",
       "      <td>1005</td>\n",
       "      <td>Jumbo</td>\n",
       "      <td>Vantaanportinkatu 3, 01510 Vantaa, Finland</td>\n",
       "      <td>POINT (24.96282 60.29245)</td>\n",
       "    </tr>\n",
       "    <tr>\n",
       "      <th>5</th>\n",
       "      <td>1006</td>\n",
       "      <td>REDI</td>\n",
       "      <td>Hermannin rantatie 5, 00580 Helsinki, Finland</td>\n",
       "      <td>POINT (24.97904 60.18702)</td>\n",
       "    </tr>\n",
       "    <tr>\n",
       "      <th>6</th>\n",
       "      <td>1007</td>\n",
       "      <td>Tripla</td>\n",
       "      <td>Fredikanterassi 1, 00520 Helsinki, Finland</td>\n",
       "      <td>POINT (24.93137 60.19866)</td>\n",
       "    </tr>\n",
       "  </tbody>\n",
       "</table>\n",
       "</div>"
      ],
      "text/plain": [
       "     id       name                                           addr  \\\n",
       "0  1001       Itis             Itäkatu 1, 00930 Helsinki, Finland   \n",
       "1  1002      Forum    Mannerheimintie 20, 00100 Helsinki, Finland   \n",
       "2  1003  Iso-omena          Piispansilta 11, 02230 Espoo, Finland   \n",
       "3  1004      Sello      Leppävaarankatu 3-9, 02600 Espoo, Finland   \n",
       "4  1005      Jumbo     Vantaanportinkatu 3, 01510 Vantaa, Finland   \n",
       "5  1006       REDI  Hermannin rantatie 5, 00580 Helsinki, Finland   \n",
       "6  1007     Tripla     Fredikanterassi 1, 00520 Helsinki, Finland   \n",
       "\n",
       "                    geometry  \n",
       "0  POINT (25.08294 60.21170)  \n",
       "1  POINT (24.93858 60.16893)  \n",
       "2  POINT (24.73763 60.16291)  \n",
       "3  POINT (24.81042 60.21752)  \n",
       "4  POINT (24.96282 60.29245)  \n",
       "5  POINT (24.97904 60.18702)  \n",
       "6  POINT (24.93137 60.19866)  "
      ]
     },
     "execution_count": 322,
     "metadata": {},
     "output_type": "execute_result"
    }
   ],
   "source": [
    "geo_malls"
   ]
  },
  {
   "cell_type": "code",
   "execution_count": 343,
   "id": "321950a3-2d10-4ed2-90b4-be92ada99892",
   "metadata": {},
   "outputs": [],
   "source": [
    "malls_array = geo_malls[\"geometry\"].unary_union\n",
    "locs_array = geo_locs[\"geometry\"]"
   ]
  },
  {
   "cell_type": "code",
   "execution_count": 341,
   "id": "73ae99e3-c998-4f28-a598-fbee06e7367d",
   "metadata": {},
   "outputs": [
    {
     "data": {
      "text/plain": [
       "'Klausstrasse, 20, 22765 Hamburg, Germany'"
      ]
     },
     "execution_count": 341,
     "metadata": {},
     "output_type": "execute_result"
    }
   ],
   "source": [
    "geo_locs.at[0, \"addr\"]"
   ]
  },
  {
   "cell_type": "code",
   "execution_count": 351,
   "id": "f0c3f338-8b1d-42d6-9b9b-689d2e119e96",
   "metadata": {},
   "outputs": [
    {
     "name": "stdout",
     "output_type": "stream",
     "text": [
      "Closest mall to Klausstrasse, 20, 22765 Hamburg, Germany is Iso-omena\n",
      "Closest mall to Via Nazionale, 7, 23038 Valdidentro, Italy is Iso-omena\n"
     ]
    }
   ],
   "source": [
    "for loc in locs_array:\n",
    "    start_addr = (geo_locs\n",
    "                  .loc[geo_locs[\"geometry\"]==loc]\n",
    "                  .reset_index()\n",
    "                  .at[0, \"addr\"]\n",
    "                 )\n",
    "    nearest_info = nearest_points(loc, malls_array)\n",
    "    nearest_mall_pt = nearest_info[1]\n",
    "    nearest_mall_name = (geo_malls\n",
    "                         .loc[geo_malls[\"geometry\"]==nearest_mall_pt]\n",
    "                         .reset_index()\n",
    "                         .at[0, \"name\"]\n",
    "                        )\n",
    "    print(f\"Closest mall to {start_addr} is {nearest_mall_name}\")"
   ]
  }
 ],
 "metadata": {
  "kernelspec": {
   "display_name": "Python (gis)",
   "language": "python",
   "name": "python-gis"
  },
  "language_info": {
   "codemirror_mode": {
    "name": "ipython",
    "version": 3
   },
   "file_extension": ".py",
   "mimetype": "text/x-python",
   "name": "python",
   "nbconvert_exporter": "python",
   "pygments_lexer": "ipython3",
   "version": "3.8.12"
  }
 },
 "nbformat": 4,
 "nbformat_minor": 5
}
