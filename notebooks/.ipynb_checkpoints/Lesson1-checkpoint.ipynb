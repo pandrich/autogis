{
 "cells": [
  {
   "cell_type": "markdown",
   "id": "e0163ca5-9028-4af8-bf7d-04c184a4a0c9",
   "metadata": {},
   "source": [
    "# Shapely and geometric objects\n",
    "\n",
    "## Imports"
   ]
  },
  {
   "cell_type": "code",
   "execution_count": 111,
   "id": "829e0427-918f-4ffd-979a-d739e2cd3662",
   "metadata": {},
   "outputs": [],
   "source": [
    "from typing import List\n",
    "import pandas as pd\n",
    "from shapely.geometry import Point, LineString, Polygon"
   ]
  },
  {
   "cell_type": "markdown",
   "id": "564f630e-0e8c-414e-9de5-433b5352f0bd",
   "metadata": {},
   "source": [
    "## Points"
   ]
  },
  {
   "cell_type": "code",
   "execution_count": 2,
   "id": "e6d77c4a-3375-4de6-8c76-26fbfa6ae721",
   "metadata": {},
   "outputs": [],
   "source": [
    "p1 = Point(2.2, 4.2)\n",
    "p2 = Point(7.2, -25.1)\n",
    "p3 = Point(9.26, -2.456)\n",
    "p3D = Point(9.26, -2.456, 0.57)"
   ]
  },
  {
   "cell_type": "code",
   "execution_count": 5,
   "id": "a171c909-9ba9-4b80-b004-fbd633bdeb1d",
   "metadata": {},
   "outputs": [
    {
     "data": {
      "image/svg+xml": [
       "<svg xmlns=\"http://www.w3.org/2000/svg\" xmlns:xlink=\"http://www.w3.org/1999/xlink\" width=\"100.0\" height=\"100.0\" viewBox=\"1.2000000000000002 3.2 2.0 2.0\" preserveAspectRatio=\"xMinYMin meet\"><g transform=\"matrix(1,0,0,-1,0,8.4)\"><circle cx=\"2.2\" cy=\"4.2\" r=\"0.06\" stroke=\"#555555\" stroke-width=\"0.02\" fill=\"#66cc99\" opacity=\"0.6\" /></g></svg>"
      ],
      "text/plain": [
       "<shapely.geometry.point.Point at 0x237ef4d1850>"
      ]
     },
     "execution_count": 5,
     "metadata": {},
     "output_type": "execute_result"
    }
   ],
   "source": [
    "p1"
   ]
  },
  {
   "cell_type": "code",
   "execution_count": 6,
   "id": "41fb9348-1e1c-4026-bd96-c5c222c8be57",
   "metadata": {},
   "outputs": [
    {
     "data": {
      "text/plain": [
       "'Point'"
      ]
     },
     "execution_count": 6,
     "metadata": {},
     "output_type": "execute_result"
    }
   ],
   "source": [
    "p1.geom_type"
   ]
  },
  {
   "cell_type": "code",
   "execution_count": 10,
   "id": "a1708e8f-ee75-40a9-95d9-0e06b89c46d0",
   "metadata": {},
   "outputs": [
    {
     "data": {
      "text/plain": [
       "[(2.2, 4.2)]"
      ]
     },
     "execution_count": 10,
     "metadata": {},
     "output_type": "execute_result"
    }
   ],
   "source": [
    "[c for c in p1.coords]"
   ]
  },
  {
   "cell_type": "code",
   "execution_count": 11,
   "id": "872b247f-c8e7-49a9-b418-1fd2ea1b2e5d",
   "metadata": {},
   "outputs": [
    {
     "data": {
      "text/plain": [
       "2.2"
      ]
     },
     "execution_count": 11,
     "metadata": {},
     "output_type": "execute_result"
    }
   ],
   "source": [
    "p1.x"
   ]
  },
  {
   "cell_type": "code",
   "execution_count": 13,
   "id": "db66a6fd-7b8d-4298-be2f-26943b845589",
   "metadata": {},
   "outputs": [
    {
     "name": "stdout",
     "output_type": "stream",
     "text": [
      "Distance between point 1 and point 2 is 29.72 units\n"
     ]
    }
   ],
   "source": [
    "# calculate distance\n",
    "\n",
    "dist = p1.distance(p2)\n",
    "print(f\"Distance between point 1 and point 2 is {dist:.2f} units\")"
   ]
  },
  {
   "cell_type": "markdown",
   "id": "3d2655ac-e563-425b-b940-d5d7ae55de00",
   "metadata": {},
   "source": [
    "## LineString"
   ]
  },
  {
   "cell_type": "code",
   "execution_count": 14,
   "id": "435d9ad7-b23f-42b6-ad10-d38e21701c5c",
   "metadata": {},
   "outputs": [],
   "source": [
    "# Line as list of Point objects\n",
    "l1 = LineString([p1, p2, p3])\n",
    "\n",
    "# Line as list of tuples\n",
    "l2 = LineString([(3.1, 5.6), (4.5, 20.4), (7.6, 2.2)])"
   ]
  },
  {
   "cell_type": "code",
   "execution_count": 16,
   "id": "d30c68bf-814b-4cd5-b711-43e2a9fb267b",
   "metadata": {},
   "outputs": [
    {
     "data": {
      "image/svg+xml": [
       "<svg xmlns=\"http://www.w3.org/2000/svg\" xmlns:xlink=\"http://www.w3.org/1999/xlink\" width=\"100.0\" height=\"100.0\" viewBox=\"2.372 1.4720000000000002 5.9559999999999995 19.656\" preserveAspectRatio=\"xMinYMin meet\"><g transform=\"matrix(1,0,0,-1,0,22.6)\"><polyline fill=\"none\" stroke=\"#66cc99\" stroke-width=\"0.39311999999999997\" points=\"3.1,5.6 4.5,20.4 7.6,2.2\" opacity=\"0.8\" /></g></svg>"
      ],
      "text/plain": [
       "<shapely.geometry.linestring.LineString at 0x237eea22370>"
      ]
     },
     "execution_count": 16,
     "metadata": {},
     "output_type": "execute_result"
    }
   ],
   "source": [
    "l2"
   ]
  },
  {
   "cell_type": "markdown",
   "id": "f87a1821-95d6-4396-ba19-d11d0afd3b97",
   "metadata": {},
   "source": [
    "### Extract coordinates"
   ]
  },
  {
   "cell_type": "code",
   "execution_count": 17,
   "id": "5ba274b1-5db3-41c2-8560-ab5f710909fd",
   "metadata": {},
   "outputs": [
    {
     "data": {
      "text/plain": [
       "[(3.1, 5.6), (4.5, 20.4), (7.6, 2.2)]"
      ]
     },
     "execution_count": 17,
     "metadata": {},
     "output_type": "execute_result"
    }
   ],
   "source": [
    "[c for c in l2.coords]"
   ]
  },
  {
   "cell_type": "code",
   "execution_count": 30,
   "id": "6e436866-3fba-47d8-acdc-3f8a5f9beac4",
   "metadata": {},
   "outputs": [],
   "source": [
    "# Separate x and y \n",
    "xcoords = list(l2.xy[0])\n",
    "ycoords = list(l2.xy[1])"
   ]
  },
  {
   "cell_type": "code",
   "execution_count": 31,
   "id": "b683e502-885a-4fdd-b87f-1f53627a0813",
   "metadata": {},
   "outputs": [
    {
     "data": {
      "text/plain": [
       "[3.1, 4.5, 7.6]"
      ]
     },
     "execution_count": 31,
     "metadata": {},
     "output_type": "execute_result"
    }
   ],
   "source": [
    "xcoords"
   ]
  },
  {
   "cell_type": "markdown",
   "id": "1a5d0690-c0a1-4058-b4ff-efe00cc94585",
   "metadata": {},
   "source": [
    "### Line attributes"
   ]
  },
  {
   "cell_type": "code",
   "execution_count": 34,
   "id": "825adb53-ab41-4056-90aa-dee6433da060",
   "metadata": {},
   "outputs": [
    {
     "name": "stdout",
     "output_type": "stream",
     "text": [
      "The length of line 2 is 33.33 units\n",
      "The centroid of line 2 is [(5.046385566145059, 12.058286461134843)]\n"
     ]
    }
   ],
   "source": [
    "# length\n",
    "l2_length = l2.length\n",
    "print(f\"The length of line 2 is {l2_length:.2f} units\")\n",
    "\n",
    "# centroid\n",
    "l2_centre = l2.centroid\n",
    "print(f\"The centroid of line 2 is {[c for c in l2_centre.coords]}\")"
   ]
  },
  {
   "cell_type": "markdown",
   "id": "4c71001c-fb16-4fec-ae97-a7eac56d4681",
   "metadata": {},
   "source": [
    "## Polygon"
   ]
  },
  {
   "cell_type": "code",
   "execution_count": 35,
   "id": "28cc30b5-55ed-42ed-9a5c-7370ea690055",
   "metadata": {},
   "outputs": [],
   "source": [
    "p1 = Polygon([(2.2, 3.5), (15, 2.3), (10.3, -20)])"
   ]
  },
  {
   "cell_type": "code",
   "execution_count": 36,
   "id": "ee54ab2c-b13d-40a8-8754-c25b7859b1cc",
   "metadata": {},
   "outputs": [
    {
     "data": {
      "image/svg+xml": [
       "<svg xmlns=\"http://www.w3.org/2000/svg\" xmlns:xlink=\"http://www.w3.org/1999/xlink\" width=\"100.0\" height=\"100.0\" viewBox=\"1.2600000000000002 -20.94 14.68 25.380000000000003\" preserveAspectRatio=\"xMinYMin meet\"><g transform=\"matrix(1,0,0,-1,0,-16.5)\"><path fill-rule=\"evenodd\" fill=\"#66cc99\" stroke=\"#555555\" stroke-width=\"0.5076\" opacity=\"0.6\" d=\"M 2.2,3.5 L 15.0,2.3 L 10.3,-20.0 L 2.2,3.5 z\" /></g></svg>"
      ],
      "text/plain": [
       "<shapely.geometry.polygon.Polygon at 0x237ef13ceb0>"
      ]
     },
     "execution_count": 36,
     "metadata": {},
     "output_type": "execute_result"
    }
   ],
   "source": [
    "p1"
   ]
  },
  {
   "cell_type": "code",
   "execution_count": 37,
   "id": "9810ca26-d5f3-48b2-bbed-67276a41a1aa",
   "metadata": {},
   "outputs": [],
   "source": [
    "p2 = Polygon([c for c in l2.coords])"
   ]
  },
  {
   "cell_type": "code",
   "execution_count": 38,
   "id": "45f787dc-de77-4561-8a66-fd4f0aaa979e",
   "metadata": {},
   "outputs": [
    {
     "data": {
      "image/svg+xml": [
       "<svg xmlns=\"http://www.w3.org/2000/svg\" xmlns:xlink=\"http://www.w3.org/1999/xlink\" width=\"100.0\" height=\"100.0\" viewBox=\"2.372 1.4720000000000002 5.9559999999999995 19.656\" preserveAspectRatio=\"xMinYMin meet\"><g transform=\"matrix(1,0,0,-1,0,22.6)\"><path fill-rule=\"evenodd\" fill=\"#66cc99\" stroke=\"#555555\" stroke-width=\"0.39311999999999997\" opacity=\"0.6\" d=\"M 3.1,5.6 L 4.5,20.4 L 7.6,2.2 L 3.1,5.6 z\" /></g></svg>"
      ],
      "text/plain": [
       "<shapely.geometry.polygon.Polygon at 0x237eea750d0>"
      ]
     },
     "execution_count": 38,
     "metadata": {},
     "output_type": "execute_result"
    }
   ],
   "source": [
    "p2"
   ]
  },
  {
   "cell_type": "code",
   "execution_count": 40,
   "id": "4408824b-7e21-4861-945a-0f57cbf694ce",
   "metadata": {},
   "outputs": [
    {
     "data": {
      "text/plain": [
       "\u001b[1;31mInit signature:\u001b[0m \u001b[0mPolygon\u001b[0m\u001b[1;33m(\u001b[0m\u001b[0mshell\u001b[0m\u001b[1;33m=\u001b[0m\u001b[1;32mNone\u001b[0m\u001b[1;33m,\u001b[0m \u001b[0mholes\u001b[0m\u001b[1;33m=\u001b[0m\u001b[1;32mNone\u001b[0m\u001b[1;33m)\u001b[0m\u001b[1;33m\u001b[0m\u001b[1;33m\u001b[0m\u001b[0m\n",
       "\u001b[1;31mDocstring:\u001b[0m     \n",
       "A two-dimensional figure bounded by a linear ring\n",
       "\n",
       "A polygon has a non-zero area. It may have one or more negative-space\n",
       "\"holes\" which are also bounded by linear rings. If any rings cross each\n",
       "other, the feature is invalid and operations on it may fail.\n",
       "\n",
       "Attributes\n",
       "----------\n",
       "exterior : LinearRing\n",
       "    The ring which bounds the positive space of the polygon.\n",
       "interiors : sequence\n",
       "    A sequence of rings which bound all existing holes.\n",
       "\u001b[1;31mInit docstring:\u001b[0m\n",
       "Parameters\n",
       "----------\n",
       "shell : sequence\n",
       "    A sequence of (x, y [,z]) numeric coordinate pairs or triples.\n",
       "    Also can be a sequence of Point objects.\n",
       "holes : sequence\n",
       "    A sequence of objects which satisfy the same requirements as the\n",
       "    shell parameters above\n",
       "\n",
       "Example\n",
       "-------\n",
       "Create a square polygon with no holes\n",
       "\n",
       "  >>> coords = ((0., 0.), (0., 1.), (1., 1.), (1., 0.), (0., 0.))\n",
       "  >>> polygon = Polygon(coords)\n",
       "  >>> polygon.area\n",
       "  1.0\n",
       "\u001b[1;31mFile:\u001b[0m           c:\\users\\andri\\anaconda3\\envs\\python-gis\\lib\\site-packages\\shapely\\geometry\\polygon.py\n",
       "\u001b[1;31mType:\u001b[0m           type\n",
       "\u001b[1;31mSubclasses:\u001b[0m     PolygonAdapter\n"
      ]
     },
     "metadata": {},
     "output_type": "display_data"
    }
   ],
   "source": [
    "Polygon?"
   ]
  },
  {
   "cell_type": "code",
   "execution_count": 56,
   "id": "f32b1d46-773f-4208-97ea-561c242255ff",
   "metadata": {},
   "outputs": [],
   "source": [
    "outer = [(2.2, 3.5), (15, 2.3), (10.3, -20)]\n",
    "holes = [[(4, 2), (8, -4), (10, -16)], [(7.1, 1.5), (12.3, 0), (10, -4.1)]]\n",
    "p3 = Polygon(shell=outer,\n",
    "             holes=holes\n",
    "            )"
   ]
  },
  {
   "cell_type": "code",
   "execution_count": 57,
   "id": "98ab63ac-0707-4020-ab9e-02dfc51b9e21",
   "metadata": {},
   "outputs": [
    {
     "data": {
      "image/svg+xml": [
       "<svg xmlns=\"http://www.w3.org/2000/svg\" xmlns:xlink=\"http://www.w3.org/1999/xlink\" width=\"100.0\" height=\"100.0\" viewBox=\"1.2600000000000002 -20.94 14.68 25.380000000000003\" preserveAspectRatio=\"xMinYMin meet\"><g transform=\"matrix(1,0,0,-1,0,-16.5)\"><path fill-rule=\"evenodd\" fill=\"#66cc99\" stroke=\"#555555\" stroke-width=\"0.5076\" opacity=\"0.6\" d=\"M 2.2,3.5 L 15.0,2.3 L 10.3,-20.0 L 2.2,3.5 z M 4.0,2.0 L 8.0,-4.0 L 10.0,-16.0 L 4.0,2.0 z M 7.1,1.5 L 12.3,0.0 L 10.0,-4.1 L 7.1,1.5 z\" /></g></svg>"
      ],
      "text/plain": [
       "<shapely.geometry.polygon.Polygon at 0x237ef13c9a0>"
      ]
     },
     "execution_count": 57,
     "metadata": {},
     "output_type": "execute_result"
    }
   ],
   "source": [
    "p3"
   ]
  },
  {
   "cell_type": "markdown",
   "id": "d148953d-7025-4fda-958e-b47a41a6f714",
   "metadata": {},
   "source": [
    "### Attributes"
   ]
  },
  {
   "cell_type": "code",
   "execution_count": 61,
   "id": "d547b31d-a0cc-40fb-9ccb-7f0fda0417e6",
   "metadata": {},
   "outputs": [
    {
     "name": "stdout",
     "output_type": "stream",
     "text": [
      "Centroid for polygon 1 is [(9.166666666666666, -4.7333333333333325)]\n",
      "Centroid for polygon 1 is [(9.385121502901885, -4.951202003097274)]\n"
     ]
    }
   ],
   "source": [
    "# centroid\n",
    "p1_centre = p1.centroid\n",
    "print(f\"Centroid for polygon 1 is {[c for c in p1_centre.coords]}\")\n",
    "p3_centre = p3.centroid\n",
    "print(f\"Centroid for polygon 1 is {[c for c in p3_centre.coords]}\")"
   ]
  },
  {
   "cell_type": "code",
   "execution_count": 62,
   "id": "7efcf33c-70f7-4620-9c80-ab09f9d5d156",
   "metadata": {},
   "outputs": [
    {
     "name": "stdout",
     "output_type": "stream",
     "text": [
      "Area for polygon 1 is 145.54\n",
      "Area for polygon 1 is 115.15499999999999\n"
     ]
    }
   ],
   "source": [
    "# area\n",
    "p1_area = p1.area\n",
    "print(f\"Area for polygon 1 is {p1_area}\")\n",
    "p3_area = p3.area\n",
    "print(f\"Area for polygon 1 is {p3_area}\")"
   ]
  },
  {
   "cell_type": "code",
   "execution_count": 63,
   "id": "bf418a6c-f7b3-4ccd-ba51-f57d1cf1cbd2",
   "metadata": {},
   "outputs": [
    {
     "name": "stdout",
     "output_type": "stream",
     "text": [
      "Bounding box for polygon 1 is (2.2, -20.0, 15.0, 3.5)\n",
      "Bounding box for polygon 2 is (3.1, 2.2, 7.6, 20.4)\n"
     ]
    }
   ],
   "source": [
    "# bounds\n",
    "p1_bounds = p1.bounds\n",
    "print(f\"Bounding box for polygon 1 is {p1_bounds}\")\n",
    "p2_bounds = p2.bounds\n",
    "print(f\"Bounding box for polygon 2 is {p2_bounds}\")"
   ]
  },
  {
   "cell_type": "code",
   "execution_count": 65,
   "id": "0ecf5fc7-757d-4537-b947-ed74e6bd97ad",
   "metadata": {},
   "outputs": [
    {
     "name": "stdout",
     "output_type": "stream",
     "text": [
      "Polygon 1 exterior: LINEARRING (2.2 3.5, 15 2.3, 10.3 -20, 2.2 3.5)\n",
      "Polygon 1 exterior length: 60.50282680894877\n"
     ]
    }
   ],
   "source": [
    "# Exterior\n",
    "p1_ext = p1.exterior\n",
    "print(f\"Polygon 1 exterior: {p1_ext}\")\n",
    "\n",
    "# Exterior length\n",
    "p1_extlen = p1.exterior.length\n",
    "print(f\"Polygon 1 exterior length: {p1_extlen}\")"
   ]
  },
  {
   "cell_type": "markdown",
   "id": "8394d1f0-ca6a-46e8-ad94-417b0fd6f998",
   "metadata": {},
   "source": [
    "## Exercises"
   ]
  },
  {
   "cell_type": "code",
   "execution_count": 79,
   "id": "0a345655-63a3-4c9c-a361-821e47c73682",
   "metadata": {},
   "outputs": [],
   "source": [
    "def sum_positive(num1, num2):\n",
    "    try:\n",
    "        out = float(num1) + float(num2)\n",
    "        return out\n",
    "    except ValueError: \n",
    "        print(\"Functions accepts only numbers as input\")\n",
    "    "
   ]
  },
  {
   "cell_type": "code",
   "execution_count": 80,
   "id": "f19e76d4-01ec-45fb-8407-fd8622f88bf7",
   "metadata": {},
   "outputs": [
    {
     "name": "stdout",
     "output_type": "stream",
     "text": [
      "Functions accepts only numbers as input\n"
     ]
    }
   ],
   "source": [
    "sum_positive(\"cat\", \"dog\")"
   ]
  },
  {
   "cell_type": "code",
   "execution_count": 81,
   "id": "7521656e-0005-412e-b621-f17ce592af51",
   "metadata": {},
   "outputs": [],
   "source": [
    "# Function to create Point geometry\n",
    "\n",
    "def create_point_geom(x_coord: float, y_coord:float) -> Point:\n",
    "    p = Point(x_coord, y_coord)\n",
    "    return p"
   ]
  },
  {
   "cell_type": "code",
   "execution_count": 82,
   "id": "72330f26-e713-4a4a-a4f7-4a89bccd89b0",
   "metadata": {},
   "outputs": [],
   "source": [
    "p1 = create_point_geom(0.0, 1.1)"
   ]
  },
  {
   "cell_type": "code",
   "execution_count": 83,
   "id": "2337d14c-2cdb-4d4b-af1e-fa68d35647d5",
   "metadata": {},
   "outputs": [
    {
     "data": {
      "image/svg+xml": [
       "<svg xmlns=\"http://www.w3.org/2000/svg\" xmlns:xlink=\"http://www.w3.org/1999/xlink\" width=\"100.0\" height=\"100.0\" viewBox=\"-1.0 0.10000000000000009 2.0 2.0\" preserveAspectRatio=\"xMinYMin meet\"><g transform=\"matrix(1,0,0,-1,0,2.2)\"><circle cx=\"0.0\" cy=\"1.1\" r=\"0.06\" stroke=\"#555555\" stroke-width=\"0.02\" fill=\"#66cc99\" opacity=\"0.6\" /></g></svg>"
      ],
      "text/plain": [
       "<shapely.geometry.point.Point at 0x237f2d06af0>"
      ]
     },
     "execution_count": 83,
     "metadata": {},
     "output_type": "execute_result"
    }
   ],
   "source": [
    "p1"
   ]
  },
  {
   "cell_type": "code",
   "execution_count": 84,
   "id": "0ee6bab8-c820-4736-942f-1092a65bba1f",
   "metadata": {},
   "outputs": [
    {
     "ename": "TypeError",
     "evalue": "must be real number, not str",
     "output_type": "error",
     "traceback": [
      "\u001b[1;31m---------------------------------------------------------------------------\u001b[0m",
      "\u001b[1;31mTypeError\u001b[0m                                 Traceback (most recent call last)",
      "\u001b[1;32m~\\AppData\\Local\\Temp/ipykernel_3876/3636226117.py\u001b[0m in \u001b[0;36m<module>\u001b[1;34m\u001b[0m\n\u001b[1;32m----> 1\u001b[1;33m \u001b[0mp2\u001b[0m \u001b[1;33m=\u001b[0m \u001b[0mcreate_point_geom\u001b[0m\u001b[1;33m(\u001b[0m\u001b[1;34m\"1\"\u001b[0m\u001b[1;33m,\u001b[0m \u001b[1;34m\"2\"\u001b[0m\u001b[1;33m)\u001b[0m\u001b[1;33m\u001b[0m\u001b[1;33m\u001b[0m\u001b[0m\n\u001b[0m",
      "\u001b[1;32m~\\AppData\\Local\\Temp/ipykernel_3876/4271716557.py\u001b[0m in \u001b[0;36mcreate_point_geom\u001b[1;34m(x_coord, y_coord)\u001b[0m\n\u001b[0;32m      2\u001b[0m \u001b[1;33m\u001b[0m\u001b[0m\n\u001b[0;32m      3\u001b[0m \u001b[1;32mdef\u001b[0m \u001b[0mcreate_point_geom\u001b[0m\u001b[1;33m(\u001b[0m\u001b[0mx_coord\u001b[0m\u001b[1;33m:\u001b[0m \u001b[0mfloat\u001b[0m\u001b[1;33m,\u001b[0m \u001b[0my_coord\u001b[0m\u001b[1;33m:\u001b[0m\u001b[0mfloat\u001b[0m\u001b[1;33m)\u001b[0m \u001b[1;33m->\u001b[0m \u001b[0mPoint\u001b[0m\u001b[1;33m:\u001b[0m\u001b[1;33m\u001b[0m\u001b[1;33m\u001b[0m\u001b[0m\n\u001b[1;32m----> 4\u001b[1;33m     \u001b[0mp\u001b[0m \u001b[1;33m=\u001b[0m \u001b[0mPoint\u001b[0m\u001b[1;33m(\u001b[0m\u001b[0mx_coord\u001b[0m\u001b[1;33m,\u001b[0m \u001b[0my_coord\u001b[0m\u001b[1;33m)\u001b[0m\u001b[1;33m\u001b[0m\u001b[1;33m\u001b[0m\u001b[0m\n\u001b[0m\u001b[0;32m      5\u001b[0m     \u001b[1;32mreturn\u001b[0m \u001b[0mp\u001b[0m\u001b[1;33m\u001b[0m\u001b[1;33m\u001b[0m\u001b[0m\n",
      "\u001b[1;32m~\\anaconda3\\envs\\python-gis\\lib\\site-packages\\shapely\\geometry\\point.py\u001b[0m in \u001b[0;36m__init__\u001b[1;34m(self, *args)\u001b[0m\n\u001b[0;32m     55\u001b[0m                 )\n\u001b[0;32m     56\u001b[0m             \u001b[1;32melse\u001b[0m\u001b[1;33m:\u001b[0m\u001b[1;33m\u001b[0m\u001b[1;33m\u001b[0m\u001b[0m\n\u001b[1;32m---> 57\u001b[1;33m                 \u001b[0mgeom\u001b[0m\u001b[1;33m,\u001b[0m \u001b[0mn\u001b[0m \u001b[1;33m=\u001b[0m \u001b[0mgeos_point_from_py\u001b[0m\u001b[1;33m(\u001b[0m\u001b[0mtuple\u001b[0m\u001b[1;33m(\u001b[0m\u001b[0margs\u001b[0m\u001b[1;33m)\u001b[0m\u001b[1;33m)\u001b[0m\u001b[1;33m\u001b[0m\u001b[1;33m\u001b[0m\u001b[0m\n\u001b[0m\u001b[0;32m     58\u001b[0m             \u001b[0mself\u001b[0m\u001b[1;33m.\u001b[0m\u001b[0m_set_geom\u001b[0m\u001b[1;33m(\u001b[0m\u001b[0mgeom\u001b[0m\u001b[1;33m)\u001b[0m\u001b[1;33m\u001b[0m\u001b[1;33m\u001b[0m\u001b[0m\n\u001b[0;32m     59\u001b[0m             \u001b[0mself\u001b[0m\u001b[1;33m.\u001b[0m\u001b[0m_ndim\u001b[0m \u001b[1;33m=\u001b[0m \u001b[0mn\u001b[0m\u001b[1;33m\u001b[0m\u001b[1;33m\u001b[0m\u001b[0m\n",
      "\u001b[1;32m~\\anaconda3\\envs\\python-gis\\lib\\site-packages\\shapely\\geometry\\point.py\u001b[0m in \u001b[0;36mgeos_point_from_py\u001b[1;34m(ob, update_geom, update_ndim)\u001b[0m\n\u001b[0;32m    260\u001b[0m         \u001b[0mcoords\u001b[0m \u001b[1;33m=\u001b[0m \u001b[0mob\u001b[0m\u001b[1;33m\u001b[0m\u001b[1;33m\u001b[0m\u001b[0m\n\u001b[0;32m    261\u001b[0m     \u001b[0mn\u001b[0m \u001b[1;33m=\u001b[0m \u001b[0mlen\u001b[0m\u001b[1;33m(\u001b[0m\u001b[0mcoords\u001b[0m\u001b[1;33m)\u001b[0m\u001b[1;33m\u001b[0m\u001b[1;33m\u001b[0m\u001b[0m\n\u001b[1;32m--> 262\u001b[1;33m     \u001b[0mdx\u001b[0m \u001b[1;33m=\u001b[0m \u001b[0mc_double\u001b[0m\u001b[1;33m(\u001b[0m\u001b[0mcoords\u001b[0m\u001b[1;33m[\u001b[0m\u001b[1;36m0\u001b[0m\u001b[1;33m]\u001b[0m\u001b[1;33m)\u001b[0m\u001b[1;33m\u001b[0m\u001b[1;33m\u001b[0m\u001b[0m\n\u001b[0m\u001b[0;32m    263\u001b[0m     \u001b[0mdy\u001b[0m \u001b[1;33m=\u001b[0m \u001b[0mc_double\u001b[0m\u001b[1;33m(\u001b[0m\u001b[0mcoords\u001b[0m\u001b[1;33m[\u001b[0m\u001b[1;36m1\u001b[0m\u001b[1;33m]\u001b[0m\u001b[1;33m)\u001b[0m\u001b[1;33m\u001b[0m\u001b[1;33m\u001b[0m\u001b[0m\n\u001b[0;32m    264\u001b[0m     \u001b[0mdz\u001b[0m \u001b[1;33m=\u001b[0m \u001b[1;32mNone\u001b[0m\u001b[1;33m\u001b[0m\u001b[1;33m\u001b[0m\u001b[0m\n",
      "\u001b[1;31mTypeError\u001b[0m: must be real number, not str"
     ]
    }
   ],
   "source": [
    "p2 = create_point_geom(\"1\", \"2\")"
   ]
  },
  {
   "cell_type": "code",
   "execution_count": 86,
   "id": "0bbfa714-4bf3-442e-91e5-3456f9b187cb",
   "metadata": {},
   "outputs": [
    {
     "data": {
      "text/plain": [
       "'Point'"
      ]
     },
     "execution_count": 86,
     "metadata": {},
     "output_type": "execute_result"
    }
   ],
   "source": [
    "p1.geom_type"
   ]
  },
  {
   "cell_type": "code",
   "execution_count": 95,
   "id": "06732a4b-728e-4c37-849d-5df4d784e449",
   "metadata": {},
   "outputs": [],
   "source": [
    "def create_line_geom(points: List[Point]) -> LineString:\n",
    "    assert isinstance(points, list), \"Input should be a list of points\"\n",
    "    assert len(points) > 1, \"Input should contain at least two points\"\n",
    "    assert all([isinstance(p, Point) for p in points]), \"All list values should be shapely points\"\n",
    "    line = LineString(points)\n",
    "    return line"
   ]
  },
  {
   "cell_type": "code",
   "execution_count": 89,
   "id": "c15c3b3b-fe9e-4537-8a7c-f1164ca97dfb",
   "metadata": {},
   "outputs": [],
   "source": [
    "p1 = create_point_geom(2.2, 4.4)\n",
    "p2 = create_point_geom(1.1, 7.8)\n",
    "p3 = create_point_geom(12.3, 14.5)\n",
    "\n",
    "line = create_line_geom([p1, p2, p3])"
   ]
  },
  {
   "cell_type": "code",
   "execution_count": 90,
   "id": "126b0664-7220-4cef-82a0-ae78bf2175d0",
   "metadata": {},
   "outputs": [
    {
     "data": {
      "image/svg+xml": [
       "<svg xmlns=\"http://www.w3.org/2000/svg\" xmlns:xlink=\"http://www.w3.org/1999/xlink\" width=\"100.0\" height=\"100.0\" viewBox=\"0.652 3.9520000000000004 12.096000000000002 10.996\" preserveAspectRatio=\"xMinYMin meet\"><g transform=\"matrix(1,0,0,-1,0,18.900000000000002)\"><polyline fill=\"none\" stroke=\"#66cc99\" stroke-width=\"0.24192000000000002\" points=\"2.2,4.4 1.1,7.8 12.3,14.5\" opacity=\"0.8\" /></g></svg>"
      ],
      "text/plain": [
       "<shapely.geometry.linestring.LineString at 0x237f2d598b0>"
      ]
     },
     "execution_count": 90,
     "metadata": {},
     "output_type": "execute_result"
    }
   ],
   "source": [
    "line"
   ]
  },
  {
   "cell_type": "code",
   "execution_count": 91,
   "id": "a0388abf-4ab9-4d2a-a2ab-66e2ce3ebf7e",
   "metadata": {},
   "outputs": [
    {
     "ename": "AssertionError",
     "evalue": "Input should be a list of points",
     "output_type": "error",
     "traceback": [
      "\u001b[1;31m---------------------------------------------------------------------------\u001b[0m",
      "\u001b[1;31mAssertionError\u001b[0m                            Traceback (most recent call last)",
      "\u001b[1;32m~\\AppData\\Local\\Temp/ipykernel_3876/3350272530.py\u001b[0m in \u001b[0;36m<module>\u001b[1;34m\u001b[0m\n\u001b[1;32m----> 1\u001b[1;33m \u001b[0mline2\u001b[0m \u001b[1;33m=\u001b[0m \u001b[0mcreate_line_geom\u001b[0m\u001b[1;33m(\u001b[0m\u001b[0mp1\u001b[0m\u001b[1;33m)\u001b[0m\u001b[1;33m\u001b[0m\u001b[1;33m\u001b[0m\u001b[0m\n\u001b[0m",
      "\u001b[1;32m~\\AppData\\Local\\Temp/ipykernel_3876/3046348754.py\u001b[0m in \u001b[0;36mcreate_line_geom\u001b[1;34m(points)\u001b[0m\n\u001b[0;32m      1\u001b[0m \u001b[1;32mdef\u001b[0m \u001b[0mcreate_line_geom\u001b[0m\u001b[1;33m(\u001b[0m\u001b[0mpoints\u001b[0m\u001b[1;33m:\u001b[0m \u001b[0mList\u001b[0m\u001b[1;33m[\u001b[0m\u001b[0mPoint\u001b[0m\u001b[1;33m]\u001b[0m\u001b[1;33m)\u001b[0m \u001b[1;33m->\u001b[0m \u001b[0mLineString\u001b[0m\u001b[1;33m:\u001b[0m\u001b[1;33m\u001b[0m\u001b[1;33m\u001b[0m\u001b[0m\n\u001b[1;32m----> 2\u001b[1;33m     \u001b[1;32massert\u001b[0m \u001b[0misinstance\u001b[0m\u001b[1;33m(\u001b[0m\u001b[0mpoints\u001b[0m\u001b[1;33m,\u001b[0m \u001b[0mlist\u001b[0m\u001b[1;33m)\u001b[0m\u001b[1;33m,\u001b[0m \u001b[1;34m\"Input should be a list of points\"\u001b[0m\u001b[1;33m\u001b[0m\u001b[1;33m\u001b[0m\u001b[0m\n\u001b[0m\u001b[0;32m      3\u001b[0m     \u001b[1;32massert\u001b[0m \u001b[0mlen\u001b[0m\u001b[1;33m(\u001b[0m\u001b[0mpoints\u001b[0m\u001b[1;33m)\u001b[0m \u001b[1;33m>\u001b[0m \u001b[1;36m1\u001b[0m\u001b[1;33m,\u001b[0m \u001b[1;34m\"Input should contain at least two points\"\u001b[0m\u001b[1;33m\u001b[0m\u001b[1;33m\u001b[0m\u001b[0m\n\u001b[0;32m      4\u001b[0m     \u001b[1;32massert\u001b[0m \u001b[1;33m[\u001b[0m\u001b[0misinstance\u001b[0m\u001b[1;33m(\u001b[0m\u001b[0mp\u001b[0m\u001b[1;33m,\u001b[0m \u001b[0mPoint\u001b[0m\u001b[1;33m)\u001b[0m \u001b[1;32mfor\u001b[0m \u001b[0mp\u001b[0m \u001b[1;32min\u001b[0m \u001b[0mpoints\u001b[0m\u001b[1;33m]\u001b[0m\u001b[1;33m,\u001b[0m \u001b[1;34m\"All list values should be shapely points\"\u001b[0m\u001b[1;33m\u001b[0m\u001b[1;33m\u001b[0m\u001b[0m\n\u001b[0;32m      5\u001b[0m     \u001b[0mline\u001b[0m \u001b[1;33m=\u001b[0m \u001b[0mLineString\u001b[0m\u001b[1;33m(\u001b[0m\u001b[0mpoints\u001b[0m\u001b[1;33m)\u001b[0m\u001b[1;33m\u001b[0m\u001b[1;33m\u001b[0m\u001b[0m\n",
      "\u001b[1;31mAssertionError\u001b[0m: Input should be a list of points"
     ]
    }
   ],
   "source": [
    "line2 = create_line_geom(p1)"
   ]
  },
  {
   "cell_type": "code",
   "execution_count": 92,
   "id": "b31eb9d2-8783-4cb2-ad13-eb94bccba3e2",
   "metadata": {},
   "outputs": [
    {
     "ename": "AssertionError",
     "evalue": "Input should contain at least two points",
     "output_type": "error",
     "traceback": [
      "\u001b[1;31m---------------------------------------------------------------------------\u001b[0m",
      "\u001b[1;31mAssertionError\u001b[0m                            Traceback (most recent call last)",
      "\u001b[1;32m~\\AppData\\Local\\Temp/ipykernel_3876/1899521045.py\u001b[0m in \u001b[0;36m<module>\u001b[1;34m\u001b[0m\n\u001b[1;32m----> 1\u001b[1;33m \u001b[0mline3\u001b[0m \u001b[1;33m=\u001b[0m \u001b[0mcreate_line_geom\u001b[0m\u001b[1;33m(\u001b[0m\u001b[1;33m[\u001b[0m\u001b[0mp1\u001b[0m\u001b[1;33m]\u001b[0m\u001b[1;33m)\u001b[0m\u001b[1;33m\u001b[0m\u001b[1;33m\u001b[0m\u001b[0m\n\u001b[0m",
      "\u001b[1;32m~\\AppData\\Local\\Temp/ipykernel_3876/3046348754.py\u001b[0m in \u001b[0;36mcreate_line_geom\u001b[1;34m(points)\u001b[0m\n\u001b[0;32m      1\u001b[0m \u001b[1;32mdef\u001b[0m \u001b[0mcreate_line_geom\u001b[0m\u001b[1;33m(\u001b[0m\u001b[0mpoints\u001b[0m\u001b[1;33m:\u001b[0m \u001b[0mList\u001b[0m\u001b[1;33m[\u001b[0m\u001b[0mPoint\u001b[0m\u001b[1;33m]\u001b[0m\u001b[1;33m)\u001b[0m \u001b[1;33m->\u001b[0m \u001b[0mLineString\u001b[0m\u001b[1;33m:\u001b[0m\u001b[1;33m\u001b[0m\u001b[1;33m\u001b[0m\u001b[0m\n\u001b[0;32m      2\u001b[0m     \u001b[1;32massert\u001b[0m \u001b[0misinstance\u001b[0m\u001b[1;33m(\u001b[0m\u001b[0mpoints\u001b[0m\u001b[1;33m,\u001b[0m \u001b[0mlist\u001b[0m\u001b[1;33m)\u001b[0m\u001b[1;33m,\u001b[0m \u001b[1;34m\"Input should be a list of points\"\u001b[0m\u001b[1;33m\u001b[0m\u001b[1;33m\u001b[0m\u001b[0m\n\u001b[1;32m----> 3\u001b[1;33m     \u001b[1;32massert\u001b[0m \u001b[0mlen\u001b[0m\u001b[1;33m(\u001b[0m\u001b[0mpoints\u001b[0m\u001b[1;33m)\u001b[0m \u001b[1;33m>\u001b[0m \u001b[1;36m1\u001b[0m\u001b[1;33m,\u001b[0m \u001b[1;34m\"Input should contain at least two points\"\u001b[0m\u001b[1;33m\u001b[0m\u001b[1;33m\u001b[0m\u001b[0m\n\u001b[0m\u001b[0;32m      4\u001b[0m     \u001b[1;32massert\u001b[0m \u001b[1;33m[\u001b[0m\u001b[0misinstance\u001b[0m\u001b[1;33m(\u001b[0m\u001b[0mp\u001b[0m\u001b[1;33m,\u001b[0m \u001b[0mPoint\u001b[0m\u001b[1;33m)\u001b[0m \u001b[1;32mfor\u001b[0m \u001b[0mp\u001b[0m \u001b[1;32min\u001b[0m \u001b[0mpoints\u001b[0m\u001b[1;33m]\u001b[0m\u001b[1;33m,\u001b[0m \u001b[1;34m\"All list values should be shapely points\"\u001b[0m\u001b[1;33m\u001b[0m\u001b[1;33m\u001b[0m\u001b[0m\n\u001b[0;32m      5\u001b[0m     \u001b[0mline\u001b[0m \u001b[1;33m=\u001b[0m \u001b[0mLineString\u001b[0m\u001b[1;33m(\u001b[0m\u001b[0mpoints\u001b[0m\u001b[1;33m)\u001b[0m\u001b[1;33m\u001b[0m\u001b[1;33m\u001b[0m\u001b[0m\n",
      "\u001b[1;31mAssertionError\u001b[0m: Input should contain at least two points"
     ]
    }
   ],
   "source": [
    "line3 = create_line_geom([p1])"
   ]
  },
  {
   "cell_type": "code",
   "execution_count": 96,
   "id": "6369a3b0-d3d6-4ff6-b3af-a9369be49029",
   "metadata": {},
   "outputs": [
    {
     "ename": "AssertionError",
     "evalue": "All list values should be shapely points",
     "output_type": "error",
     "traceback": [
      "\u001b[1;31m---------------------------------------------------------------------------\u001b[0m",
      "\u001b[1;31mAssertionError\u001b[0m                            Traceback (most recent call last)",
      "\u001b[1;32m~\\AppData\\Local\\Temp/ipykernel_3876/620453316.py\u001b[0m in \u001b[0;36m<module>\u001b[1;34m\u001b[0m\n\u001b[1;32m----> 1\u001b[1;33m \u001b[0mline4\u001b[0m \u001b[1;33m=\u001b[0m \u001b[0mcreate_line_geom\u001b[0m\u001b[1;33m(\u001b[0m\u001b[1;33m[\u001b[0m\u001b[1;33m(\u001b[0m\u001b[1;36m2.2\u001b[0m\u001b[1;33m,\u001b[0m \u001b[1;36m3.2\u001b[0m\u001b[1;33m)\u001b[0m\u001b[1;33m,\u001b[0m \u001b[1;33m(\u001b[0m\u001b[1;36m9.8\u001b[0m\u001b[1;33m,\u001b[0m \u001b[1;36m7.6\u001b[0m\u001b[1;33m)\u001b[0m\u001b[1;33m]\u001b[0m\u001b[1;33m)\u001b[0m\u001b[1;33m\u001b[0m\u001b[1;33m\u001b[0m\u001b[0m\n\u001b[0m",
      "\u001b[1;32m~\\AppData\\Local\\Temp/ipykernel_3876/645401094.py\u001b[0m in \u001b[0;36mcreate_line_geom\u001b[1;34m(points)\u001b[0m\n\u001b[0;32m      2\u001b[0m     \u001b[1;32massert\u001b[0m \u001b[0misinstance\u001b[0m\u001b[1;33m(\u001b[0m\u001b[0mpoints\u001b[0m\u001b[1;33m,\u001b[0m \u001b[0mlist\u001b[0m\u001b[1;33m)\u001b[0m\u001b[1;33m,\u001b[0m \u001b[1;34m\"Input should be a list of points\"\u001b[0m\u001b[1;33m\u001b[0m\u001b[1;33m\u001b[0m\u001b[0m\n\u001b[0;32m      3\u001b[0m     \u001b[1;32massert\u001b[0m \u001b[0mlen\u001b[0m\u001b[1;33m(\u001b[0m\u001b[0mpoints\u001b[0m\u001b[1;33m)\u001b[0m \u001b[1;33m>\u001b[0m \u001b[1;36m1\u001b[0m\u001b[1;33m,\u001b[0m \u001b[1;34m\"Input should contain at least two points\"\u001b[0m\u001b[1;33m\u001b[0m\u001b[1;33m\u001b[0m\u001b[0m\n\u001b[1;32m----> 4\u001b[1;33m     \u001b[1;32massert\u001b[0m \u001b[0mall\u001b[0m\u001b[1;33m(\u001b[0m\u001b[1;33m[\u001b[0m\u001b[0misinstance\u001b[0m\u001b[1;33m(\u001b[0m\u001b[0mp\u001b[0m\u001b[1;33m,\u001b[0m \u001b[0mPoint\u001b[0m\u001b[1;33m)\u001b[0m \u001b[1;32mfor\u001b[0m \u001b[0mp\u001b[0m \u001b[1;32min\u001b[0m \u001b[0mpoints\u001b[0m\u001b[1;33m]\u001b[0m\u001b[1;33m)\u001b[0m\u001b[1;33m,\u001b[0m \u001b[1;34m\"All list values should be shapely points\"\u001b[0m\u001b[1;33m\u001b[0m\u001b[1;33m\u001b[0m\u001b[0m\n\u001b[0m\u001b[0;32m      5\u001b[0m     \u001b[0mline\u001b[0m \u001b[1;33m=\u001b[0m \u001b[0mLineString\u001b[0m\u001b[1;33m(\u001b[0m\u001b[0mpoints\u001b[0m\u001b[1;33m)\u001b[0m\u001b[1;33m\u001b[0m\u001b[1;33m\u001b[0m\u001b[0m\n\u001b[0;32m      6\u001b[0m     \u001b[1;32mreturn\u001b[0m \u001b[0mline\u001b[0m\u001b[1;33m\u001b[0m\u001b[1;33m\u001b[0m\u001b[0m\n",
      "\u001b[1;31mAssertionError\u001b[0m: All list values should be shapely points"
     ]
    }
   ],
   "source": [
    "line4 = create_line_geom([(2.2, 3.2), (9.8, 7.6)])"
   ]
  },
  {
   "cell_type": "code",
   "execution_count": 97,
   "id": "4aa98b89-4933-47c8-b563-99595f34f57a",
   "metadata": {},
   "outputs": [],
   "source": [
    "points = [(2.2, 3.2), (9.8, 7.6)]"
   ]
  },
  {
   "cell_type": "code",
   "execution_count": 99,
   "id": "36918237-ad7d-4262-b7e8-c30e766f5672",
   "metadata": {},
   "outputs": [
    {
     "data": {
      "text/plain": [
       "False"
      ]
     },
     "execution_count": 99,
     "metadata": {},
     "output_type": "execute_result"
    }
   ],
   "source": [
    "all([isinstance(p, Point) for p in points])"
   ]
  },
  {
   "cell_type": "code",
   "execution_count": 102,
   "id": "2454b424-792e-4cf8-b437-99bba5a35da0",
   "metadata": {},
   "outputs": [
    {
     "name": "stdout",
     "output_type": "stream",
     "text": [
      "An assertion error was raised. Adjust input.\n"
     ]
    },
    {
     "ename": "AssertionError",
     "evalue": "All list values should be shapely points",
     "output_type": "error",
     "traceback": [
      "\u001b[1;31m---------------------------------------------------------------------------\u001b[0m",
      "\u001b[1;31mAssertionError\u001b[0m                            Traceback (most recent call last)",
      "\u001b[1;32m~\\AppData\\Local\\Temp/ipykernel_3876/1037894826.py\u001b[0m in \u001b[0;36m<module>\u001b[1;34m\u001b[0m\n\u001b[0;32m      3\u001b[0m \u001b[1;32mexcept\u001b[0m \u001b[0mAssertionError\u001b[0m \u001b[1;32mas\u001b[0m \u001b[0mae\u001b[0m\u001b[1;33m:\u001b[0m\u001b[1;33m\u001b[0m\u001b[1;33m\u001b[0m\u001b[0m\n\u001b[0;32m      4\u001b[0m     \u001b[0mprint\u001b[0m\u001b[1;33m(\u001b[0m\u001b[1;34m\"An assertion error was raised. Adjust input.\"\u001b[0m\u001b[1;33m)\u001b[0m\u001b[1;33m\u001b[0m\u001b[1;33m\u001b[0m\u001b[0m\n\u001b[1;32m----> 5\u001b[1;33m     \u001b[1;32mraise\u001b[0m \u001b[0mae\u001b[0m\u001b[1;33m\u001b[0m\u001b[1;33m\u001b[0m\u001b[0m\n\u001b[0m\u001b[0;32m      6\u001b[0m \u001b[1;32mexcept\u001b[0m \u001b[0mException\u001b[0m \u001b[1;32mas\u001b[0m \u001b[0me\u001b[0m\u001b[1;33m:\u001b[0m\u001b[1;33m\u001b[0m\u001b[1;33m\u001b[0m\u001b[0m\n\u001b[0;32m      7\u001b[0m     \u001b[1;32mraise\u001b[0m \u001b[0me\u001b[0m\u001b[1;33m\u001b[0m\u001b[1;33m\u001b[0m\u001b[0m\n",
      "\u001b[1;32m~\\AppData\\Local\\Temp/ipykernel_3876/1037894826.py\u001b[0m in \u001b[0;36m<module>\u001b[1;34m\u001b[0m\n\u001b[0;32m      1\u001b[0m \u001b[1;32mtry\u001b[0m\u001b[1;33m:\u001b[0m\u001b[1;33m\u001b[0m\u001b[1;33m\u001b[0m\u001b[0m\n\u001b[1;32m----> 2\u001b[1;33m     \u001b[0mcreate_line_geom\u001b[0m\u001b[1;33m(\u001b[0m\u001b[0mpoints\u001b[0m\u001b[1;33m)\u001b[0m\u001b[1;33m\u001b[0m\u001b[1;33m\u001b[0m\u001b[0m\n\u001b[0m\u001b[0;32m      3\u001b[0m \u001b[1;32mexcept\u001b[0m \u001b[0mAssertionError\u001b[0m \u001b[1;32mas\u001b[0m \u001b[0mae\u001b[0m\u001b[1;33m:\u001b[0m\u001b[1;33m\u001b[0m\u001b[1;33m\u001b[0m\u001b[0m\n\u001b[0;32m      4\u001b[0m     \u001b[0mprint\u001b[0m\u001b[1;33m(\u001b[0m\u001b[1;34m\"An assertion error was raised. Adjust input.\"\u001b[0m\u001b[1;33m)\u001b[0m\u001b[1;33m\u001b[0m\u001b[1;33m\u001b[0m\u001b[0m\n\u001b[0;32m      5\u001b[0m     \u001b[1;32mraise\u001b[0m \u001b[0mae\u001b[0m\u001b[1;33m\u001b[0m\u001b[1;33m\u001b[0m\u001b[0m\n",
      "\u001b[1;32m~\\AppData\\Local\\Temp/ipykernel_3876/645401094.py\u001b[0m in \u001b[0;36mcreate_line_geom\u001b[1;34m(points)\u001b[0m\n\u001b[0;32m      2\u001b[0m     \u001b[1;32massert\u001b[0m \u001b[0misinstance\u001b[0m\u001b[1;33m(\u001b[0m\u001b[0mpoints\u001b[0m\u001b[1;33m,\u001b[0m \u001b[0mlist\u001b[0m\u001b[1;33m)\u001b[0m\u001b[1;33m,\u001b[0m \u001b[1;34m\"Input should be a list of points\"\u001b[0m\u001b[1;33m\u001b[0m\u001b[1;33m\u001b[0m\u001b[0m\n\u001b[0;32m      3\u001b[0m     \u001b[1;32massert\u001b[0m \u001b[0mlen\u001b[0m\u001b[1;33m(\u001b[0m\u001b[0mpoints\u001b[0m\u001b[1;33m)\u001b[0m \u001b[1;33m>\u001b[0m \u001b[1;36m1\u001b[0m\u001b[1;33m,\u001b[0m \u001b[1;34m\"Input should contain at least two points\"\u001b[0m\u001b[1;33m\u001b[0m\u001b[1;33m\u001b[0m\u001b[0m\n\u001b[1;32m----> 4\u001b[1;33m     \u001b[1;32massert\u001b[0m \u001b[0mall\u001b[0m\u001b[1;33m(\u001b[0m\u001b[1;33m[\u001b[0m\u001b[0misinstance\u001b[0m\u001b[1;33m(\u001b[0m\u001b[0mp\u001b[0m\u001b[1;33m,\u001b[0m \u001b[0mPoint\u001b[0m\u001b[1;33m)\u001b[0m \u001b[1;32mfor\u001b[0m \u001b[0mp\u001b[0m \u001b[1;32min\u001b[0m \u001b[0mpoints\u001b[0m\u001b[1;33m]\u001b[0m\u001b[1;33m)\u001b[0m\u001b[1;33m,\u001b[0m \u001b[1;34m\"All list values should be shapely points\"\u001b[0m\u001b[1;33m\u001b[0m\u001b[1;33m\u001b[0m\u001b[0m\n\u001b[0m\u001b[0;32m      5\u001b[0m     \u001b[0mline\u001b[0m \u001b[1;33m=\u001b[0m \u001b[0mLineString\u001b[0m\u001b[1;33m(\u001b[0m\u001b[0mpoints\u001b[0m\u001b[1;33m)\u001b[0m\u001b[1;33m\u001b[0m\u001b[1;33m\u001b[0m\u001b[0m\n\u001b[0;32m      6\u001b[0m     \u001b[1;32mreturn\u001b[0m \u001b[0mline\u001b[0m\u001b[1;33m\u001b[0m\u001b[1;33m\u001b[0m\u001b[0m\n",
      "\u001b[1;31mAssertionError\u001b[0m: All list values should be shapely points"
     ]
    }
   ],
   "source": [
    "try: \n",
    "    create_line_geom(points)\n",
    "except AssertionError as ae:\n",
    "    print(\"An assertion error was raised. Adjust input.\")\n",
    "    raise ae\n",
    "except Exception as e:\n",
    "    raise e"
   ]
  },
  {
   "cell_type": "code",
   "execution_count": 109,
   "id": "f495af6c-f85a-4cb4-a0fb-a8da453907fa",
   "metadata": {},
   "outputs": [],
   "source": [
    "def create_poly_geom(coords):\n",
    "    assert isinstance(coords, list), \"Input should be a list\"\n",
    "    assert len(coords) > 2, \"Input should contain at least three points\"\n",
    "    # for i, c in enumerate(coords):\n",
    "    #     if isinstance(c, Point):\n",
    "    #         coords[i] = (c.x, c.y)\n",
    "    # assert all([isinstance(p, tuple) for p in coords]), \"Each list value should be a tuple of coordinates\"\n",
    "    poly = Polygon(coords)\n",
    "    return poly    "
   ]
  },
  {
   "cell_type": "code",
   "execution_count": 104,
   "id": "6b5adce1-ce87-4237-bf51-2bf5cf2bf3b4",
   "metadata": {},
   "outputs": [],
   "source": [
    "p1 = create_point_geom(2.2, 3.4)\n",
    "p2 = (8.5, 9.5)\n",
    "p3 = Point(0.2, 14.2)\n",
    "p4 = (3.4, 5.7)\n",
    "p5 = (15.6, 17.8)"
   ]
  },
  {
   "cell_type": "code",
   "execution_count": 105,
   "id": "897e8e7d-d193-4bd1-9820-c3d32cbcac01",
   "metadata": {},
   "outputs": [
    {
     "data": {
      "image/svg+xml": [
       "<svg xmlns=\"http://www.w3.org/2000/svg\" xmlns:xlink=\"http://www.w3.org/1999/xlink\" width=\"100.0\" height=\"100.0\" viewBox=\"-0.14 5.36 8.98 9.18\" preserveAspectRatio=\"xMinYMin meet\"><g transform=\"matrix(1,0,0,-1,0,19.9)\"><path fill-rule=\"evenodd\" fill=\"#66cc99\" stroke=\"#555555\" stroke-width=\"0.18359999999999999\" opacity=\"0.6\" d=\"M 8.5,9.5 L 0.2,14.2 L 3.4,5.7 L 8.5,9.5 z\" /></g></svg>"
      ],
      "text/plain": [
       "<shapely.geometry.polygon.Polygon at 0x237f2cefd30>"
      ]
     },
     "execution_count": 105,
     "metadata": {},
     "output_type": "execute_result"
    }
   ],
   "source": [
    "create_poly_geom([p2, p3, p4])"
   ]
  },
  {
   "cell_type": "code",
   "execution_count": 110,
   "id": "e31c7be1-a5e0-4981-83b3-0a66cc4bd318",
   "metadata": {},
   "outputs": [
    {
     "data": {
      "image/svg+xml": [
       "<svg xmlns=\"http://www.w3.org/2000/svg\" xmlns:xlink=\"http://www.w3.org/1999/xlink\" width=\"100.0\" height=\"100.0\" viewBox=\"-0.23199999999999993 2.968 9.164 11.664\" preserveAspectRatio=\"xMinYMin meet\"><g transform=\"matrix(1,0,0,-1,0,17.6)\"><path fill-rule=\"evenodd\" fill=\"#66cc99\" stroke=\"#555555\" stroke-width=\"0.23328\" opacity=\"0.6\" d=\"M 2.2,3.4 L 8.5,9.5 L 0.2,14.2 L 2.2,3.4 z\" /></g></svg>"
      ],
      "text/plain": [
       "<shapely.geometry.polygon.Polygon at 0x237f2d2cc70>"
      ]
     },
     "execution_count": 110,
     "metadata": {},
     "output_type": "execute_result"
    }
   ],
   "source": [
    "create_poly_geom([p1, p2, p3])"
   ]
  },
  {
   "cell_type": "code",
   "execution_count": 112,
   "id": "dd8cac57-3e2d-4f37-945b-849fe36722f9",
   "metadata": {},
   "outputs": [],
   "source": [
    "data = pd.read_csv(\"../data/travelTimes_2015_Helsinki.txt\", sep=\";\")"
   ]
  },
  {
   "cell_type": "code",
   "execution_count": 113,
   "id": "be458e81-2ff9-4bf4-91dc-47caa5f22460",
   "metadata": {},
   "outputs": [
    {
     "data": {
      "text/html": [
       "<div>\n",
       "<style scoped>\n",
       "    .dataframe tbody tr th:only-of-type {\n",
       "        vertical-align: middle;\n",
       "    }\n",
       "\n",
       "    .dataframe tbody tr th {\n",
       "        vertical-align: top;\n",
       "    }\n",
       "\n",
       "    .dataframe thead th {\n",
       "        text-align: right;\n",
       "    }\n",
       "</style>\n",
       "<table border=\"1\" class=\"dataframe\">\n",
       "  <thead>\n",
       "    <tr style=\"text-align: right;\">\n",
       "      <th></th>\n",
       "      <th>from_id</th>\n",
       "      <th>to_id</th>\n",
       "      <th>fromid_toid</th>\n",
       "      <th>route_number</th>\n",
       "      <th>at</th>\n",
       "      <th>from_x</th>\n",
       "      <th>from_y</th>\n",
       "      <th>to_x</th>\n",
       "      <th>to_y</th>\n",
       "      <th>total_route_time</th>\n",
       "      <th>route_time</th>\n",
       "      <th>route_distance</th>\n",
       "      <th>route_total_lines</th>\n",
       "    </tr>\n",
       "  </thead>\n",
       "  <tbody>\n",
       "    <tr>\n",
       "      <th>0</th>\n",
       "      <td>5861326</td>\n",
       "      <td>5785640</td>\n",
       "      <td>5861326_5785640</td>\n",
       "      <td>1</td>\n",
       "      <td>08:10</td>\n",
       "      <td>24.970438</td>\n",
       "      <td>60.311917</td>\n",
       "      <td>24.856034</td>\n",
       "      <td>60.399941</td>\n",
       "      <td>125.0</td>\n",
       "      <td>99.0</td>\n",
       "      <td>22917.6</td>\n",
       "      <td>2.0</td>\n",
       "    </tr>\n",
       "    <tr>\n",
       "      <th>1</th>\n",
       "      <td>5861326</td>\n",
       "      <td>5785641</td>\n",
       "      <td>5861326_5785641</td>\n",
       "      <td>1</td>\n",
       "      <td>08:10</td>\n",
       "      <td>24.970438</td>\n",
       "      <td>60.311917</td>\n",
       "      <td>24.860568</td>\n",
       "      <td>60.400014</td>\n",
       "      <td>123.0</td>\n",
       "      <td>102.0</td>\n",
       "      <td>23123.5</td>\n",
       "      <td>2.0</td>\n",
       "    </tr>\n",
       "    <tr>\n",
       "      <th>2</th>\n",
       "      <td>5861326</td>\n",
       "      <td>5785642</td>\n",
       "      <td>5861326_5785642</td>\n",
       "      <td>1</td>\n",
       "      <td>08:10</td>\n",
       "      <td>24.970438</td>\n",
       "      <td>60.311917</td>\n",
       "      <td>24.865102</td>\n",
       "      <td>60.400086</td>\n",
       "      <td>125.0</td>\n",
       "      <td>103.0</td>\n",
       "      <td>23241.3</td>\n",
       "      <td>2.0</td>\n",
       "    </tr>\n",
       "    <tr>\n",
       "      <th>3</th>\n",
       "      <td>5861326</td>\n",
       "      <td>5785643</td>\n",
       "      <td>5861326_5785643</td>\n",
       "      <td>1</td>\n",
       "      <td>08:10</td>\n",
       "      <td>24.970438</td>\n",
       "      <td>60.311917</td>\n",
       "      <td>24.869636</td>\n",
       "      <td>60.400159</td>\n",
       "      <td>129.0</td>\n",
       "      <td>107.0</td>\n",
       "      <td>23534.2</td>\n",
       "      <td>2.0</td>\n",
       "    </tr>\n",
       "    <tr>\n",
       "      <th>4</th>\n",
       "      <td>5861326</td>\n",
       "      <td>5787544</td>\n",
       "      <td>5861326_5787544</td>\n",
       "      <td>1</td>\n",
       "      <td>08:10</td>\n",
       "      <td>24.970438</td>\n",
       "      <td>60.311917</td>\n",
       "      <td>24.842582</td>\n",
       "      <td>60.397478</td>\n",
       "      <td>118.0</td>\n",
       "      <td>92.0</td>\n",
       "      <td>22428.2</td>\n",
       "      <td>2.0</td>\n",
       "    </tr>\n",
       "  </tbody>\n",
       "</table>\n",
       "</div>"
      ],
      "text/plain": [
       "   from_id    to_id      fromid_toid  route_number     at     from_x  \\\n",
       "0  5861326  5785640  5861326_5785640             1  08:10  24.970438   \n",
       "1  5861326  5785641  5861326_5785641             1  08:10  24.970438   \n",
       "2  5861326  5785642  5861326_5785642             1  08:10  24.970438   \n",
       "3  5861326  5785643  5861326_5785643             1  08:10  24.970438   \n",
       "4  5861326  5787544  5861326_5787544             1  08:10  24.970438   \n",
       "\n",
       "      from_y       to_x       to_y  total_route_time  route_time  \\\n",
       "0  60.311917  24.856034  60.399941             125.0        99.0   \n",
       "1  60.311917  24.860568  60.400014             123.0       102.0   \n",
       "2  60.311917  24.865102  60.400086             125.0       103.0   \n",
       "3  60.311917  24.869636  60.400159             129.0       107.0   \n",
       "4  60.311917  24.842582  60.397478             118.0        92.0   \n",
       "\n",
       "   route_distance  route_total_lines  \n",
       "0         22917.6                2.0  \n",
       "1         23123.5                2.0  \n",
       "2         23241.3                2.0  \n",
       "3         23534.2                2.0  \n",
       "4         22428.2                2.0  "
      ]
     },
     "execution_count": 113,
     "metadata": {},
     "output_type": "execute_result"
    }
   ],
   "source": [
    "data.head()"
   ]
  },
  {
   "cell_type": "code",
   "execution_count": 114,
   "id": "720c755a-7c27-43d1-8013-c9f4ca60a6ae",
   "metadata": {},
   "outputs": [
    {
     "data": {
      "text/plain": [
       "(14643, 13)"
      ]
     },
     "execution_count": 114,
     "metadata": {},
     "output_type": "execute_result"
    }
   ],
   "source": [
    "data.shape"
   ]
  },
  {
   "cell_type": "code",
   "execution_count": 115,
   "id": "090aca91-b40b-4075-a168-62c6bd8481fe",
   "metadata": {},
   "outputs": [],
   "source": [
    "cols = [\"from_x\", \"from_y\", \"to_x\", \"to_y\"]\n",
    "data = data[cols]"
   ]
  },
  {
   "cell_type": "code",
   "execution_count": 124,
   "id": "81dfce99-874b-4187-a607-ef4975cb0f65",
   "metadata": {},
   "outputs": [
    {
     "data": {
      "text/html": [
       "<div>\n",
       "<style scoped>\n",
       "    .dataframe tbody tr th:only-of-type {\n",
       "        vertical-align: middle;\n",
       "    }\n",
       "\n",
       "    .dataframe tbody tr th {\n",
       "        vertical-align: top;\n",
       "    }\n",
       "\n",
       "    .dataframe thead th {\n",
       "        text-align: right;\n",
       "    }\n",
       "</style>\n",
       "<table border=\"1\" class=\"dataframe\">\n",
       "  <thead>\n",
       "    <tr style=\"text-align: right;\">\n",
       "      <th></th>\n",
       "      <th>from_x</th>\n",
       "      <th>from_y</th>\n",
       "      <th>to_x</th>\n",
       "      <th>to_y</th>\n",
       "    </tr>\n",
       "  </thead>\n",
       "  <tbody>\n",
       "    <tr>\n",
       "      <th>0</th>\n",
       "      <td>24.970438</td>\n",
       "      <td>60.311917</td>\n",
       "      <td>24.856034</td>\n",
       "      <td>60.399941</td>\n",
       "    </tr>\n",
       "    <tr>\n",
       "      <th>1</th>\n",
       "      <td>24.970438</td>\n",
       "      <td>60.311917</td>\n",
       "      <td>24.860568</td>\n",
       "      <td>60.400014</td>\n",
       "    </tr>\n",
       "    <tr>\n",
       "      <th>2</th>\n",
       "      <td>24.970438</td>\n",
       "      <td>60.311917</td>\n",
       "      <td>24.865102</td>\n",
       "      <td>60.400086</td>\n",
       "    </tr>\n",
       "    <tr>\n",
       "      <th>3</th>\n",
       "      <td>24.970438</td>\n",
       "      <td>60.311917</td>\n",
       "      <td>24.869636</td>\n",
       "      <td>60.400159</td>\n",
       "    </tr>\n",
       "    <tr>\n",
       "      <th>4</th>\n",
       "      <td>24.970438</td>\n",
       "      <td>60.311917</td>\n",
       "      <td>24.842582</td>\n",
       "      <td>60.397478</td>\n",
       "    </tr>\n",
       "  </tbody>\n",
       "</table>\n",
       "</div>"
      ],
      "text/plain": [
       "      from_x     from_y       to_x       to_y\n",
       "0  24.970438  60.311917  24.856034  60.399941\n",
       "1  24.970438  60.311917  24.860568  60.400014\n",
       "2  24.970438  60.311917  24.865102  60.400086\n",
       "3  24.970438  60.311917  24.869636  60.400159\n",
       "4  24.970438  60.311917  24.842582  60.397478"
      ]
     },
     "execution_count": 124,
     "metadata": {},
     "output_type": "execute_result"
    }
   ],
   "source": [
    "data.head()"
   ]
  },
  {
   "cell_type": "code",
   "execution_count": 130,
   "id": "f094b43d-2cec-4f7f-93b1-40833ace5fc5",
   "metadata": {},
   "outputs": [
    {
     "name": "stderr",
     "output_type": "stream",
     "text": [
      "C:\\Users\\andri\\anaconda3\\envs\\python-gis\\lib\\site-packages\\pandas\\core\\dtypes\\cast.py:118: ShapelyDeprecationWarning: The array interface is deprecated and will no longer work in Shapely 2.0. Convert the '.coords' to a numpy array instead.\n",
      "  arr = construct_1d_object_array_from_listlike(values)\n"
     ]
    }
   ],
   "source": [
    "data = (data\n",
    "        .assign(\n",
    "            orig_point = lambda y:y.apply(lambda x: Point(x[\"from_x\"], x[\"from_y\"]), axis=1),\n",
    "            dest_point = lambda y:y.apply(lambda x: Point(x[\"to_x\"], x[\"to_y\"]), axis=1),\n",
    "        )\n",
    "       )"
   ]
  },
  {
   "cell_type": "code",
   "execution_count": 131,
   "id": "0c0c73f5-a307-4eec-945b-077070445ba6",
   "metadata": {},
   "outputs": [
    {
     "data": {
      "text/html": [
       "<div>\n",
       "<style scoped>\n",
       "    .dataframe tbody tr th:only-of-type {\n",
       "        vertical-align: middle;\n",
       "    }\n",
       "\n",
       "    .dataframe tbody tr th {\n",
       "        vertical-align: top;\n",
       "    }\n",
       "\n",
       "    .dataframe thead th {\n",
       "        text-align: right;\n",
       "    }\n",
       "</style>\n",
       "<table border=\"1\" class=\"dataframe\">\n",
       "  <thead>\n",
       "    <tr style=\"text-align: right;\">\n",
       "      <th></th>\n",
       "      <th>from_x</th>\n",
       "      <th>from_y</th>\n",
       "      <th>to_x</th>\n",
       "      <th>to_y</th>\n",
       "      <th>orig_point</th>\n",
       "      <th>dest_point</th>\n",
       "    </tr>\n",
       "  </thead>\n",
       "  <tbody>\n",
       "    <tr>\n",
       "      <th>0</th>\n",
       "      <td>24.970438</td>\n",
       "      <td>60.311917</td>\n",
       "      <td>24.856034</td>\n",
       "      <td>60.399941</td>\n",
       "      <td>POINT (24.9704379 60.3119173)</td>\n",
       "      <td>POINT (24.8560344 60.3999406)</td>\n",
       "    </tr>\n",
       "    <tr>\n",
       "      <th>1</th>\n",
       "      <td>24.970438</td>\n",
       "      <td>60.311917</td>\n",
       "      <td>24.860568</td>\n",
       "      <td>60.400014</td>\n",
       "      <td>POINT (24.9704379 60.3119173)</td>\n",
       "      <td>POINT (24.8605682 60.4000135)</td>\n",
       "    </tr>\n",
       "    <tr>\n",
       "      <th>2</th>\n",
       "      <td>24.970438</td>\n",
       "      <td>60.311917</td>\n",
       "      <td>24.865102</td>\n",
       "      <td>60.400086</td>\n",
       "      <td>POINT (24.9704379 60.3119173)</td>\n",
       "      <td>POINT (24.865102 60.4000863)</td>\n",
       "    </tr>\n",
       "    <tr>\n",
       "      <th>3</th>\n",
       "      <td>24.970438</td>\n",
       "      <td>60.311917</td>\n",
       "      <td>24.869636</td>\n",
       "      <td>60.400159</td>\n",
       "      <td>POINT (24.9704379 60.3119173)</td>\n",
       "      <td>POINT (24.8696358 60.4001589)</td>\n",
       "    </tr>\n",
       "    <tr>\n",
       "      <th>4</th>\n",
       "      <td>24.970438</td>\n",
       "      <td>60.311917</td>\n",
       "      <td>24.842582</td>\n",
       "      <td>60.397478</td>\n",
       "      <td>POINT (24.9704379 60.3119173)</td>\n",
       "      <td>POINT (24.8425817 60.39747779999999)</td>\n",
       "    </tr>\n",
       "  </tbody>\n",
       "</table>\n",
       "</div>"
      ],
      "text/plain": [
       "      from_x     from_y       to_x       to_y                     orig_point  \\\n",
       "0  24.970438  60.311917  24.856034  60.399941  POINT (24.9704379 60.3119173)   \n",
       "1  24.970438  60.311917  24.860568  60.400014  POINT (24.9704379 60.3119173)   \n",
       "2  24.970438  60.311917  24.865102  60.400086  POINT (24.9704379 60.3119173)   \n",
       "3  24.970438  60.311917  24.869636  60.400159  POINT (24.9704379 60.3119173)   \n",
       "4  24.970438  60.311917  24.842582  60.397478  POINT (24.9704379 60.3119173)   \n",
       "\n",
       "                             dest_point  \n",
       "0         POINT (24.8560344 60.3999406)  \n",
       "1         POINT (24.8605682 60.4000135)  \n",
       "2          POINT (24.865102 60.4000863)  \n",
       "3         POINT (24.8696358 60.4001589)  \n",
       "4  POINT (24.8425817 60.39747779999999)  "
      ]
     },
     "execution_count": 131,
     "metadata": {},
     "output_type": "execute_result"
    }
   ],
   "source": [
    "data.head()"
   ]
  },
  {
   "cell_type": "code",
   "execution_count": 132,
   "id": "daa4671d-0f91-43a8-888a-fd28f07696cc",
   "metadata": {},
   "outputs": [],
   "source": [
    "lines = []\n",
    "for o, d in zip(data[\"orig_point\"], data[\"dest_point\"]):\n",
    "    lines.append(LineString([o, d]))"
   ]
  },
  {
   "cell_type": "code",
   "execution_count": 135,
   "id": "ad585b47-a442-491a-9c30-56c394951030",
   "metadata": {},
   "outputs": [],
   "source": [
    "from shapely.geometry import MultiLineString"
   ]
  },
  {
   "cell_type": "code",
   "execution_count": 136,
   "id": "5b85b414-50b9-447d-9acc-cb431149dc60",
   "metadata": {},
   "outputs": [],
   "source": [
    "multi_line = MultiLineString(lines)"
   ]
  },
  {
   "cell_type": "code",
   "execution_count": 137,
   "id": "124f655c-13ea-48e3-ac14-472c5f72e22b",
   "metadata": {},
   "outputs": [],
   "source": [
    "total_length = multi_line.length"
   ]
  },
  {
   "cell_type": "code",
   "execution_count": 139,
   "id": "e96e4913-773b-49dd-ab75-c4cab31c7345",
   "metadata": {},
   "outputs": [
    {
     "name": "stdout",
     "output_type": "stream",
     "text": [
      "The total travel length is 3148.57\n"
     ]
    }
   ],
   "source": [
    "print(f\"The total travel length is {total_length:.2f}\")"
   ]
  },
  {
   "cell_type": "code",
   "execution_count": 141,
   "id": "eea35598-c21e-4fee-93d3-8b40d501a7df",
   "metadata": {},
   "outputs": [],
   "source": [
    "def create_od_lines(orig_points: List[Point], \n",
    "                    dest_points: List[Point]) -> List[LineString]:\n",
    "    lines = []\n",
    "    for o, d in zip(orig_points, dest_points):\n",
    "        lines.append(LineString([o, d]))\n",
    "    return lines\n",
    "\n",
    "def calculate_total_distance(travels: List[LineString]) -> float:\n",
    "    multi_line = MultiLineString(travels)\n",
    "    return multi_line.length"
   ]
  },
  {
   "cell_type": "code",
   "execution_count": 143,
   "id": "8369f1ee-43dd-48f9-8a34-c884315ab6f3",
   "metadata": {},
   "outputs": [
    {
     "name": "stdout",
     "output_type": "stream",
     "text": [
      "Total travel distance is: 3148.57\n"
     ]
    }
   ],
   "source": [
    "od_lines = create_od_lines(data[\"orig_point\"], data[\"dest_point\"])\n",
    "tot_length = calculate_total_distance(od_lines)\n",
    "print(f\"Total travel distance is: {tot_length:.2f}\")"
   ]
  },
  {
   "cell_type": "code",
   "execution_count": null,
   "id": "22dcef07-b264-4d06-8796-1cbbb76937a9",
   "metadata": {},
   "outputs": [],
   "source": []
  }
 ],
 "metadata": {
  "kernelspec": {
   "display_name": "Python (gis)",
   "language": "python",
   "name": "python-gis"
  },
  "language_info": {
   "codemirror_mode": {
    "name": "ipython",
    "version": 3
   },
   "file_extension": ".py",
   "mimetype": "text/x-python",
   "name": "python",
   "nbconvert_exporter": "python",
   "pygments_lexer": "ipython3",
   "version": "3.8.12"
  }
 },
 "nbformat": 4,
 "nbformat_minor": 5
}
