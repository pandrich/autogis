{
 "cells": [
  {
   "cell_type": "code",
   "execution_count": 3,
   "id": "aa17b887-9d5e-4489-89eb-98111ce843dc",
   "metadata": {},
   "outputs": [],
   "source": [
    "from pathlib import Path\n",
    "\n",
    "import numpy as np\n",
    "import pandas as pd\n",
    "import geopandas as gpd\n",
    "\n",
    "from pyrosm import OSM\n",
    "\n",
    "import matplotlib.pyplot as plt\n",
    "%matplotlib inline"
   ]
  },
  {
   "cell_type": "code",
   "execution_count": 5,
   "id": "b887c336-1b14-4834-835d-3ebf218c2aad",
   "metadata": {},
   "outputs": [],
   "source": [
    "DATA_PATH = Path(\"../data\")"
   ]
  },
  {
   "cell_type": "code",
   "execution_count": 8,
   "id": "999bb55d-d939-4194-95be-6023f8aa09bf",
   "metadata": {},
   "outputs": [],
   "source": [
    "osm = OSM(str(DATA_PATH / \"netherlands-latest.osm.pbf\"))"
   ]
  },
  {
   "cell_type": "code",
   "execution_count": null,
   "id": "494920b5-019d-49da-90e1-a0d9ba74e4d8",
   "metadata": {},
   "outputs": [],
   "source": [
    "drive = osm.get_network(\"driving\")"
   ]
  },
  {
   "cell_type": "code",
   "execution_count": null,
   "id": "fdc1c1a6-96d8-41df-bf7c-aef495b01d00",
   "metadata": {},
   "outputs": [],
   "source": []
  }
 ],
 "metadata": {
  "kernelspec": {
   "display_name": "Python (gis)",
   "language": "python",
   "name": "python-gis"
  },
  "language_info": {
   "codemirror_mode": {
    "name": "ipython",
    "version": 3
   },
   "file_extension": ".py",
   "mimetype": "text/x-python",
   "name": "python",
   "nbconvert_exporter": "python",
   "pygments_lexer": "ipython3",
   "version": "3.8.12"
  }
 },
 "nbformat": 4,
 "nbformat_minor": 5
}
