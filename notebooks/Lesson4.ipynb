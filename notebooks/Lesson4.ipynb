{
 "cells": [
  {
   "cell_type": "code",
   "execution_count": 4,
   "id": "2a53c1de-6d95-4de8-9e62-3dad5d3dacd9",
   "metadata": {},
   "outputs": [],
   "source": [
    "import numpy as np\n",
    "import pandas as pd\n",
    "import geopandas as gpd\n",
    "import contextily as cx\n",
    "\n",
    "from shapely.geometry import Point, MultiPoint, LineString, Polygon\n",
    "from pathlib import Path\n",
    "\n",
    "import matplotlib.pyplot as plt\n",
    "%matplotlib inline"
   ]
  },
  {
   "cell_type": "code",
   "execution_count": 2,
   "id": "cb8a407b-bed7-41b6-ac5a-1cb1ae0b804c",
   "metadata": {},
   "outputs": [],
   "source": [
    "DATA_PATH = Path(\"../site-master/source/notebooks/L4/data\")"
   ]
  },
  {
   "cell_type": "code",
   "execution_count": 5,
   "id": "943b0554-1fc9-4af5-aacf-de008d48ce9e",
   "metadata": {},
   "outputs": [],
   "source": [
    "hel = gpd.read_file(\n",
    "    DATA_PATH / \"Helsinki_borders.shp\"\n",
    ")\n",
    "grid = gpd.read_file(\n",
    "    DATA_PATH / \"TravelTimes_to_5975375_RailwayStation.shp\"\n",
    ")"
   ]
  },
  {
   "cell_type": "code",
   "execution_count": 6,
   "id": "7ff67763-6d85-4647-8ef0-5d42450b947b",
   "metadata": {},
   "outputs": [
    {
     "data": {
      "text/html": [
       "<div>\n",
       "<style scoped>\n",
       "    .dataframe tbody tr th:only-of-type {\n",
       "        vertical-align: middle;\n",
       "    }\n",
       "\n",
       "    .dataframe tbody tr th {\n",
       "        vertical-align: top;\n",
       "    }\n",
       "\n",
       "    .dataframe thead th {\n",
       "        text-align: right;\n",
       "    }\n",
       "</style>\n",
       "<table border=\"1\" class=\"dataframe\">\n",
       "  <thead>\n",
       "    <tr style=\"text-align: right;\">\n",
       "      <th></th>\n",
       "      <th>GML_ID</th>\n",
       "      <th>NAMEFIN</th>\n",
       "      <th>NAMESWE</th>\n",
       "      <th>NATCODE</th>\n",
       "      <th>geometry</th>\n",
       "    </tr>\n",
       "  </thead>\n",
       "  <tbody>\n",
       "    <tr>\n",
       "      <th>0</th>\n",
       "      <td>27517366</td>\n",
       "      <td>Helsinki</td>\n",
       "      <td>Helsingfors</td>\n",
       "      <td>091</td>\n",
       "      <td>POLYGON ((399936.363 6684600.244, 399937.630 6...</td>\n",
       "    </tr>\n",
       "  </tbody>\n",
       "</table>\n",
       "</div>"
      ],
      "text/plain": [
       "     GML_ID   NAMEFIN      NAMESWE NATCODE  \\\n",
       "0  27517366  Helsinki  Helsingfors     091   \n",
       "\n",
       "                                            geometry  \n",
       "0  POLYGON ((399936.363 6684600.244, 399937.630 6...  "
      ]
     },
     "execution_count": 6,
     "metadata": {},
     "output_type": "execute_result"
    }
   ],
   "source": [
    "hel.head()"
   ]
  },
  {
   "cell_type": "code",
   "execution_count": 7,
   "id": "7a63ac71-c085-4a8d-a2a7-6c313473e2d5",
   "metadata": {},
   "outputs": [
    {
     "data": {
      "text/html": [
       "<div>\n",
       "<style scoped>\n",
       "    .dataframe tbody tr th:only-of-type {\n",
       "        vertical-align: middle;\n",
       "    }\n",
       "\n",
       "    .dataframe tbody tr th {\n",
       "        vertical-align: top;\n",
       "    }\n",
       "\n",
       "    .dataframe thead th {\n",
       "        text-align: right;\n",
       "    }\n",
       "</style>\n",
       "<table border=\"1\" class=\"dataframe\">\n",
       "  <thead>\n",
       "    <tr style=\"text-align: right;\">\n",
       "      <th></th>\n",
       "      <th>car_m_d</th>\n",
       "      <th>car_m_t</th>\n",
       "      <th>car_r_d</th>\n",
       "      <th>car_r_t</th>\n",
       "      <th>from_id</th>\n",
       "      <th>pt_m_d</th>\n",
       "      <th>pt_m_t</th>\n",
       "      <th>pt_m_tt</th>\n",
       "      <th>pt_r_d</th>\n",
       "      <th>pt_r_t</th>\n",
       "      <th>pt_r_tt</th>\n",
       "      <th>to_id</th>\n",
       "      <th>walk_d</th>\n",
       "      <th>walk_t</th>\n",
       "      <th>geometry</th>\n",
       "    </tr>\n",
       "  </thead>\n",
       "  <tbody>\n",
       "    <tr>\n",
       "      <th>0</th>\n",
       "      <td>32297</td>\n",
       "      <td>43</td>\n",
       "      <td>32260</td>\n",
       "      <td>48</td>\n",
       "      <td>5785640</td>\n",
       "      <td>32616</td>\n",
       "      <td>116</td>\n",
       "      <td>147</td>\n",
       "      <td>32616</td>\n",
       "      <td>108</td>\n",
       "      <td>139</td>\n",
       "      <td>5975375</td>\n",
       "      <td>32164</td>\n",
       "      <td>459</td>\n",
       "      <td>POLYGON ((382000.000 6697750.000, 381750.000 6...</td>\n",
       "    </tr>\n",
       "    <tr>\n",
       "      <th>1</th>\n",
       "      <td>32508</td>\n",
       "      <td>43</td>\n",
       "      <td>32471</td>\n",
       "      <td>49</td>\n",
       "      <td>5785641</td>\n",
       "      <td>32822</td>\n",
       "      <td>119</td>\n",
       "      <td>145</td>\n",
       "      <td>32822</td>\n",
       "      <td>111</td>\n",
       "      <td>133</td>\n",
       "      <td>5975375</td>\n",
       "      <td>29547</td>\n",
       "      <td>422</td>\n",
       "      <td>POLYGON ((382250.000 6697750.000, 382000.000 6...</td>\n",
       "    </tr>\n",
       "    <tr>\n",
       "      <th>2</th>\n",
       "      <td>30133</td>\n",
       "      <td>50</td>\n",
       "      <td>31872</td>\n",
       "      <td>56</td>\n",
       "      <td>5785642</td>\n",
       "      <td>32940</td>\n",
       "      <td>121</td>\n",
       "      <td>146</td>\n",
       "      <td>32940</td>\n",
       "      <td>113</td>\n",
       "      <td>133</td>\n",
       "      <td>5975375</td>\n",
       "      <td>29626</td>\n",
       "      <td>423</td>\n",
       "      <td>POLYGON ((382500.000 6697750.000, 382250.000 6...</td>\n",
       "    </tr>\n",
       "    <tr>\n",
       "      <th>3</th>\n",
       "      <td>32690</td>\n",
       "      <td>54</td>\n",
       "      <td>34429</td>\n",
       "      <td>60</td>\n",
       "      <td>5785643</td>\n",
       "      <td>33233</td>\n",
       "      <td>125</td>\n",
       "      <td>150</td>\n",
       "      <td>33233</td>\n",
       "      <td>117</td>\n",
       "      <td>144</td>\n",
       "      <td>5975375</td>\n",
       "      <td>29919</td>\n",
       "      <td>427</td>\n",
       "      <td>POLYGON ((382750.000 6697750.000, 382500.000 6...</td>\n",
       "    </tr>\n",
       "    <tr>\n",
       "      <th>4</th>\n",
       "      <td>31872</td>\n",
       "      <td>42</td>\n",
       "      <td>31834</td>\n",
       "      <td>48</td>\n",
       "      <td>5787544</td>\n",
       "      <td>32127</td>\n",
       "      <td>109</td>\n",
       "      <td>126</td>\n",
       "      <td>32127</td>\n",
       "      <td>101</td>\n",
       "      <td>121</td>\n",
       "      <td>5975375</td>\n",
       "      <td>31674</td>\n",
       "      <td>452</td>\n",
       "      <td>POLYGON ((381250.000 6697500.000, 381000.000 6...</td>\n",
       "    </tr>\n",
       "  </tbody>\n",
       "</table>\n",
       "</div>"
      ],
      "text/plain": [
       "   car_m_d  car_m_t  car_r_d  car_r_t  from_id  pt_m_d  pt_m_t  pt_m_tt  \\\n",
       "0    32297       43    32260       48  5785640   32616     116      147   \n",
       "1    32508       43    32471       49  5785641   32822     119      145   \n",
       "2    30133       50    31872       56  5785642   32940     121      146   \n",
       "3    32690       54    34429       60  5785643   33233     125      150   \n",
       "4    31872       42    31834       48  5787544   32127     109      126   \n",
       "\n",
       "   pt_r_d  pt_r_t  pt_r_tt    to_id  walk_d  walk_t  \\\n",
       "0   32616     108      139  5975375   32164     459   \n",
       "1   32822     111      133  5975375   29547     422   \n",
       "2   32940     113      133  5975375   29626     423   \n",
       "3   33233     117      144  5975375   29919     427   \n",
       "4   32127     101      121  5975375   31674     452   \n",
       "\n",
       "                                            geometry  \n",
       "0  POLYGON ((382000.000 6697750.000, 381750.000 6...  \n",
       "1  POLYGON ((382250.000 6697750.000, 382000.000 6...  \n",
       "2  POLYGON ((382500.000 6697750.000, 382250.000 6...  \n",
       "3  POLYGON ((382750.000 6697750.000, 382500.000 6...  \n",
       "4  POLYGON ((381250.000 6697500.000, 381000.000 6...  "
      ]
     },
     "execution_count": 7,
     "metadata": {},
     "output_type": "execute_result"
    }
   ],
   "source": [
    "grid.head()"
   ]
  },
  {
   "cell_type": "markdown",
   "id": "3303d47d-f62c-433e-9f2a-84b20404d783",
   "metadata": {},
   "source": [
    "## Overlay data"
   ]
  },
  {
   "cell_type": "code",
   "execution_count": 13,
   "id": "fc47069c-15c4-49af-a688-5b763f50e57c",
   "metadata": {},
   "outputs": [
    {
     "data": {
      "image/png": "[encoded data removed]",
      "text/plain": [
       "<Figure size 504x504 with 1 Axes>"
      ]
     },
     "metadata": {
      "needs_background": "light"
     },
     "output_type": "display_data"
    }
   ],
   "source": [
    "_, ax = plt.subplots(figsize=(7, 7))\n",
    "grid.plot(\n",
    "    ax=ax,\n",
    "    facecolor=\"orange\",\n",
    "    edgecolor=\"white\",\n",
    "    linewidth=0.1,\n",
    "    alpha=0.8\n",
    ")\n",
    "hel.plot(\n",
    "    ax=ax,\n",
    "    facecolor=\"None\",\n",
    "    edgecolor=\"green\",\n",
    "    alpha=1\n",
    ")\n",
    "ax.set_facecolor(\"k\")"
   ]
  },
  {
   "cell_type": "code",
   "execution_count": 15,
   "id": "c60a6100-a38f-4f4a-9f1e-11ef230db737",
   "metadata": {},
   "outputs": [
    {
     "data": {
      "text/plain": [
       "<Derived Projected CRS: EPSG:3067>\n",
       "Name: ETRS89 / TM35FIN(E,N)\n",
       "Axis Info [cartesian]:\n",
       "- E[east]: Easting (metre)\n",
       "- N[north]: Northing (metre)\n",
       "Area of Use:\n",
       "- name: Finland - onshore and offshore.\n",
       "- bounds: (19.08, 58.84, 31.59, 70.09)\n",
       "Coordinate Operation:\n",
       "- name: TM35FIN\n",
       "- method: Transverse Mercator\n",
       "Datum: European Terrestrial Reference System 1989 ensemble\n",
       "- Ellipsoid: GRS 1980\n",
       "- Prime Meridian: Greenwich"
      ]
     },
     "execution_count": 15,
     "metadata": {},
     "output_type": "execute_result"
    }
   ],
   "source": [
    "hel.crs"
   ]
  },
  {
   "cell_type": "code",
   "execution_count": 16,
   "id": "c024ceb3-f7e3-4209-ac5d-bf71a1f956a7",
   "metadata": {},
   "outputs": [
    {
     "data": {
      "text/plain": [
       "<Derived Projected CRS: EPSG:3067>\n",
       "Name: ETRS89 / TM35FIN(E,N)\n",
       "Axis Info [cartesian]:\n",
       "- E[east]: Easting (metre)\n",
       "- N[north]: Northing (metre)\n",
       "Area of Use:\n",
       "- name: Finland - onshore and offshore.\n",
       "- bounds: (19.08, 58.84, 31.59, 70.09)\n",
       "Coordinate Operation:\n",
       "- name: TM35FIN\n",
       "- method: Transverse Mercator\n",
       "Datum: European Terrestrial Reference System 1989 ensemble\n",
       "- Ellipsoid: GRS 1980\n",
       "- Prime Meridian: Greenwich"
      ]
     },
     "execution_count": 16,
     "metadata": {},
     "output_type": "execute_result"
    }
   ],
   "source": [
    "grid.crs"
   ]
  },
  {
   "cell_type": "code",
   "execution_count": 17,
   "id": "b1c7a86e-2859-4e11-b986-ef1c1d3145d6",
   "metadata": {},
   "outputs": [],
   "source": [
    "# Find intersection of the two areas\n",
    "intersection = gpd.overlay(\n",
    "    grid, \n",
    "    hel,\n",
    "    how=\"intersection\"\n",
    ")"
   ]
  },
  {
   "cell_type": "code",
   "execution_count": 19,
   "id": "b4f6a371-9c67-44d8-91f5-ba8560d221b6",
   "metadata": {},
   "outputs": [
    {
     "data": {
      "text/plain": [
       "<AxesSubplot:>"
      ]
     },
     "execution_count": 19,
     "metadata": {},
     "output_type": "execute_result"
    },
    {
     "data": {
      "image/png": "[encoded data removed]",
      "text/plain": [
       "<Figure size 432x288 with 1 Axes>"
      ]
     },
     "metadata": {
      "needs_background": "light"
     },
     "output_type": "display_data"
    }
   ],
   "source": [
    "intersection.plot()"
   ]
  },
  {
   "cell_type": "code",
   "execution_count": 22,
   "id": "5300ba05-9646-4f57-b71c-40dcc73dd960",
   "metadata": {},
   "outputs": [],
   "source": [
    "intersection2 = (grid\n",
    "                 .loc[grid.intersects(hel.at[0, \"geometry\"])]\n",
    "                )"
   ]
  },
  {
   "cell_type": "code",
   "execution_count": 23,
   "id": "3099371b-d57d-4b23-bf03-fc26eda81224",
   "metadata": {},
   "outputs": [
    {
     "data": {
      "text/plain": [
       "<AxesSubplot:>"
      ]
     },
     "execution_count": 23,
     "metadata": {},
     "output_type": "execute_result"
    },
    {
     "data": {
      "image/png": "[encoded data removed]",
      "text/plain": [
       "<Figure size 432x288 with 1 Axes>"
      ]
     },
     "metadata": {
      "needs_background": "light"
     },
     "output_type": "display_data"
    }
   ],
   "source": [
    "intersection2.plot()"
   ]
  },
  {
   "cell_type": "markdown",
   "id": "0afe958c-e8ae-4edc-b1aa-683a1a94d0c0",
   "metadata": {},
   "source": [
    "This second approach does not clip the cells at the border."
   ]
  },
  {
   "cell_type": "code",
   "execution_count": 25,
   "id": "e00253bf-8b90-4c26-820f-9efa8707b8d0",
   "metadata": {},
   "outputs": [
    {
     "data": {
      "text/html": [
       "<div>\n",
       "<style scoped>\n",
       "    .dataframe tbody tr th:only-of-type {\n",
       "        vertical-align: middle;\n",
       "    }\n",
       "\n",
       "    .dataframe tbody tr th {\n",
       "        vertical-align: top;\n",
       "    }\n",
       "\n",
       "    .dataframe thead th {\n",
       "        text-align: right;\n",
       "    }\n",
       "</style>\n",
       "<table border=\"1\" class=\"dataframe\">\n",
       "  <thead>\n",
       "    <tr style=\"text-align: right;\">\n",
       "      <th></th>\n",
       "      <th>car_m_d</th>\n",
       "      <th>car_m_t</th>\n",
       "      <th>car_r_d</th>\n",
       "      <th>car_r_t</th>\n",
       "      <th>from_id</th>\n",
       "      <th>pt_m_d</th>\n",
       "      <th>pt_m_t</th>\n",
       "      <th>pt_m_tt</th>\n",
       "      <th>pt_r_d</th>\n",
       "      <th>pt_r_t</th>\n",
       "      <th>pt_r_tt</th>\n",
       "      <th>to_id</th>\n",
       "      <th>walk_d</th>\n",
       "      <th>walk_t</th>\n",
       "      <th>GML_ID</th>\n",
       "      <th>NAMEFIN</th>\n",
       "      <th>NAMESWE</th>\n",
       "      <th>NATCODE</th>\n",
       "      <th>geometry</th>\n",
       "    </tr>\n",
       "  </thead>\n",
       "  <tbody>\n",
       "    <tr>\n",
       "      <th>0</th>\n",
       "      <td>29476</td>\n",
       "      <td>41</td>\n",
       "      <td>29483</td>\n",
       "      <td>46</td>\n",
       "      <td>5876274</td>\n",
       "      <td>29990</td>\n",
       "      <td>76</td>\n",
       "      <td>95</td>\n",
       "      <td>24984</td>\n",
       "      <td>77</td>\n",
       "      <td>99</td>\n",
       "      <td>5975375</td>\n",
       "      <td>25532</td>\n",
       "      <td>365</td>\n",
       "      <td>27517366</td>\n",
       "      <td>Helsinki</td>\n",
       "      <td>Helsingfors</td>\n",
       "      <td>091</td>\n",
       "      <td>POLYGON ((402024.224 6685750.000, 402003.328 6...</td>\n",
       "    </tr>\n",
       "    <tr>\n",
       "      <th>1</th>\n",
       "      <td>29456</td>\n",
       "      <td>41</td>\n",
       "      <td>29462</td>\n",
       "      <td>46</td>\n",
       "      <td>5876275</td>\n",
       "      <td>29866</td>\n",
       "      <td>74</td>\n",
       "      <td>95</td>\n",
       "      <td>24860</td>\n",
       "      <td>75</td>\n",
       "      <td>93</td>\n",
       "      <td>5975375</td>\n",
       "      <td>25408</td>\n",
       "      <td>363</td>\n",
       "      <td>27517366</td>\n",
       "      <td>Helsinki</td>\n",
       "      <td>Helsingfors</td>\n",
       "      <td>091</td>\n",
       "      <td>POLYGON ((402250.000 6685750.000, 402250.000 6...</td>\n",
       "    </tr>\n",
       "    <tr>\n",
       "      <th>2</th>\n",
       "      <td>36772</td>\n",
       "      <td>50</td>\n",
       "      <td>36778</td>\n",
       "      <td>56</td>\n",
       "      <td>5876278</td>\n",
       "      <td>33541</td>\n",
       "      <td>116</td>\n",
       "      <td>137</td>\n",
       "      <td>44265</td>\n",
       "      <td>130</td>\n",
       "      <td>146</td>\n",
       "      <td>5975375</td>\n",
       "      <td>31110</td>\n",
       "      <td>444</td>\n",
       "      <td>27517366</td>\n",
       "      <td>Helsinki</td>\n",
       "      <td>Helsingfors</td>\n",
       "      <td>091</td>\n",
       "      <td>POLYGON ((403148.515 6685750.000, 403243.781 6...</td>\n",
       "    </tr>\n",
       "    <tr>\n",
       "      <th>3</th>\n",
       "      <td>36898</td>\n",
       "      <td>49</td>\n",
       "      <td>36904</td>\n",
       "      <td>56</td>\n",
       "      <td>5876279</td>\n",
       "      <td>33720</td>\n",
       "      <td>119</td>\n",
       "      <td>141</td>\n",
       "      <td>44444</td>\n",
       "      <td>132</td>\n",
       "      <td>155</td>\n",
       "      <td>5975375</td>\n",
       "      <td>31289</td>\n",
       "      <td>447</td>\n",
       "      <td>27517366</td>\n",
       "      <td>Helsinki</td>\n",
       "      <td>Helsingfors</td>\n",
       "      <td>091</td>\n",
       "      <td>POLYGON ((403250.000 6685750.000, 403250.000 6...</td>\n",
       "    </tr>\n",
       "    <tr>\n",
       "      <th>4</th>\n",
       "      <td>29411</td>\n",
       "      <td>40</td>\n",
       "      <td>29418</td>\n",
       "      <td>44</td>\n",
       "      <td>5878128</td>\n",
       "      <td>29944</td>\n",
       "      <td>75</td>\n",
       "      <td>95</td>\n",
       "      <td>24938</td>\n",
       "      <td>76</td>\n",
       "      <td>99</td>\n",
       "      <td>5975375</td>\n",
       "      <td>25486</td>\n",
       "      <td>364</td>\n",
       "      <td>27517366</td>\n",
       "      <td>Helsinki</td>\n",
       "      <td>Helsingfors</td>\n",
       "      <td>091</td>\n",
       "      <td>POLYGON ((401900.425 6685500.000, 402000.000 6...</td>\n",
       "    </tr>\n",
       "  </tbody>\n",
       "</table>\n",
       "</div>"
      ],
      "text/plain": [
       "   car_m_d  car_m_t  car_r_d  car_r_t  from_id  pt_m_d  pt_m_t  pt_m_tt  \\\n",
       "0    29476       41    29483       46  5876274   29990      76       95   \n",
       "1    29456       41    29462       46  5876275   29866      74       95   \n",
       "2    36772       50    36778       56  5876278   33541     116      137   \n",
       "3    36898       49    36904       56  5876279   33720     119      141   \n",
       "4    29411       40    29418       44  5878128   29944      75       95   \n",
       "\n",
       "   pt_r_d  pt_r_t  pt_r_tt    to_id  walk_d  walk_t    GML_ID   NAMEFIN  \\\n",
       "0   24984      77       99  5975375   25532     365  27517366  Helsinki   \n",
       "1   24860      75       93  5975375   25408     363  27517366  Helsinki   \n",
       "2   44265     130      146  5975375   31110     444  27517366  Helsinki   \n",
       "3   44444     132      155  5975375   31289     447  27517366  Helsinki   \n",
       "4   24938      76       99  5975375   25486     364  27517366  Helsinki   \n",
       "\n",
       "       NAMESWE NATCODE                                           geometry  \n",
       "0  Helsingfors     091  POLYGON ((402024.224 6685750.000, 402003.328 6...  \n",
       "1  Helsingfors     091  POLYGON ((402250.000 6685750.000, 402250.000 6...  \n",
       "2  Helsingfors     091  POLYGON ((403148.515 6685750.000, 403243.781 6...  \n",
       "3  Helsingfors     091  POLYGON ((403250.000 6685750.000, 403250.000 6...  \n",
       "4  Helsingfors     091  POLYGON ((401900.425 6685500.000, 402000.000 6...  "
      ]
     },
     "execution_count": 25,
     "metadata": {},
     "output_type": "execute_result"
    }
   ],
   "source": [
    "intersection.head()"
   ]
  },
  {
   "cell_type": "code",
   "execution_count": 27,
   "id": "9d9e5e92-ab3a-4103-b82f-926b38b5cfca",
   "metadata": {},
   "outputs": [],
   "source": [
    "intersection.to_file((DATA_PATH \n",
    "                      / \"TravelTimes_to_5975375_RailwayStation_Helsinki.geojson\"),\n",
    "                      driver=\"GeoJSON\"\n",
    "                     )"
   ]
  },
  {
   "cell_type": "markdown",
   "id": "48e531a4-5bae-41f5-9cb5-119f35bfd447",
   "metadata": {},
   "source": [
    "## Aggregating data"
   ]
  },
  {
   "cell_type": "code",
   "execution_count": 30,
   "id": "2031d6ee-2893-4132-a8ee-5e6821fee2d9",
   "metadata": {},
   "outputs": [],
   "source": [
    "time_aggregate = (intersection\n",
    "                  .dissolve(\n",
    "                      by=\"car_r_t\",\n",
    "                      aggfunc=\"first\"\n",
    "                  )\n",
    "                  .reset_index()\n",
    "                 )"
   ]
  },
  {
   "cell_type": "code",
   "execution_count": 31,
   "id": "c85ee525-c491-4021-a98e-b80960fb2943",
   "metadata": {},
   "outputs": [
    {
     "data": {
      "text/html": [
       "<div>\n",
       "<style scoped>\n",
       "    .dataframe tbody tr th:only-of-type {\n",
       "        vertical-align: middle;\n",
       "    }\n",
       "\n",
       "    .dataframe tbody tr th {\n",
       "        vertical-align: top;\n",
       "    }\n",
       "\n",
       "    .dataframe thead th {\n",
       "        text-align: right;\n",
       "    }\n",
       "</style>\n",
       "<table border=\"1\" class=\"dataframe\">\n",
       "  <thead>\n",
       "    <tr style=\"text-align: right;\">\n",
       "      <th></th>\n",
       "      <th>car_r_t</th>\n",
       "      <th>geometry</th>\n",
       "      <th>car_m_d</th>\n",
       "      <th>car_m_t</th>\n",
       "      <th>car_r_d</th>\n",
       "      <th>from_id</th>\n",
       "      <th>pt_m_d</th>\n",
       "      <th>pt_m_t</th>\n",
       "      <th>pt_m_tt</th>\n",
       "      <th>pt_r_d</th>\n",
       "      <th>pt_r_t</th>\n",
       "      <th>pt_r_tt</th>\n",
       "      <th>to_id</th>\n",
       "      <th>walk_d</th>\n",
       "      <th>walk_t</th>\n",
       "      <th>GML_ID</th>\n",
       "      <th>NAMEFIN</th>\n",
       "      <th>NAMESWE</th>\n",
       "      <th>NATCODE</th>\n",
       "    </tr>\n",
       "  </thead>\n",
       "  <tbody>\n",
       "    <tr>\n",
       "      <th>0</th>\n",
       "      <td>-1</td>\n",
       "      <td>MULTIPOLYGON (((384750.000 6670000.000, 384500...</td>\n",
       "      <td>-1</td>\n",
       "      <td>-1</td>\n",
       "      <td>-1</td>\n",
       "      <td>5913094</td>\n",
       "      <td>-1</td>\n",
       "      <td>-1</td>\n",
       "      <td>-1</td>\n",
       "      <td>-1</td>\n",
       "      <td>-1</td>\n",
       "      <td>-1</td>\n",
       "      <td>-1</td>\n",
       "      <td>-1</td>\n",
       "      <td>-1</td>\n",
       "      <td>27517366</td>\n",
       "      <td>Helsinki</td>\n",
       "      <td>Helsingfors</td>\n",
       "      <td>091</td>\n",
       "    </tr>\n",
       "    <tr>\n",
       "      <th>1</th>\n",
       "      <td>0</td>\n",
       "      <td>POLYGON ((385750.000 6672000.000, 385750.000 6...</td>\n",
       "      <td>0</td>\n",
       "      <td>0</td>\n",
       "      <td>0</td>\n",
       "      <td>5975375</td>\n",
       "      <td>0</td>\n",
       "      <td>0</td>\n",
       "      <td>0</td>\n",
       "      <td>0</td>\n",
       "      <td>0</td>\n",
       "      <td>0</td>\n",
       "      <td>5975375</td>\n",
       "      <td>0</td>\n",
       "      <td>0</td>\n",
       "      <td>27517366</td>\n",
       "      <td>Helsinki</td>\n",
       "      <td>Helsingfors</td>\n",
       "      <td>091</td>\n",
       "    </tr>\n",
       "    <tr>\n",
       "      <th>2</th>\n",
       "      <td>7</td>\n",
       "      <td>POLYGON ((386250.000 6671750.000, 386000.000 6...</td>\n",
       "      <td>1051</td>\n",
       "      <td>7</td>\n",
       "      <td>1051</td>\n",
       "      <td>5973739</td>\n",
       "      <td>617</td>\n",
       "      <td>5</td>\n",
       "      <td>6</td>\n",
       "      <td>617</td>\n",
       "      <td>5</td>\n",
       "      <td>6</td>\n",
       "      <td>5975375</td>\n",
       "      <td>448</td>\n",
       "      <td>6</td>\n",
       "      <td>27517366</td>\n",
       "      <td>Helsinki</td>\n",
       "      <td>Helsingfors</td>\n",
       "      <td>091</td>\n",
       "    </tr>\n",
       "    <tr>\n",
       "      <th>3</th>\n",
       "      <td>8</td>\n",
       "      <td>MULTIPOLYGON (((386000.000 6671500.000, 385750...</td>\n",
       "      <td>1286</td>\n",
       "      <td>8</td>\n",
       "      <td>1286</td>\n",
       "      <td>5973736</td>\n",
       "      <td>706</td>\n",
       "      <td>10</td>\n",
       "      <td>10</td>\n",
       "      <td>706</td>\n",
       "      <td>10</td>\n",
       "      <td>10</td>\n",
       "      <td>5975375</td>\n",
       "      <td>706</td>\n",
       "      <td>10</td>\n",
       "      <td>27517366</td>\n",
       "      <td>Helsinki</td>\n",
       "      <td>Helsingfors</td>\n",
       "      <td>091</td>\n",
       "    </tr>\n",
       "    <tr>\n",
       "      <th>4</th>\n",
       "      <td>9</td>\n",
       "      <td>MULTIPOLYGON (((385000.000 6671250.000, 385000...</td>\n",
       "      <td>1871</td>\n",
       "      <td>9</td>\n",
       "      <td>1871</td>\n",
       "      <td>5970457</td>\n",
       "      <td>1384</td>\n",
       "      <td>11</td>\n",
       "      <td>13</td>\n",
       "      <td>1394</td>\n",
       "      <td>11</td>\n",
       "      <td>12</td>\n",
       "      <td>5975375</td>\n",
       "      <td>1249</td>\n",
       "      <td>18</td>\n",
       "      <td>27517366</td>\n",
       "      <td>Helsinki</td>\n",
       "      <td>Helsingfors</td>\n",
       "      <td>091</td>\n",
       "    </tr>\n",
       "  </tbody>\n",
       "</table>\n",
       "</div>"
      ],
      "text/plain": [
       "   car_r_t                                           geometry  car_m_d  \\\n",
       "0       -1  MULTIPOLYGON (((384750.000 6670000.000, 384500...       -1   \n",
       "1        0  POLYGON ((385750.000 6672000.000, 385750.000 6...        0   \n",
       "2        7  POLYGON ((386250.000 6671750.000, 386000.000 6...     1051   \n",
       "3        8  MULTIPOLYGON (((386000.000 6671500.000, 385750...     1286   \n",
       "4        9  MULTIPOLYGON (((385000.000 6671250.000, 385000...     1871   \n",
       "\n",
       "   car_m_t  car_r_d  from_id  pt_m_d  pt_m_t  pt_m_tt  pt_r_d  pt_r_t  \\\n",
       "0       -1       -1  5913094      -1      -1       -1      -1      -1   \n",
       "1        0        0  5975375       0       0        0       0       0   \n",
       "2        7     1051  5973739     617       5        6     617       5   \n",
       "3        8     1286  5973736     706      10       10     706      10   \n",
       "4        9     1871  5970457    1384      11       13    1394      11   \n",
       "\n",
       "   pt_r_tt    to_id  walk_d  walk_t    GML_ID   NAMEFIN      NAMESWE NATCODE  \n",
       "0       -1       -1      -1      -1  27517366  Helsinki  Helsingfors     091  \n",
       "1        0  5975375       0       0  27517366  Helsinki  Helsingfors     091  \n",
       "2        6  5975375     448       6  27517366  Helsinki  Helsingfors     091  \n",
       "3       10  5975375     706      10  27517366  Helsinki  Helsingfors     091  \n",
       "4       12  5975375    1249      18  27517366  Helsinki  Helsingfors     091  "
      ]
     },
     "execution_count": 31,
     "metadata": {},
     "output_type": "execute_result"
    }
   ],
   "source": [
    "time_aggregate.head()"
   ]
  },
  {
   "cell_type": "code",
   "execution_count": 32,
   "id": "1385fad9-4ce8-4be2-aafb-9975e31519ca",
   "metadata": {},
   "outputs": [
    {
     "data": {
      "text/plain": [
       "<AxesSubplot:>"
      ]
     },
     "execution_count": 32,
     "metadata": {},
     "output_type": "execute_result"
    },
    {
     "data": {
      "image/png": "[encoded data removed]",
      "text/plain": [
       "<Figure size 432x288 with 1 Axes>"
      ]
     },
     "metadata": {
      "needs_background": "light"
     },
     "output_type": "display_data"
    }
   ],
   "source": [
    "time_aggregate.plot(\n",
    "    column=\"car_r_t\",\n",
    "    scheme=\"quantiles\",\n",
    "    cmap=\"RdYlBu_r\",\n",
    "    legend=True\n",
    ")"
   ]
  },
  {
   "cell_type": "markdown",
   "id": "80f4997d-28cf-401e-8b7d-3ee279e53cec",
   "metadata": {},
   "source": [
    "## Simplifying geometries"
   ]
  },
  {
   "cell_type": "code",
   "execution_count": 34,
   "id": "3238f3e0-a283-45d1-9cba-e209cfd8a484",
   "metadata": {},
   "outputs": [],
   "source": [
    "ama = gpd.read_file(\n",
    "    DATA_PATH / \"Amazon_river.shp\"\n",
    ")"
   ]
  },
  {
   "cell_type": "code",
   "execution_count": 35,
   "id": "3d9bde35-ece0-4f5f-b631-59036f7fe75f",
   "metadata": {},
   "outputs": [
    {
     "data": {
      "text/plain": [
       "<Derived Projected CRS: PROJCS[\"Mercator_2SP\",GEOGCS[\"GCS_GRS 1980(IUGG, 1 ...>\n",
       "Name: Mercator_2SP\n",
       "Axis Info [cartesian]:\n",
       "- [east]: Easting (metre)\n",
       "- [north]: Northing (metre)\n",
       "Area of Use:\n",
       "- undefined\n",
       "Coordinate Operation:\n",
       "- name: unnamed\n",
       "- method: Mercator (variant B)\n",
       "Datum: D_unknown\n",
       "- Ellipsoid: GRS80\n",
       "- Prime Meridian: Unknown"
      ]
     },
     "execution_count": 35,
     "metadata": {},
     "output_type": "execute_result"
    }
   ],
   "source": [
    "ama.crs"
   ]
  },
  {
   "cell_type": "code",
   "execution_count": 36,
   "id": "06b2b948-5310-432f-9f4a-282b1f484908",
   "metadata": {},
   "outputs": [
    {
     "data": {
      "text/plain": [
       "<AxesSubplot:>"
      ]
     },
     "execution_count": 36,
     "metadata": {},
     "output_type": "execute_result"
    },
    {
     "data": {
      "image/png": "[encoded data removed]",
      "text/plain": [
       "<Figure size 432x288 with 1 Axes>"
      ]
     },
     "metadata": {
      "needs_background": "light"
     },
     "output_type": "display_data"
    }
   ],
   "source": [
    "ama.plot()"
   ]
  },
  {
   "cell_type": "code",
   "execution_count": 37,
   "id": "602b5dd8-4b76-4b5d-956a-3ca80cc56205",
   "metadata": {},
   "outputs": [
    {
     "data": {
      "text/html": [
       "<div>\n",
       "<style scoped>\n",
       "    .dataframe tbody tr th:only-of-type {\n",
       "        vertical-align: middle;\n",
       "    }\n",
       "\n",
       "    .dataframe tbody tr th {\n",
       "        vertical-align: top;\n",
       "    }\n",
       "\n",
       "    .dataframe thead th {\n",
       "        text-align: right;\n",
       "    }\n",
       "</style>\n",
       "<table border=\"1\" class=\"dataframe\">\n",
       "  <thead>\n",
       "    <tr style=\"text-align: right;\">\n",
       "      <th></th>\n",
       "      <th>bbox_east</th>\n",
       "      <th>bbox_north</th>\n",
       "      <th>bbox_south</th>\n",
       "      <th>bbox_west</th>\n",
       "      <th>place_name</th>\n",
       "      <th>geometry</th>\n",
       "    </tr>\n",
       "  </thead>\n",
       "  <tbody>\n",
       "    <tr>\n",
       "      <th>0</th>\n",
       "      <td>-49.10927</td>\n",
       "      <td>0.70653</td>\n",
       "      <td>-4.44219</td>\n",
       "      <td>-73.450126</td>\n",
       "      <td>Rio Amazonas, Microrregião de Manaus, Mesorreg...</td>\n",
       "      <td>MULTILINESTRING ((1612358.589 9508606.173, 161...</td>\n",
       "    </tr>\n",
       "  </tbody>\n",
       "</table>\n",
       "</div>"
      ],
      "text/plain": [
       "   bbox_east  bbox_north  bbox_south  bbox_west  \\\n",
       "0  -49.10927     0.70653    -4.44219 -73.450126   \n",
       "\n",
       "                                          place_name  \\\n",
       "0  Rio Amazonas, Microrregião de Manaus, Mesorreg...   \n",
       "\n",
       "                                            geometry  \n",
       "0  MULTILINESTRING ((1612358.589 9508606.173, 161...  "
      ]
     },
     "execution_count": 37,
     "metadata": {},
     "output_type": "execute_result"
    }
   ],
   "source": [
    "ama.head()"
   ]
  },
  {
   "cell_type": "code",
   "execution_count": 38,
   "id": "0e425fc4-d65d-4945-a49e-3f850cfa35cc",
   "metadata": {},
   "outputs": [],
   "source": [
    "ama = (ama\n",
    "       .assign(\n",
    "           geom_gen=lambda x:x.simplify(tolerance=20000)\n",
    "       )\n",
    "       .set_geometry(\"geom_gen\")\n",
    "      )"
   ]
  },
  {
   "cell_type": "code",
   "execution_count": 39,
   "id": "ff587aae-16b0-416a-98ae-7031149d9839",
   "metadata": {},
   "outputs": [
    {
     "data": {
      "text/plain": [
       "<AxesSubplot:>"
      ]
     },
     "execution_count": 39,
     "metadata": {},
     "output_type": "execute_result"
    },
    {
     "data": {
      "image/png": "[encoded data removed]",
      "text/plain": [
       "<Figure size 432x288 with 1 Axes>"
      ]
     },
     "metadata": {
      "needs_background": "light"
     },
     "output_type": "display_data"
    }
   ],
   "source": [
    "ama.plot()"
   ]
  },
  {
   "cell_type": "markdown",
   "id": "a2ff83db-b7fb-44f9-8c19-a8c7ea192e4f",
   "metadata": {},
   "source": [
    "## Case study"
   ]
  },
  {
   "cell_type": "code",
   "execution_count": 43,
   "id": "f7b93997-2788-46dd-b469-b72daf88658c",
   "metadata": {},
   "outputs": [],
   "source": [
    "import json\n",
    "from pyproj import CRS\n",
    "import requests\n",
    "import geojson"
   ]
  },
  {
   "cell_type": "code",
   "execution_count": 91,
   "id": "21508fa1-4fe5-486c-819b-a0bdbe3e6953",
   "metadata": {},
   "outputs": [],
   "source": [
    "url = \"http://geo.stat.fi/geoserver/tilastointialueet/wfs\"\n",
    "\n",
    "params = dict(service='WFS', \n",
    "              version='2.0.0', \n",
    "              request='GetFeature', \n",
    "              typeName='tilastointialueet:kunta1000k', \n",
    "              outputFormat='json')\n",
    "\n",
    "req = requests.get(url, params=params)\n",
    "geodata = (gpd.GeoDataFrame.from_features(geojson.loads(req.content))\n",
    "           .set_crs(epsg=3067)\n",
    "           .rename(\n",
    "               columns={\"kunta\": \"code\"}\n",
    "           )\n",
    "           [[\"code\", \"name\", \"geometry\"]]\n",
    "      )"
   ]
  },
  {
   "cell_type": "code",
   "execution_count": 89,
   "id": "731c6b83-88fa-4ec7-854c-3a2e513768c9",
   "metadata": {},
   "outputs": [
    {
     "data": {
      "text/html": [
       "<div>\n",
       "<style scoped>\n",
       "    .dataframe tbody tr th:only-of-type {\n",
       "        vertical-align: middle;\n",
       "    }\n",
       "\n",
       "    .dataframe tbody tr th {\n",
       "        vertical-align: top;\n",
       "    }\n",
       "\n",
       "    .dataframe thead th {\n",
       "        text-align: right;\n",
       "    }\n",
       "</style>\n",
       "<table border=\"1\" class=\"dataframe\">\n",
       "  <thead>\n",
       "    <tr style=\"text-align: right;\">\n",
       "      <th></th>\n",
       "      <th>code</th>\n",
       "      <th>name</th>\n",
       "      <th>geometry</th>\n",
       "    </tr>\n",
       "  </thead>\n",
       "  <tbody>\n",
       "    <tr>\n",
       "      <th>0</th>\n",
       "      <td>005</td>\n",
       "      <td>Alajärvi</td>\n",
       "      <td>POLYGON ((366787.924 7001300.583, 364150.540 7...</td>\n",
       "    </tr>\n",
       "    <tr>\n",
       "      <th>1</th>\n",
       "      <td>009</td>\n",
       "      <td>Alavieska</td>\n",
       "      <td>POLYGON ((382543.364 7120022.976, 380556.177 7...</td>\n",
       "    </tr>\n",
       "    <tr>\n",
       "      <th>2</th>\n",
       "      <td>010</td>\n",
       "      <td>Alavus</td>\n",
       "      <td>POLYGON ((343298.204 6961570.195, 340572.015 6...</td>\n",
       "    </tr>\n",
       "    <tr>\n",
       "      <th>3</th>\n",
       "      <td>016</td>\n",
       "      <td>Asikkala</td>\n",
       "      <td>POLYGON ((436139.680 6798279.085, 432732.949 6...</td>\n",
       "    </tr>\n",
       "    <tr>\n",
       "      <th>4</th>\n",
       "      <td>018</td>\n",
       "      <td>Askola</td>\n",
       "      <td>POLYGON ((426631.036 6720528.076, 425751.505 6...</td>\n",
       "    </tr>\n",
       "  </tbody>\n",
       "</table>\n",
       "</div>"
      ],
      "text/plain": [
       "  code       name                                           geometry\n",
       "0  005   Alajärvi  POLYGON ((366787.924 7001300.583, 364150.540 7...\n",
       "1  009  Alavieska  POLYGON ((382543.364 7120022.976, 380556.177 7...\n",
       "2  010     Alavus  POLYGON ((343298.204 6961570.195, 340572.015 6...\n",
       "3  016   Asikkala  POLYGON ((436139.680 6798279.085, 432732.949 6...\n",
       "4  018     Askola  POLYGON ((426631.036 6720528.076, 425751.505 6..."
      ]
     },
     "execution_count": 89,
     "metadata": {},
     "output_type": "execute_result"
    }
   ],
   "source": [
    "geodata.head()"
   ]
  },
  {
   "cell_type": "code",
   "execution_count": 92,
   "id": "4f492fd5-3383-467a-8829-538b832e799c",
   "metadata": {},
   "outputs": [
    {
     "data": {
      "text/plain": [
       "<Derived Projected CRS: EPSG:3067>\n",
       "Name: ETRS89 / TM35FIN(E,N)\n",
       "Axis Info [cartesian]:\n",
       "- E[east]: Easting (metre)\n",
       "- N[north]: Northing (metre)\n",
       "Area of Use:\n",
       "- name: Finland - onshore and offshore.\n",
       "- bounds: (19.08, 58.84, 31.59, 70.09)\n",
       "Coordinate Operation:\n",
       "- name: TM35FIN\n",
       "- method: Transverse Mercator\n",
       "Datum: European Terrestrial Reference System 1989 ensemble\n",
       "- Ellipsoid: GRS 1980\n",
       "- Prime Meridian: Greenwich"
      ]
     },
     "execution_count": 92,
     "metadata": {},
     "output_type": "execute_result"
    }
   ],
   "source": [
    "geodata.crs"
   ]
  },
  {
   "cell_type": "code",
   "execution_count": 93,
   "id": "d2c085f5-c363-4f5f-a0b1-2c97d675fa39",
   "metadata": {},
   "outputs": [
    {
     "data": {
      "text/plain": [
       "<AxesSubplot:>"
      ]
     },
     "execution_count": 93,
     "metadata": {},
     "output_type": "execute_result"
    },
    {
     "data": {
      "image/png": "[encoded data removed]",
      "text/plain": [
       "<Figure size 432x288 with 1 Axes>"
      ]
     },
     "metadata": {
      "needs_background": "light"
     },
     "output_type": "display_data"
    }
   ],
   "source": [
    "geodata.plot()"
   ]
  },
  {
   "cell_type": "code",
   "execution_count": 94,
   "id": "88c286e5-e048-45bd-af04-240b84ece3d8",
   "metadata": {},
   "outputs": [],
   "source": [
    "health_distr = pd.read_excel(\n",
    "    DATA_PATH / r\"Shp_jäsenkunnat_2020.xls\",\n",
    "    sheet_name=\"kunnat_shp_2020_ aakkosjärj.\",\n",
    "    header=3\n",
    ")"
   ]
  },
  {
   "cell_type": "code",
   "execution_count": 95,
   "id": "28f535a1-6b6a-4651-a765-af5d89b2a1ff",
   "metadata": {},
   "outputs": [
    {
     "data": {
      "text/html": [
       "<div>\n",
       "<style scoped>\n",
       "    .dataframe tbody tr th:only-of-type {\n",
       "        vertical-align: middle;\n",
       "    }\n",
       "\n",
       "    .dataframe tbody tr th {\n",
       "        vertical-align: top;\n",
       "    }\n",
       "\n",
       "    .dataframe thead th {\n",
       "        text-align: right;\n",
       "    }\n",
       "</style>\n",
       "<table border=\"1\" class=\"dataframe\">\n",
       "  <thead>\n",
       "    <tr style=\"text-align: right;\">\n",
       "      <th></th>\n",
       "      <th>kunta-\\nkoodi</th>\n",
       "      <th>kunta</th>\n",
       "      <th>shp:n koodi</th>\n",
       "      <th>sairaanhoitopiiri</th>\n",
       "      <th>erva-alue</th>\n",
       "      <th>kuntien lkm</th>\n",
       "    </tr>\n",
       "  </thead>\n",
       "  <tbody>\n",
       "    <tr>\n",
       "      <th>0</th>\n",
       "      <td>NaN</td>\n",
       "      <td>NaN</td>\n",
       "      <td>NaN</td>\n",
       "      <td>NaN</td>\n",
       "      <td>NaN</td>\n",
       "      <td>NaN</td>\n",
       "    </tr>\n",
       "    <tr>\n",
       "      <th>1</th>\n",
       "      <td>20.0</td>\n",
       "      <td>Akaa</td>\n",
       "      <td>6.0</td>\n",
       "      <td>Pirkanmaa</td>\n",
       "      <td>TAYS</td>\n",
       "      <td>1.0</td>\n",
       "    </tr>\n",
       "    <tr>\n",
       "      <th>2</th>\n",
       "      <td>5.0</td>\n",
       "      <td>Alajärvi</td>\n",
       "      <td>15.0</td>\n",
       "      <td>Etelä-Pohjanmaa</td>\n",
       "      <td>TAYS</td>\n",
       "      <td>2.0</td>\n",
       "    </tr>\n",
       "    <tr>\n",
       "      <th>3</th>\n",
       "      <td>9.0</td>\n",
       "      <td>Alavieska</td>\n",
       "      <td>18.0</td>\n",
       "      <td>Pohjois-Pohjanmaa</td>\n",
       "      <td>OYS</td>\n",
       "      <td>3.0</td>\n",
       "    </tr>\n",
       "    <tr>\n",
       "      <th>4</th>\n",
       "      <td>10.0</td>\n",
       "      <td>Alavus</td>\n",
       "      <td>15.0</td>\n",
       "      <td>Etelä-Pohjanmaa</td>\n",
       "      <td>TAYS</td>\n",
       "      <td>4.0</td>\n",
       "    </tr>\n",
       "  </tbody>\n",
       "</table>\n",
       "</div>"
      ],
      "text/plain": [
       "   kunta-\\nkoodi      kunta  shp:n koodi  sairaanhoitopiiri erva-alue  \\\n",
       "0            NaN        NaN          NaN                NaN       NaN   \n",
       "1           20.0       Akaa          6.0          Pirkanmaa      TAYS   \n",
       "2            5.0   Alajärvi         15.0    Etelä-Pohjanmaa      TAYS   \n",
       "3            9.0  Alavieska         18.0  Pohjois-Pohjanmaa       OYS   \n",
       "4           10.0     Alavus         15.0    Etelä-Pohjanmaa      TAYS   \n",
       "\n",
       "   kuntien lkm  \n",
       "0          NaN  \n",
       "1          1.0  \n",
       "2          2.0  \n",
       "3          3.0  \n",
       "4          4.0  "
      ]
     },
     "execution_count": 95,
     "metadata": {},
     "output_type": "execute_result"
    }
   ],
   "source": [
    "health_distr.head()"
   ]
  },
  {
   "cell_type": "code",
   "execution_count": 97,
   "id": "91c7c829-719e-4699-afe1-f9022af9fc01",
   "metadata": {},
   "outputs": [],
   "source": [
    "health_distr = (health_distr\n",
    "                .dropna(how=\"all\")\n",
    "               )"
   ]
  },
  {
   "cell_type": "code",
   "execution_count": 98,
   "id": "57d52de2-c402-4074-884e-1b85188b30b2",
   "metadata": {},
   "outputs": [],
   "source": [
    "health_distr = (health_distr\n",
    "                .rename(\n",
    "                    columns={\"kunta-\\nkoodi\":\"code\", \n",
    "                             'sairaanhoitopiiri':'healthcare_distr'}\n",
    "                )\n",
    "                [[\"code\", \"healthcare_distr\"]]\n",
    "               )"
   ]
  },
  {
   "cell_type": "code",
   "execution_count": 99,
   "id": "82824547-d8a5-4053-ae7a-40e39d7e11a2",
   "metadata": {},
   "outputs": [
    {
     "data": {
      "text/html": [
       "<div>\n",
       "<style scoped>\n",
       "    .dataframe tbody tr th:only-of-type {\n",
       "        vertical-align: middle;\n",
       "    }\n",
       "\n",
       "    .dataframe tbody tr th {\n",
       "        vertical-align: top;\n",
       "    }\n",
       "\n",
       "    .dataframe thead th {\n",
       "        text-align: right;\n",
       "    }\n",
       "</style>\n",
       "<table border=\"1\" class=\"dataframe\">\n",
       "  <thead>\n",
       "    <tr style=\"text-align: right;\">\n",
       "      <th></th>\n",
       "      <th>code</th>\n",
       "      <th>healthcare_distr</th>\n",
       "    </tr>\n",
       "  </thead>\n",
       "  <tbody>\n",
       "    <tr>\n",
       "      <th>1</th>\n",
       "      <td>20.0</td>\n",
       "      <td>Pirkanmaa</td>\n",
       "    </tr>\n",
       "    <tr>\n",
       "      <th>2</th>\n",
       "      <td>5.0</td>\n",
       "      <td>Etelä-Pohjanmaa</td>\n",
       "    </tr>\n",
       "    <tr>\n",
       "      <th>3</th>\n",
       "      <td>9.0</td>\n",
       "      <td>Pohjois-Pohjanmaa</td>\n",
       "    </tr>\n",
       "    <tr>\n",
       "      <th>4</th>\n",
       "      <td>10.0</td>\n",
       "      <td>Etelä-Pohjanmaa</td>\n",
       "    </tr>\n",
       "    <tr>\n",
       "      <th>5</th>\n",
       "      <td>16.0</td>\n",
       "      <td>Päijät-Häme</td>\n",
       "    </tr>\n",
       "  </tbody>\n",
       "</table>\n",
       "</div>"
      ],
      "text/plain": [
       "   code   healthcare_distr\n",
       "1  20.0          Pirkanmaa\n",
       "2   5.0    Etelä-Pohjanmaa\n",
       "3   9.0  Pohjois-Pohjanmaa\n",
       "4  10.0    Etelä-Pohjanmaa\n",
       "5  16.0        Päijät-Häme"
      ]
     },
     "execution_count": 99,
     "metadata": {},
     "output_type": "execute_result"
    }
   ],
   "source": [
    "health_distr.head()"
   ]
  },
  {
   "cell_type": "code",
   "execution_count": 100,
   "id": "0bb22cbc-6605-488f-a226-4ebe81ac51f3",
   "metadata": {},
   "outputs": [],
   "source": [
    "health_distr = (health_distr\n",
    "                .assign(\n",
    "                    code=lambda x:(x[\"code\"]\n",
    "                                   .astype(int)\n",
    "                                   .astype(str)\n",
    "                                   .str\n",
    "                                   .zfill(3))\n",
    "                )\n",
    "               )"
   ]
  },
  {
   "cell_type": "code",
   "execution_count": 101,
   "id": "4c31913b-aa3b-4f1f-941b-9a4229cbe5fb",
   "metadata": {},
   "outputs": [
    {
     "data": {
      "text/html": [
       "<div>\n",
       "<style scoped>\n",
       "    .dataframe tbody tr th:only-of-type {\n",
       "        vertical-align: middle;\n",
       "    }\n",
       "\n",
       "    .dataframe tbody tr th {\n",
       "        vertical-align: top;\n",
       "    }\n",
       "\n",
       "    .dataframe thead th {\n",
       "        text-align: right;\n",
       "    }\n",
       "</style>\n",
       "<table border=\"1\" class=\"dataframe\">\n",
       "  <thead>\n",
       "    <tr style=\"text-align: right;\">\n",
       "      <th></th>\n",
       "      <th>code</th>\n",
       "      <th>healthcare_distr</th>\n",
       "    </tr>\n",
       "  </thead>\n",
       "  <tbody>\n",
       "    <tr>\n",
       "      <th>1</th>\n",
       "      <td>020</td>\n",
       "      <td>Pirkanmaa</td>\n",
       "    </tr>\n",
       "    <tr>\n",
       "      <th>2</th>\n",
       "      <td>005</td>\n",
       "      <td>Etelä-Pohjanmaa</td>\n",
       "    </tr>\n",
       "    <tr>\n",
       "      <th>3</th>\n",
       "      <td>009</td>\n",
       "      <td>Pohjois-Pohjanmaa</td>\n",
       "    </tr>\n",
       "    <tr>\n",
       "      <th>4</th>\n",
       "      <td>010</td>\n",
       "      <td>Etelä-Pohjanmaa</td>\n",
       "    </tr>\n",
       "    <tr>\n",
       "      <th>5</th>\n",
       "      <td>016</td>\n",
       "      <td>Päijät-Häme</td>\n",
       "    </tr>\n",
       "  </tbody>\n",
       "</table>\n",
       "</div>"
      ],
      "text/plain": [
       "  code   healthcare_distr\n",
       "1  020          Pirkanmaa\n",
       "2  005    Etelä-Pohjanmaa\n",
       "3  009  Pohjois-Pohjanmaa\n",
       "4  010    Etelä-Pohjanmaa\n",
       "5  016        Päijät-Häme"
      ]
     },
     "execution_count": 101,
     "metadata": {},
     "output_type": "execute_result"
    }
   ],
   "source": [
    "health_distr.head()"
   ]
  },
  {
   "cell_type": "code",
   "execution_count": 102,
   "id": "49e43cd6-9254-46a5-b908-a5883519c176",
   "metadata": {},
   "outputs": [
    {
     "data": {
      "text/html": [
       "<div>\n",
       "<style scoped>\n",
       "    .dataframe tbody tr th:only-of-type {\n",
       "        vertical-align: middle;\n",
       "    }\n",
       "\n",
       "    .dataframe tbody tr th {\n",
       "        vertical-align: top;\n",
       "    }\n",
       "\n",
       "    .dataframe thead th {\n",
       "        text-align: right;\n",
       "    }\n",
       "</style>\n",
       "<table border=\"1\" class=\"dataframe\">\n",
       "  <thead>\n",
       "    <tr style=\"text-align: right;\">\n",
       "      <th></th>\n",
       "      <th>code</th>\n",
       "      <th>name</th>\n",
       "      <th>geometry</th>\n",
       "    </tr>\n",
       "  </thead>\n",
       "  <tbody>\n",
       "    <tr>\n",
       "      <th>0</th>\n",
       "      <td>005</td>\n",
       "      <td>Alajärvi</td>\n",
       "      <td>POLYGON ((366787.924 7001300.583, 364150.540 7...</td>\n",
       "    </tr>\n",
       "    <tr>\n",
       "      <th>1</th>\n",
       "      <td>009</td>\n",
       "      <td>Alavieska</td>\n",
       "      <td>POLYGON ((382543.364 7120022.976, 380556.177 7...</td>\n",
       "    </tr>\n",
       "    <tr>\n",
       "      <th>2</th>\n",
       "      <td>010</td>\n",
       "      <td>Alavus</td>\n",
       "      <td>POLYGON ((343298.204 6961570.195, 340572.015 6...</td>\n",
       "    </tr>\n",
       "    <tr>\n",
       "      <th>3</th>\n",
       "      <td>016</td>\n",
       "      <td>Asikkala</td>\n",
       "      <td>POLYGON ((436139.680 6798279.085, 432732.949 6...</td>\n",
       "    </tr>\n",
       "    <tr>\n",
       "      <th>4</th>\n",
       "      <td>018</td>\n",
       "      <td>Askola</td>\n",
       "      <td>POLYGON ((426631.036 6720528.076, 425751.505 6...</td>\n",
       "    </tr>\n",
       "  </tbody>\n",
       "</table>\n",
       "</div>"
      ],
      "text/plain": [
       "  code       name                                           geometry\n",
       "0  005   Alajärvi  POLYGON ((366787.924 7001300.583, 364150.540 7...\n",
       "1  009  Alavieska  POLYGON ((382543.364 7120022.976, 380556.177 7...\n",
       "2  010     Alavus  POLYGON ((343298.204 6961570.195, 340572.015 6...\n",
       "3  016   Asikkala  POLYGON ((436139.680 6798279.085, 432732.949 6...\n",
       "4  018     Askola  POLYGON ((426631.036 6720528.076, 425751.505 6..."
      ]
     },
     "execution_count": 102,
     "metadata": {},
     "output_type": "execute_result"
    }
   ],
   "source": [
    "geodata.head()"
   ]
  },
  {
   "cell_type": "code",
   "execution_count": 103,
   "id": "7fb45fa6-8bdb-4596-8a78-500fceea43a5",
   "metadata": {},
   "outputs": [],
   "source": [
    "mun_hospitals = geodata.merge(health_distr,\n",
    "                              how=\"left\",\n",
    "                              on=\"code\"\n",
    "                             )"
   ]
  },
  {
   "cell_type": "code",
   "execution_count": 104,
   "id": "e7339763-fd4c-4fea-9b42-da5f8128b5b9",
   "metadata": {},
   "outputs": [],
   "source": [
    "mun_hospitals = (mun_hospitals\n",
    "                 .assign(\n",
    "                     healthcare_distr=lambda x:x[\"healthcare_distr\"].where(\n",
    "                         x[\"healthcare_distr\"].notnull(),\n",
    "                         \"Ahvenanmaa\")\n",
    "                 )\n",
    "                )"
   ]
  },
  {
   "cell_type": "code",
   "execution_count": 105,
   "id": "4c6da5b8-0195-44ca-beed-ac7f094127ae",
   "metadata": {},
   "outputs": [
    {
     "data": {
      "text/plain": [
       "Pohjois-Pohjanmaa    29\n",
       "Varsinais-Suomi      28\n",
       "HUS                  24\n",
       "Pirkanmaa            23\n",
       "Keski-Suomi          21\n",
       "Etelä-Pohjanmaa      18\n",
       "Pohjois-Savo         18\n",
       "Ahvenanmaa           16\n",
       "Satakunta            16\n",
       "Lappi                15\n",
       "Vaasa                13\n",
       "Pohjois-Karjala      13\n",
       "Päijät-Häme          12\n",
       "Kanta-Häme           11\n",
       "Keski-Pohjanmaa      10\n",
       "Etelä-Savo            9\n",
       "Etelä-Karjala         9\n",
       "Kainuu                8\n",
       "Kymenlaakso           6\n",
       "Länsi-Pohja           6\n",
       "Itä-Savo              4\n",
       "Name: healthcare_distr, dtype: int64"
      ]
     },
     "execution_count": 105,
     "metadata": {},
     "output_type": "execute_result"
    }
   ],
   "source": [
    "mun_hospitals[\"healthcare_distr\"].value_counts()"
   ]
  },
  {
   "cell_type": "code",
   "execution_count": 107,
   "id": "8153621c-3a37-44b0-9d2a-3dd0c37db683",
   "metadata": {},
   "outputs": [],
   "source": [
    "healthcare_distr = (mun_hospitals\n",
    "                    .dissolve(\n",
    "                        by=\"healthcare_distr\"\n",
    "                    )\n",
    "                    .reset_index()\n",
    "                    [[\"healthcare_distr\", \"geometry\"]]\n",
    "                   )"
   ]
  },
  {
   "cell_type": "code",
   "execution_count": 108,
   "id": "7370fdfb-b5c0-4d2f-be5f-aecad2f750c2",
   "metadata": {},
   "outputs": [
    {
     "data": {
      "text/plain": [
       "<AxesSubplot:>"
      ]
     },
     "execution_count": 108,
     "metadata": {},
     "output_type": "execute_result"
    },
    {
     "data": {
      "image/png": "[encoded data removed]",
      "text/plain": [
       "<Figure size 432x288 with 1 Axes>"
      ]
     },
     "metadata": {
      "needs_background": "light"
     },
     "output_type": "display_data"
    }
   ],
   "source": [
    "healthcare_distr.plot(\n",
    "    column=\"healthcare_distr\",\n",
    "    cmap=\"tab20\",\n",
    ")"
   ]
  },
  {
   "cell_type": "code",
   "execution_count": 109,
   "id": "142726ab-2901-4133-89cf-77859eb4d1f1",
   "metadata": {},
   "outputs": [
    {
     "data": {
      "text/plain": [
       "<Derived Projected CRS: EPSG:3067>\n",
       "Name: ETRS89 / TM35FIN(E,N)\n",
       "Axis Info [cartesian]:\n",
       "- E[east]: Easting (metre)\n",
       "- N[north]: Northing (metre)\n",
       "Area of Use:\n",
       "- name: Finland - onshore and offshore.\n",
       "- bounds: (19.08, 58.84, 31.59, 70.09)\n",
       "Coordinate Operation:\n",
       "- name: TM35FIN\n",
       "- method: Transverse Mercator\n",
       "Datum: European Terrestrial Reference System 1989 ensemble\n",
       "- Ellipsoid: GRS 1980\n",
       "- Prime Meridian: Greenwich"
      ]
     },
     "execution_count": 109,
     "metadata": {},
     "output_type": "execute_result"
    }
   ],
   "source": [
    "healthcare_distr.crs"
   ]
  },
  {
   "cell_type": "code",
   "execution_count": 110,
   "id": "1016be55-443f-4f0b-9b07-5c6d557a0052",
   "metadata": {},
   "outputs": [],
   "source": [
    "healthcare_distr.to_file(\n",
    "    DATA_PATH / \"health_districts_EPSG3067.geojson\",\n",
    "    driver=\"GeoJSON\",\n",
    "    encoding=\"utf-8\"\n",
    ")"
   ]
  },
  {
   "cell_type": "code",
   "execution_count": 111,
   "id": "21feb2fa-7b7a-4b52-982c-69def7569ceb",
   "metadata": {},
   "outputs": [],
   "source": [
    "(healthcare_distr\n",
    " .to_crs(epsg=4326)\n",
    " .to_file(\n",
    "     DATA_PATH / \"health_districts_EPSG4326.geojson\",\n",
    "     driver=\"GeoJSON\",\n",
    "     encoding=\"utf-8\"\n",
    " )\n",
    ")"
   ]
  },
  {
   "cell_type": "markdown",
   "id": "10e3d800-62f9-4e28-b1a7-1a5a75a5c21e",
   "metadata": {},
   "source": [
    "## Data classification"
   ]
  },
  {
   "cell_type": "code",
   "execution_count": 123,
   "id": "025e9c62-f046-41ef-a8d2-ea22d606b549",
   "metadata": {},
   "outputs": [],
   "source": [
    "times = (gpd.read_file(\n",
    "    DATA_PATH / \"TravelTimes_to_5975375_RailwayStation_Helsinki.geojson\")\n",
    "         .replace(-1, np.nan)\n",
    "        )"
   ]
  },
  {
   "cell_type": "code",
   "execution_count": 124,
   "id": "be3c4ca7-e918-4df8-aaf3-6ca4376aa5c8",
   "metadata": {},
   "outputs": [
    {
     "data": {
      "text/html": [
       "<div>\n",
       "<style scoped>\n",
       "    .dataframe tbody tr th:only-of-type {\n",
       "        vertical-align: middle;\n",
       "    }\n",
       "\n",
       "    .dataframe tbody tr th {\n",
       "        vertical-align: top;\n",
       "    }\n",
       "\n",
       "    .dataframe thead th {\n",
       "        text-align: right;\n",
       "    }\n",
       "</style>\n",
       "<table border=\"1\" class=\"dataframe\">\n",
       "  <thead>\n",
       "    <tr style=\"text-align: right;\">\n",
       "      <th></th>\n",
       "      <th>car_m_d</th>\n",
       "      <th>car_m_t</th>\n",
       "      <th>car_r_d</th>\n",
       "      <th>car_r_t</th>\n",
       "      <th>from_id</th>\n",
       "      <th>pt_m_d</th>\n",
       "      <th>pt_m_t</th>\n",
       "      <th>pt_m_tt</th>\n",
       "      <th>pt_r_d</th>\n",
       "      <th>pt_r_t</th>\n",
       "      <th>pt_r_tt</th>\n",
       "      <th>to_id</th>\n",
       "      <th>walk_d</th>\n",
       "      <th>walk_t</th>\n",
       "      <th>GML_ID</th>\n",
       "      <th>NAMEFIN</th>\n",
       "      <th>NAMESWE</th>\n",
       "      <th>NATCODE</th>\n",
       "      <th>geometry</th>\n",
       "    </tr>\n",
       "  </thead>\n",
       "  <tbody>\n",
       "    <tr>\n",
       "      <th>0</th>\n",
       "      <td>29476.0</td>\n",
       "      <td>41.0</td>\n",
       "      <td>29483.0</td>\n",
       "      <td>46.0</td>\n",
       "      <td>5876274</td>\n",
       "      <td>29990.0</td>\n",
       "      <td>76.0</td>\n",
       "      <td>95.0</td>\n",
       "      <td>24984.0</td>\n",
       "      <td>77.0</td>\n",
       "      <td>99.0</td>\n",
       "      <td>5975375.0</td>\n",
       "      <td>25532.0</td>\n",
       "      <td>365.0</td>\n",
       "      <td>27517366</td>\n",
       "      <td>Helsinki</td>\n",
       "      <td>Helsingfors</td>\n",
       "      <td>091</td>\n",
       "      <td>POLYGON ((402024.224 6685750.000, 402003.328 6...</td>\n",
       "    </tr>\n",
       "    <tr>\n",
       "      <th>1</th>\n",
       "      <td>29456.0</td>\n",
       "      <td>41.0</td>\n",
       "      <td>29462.0</td>\n",
       "      <td>46.0</td>\n",
       "      <td>5876275</td>\n",
       "      <td>29866.0</td>\n",
       "      <td>74.0</td>\n",
       "      <td>95.0</td>\n",
       "      <td>24860.0</td>\n",
       "      <td>75.0</td>\n",
       "      <td>93.0</td>\n",
       "      <td>5975375.0</td>\n",
       "      <td>25408.0</td>\n",
       "      <td>363.0</td>\n",
       "      <td>27517366</td>\n",
       "      <td>Helsinki</td>\n",
       "      <td>Helsingfors</td>\n",
       "      <td>091</td>\n",
       "      <td>POLYGON ((402250.000 6685750.000, 402250.000 6...</td>\n",
       "    </tr>\n",
       "    <tr>\n",
       "      <th>2</th>\n",
       "      <td>36772.0</td>\n",
       "      <td>50.0</td>\n",
       "      <td>36778.0</td>\n",
       "      <td>56.0</td>\n",
       "      <td>5876278</td>\n",
       "      <td>33541.0</td>\n",
       "      <td>116.0</td>\n",
       "      <td>137.0</td>\n",
       "      <td>44265.0</td>\n",
       "      <td>130.0</td>\n",
       "      <td>146.0</td>\n",
       "      <td>5975375.0</td>\n",
       "      <td>31110.0</td>\n",
       "      <td>444.0</td>\n",
       "      <td>27517366</td>\n",
       "      <td>Helsinki</td>\n",
       "      <td>Helsingfors</td>\n",
       "      <td>091</td>\n",
       "      <td>POLYGON ((403148.515 6685750.000, 403243.781 6...</td>\n",
       "    </tr>\n",
       "    <tr>\n",
       "      <th>3</th>\n",
       "      <td>36898.0</td>\n",
       "      <td>49.0</td>\n",
       "      <td>36904.0</td>\n",
       "      <td>56.0</td>\n",
       "      <td>5876279</td>\n",
       "      <td>33720.0</td>\n",
       "      <td>119.0</td>\n",
       "      <td>141.0</td>\n",
       "      <td>44444.0</td>\n",
       "      <td>132.0</td>\n",
       "      <td>155.0</td>\n",
       "      <td>5975375.0</td>\n",
       "      <td>31289.0</td>\n",
       "      <td>447.0</td>\n",
       "      <td>27517366</td>\n",
       "      <td>Helsinki</td>\n",
       "      <td>Helsingfors</td>\n",
       "      <td>091</td>\n",
       "      <td>POLYGON ((403250.000 6685750.000, 403250.000 6...</td>\n",
       "    </tr>\n",
       "    <tr>\n",
       "      <th>4</th>\n",
       "      <td>29411.0</td>\n",
       "      <td>40.0</td>\n",
       "      <td>29418.0</td>\n",
       "      <td>44.0</td>\n",
       "      <td>5878128</td>\n",
       "      <td>29944.0</td>\n",
       "      <td>75.0</td>\n",
       "      <td>95.0</td>\n",
       "      <td>24938.0</td>\n",
       "      <td>76.0</td>\n",
       "      <td>99.0</td>\n",
       "      <td>5975375.0</td>\n",
       "      <td>25486.0</td>\n",
       "      <td>364.0</td>\n",
       "      <td>27517366</td>\n",
       "      <td>Helsinki</td>\n",
       "      <td>Helsingfors</td>\n",
       "      <td>091</td>\n",
       "      <td>POLYGON ((401900.425 6685500.000, 402000.000 6...</td>\n",
       "    </tr>\n",
       "  </tbody>\n",
       "</table>\n",
       "</div>"
      ],
      "text/plain": [
       "   car_m_d  car_m_t  car_r_d  car_r_t  from_id   pt_m_d  pt_m_t  pt_m_tt  \\\n",
       "0  29476.0     41.0  29483.0     46.0  5876274  29990.0    76.0     95.0   \n",
       "1  29456.0     41.0  29462.0     46.0  5876275  29866.0    74.0     95.0   \n",
       "2  36772.0     50.0  36778.0     56.0  5876278  33541.0   116.0    137.0   \n",
       "3  36898.0     49.0  36904.0     56.0  5876279  33720.0   119.0    141.0   \n",
       "4  29411.0     40.0  29418.0     44.0  5878128  29944.0    75.0     95.0   \n",
       "\n",
       "    pt_r_d  pt_r_t  pt_r_tt      to_id   walk_d  walk_t    GML_ID   NAMEFIN  \\\n",
       "0  24984.0    77.0     99.0  5975375.0  25532.0   365.0  27517366  Helsinki   \n",
       "1  24860.0    75.0     93.0  5975375.0  25408.0   363.0  27517366  Helsinki   \n",
       "2  44265.0   130.0    146.0  5975375.0  31110.0   444.0  27517366  Helsinki   \n",
       "3  44444.0   132.0    155.0  5975375.0  31289.0   447.0  27517366  Helsinki   \n",
       "4  24938.0    76.0     99.0  5975375.0  25486.0   364.0  27517366  Helsinki   \n",
       "\n",
       "       NAMESWE NATCODE                                           geometry  \n",
       "0  Helsingfors     091  POLYGON ((402024.224 6685750.000, 402003.328 6...  \n",
       "1  Helsingfors     091  POLYGON ((402250.000 6685750.000, 402250.000 6...  \n",
       "2  Helsingfors     091  POLYGON ((403148.515 6685750.000, 403243.781 6...  \n",
       "3  Helsingfors     091  POLYGON ((403250.000 6685750.000, 403250.000 6...  \n",
       "4  Helsingfors     091  POLYGON ((401900.425 6685500.000, 402000.000 6...  "
      ]
     },
     "execution_count": 124,
     "metadata": {},
     "output_type": "execute_result"
    }
   ],
   "source": [
    "times.head()"
   ]
  },
  {
   "cell_type": "code",
   "execution_count": 126,
   "id": "52686d63-f4fb-4227-93a3-e8ecf9135742",
   "metadata": {},
   "outputs": [
    {
     "data": {
      "text/plain": [
       "car_m_d     12\n",
       "car_m_t     12\n",
       "car_r_d     12\n",
       "car_r_t     12\n",
       "from_id      0\n",
       "pt_m_d      19\n",
       "pt_m_t      19\n",
       "pt_m_tt     19\n",
       "pt_r_d      19\n",
       "pt_r_t      19\n",
       "pt_r_tt     19\n",
       "to_id       12\n",
       "walk_d      46\n",
       "walk_t      46\n",
       "GML_ID       0\n",
       "NAMEFIN      0\n",
       "NAMESWE      0\n",
       "NATCODE      0\n",
       "geometry     0\n",
       "dtype: int64"
      ]
     },
     "execution_count": 126,
     "metadata": {},
     "output_type": "execute_result"
    }
   ],
   "source": [
    "times.isnull().sum()"
   ]
  },
  {
   "cell_type": "code",
   "execution_count": 127,
   "id": "de03e054-2f35-4d75-8ebe-20d90a0fadf3",
   "metadata": {},
   "outputs": [],
   "source": [
    "times = (times\n",
    "         .dropna(\n",
    "             subset=[\"pt_r_tt\"]\n",
    "         )\n",
    "        )"
   ]
  },
  {
   "cell_type": "code",
   "execution_count": 128,
   "id": "5ccbb4f3-0127-402f-9eeb-cef5bb469e06",
   "metadata": {},
   "outputs": [
    {
     "data": {
      "text/plain": [
       "<AxesSubplot:>"
      ]
     },
     "execution_count": 128,
     "metadata": {},
     "output_type": "execute_result"
    },
    {
     "data": {
      "image/png": "[encoded data removed]",
      "text/plain": [
       "<Figure size 432x288 with 1 Axes>"
      ]
     },
     "metadata": {
      "needs_background": "light"
     },
     "output_type": "display_data"
    }
   ],
   "source": [
    "times.plot(\n",
    "    column=\"pt_r_tt\",\n",
    "    scheme=\"Fisher_Jenks\",\n",
    "    k=9,\n",
    "    cmap=\"RdYlBu_r\",\n",
    "    legend=True\n",
    ")"
   ]
  },
  {
   "cell_type": "code",
   "execution_count": 130,
   "id": "19d354cb-79d2-4f50-a247-dec93487a7be",
   "metadata": {},
   "outputs": [
    {
     "data": {
      "text/plain": [
       "<AxesSubplot:>"
      ]
     },
     "execution_count": 130,
     "metadata": {},
     "output_type": "execute_result"
    },
    {
     "data": {
      "image/png": "[encoded data removed]",
      "text/plain": [
       "<Figure size 432x288 with 1 Axes>"
      ]
     },
     "metadata": {
      "needs_background": "light"
     },
     "output_type": "display_data"
    }
   ],
   "source": [
    "times.plot(\n",
    "    column=\"walk_d\",\n",
    "    scheme=\"Fisher_jenks\",\n",
    "    k=9,\n",
    "    cmap=\"RdYlBu_r\",\n",
    "    legend=True\n",
    ")"
   ]
  },
  {
   "cell_type": "code",
   "execution_count": 131,
   "id": "bfbfe2af-2518-441e-a222-c9caa0d9d039",
   "metadata": {},
   "outputs": [],
   "source": [
    "import mapclassify"
   ]
  },
  {
   "cell_type": "code",
   "execution_count": 132,
   "id": "241a16e1-bf78-4cdc-b387-b133b248bece",
   "metadata": {},
   "outputs": [],
   "source": [
    "classifier = mapclassify.NaturalBreaks.make(k=9)"
   ]
  },
  {
   "cell_type": "code",
   "execution_count": 137,
   "id": "98c6ce24-0a78-4eb6-8dcc-c464c1fde1c7",
   "metadata": {},
   "outputs": [],
   "source": [
    "times = (times\n",
    "         .assign(\n",
    "             time_dist_class=lambda x:x[[\"pt_r_tt\"]].apply(classifier)\n",
    "         )\n",
    "        )"
   ]
  },
  {
   "cell_type": "code",
   "execution_count": 138,
   "id": "ad3fd5f3-363a-4203-887e-c8804d91d52c",
   "metadata": {},
   "outputs": [
    {
     "data": {
      "text/html": [
       "<div>\n",
       "<style scoped>\n",
       "    .dataframe tbody tr th:only-of-type {\n",
       "        vertical-align: middle;\n",
       "    }\n",
       "\n",
       "    .dataframe tbody tr th {\n",
       "        vertical-align: top;\n",
       "    }\n",
       "\n",
       "    .dataframe thead th {\n",
       "        text-align: right;\n",
       "    }\n",
       "</style>\n",
       "<table border=\"1\" class=\"dataframe\">\n",
       "  <thead>\n",
       "    <tr style=\"text-align: right;\">\n",
       "      <th></th>\n",
       "      <th>car_m_d</th>\n",
       "      <th>car_m_t</th>\n",
       "      <th>car_r_d</th>\n",
       "      <th>car_r_t</th>\n",
       "      <th>from_id</th>\n",
       "      <th>pt_m_d</th>\n",
       "      <th>pt_m_t</th>\n",
       "      <th>pt_m_tt</th>\n",
       "      <th>pt_r_d</th>\n",
       "      <th>pt_r_t</th>\n",
       "      <th>pt_r_tt</th>\n",
       "      <th>to_id</th>\n",
       "      <th>walk_d</th>\n",
       "      <th>walk_t</th>\n",
       "      <th>GML_ID</th>\n",
       "      <th>NAMEFIN</th>\n",
       "      <th>NAMESWE</th>\n",
       "      <th>NATCODE</th>\n",
       "      <th>geometry</th>\n",
       "      <th>time_dist_class</th>\n",
       "    </tr>\n",
       "  </thead>\n",
       "  <tbody>\n",
       "    <tr>\n",
       "      <th>0</th>\n",
       "      <td>29476.0</td>\n",
       "      <td>41.0</td>\n",
       "      <td>29483.0</td>\n",
       "      <td>46.0</td>\n",
       "      <td>5876274</td>\n",
       "      <td>29990.0</td>\n",
       "      <td>76.0</td>\n",
       "      <td>95.0</td>\n",
       "      <td>24984.0</td>\n",
       "      <td>77.0</td>\n",
       "      <td>99.0</td>\n",
       "      <td>5975375.0</td>\n",
       "      <td>25532.0</td>\n",
       "      <td>365.0</td>\n",
       "      <td>27517366</td>\n",
       "      <td>Helsinki</td>\n",
       "      <td>Helsingfors</td>\n",
       "      <td>091</td>\n",
       "      <td>POLYGON ((402024.224 6685750.000, 402003.328 6...</td>\n",
       "      <td>8</td>\n",
       "    </tr>\n",
       "    <tr>\n",
       "      <th>1</th>\n",
       "      <td>29456.0</td>\n",
       "      <td>41.0</td>\n",
       "      <td>29462.0</td>\n",
       "      <td>46.0</td>\n",
       "      <td>5876275</td>\n",
       "      <td>29866.0</td>\n",
       "      <td>74.0</td>\n",
       "      <td>95.0</td>\n",
       "      <td>24860.0</td>\n",
       "      <td>75.0</td>\n",
       "      <td>93.0</td>\n",
       "      <td>5975375.0</td>\n",
       "      <td>25408.0</td>\n",
       "      <td>363.0</td>\n",
       "      <td>27517366</td>\n",
       "      <td>Helsinki</td>\n",
       "      <td>Helsingfors</td>\n",
       "      <td>091</td>\n",
       "      <td>POLYGON ((402250.000 6685750.000, 402250.000 6...</td>\n",
       "      <td>7</td>\n",
       "    </tr>\n",
       "    <tr>\n",
       "      <th>2</th>\n",
       "      <td>36772.0</td>\n",
       "      <td>50.0</td>\n",
       "      <td>36778.0</td>\n",
       "      <td>56.0</td>\n",
       "      <td>5876278</td>\n",
       "      <td>33541.0</td>\n",
       "      <td>116.0</td>\n",
       "      <td>137.0</td>\n",
       "      <td>44265.0</td>\n",
       "      <td>130.0</td>\n",
       "      <td>146.0</td>\n",
       "      <td>5975375.0</td>\n",
       "      <td>31110.0</td>\n",
       "      <td>444.0</td>\n",
       "      <td>27517366</td>\n",
       "      <td>Helsinki</td>\n",
       "      <td>Helsingfors</td>\n",
       "      <td>091</td>\n",
       "      <td>POLYGON ((403148.515 6685750.000, 403243.781 6...</td>\n",
       "      <td>8</td>\n",
       "    </tr>\n",
       "    <tr>\n",
       "      <th>3</th>\n",
       "      <td>36898.0</td>\n",
       "      <td>49.0</td>\n",
       "      <td>36904.0</td>\n",
       "      <td>56.0</td>\n",
       "      <td>5876279</td>\n",
       "      <td>33720.0</td>\n",
       "      <td>119.0</td>\n",
       "      <td>141.0</td>\n",
       "      <td>44444.0</td>\n",
       "      <td>132.0</td>\n",
       "      <td>155.0</td>\n",
       "      <td>5975375.0</td>\n",
       "      <td>31289.0</td>\n",
       "      <td>447.0</td>\n",
       "      <td>27517366</td>\n",
       "      <td>Helsinki</td>\n",
       "      <td>Helsingfors</td>\n",
       "      <td>091</td>\n",
       "      <td>POLYGON ((403250.000 6685750.000, 403250.000 6...</td>\n",
       "      <td>8</td>\n",
       "    </tr>\n",
       "    <tr>\n",
       "      <th>4</th>\n",
       "      <td>29411.0</td>\n",
       "      <td>40.0</td>\n",
       "      <td>29418.0</td>\n",
       "      <td>44.0</td>\n",
       "      <td>5878128</td>\n",
       "      <td>29944.0</td>\n",
       "      <td>75.0</td>\n",
       "      <td>95.0</td>\n",
       "      <td>24938.0</td>\n",
       "      <td>76.0</td>\n",
       "      <td>99.0</td>\n",
       "      <td>5975375.0</td>\n",
       "      <td>25486.0</td>\n",
       "      <td>364.0</td>\n",
       "      <td>27517366</td>\n",
       "      <td>Helsinki</td>\n",
       "      <td>Helsingfors</td>\n",
       "      <td>091</td>\n",
       "      <td>POLYGON ((401900.425 6685500.000, 402000.000 6...</td>\n",
       "      <td>8</td>\n",
       "    </tr>\n",
       "  </tbody>\n",
       "</table>\n",
       "</div>"
      ],
      "text/plain": [
       "   car_m_d  car_m_t  car_r_d  car_r_t  from_id   pt_m_d  pt_m_t  pt_m_tt  \\\n",
       "0  29476.0     41.0  29483.0     46.0  5876274  29990.0    76.0     95.0   \n",
       "1  29456.0     41.0  29462.0     46.0  5876275  29866.0    74.0     95.0   \n",
       "2  36772.0     50.0  36778.0     56.0  5876278  33541.0   116.0    137.0   \n",
       "3  36898.0     49.0  36904.0     56.0  5876279  33720.0   119.0    141.0   \n",
       "4  29411.0     40.0  29418.0     44.0  5878128  29944.0    75.0     95.0   \n",
       "\n",
       "    pt_r_d  pt_r_t  pt_r_tt      to_id   walk_d  walk_t    GML_ID   NAMEFIN  \\\n",
       "0  24984.0    77.0     99.0  5975375.0  25532.0   365.0  27517366  Helsinki   \n",
       "1  24860.0    75.0     93.0  5975375.0  25408.0   363.0  27517366  Helsinki   \n",
       "2  44265.0   130.0    146.0  5975375.0  31110.0   444.0  27517366  Helsinki   \n",
       "3  44444.0   132.0    155.0  5975375.0  31289.0   447.0  27517366  Helsinki   \n",
       "4  24938.0    76.0     99.0  5975375.0  25486.0   364.0  27517366  Helsinki   \n",
       "\n",
       "       NAMESWE NATCODE                                           geometry  \\\n",
       "0  Helsingfors     091  POLYGON ((402024.224 6685750.000, 402003.328 6...   \n",
       "1  Helsingfors     091  POLYGON ((402250.000 6685750.000, 402250.000 6...   \n",
       "2  Helsingfors     091  POLYGON ((403148.515 6685750.000, 403243.781 6...   \n",
       "3  Helsingfors     091  POLYGON ((403250.000 6685750.000, 403250.000 6...   \n",
       "4  Helsingfors     091  POLYGON ((401900.425 6685500.000, 402000.000 6...   \n",
       "\n",
       "   time_dist_class  \n",
       "0                8  \n",
       "1                7  \n",
       "2                8  \n",
       "3                8  \n",
       "4                8  "
      ]
     },
     "execution_count": 138,
     "metadata": {},
     "output_type": "execute_result"
    }
   ],
   "source": [
    "times.head()"
   ]
  },
  {
   "cell_type": "markdown",
   "id": "249fce29-99a9-4927-9fa0-53e2f46c4cd1",
   "metadata": {},
   "source": [
    "## Histograms"
   ]
  },
  {
   "cell_type": "code",
   "execution_count": 148,
   "id": "c3995fb9-408b-40c2-8fa0-1c9b9f124996",
   "metadata": {},
   "outputs": [
    {
     "data": {
      "image/png": "[encoded data removed]",
      "text/plain": [
       "<Figure size 504x360 with 1 Axes>"
      ]
     },
     "metadata": {
      "needs_background": "light"
     },
     "output_type": "display_data"
    }
   ],
   "source": [
    "_, ax = plt.subplots(figsize=(7, 5))\n",
    "(times\n",
    " .plot(\n",
    "     ax=ax,\n",
    "     y=\"pt_r_tt\",\n",
    "     kind=\"hist\",\n",
    "     bins=50\n",
    " )\n",
    ")\n",
    "classifier = mapclassify.NaturalBreaks(y=times[\"pt_r_tt\"],\n",
    "                                       k=9\n",
    "                                       )\n",
    "for edge in classifier.bins:\n",
    "    plt.axvline(edge,\n",
    "                color=\"k\",\n",
    "                linestyle=\"--\",\n",
    "                linewidth=1.5\n",
    "               )"
   ]
  },
  {
   "cell_type": "code",
   "execution_count": 149,
   "id": "100e52f4-24a3-4c1a-b34f-648d61d72dd9",
   "metadata": {},
   "outputs": [
    {
     "data": {
      "image/png": "[encoded data removed]",
      "text/plain": [
       "<Figure size 504x360 with 1 Axes>"
      ]
     },
     "metadata": {
      "needs_background": "light"
     },
     "output_type": "display_data"
    }
   ],
   "source": [
    "# car travel times\n",
    "_, ax = plt.subplots(figsize=(7, 5))\n",
    "(times\n",
    " .plot(\n",
    "     ax=ax,\n",
    "     kind=\"hist\",\n",
    "     y=\"car_r_t\",\n",
    "     bins=50\n",
    " )\n",
    ")\n",
    "classifier = mapclassify.FisherJenks(\n",
    "    y=times[\"car_r_t\"],\n",
    "    k=9\n",
    ")\n",
    "for edge in classifier.bins:\n",
    "    ax.axvline(edge,\n",
    "               color=\"k\",\n",
    "               linestyle=\"--\",\n",
    "               linewidth=1.5\n",
    "              )"
   ]
  },
  {
   "cell_type": "code",
   "execution_count": 147,
   "id": "d734701e-584d-4e04-aca9-a9cf1e0636b2",
   "metadata": {},
   "outputs": [
    {
     "data": {
      "text/plain": [
       "<AxesSubplot:>"
      ]
     },
     "execution_count": 147,
     "metadata": {},
     "output_type": "execute_result"
    },
    {
     "data": {
      "image/png": "[encoded data removed]",
      "text/plain": [
       "<Figure size 432x288 with 1 Axes>"
      ]
     },
     "metadata": {
      "needs_background": "light"
     },
     "output_type": "display_data"
    }
   ],
   "source": [
    "times.plot(\n",
    "    column=\"car_r_t\",\n",
    "    scheme=\"Fisher_Jenks\",\n",
    "    cmap=\"RdYlBu_r\",\n",
    "    k=9,\n",
    "    legend=True\n",
    ")"
   ]
  },
  {
   "cell_type": "markdown",
   "id": "5a6686fc-3ac3-4309-a749-548e20ab5f68",
   "metadata": {
    "tags": []
   },
   "source": [
    "## Exercises"
   ]
  },
  {
   "cell_type": "code",
   "execution_count": 167,
   "id": "8cf3fea3-ed3a-491b-abe3-b69c6d71b822",
   "metadata": {},
   "outputs": [],
   "source": [
    "DATA_PATH = Path(r\"../data/exercise-4\")"
   ]
  },
  {
   "cell_type": "markdown",
   "id": "82d4677d-330a-466a-8e7b-e559d53141f6",
   "metadata": {
    "tags": []
   },
   "source": [
    "### 1"
   ]
  },
  {
   "cell_type": "markdown",
   "id": "d7a128d6-f5ee-49b3-b0eb-80a744000b91",
   "metadata": {},
   "source": [
    "#### Import data"
   ]
  },
  {
   "cell_type": "code",
   "execution_count": 175,
   "id": "8e8e1b00-edb0-499f-bc4d-9fd9ffda00b5",
   "metadata": {},
   "outputs": [],
   "source": [
    "grid = (gpd.read_file(DATA_PATH / \"MetropAccess_YKR_grid_EurefFIN.shp\")\n",
    "        .rename(\n",
    "            columns={\"YKR_ID\": \"from_id\"}\n",
    "        )\n",
    "       )"
   ]
  },
  {
   "cell_type": "code",
   "execution_count": 176,
   "id": "f0878d61-b0eb-48ea-b6a0-4aced7d8d621",
   "metadata": {},
   "outputs": [
    {
     "data": {
      "text/plain": [
       "<Derived Projected CRS: EPSG:3067>\n",
       "Name: ETRS89 / TM35FIN(E,N)\n",
       "Axis Info [cartesian]:\n",
       "- E[east]: Easting (metre)\n",
       "- N[north]: Northing (metre)\n",
       "Area of Use:\n",
       "- name: Finland - onshore and offshore.\n",
       "- bounds: (19.08, 58.84, 31.59, 70.09)\n",
       "Coordinate Operation:\n",
       "- name: TM35FIN\n",
       "- method: Transverse Mercator\n",
       "Datum: European Terrestrial Reference System 1989 ensemble\n",
       "- Ellipsoid: GRS 1980\n",
       "- Prime Meridian: Greenwich"
      ]
     },
     "execution_count": 176,
     "metadata": {},
     "output_type": "execute_result"
    }
   ],
   "source": [
    "grid.crs"
   ]
  },
  {
   "cell_type": "code",
   "execution_count": 153,
   "id": "38a50890-b715-4c30-a862-8922ad782042",
   "metadata": {},
   "outputs": [
    {
     "data": {
      "text/html": [
       "<div>\n",
       "<style scoped>\n",
       "    .dataframe tbody tr th:only-of-type {\n",
       "        vertical-align: middle;\n",
       "    }\n",
       "\n",
       "    .dataframe tbody tr th {\n",
       "        vertical-align: top;\n",
       "    }\n",
       "\n",
       "    .dataframe thead th {\n",
       "        text-align: right;\n",
       "    }\n",
       "</style>\n",
       "<table border=\"1\" class=\"dataframe\">\n",
       "  <thead>\n",
       "    <tr style=\"text-align: right;\">\n",
       "      <th></th>\n",
       "      <th>x</th>\n",
       "      <th>y</th>\n",
       "      <th>YKR_ID</th>\n",
       "      <th>geometry</th>\n",
       "    </tr>\n",
       "  </thead>\n",
       "  <tbody>\n",
       "    <tr>\n",
       "      <th>0</th>\n",
       "      <td>381875.0</td>\n",
       "      <td>6697880.0</td>\n",
       "      <td>5785640</td>\n",
       "      <td>POLYGON ((382000.000 6697750.000, 381750.000 6...</td>\n",
       "    </tr>\n",
       "    <tr>\n",
       "      <th>1</th>\n",
       "      <td>382125.0</td>\n",
       "      <td>6697880.0</td>\n",
       "      <td>5785641</td>\n",
       "      <td>POLYGON ((382250.000 6697750.000, 382000.000 6...</td>\n",
       "    </tr>\n",
       "    <tr>\n",
       "      <th>2</th>\n",
       "      <td>382375.0</td>\n",
       "      <td>6697880.0</td>\n",
       "      <td>5785642</td>\n",
       "      <td>POLYGON ((382500.000 6697750.000, 382250.000 6...</td>\n",
       "    </tr>\n",
       "    <tr>\n",
       "      <th>3</th>\n",
       "      <td>382625.0</td>\n",
       "      <td>6697880.0</td>\n",
       "      <td>5785643</td>\n",
       "      <td>POLYGON ((382750.000 6697750.000, 382500.000 6...</td>\n",
       "    </tr>\n",
       "    <tr>\n",
       "      <th>4</th>\n",
       "      <td>381125.0</td>\n",
       "      <td>6697630.0</td>\n",
       "      <td>5787544</td>\n",
       "      <td>POLYGON ((381250.000 6697500.000, 381000.000 6...</td>\n",
       "    </tr>\n",
       "  </tbody>\n",
       "</table>\n",
       "</div>"
      ],
      "text/plain": [
       "          x          y   YKR_ID  \\\n",
       "0  381875.0  6697880.0  5785640   \n",
       "1  382125.0  6697880.0  5785641   \n",
       "2  382375.0  6697880.0  5785642   \n",
       "3  382625.0  6697880.0  5785643   \n",
       "4  381125.0  6697630.0  5787544   \n",
       "\n",
       "                                            geometry  \n",
       "0  POLYGON ((382000.000 6697750.000, 381750.000 6...  \n",
       "1  POLYGON ((382250.000 6697750.000, 382000.000 6...  \n",
       "2  POLYGON ((382500.000 6697750.000, 382250.000 6...  \n",
       "3  POLYGON ((382750.000 6697750.000, 382500.000 6...  \n",
       "4  POLYGON ((381250.000 6697500.000, 381000.000 6...  "
      ]
     },
     "execution_count": 153,
     "metadata": {},
     "output_type": "execute_result"
    }
   ],
   "source": [
    "grid.head()"
   ]
  },
  {
   "cell_type": "code",
   "execution_count": 154,
   "id": "a4a8bf6a-e432-4fd7-84fc-b5007918eeb5",
   "metadata": {},
   "outputs": [
    {
     "data": {
      "text/plain": [
       "<AxesSubplot:>"
      ]
     },
     "execution_count": 154,
     "metadata": {},
     "output_type": "execute_result"
    },
    {
     "data": {
      "image/png": "[encoded data removed]",
      "text/plain": [
       "<Figure size 432x288 with 1 Axes>"
      ]
     },
     "metadata": {
      "needs_background": "light"
     },
     "output_type": "display_data"
    }
   ],
   "source": [
    "grid.plot()"
   ]
  },
  {
   "cell_type": "code",
   "execution_count": 369,
   "id": "545f8721-d520-4f29-800a-7adfec31352d",
   "metadata": {},
   "outputs": [],
   "source": [
    "class DataLoader():\n",
    "    def __init__(self, mall_name, columns):\n",
    "        self.mall_name = mall_name\n",
    "        self.cols = columns\n",
    "        self.data = (pd.read_csv(DATA_PATH / f\"TravelTimes_to_{mall_name}.txt\", sep=\";\", na_values=-1)\n",
    "                     [columns]\n",
    "                    )\n",
    "    \n",
    "    def merge_geo_info(self, geo_df):\n",
    "        self.data = (geo_df\n",
    "                     [[\"from_id\", \"geometry\"]]\n",
    "                     .merge(self.data, on=\"from_id\", how=\"right\")\n",
    "                    )\n",
    "        return self\n",
    "        \n",
    "    def dropna(self):\n",
    "        self.data = (self.data\n",
    "                     .dropna(how=\"any\")\n",
    "                    )\n",
    "        return self\n",
    "        \n",
    "    def classify_times(self, time_cols, bins):\n",
    "        classifier = mapclassify.UserDefined.make(bins=bins)\n",
    "        for time in time_cols:\n",
    "            self.data[f\"{time}_cl\"] = self.data[[time]].apply(classifier)\n",
    "        return self\n",
    "            \n",
    "    def plot_travel_times(self, time_cols):\n",
    "        _, axes = plt.subplots(1, 2, figsize=(14, 5))\n",
    "        axes = axes.ravel()\n",
    "        for i, time in enumerate(time_cols):\n",
    "            self.data.plot(\n",
    "                ax=axes[i],\n",
    "                column=f\"{time}_cl\",\n",
    "                cmap=\"RdYlBu_r\",\n",
    "                legend=True\n",
    "            )\n",
    "            axes[i].set_title(f\"{self.mall_name.split('_')[1]} - Travel times by {time.split('_')[0]}\",\n",
    "                              fontsize=16\n",
    "                             )\n",
    "            axes[i].axis(\"off\")\n",
    "        plt.tight_layout()"
   ]
  },
  {
   "cell_type": "code",
   "execution_count": 370,
   "id": "5a03cacb-4d62-4861-9ec3-89c5c23733b1",
   "metadata": {},
   "outputs": [],
   "source": [
    "columns = [\"pt_r_t\", \"car_r_t\", \"from_id\", \"to_id\"]\n",
    "time_cols = [\"pt_r_t\", \"car_r_t\"]\n",
    "bins = np.arange(5, 61, 5)"
   ]
  },
  {
   "cell_type": "code",
   "execution_count": 371,
   "id": "37c9c5a3-25e7-49f8-b65c-8d6b2a4df3bc",
   "metadata": {},
   "outputs": [],
   "source": [
    "itis = DataLoader(\"5944003_Itis\", columns)"
   ]
  },
  {
   "cell_type": "code",
   "execution_count": 372,
   "id": "f6cdc50c-0d0d-4a93-acba-61961c838c51",
   "metadata": {},
   "outputs": [
    {
     "data": {
      "text/html": [
       "<div>\n",
       "<style scoped>\n",
       "    .dataframe tbody tr th:only-of-type {\n",
       "        vertical-align: middle;\n",
       "    }\n",
       "\n",
       "    .dataframe tbody tr th {\n",
       "        vertical-align: top;\n",
       "    }\n",
       "\n",
       "    .dataframe thead th {\n",
       "        text-align: right;\n",
       "    }\n",
       "</style>\n",
       "<table border=\"1\" class=\"dataframe\">\n",
       "  <thead>\n",
       "    <tr style=\"text-align: right;\">\n",
       "      <th></th>\n",
       "      <th>pt_r_t</th>\n",
       "      <th>car_r_t</th>\n",
       "      <th>from_id</th>\n",
       "      <th>to_id</th>\n",
       "    </tr>\n",
       "  </thead>\n",
       "  <tbody>\n",
       "    <tr>\n",
       "      <th>0</th>\n",
       "      <td>132.0</td>\n",
       "      <td>50.0</td>\n",
       "      <td>5785640</td>\n",
       "      <td>5944003.0</td>\n",
       "    </tr>\n",
       "    <tr>\n",
       "      <th>1</th>\n",
       "      <td>135.0</td>\n",
       "      <td>51.0</td>\n",
       "      <td>5785641</td>\n",
       "      <td>5944003.0</td>\n",
       "    </tr>\n",
       "    <tr>\n",
       "      <th>2</th>\n",
       "      <td>137.0</td>\n",
       "      <td>58.0</td>\n",
       "      <td>5785642</td>\n",
       "      <td>5944003.0</td>\n",
       "    </tr>\n",
       "    <tr>\n",
       "      <th>3</th>\n",
       "      <td>141.0</td>\n",
       "      <td>57.0</td>\n",
       "      <td>5785643</td>\n",
       "      <td>5944003.0</td>\n",
       "    </tr>\n",
       "    <tr>\n",
       "      <th>4</th>\n",
       "      <td>125.0</td>\n",
       "      <td>50.0</td>\n",
       "      <td>5787544</td>\n",
       "      <td>5944003.0</td>\n",
       "    </tr>\n",
       "  </tbody>\n",
       "</table>\n",
       "</div>"
      ],
      "text/plain": [
       "   pt_r_t  car_r_t  from_id      to_id\n",
       "0   132.0     50.0  5785640  5944003.0\n",
       "1   135.0     51.0  5785641  5944003.0\n",
       "2   137.0     58.0  5785642  5944003.0\n",
       "3   141.0     57.0  5785643  5944003.0\n",
       "4   125.0     50.0  5787544  5944003.0"
      ]
     },
     "execution_count": 372,
     "metadata": {},
     "output_type": "execute_result"
    }
   ],
   "source": [
    "itis.data.head()"
   ]
  },
  {
   "cell_type": "code",
   "execution_count": 373,
   "id": "d154c6d7-52fa-453a-99a5-32f2cf2527f9",
   "metadata": {},
   "outputs": [
    {
     "data": {
      "text/plain": [
       "<__main__.DataLoader at 0x2276cb87cd0>"
      ]
     },
     "execution_count": 373,
     "metadata": {},
     "output_type": "execute_result"
    }
   ],
   "source": [
    "itis.merge_geo_info(grid)"
   ]
  },
  {
   "cell_type": "code",
   "execution_count": 374,
   "id": "e06771c6-62b3-43b1-9eb6-19c6f50505c8",
   "metadata": {},
   "outputs": [
    {
     "data": {
      "text/plain": [
       "from_id       0\n",
       "geometry      0\n",
       "pt_r_t      211\n",
       "car_r_t      91\n",
       "to_id        91\n",
       "dtype: int64"
      ]
     },
     "execution_count": 374,
     "metadata": {},
     "output_type": "execute_result"
    }
   ],
   "source": [
    "itis.data.isnull().sum()"
   ]
  },
  {
   "cell_type": "code",
   "execution_count": 375,
   "id": "073a714d-4e03-4940-a8a0-f1a2ea817dd5",
   "metadata": {},
   "outputs": [
    {
     "data": {
      "text/plain": [
       "<__main__.DataLoader at 0x2276cb87cd0>"
      ]
     },
     "execution_count": 375,
     "metadata": {},
     "output_type": "execute_result"
    }
   ],
   "source": [
    "itis.dropna()"
   ]
  },
  {
   "cell_type": "code",
   "execution_count": 376,
   "id": "eca7ede7-d353-489e-a6cb-e7e23e7eb940",
   "metadata": {},
   "outputs": [
    {
     "data": {
      "text/plain": [
       "from_id     0\n",
       "geometry    0\n",
       "pt_r_t      0\n",
       "car_r_t     0\n",
       "to_id       0\n",
       "dtype: int64"
      ]
     },
     "execution_count": 376,
     "metadata": {},
     "output_type": "execute_result"
    }
   ],
   "source": [
    "itis.data.isnull().sum()"
   ]
  },
  {
   "cell_type": "code",
   "execution_count": 377,
   "id": "4014d838-fe59-4b03-9d1a-fe4beca1db37",
   "metadata": {},
   "outputs": [
    {
     "data": {
      "text/plain": [
       "<__main__.DataLoader at 0x2276cb87cd0>"
      ]
     },
     "execution_count": 377,
     "metadata": {},
     "output_type": "execute_result"
    }
   ],
   "source": [
    "itis.classify_times([\"pt_r_t\", \"car_r_t\"], bins)"
   ]
  },
  {
   "cell_type": "code",
   "execution_count": 378,
   "id": "10199ff2-9aa9-46bf-9a64-8cc72e08ba76",
   "metadata": {},
   "outputs": [
    {
     "data": {
      "text/html": [
       "<div>\n",
       "<style scoped>\n",
       "    .dataframe tbody tr th:only-of-type {\n",
       "        vertical-align: middle;\n",
       "    }\n",
       "\n",
       "    .dataframe tbody tr th {\n",
       "        vertical-align: top;\n",
       "    }\n",
       "\n",
       "    .dataframe thead th {\n",
       "        text-align: right;\n",
       "    }\n",
       "</style>\n",
       "<table border=\"1\" class=\"dataframe\">\n",
       "  <thead>\n",
       "    <tr style=\"text-align: right;\">\n",
       "      <th></th>\n",
       "      <th>from_id</th>\n",
       "      <th>geometry</th>\n",
       "      <th>pt_r_t</th>\n",
       "      <th>car_r_t</th>\n",
       "      <th>to_id</th>\n",
       "      <th>pt_r_t_cl</th>\n",
       "      <th>car_r_t_cl</th>\n",
       "    </tr>\n",
       "  </thead>\n",
       "  <tbody>\n",
       "    <tr>\n",
       "      <th>0</th>\n",
       "      <td>5785640</td>\n",
       "      <td>POLYGON ((382000.000 6697750.000, 381750.000 6...</td>\n",
       "      <td>132.0</td>\n",
       "      <td>50.0</td>\n",
       "      <td>5944003.0</td>\n",
       "      <td>12</td>\n",
       "      <td>9</td>\n",
       "    </tr>\n",
       "    <tr>\n",
       "      <th>1</th>\n",
       "      <td>5785641</td>\n",
       "      <td>POLYGON ((382250.000 6697750.000, 382000.000 6...</td>\n",
       "      <td>135.0</td>\n",
       "      <td>51.0</td>\n",
       "      <td>5944003.0</td>\n",
       "      <td>12</td>\n",
       "      <td>10</td>\n",
       "    </tr>\n",
       "    <tr>\n",
       "      <th>2</th>\n",
       "      <td>5785642</td>\n",
       "      <td>POLYGON ((382500.000 6697750.000, 382250.000 6...</td>\n",
       "      <td>137.0</td>\n",
       "      <td>58.0</td>\n",
       "      <td>5944003.0</td>\n",
       "      <td>12</td>\n",
       "      <td>11</td>\n",
       "    </tr>\n",
       "    <tr>\n",
       "      <th>3</th>\n",
       "      <td>5785643</td>\n",
       "      <td>POLYGON ((382750.000 6697750.000, 382500.000 6...</td>\n",
       "      <td>141.0</td>\n",
       "      <td>57.0</td>\n",
       "      <td>5944003.0</td>\n",
       "      <td>12</td>\n",
       "      <td>11</td>\n",
       "    </tr>\n",
       "    <tr>\n",
       "      <th>4</th>\n",
       "      <td>5787544</td>\n",
       "      <td>POLYGON ((381250.000 6697500.000, 381000.000 6...</td>\n",
       "      <td>125.0</td>\n",
       "      <td>50.0</td>\n",
       "      <td>5944003.0</td>\n",
       "      <td>12</td>\n",
       "      <td>9</td>\n",
       "    </tr>\n",
       "  </tbody>\n",
       "</table>\n",
       "</div>"
      ],
      "text/plain": [
       "   from_id                                           geometry  pt_r_t  \\\n",
       "0  5785640  POLYGON ((382000.000 6697750.000, 381750.000 6...   132.0   \n",
       "1  5785641  POLYGON ((382250.000 6697750.000, 382000.000 6...   135.0   \n",
       "2  5785642  POLYGON ((382500.000 6697750.000, 382250.000 6...   137.0   \n",
       "3  5785643  POLYGON ((382750.000 6697750.000, 382500.000 6...   141.0   \n",
       "4  5787544  POLYGON ((381250.000 6697500.000, 381000.000 6...   125.0   \n",
       "\n",
       "   car_r_t      to_id  pt_r_t_cl  car_r_t_cl  \n",
       "0     50.0  5944003.0         12           9  \n",
       "1     51.0  5944003.0         12          10  \n",
       "2     58.0  5944003.0         12          11  \n",
       "3     57.0  5944003.0         12          11  \n",
       "4     50.0  5944003.0         12           9  "
      ]
     },
     "execution_count": 378,
     "metadata": {},
     "output_type": "execute_result"
    }
   ],
   "source": [
    "itis.data.head()"
   ]
  },
  {
   "cell_type": "code",
   "execution_count": 379,
   "id": "b755613b-4782-434c-b8b2-5202ba102a6d",
   "metadata": {},
   "outputs": [
    {
     "data": {
      "text/plain": [
       "12    6643\n",
       "10    1055\n",
       "11    1010\n",
       "9      977\n",
       "7      814\n",
       "8      768\n",
       "6      664\n",
       "5      478\n",
       "4      321\n",
       "3      200\n",
       "2       76\n",
       "1       13\n",
       "0        1\n",
       "Name: pt_r_t_cl, dtype: int64"
      ]
     },
     "execution_count": 379,
     "metadata": {},
     "output_type": "execute_result"
    }
   ],
   "source": [
    "itis.data[\"pt_r_t_cl\"].value_counts()"
   ]
  },
  {
   "cell_type": "code",
   "execution_count": 380,
   "id": "67e9a53b-a458-4c3d-bac2-4e1c0da4a58e",
   "metadata": {},
   "outputs": [
    {
     "data": {
      "image/png": "[encoded data removed]",
      "text/plain": [
       "<Figure size 1008x360 with 4 Axes>"
      ]
     },
     "metadata": {
      "needs_background": "light"
     },
     "output_type": "display_data"
    }
   ],
   "source": [
    "itis.plot_travel_times(time_cols)"
   ]
  },
  {
   "cell_type": "code",
   "execution_count": 381,
   "id": "b6bb0e27-39d1-42cd-b1ef-8e9b6965348f",
   "metadata": {},
   "outputs": [],
   "source": [
    "myyrmanni = DataLoader(\"5902043_Myyrmanni\", columns)"
   ]
  },
  {
   "cell_type": "code",
   "execution_count": 382,
   "id": "67cca66d-bfbe-4a42-8985-1207a9277c2d",
   "metadata": {},
   "outputs": [
    {
     "data": {
      "text/plain": [
       "<__main__.DataLoader at 0x22768225b80>"
      ]
     },
     "execution_count": 382,
     "metadata": {},
     "output_type": "execute_result"
    }
   ],
   "source": [
    "(myyrmanni\n",
    " .merge_geo_info(grid)\n",
    " .dropna()\n",
    " .classify_times([\"pt_r_t\", \"car_r_t\"], bins)\n",
    ")"
   ]
  },
  {
   "cell_type": "code",
   "execution_count": 383,
   "id": "e6523927-4c78-40b2-af4c-acdd39a66ca0",
   "metadata": {},
   "outputs": [
    {
     "data": {
      "image/png": "[encoded data removed]",
      "text/plain": [
       "<Figure size 1008x360 with 4 Axes>"
      ]
     },
     "metadata": {
      "needs_background": "light"
     },
     "output_type": "display_data"
    }
   ],
   "source": [
    "myyrmanni.plot_travel_times(time_cols)"
   ]
  },
  {
   "cell_type": "markdown",
   "id": "550a1daa-d855-4eeb-b81f-584b3f4f8ae7",
   "metadata": {},
   "source": [
    "### 2"
   ]
  },
  {
   "cell_type": "code",
   "execution_count": 384,
   "id": "8d6c01be-0385-4308-a122-321a5cd0484e",
   "metadata": {},
   "outputs": [],
   "source": [
    "import os"
   ]
  },
  {
   "cell_type": "code",
   "execution_count": 387,
   "id": "68e62773-04c0-473c-9a2a-3c98ce0ecd1c",
   "metadata": {},
   "outputs": [],
   "source": [
    "traveltimes_files = [file for file in os.listdir(DATA_PATH) if \"TravelTimes\" in file]"
   ]
  },
  {
   "cell_type": "code",
   "execution_count": 388,
   "id": "ac6189bb-15e0-4f20-83f9-0a0240b55774",
   "metadata": {},
   "outputs": [
    {
     "data": {
      "text/plain": [
       "['TravelTimes_to_5878070_Jumbo.txt',\n",
       " 'TravelTimes_to_5878087_Dixi.txt',\n",
       " 'TravelTimes_to_5902043_Myyrmanni.txt',\n",
       " 'TravelTimes_to_5944003_Itis.txt',\n",
       " 'TravelTimes_to_5975373_Forum.txt',\n",
       " 'TravelTimes_to_5978593_IsoOmena.txt',\n",
       " 'TravelTimes_to_5980260_Ruoholahti.txt']"
      ]
     },
     "execution_count": 388,
     "metadata": {},
     "output_type": "execute_result"
    }
   ],
   "source": [
    "traveltimes_files"
   ]
  },
  {
   "cell_type": "code",
   "execution_count": 433,
   "id": "9e219e25-056d-4437-b6e1-12b8a3561c0b",
   "metadata": {},
   "outputs": [],
   "source": [
    "grid = (gpd.read_file(DATA_PATH / \"MetropAccess_YKR_grid_EurefFIN.shp\")\n",
    "        .rename(\n",
    "            columns={\"YKR_ID\": \"from_id\"}\n",
    "        )\n",
    "       )"
   ]
  },
  {
   "cell_type": "code",
   "execution_count": 435,
   "id": "f89dfab7-4ba0-49b0-b90f-09f4a133256f",
   "metadata": {},
   "outputs": [],
   "source": [
    "columns = [\"pt_r_t\", \"car_r_t\", \"from_id\"]\n",
    "for file in traveltimes_files:\n",
    "    temp_time = (pd.read_csv(DATA_PATH / file, sep=\";\", na_values=-1)\n",
    "                 [columns]\n",
    "                 .rename(\n",
    "                     columns={\n",
    "                         \"pt_r_t\": f\"pt_r_t_{file.split('_')[-1][:-4]}\",\n",
    "                         \"car_r_t\": f\"car_r_t_{file.split('_')[-1][:-4]}\",\n",
    "                     }\n",
    "                 )\n",
    "                 .dropna(how=\"any\")\n",
    "                )\n",
    "    grid = pd.merge(grid, temp_time, on=\"from_id\", how=\"left\")\n",
    "    "
   ]
  },
  {
   "cell_type": "code",
   "execution_count": 436,
   "id": "d44d8f62-e8b9-4420-94d0-771b69327435",
   "metadata": {},
   "outputs": [
    {
     "data": {
      "text/html": [
       "<div>\n",
       "<style scoped>\n",
       "    .dataframe tbody tr th:only-of-type {\n",
       "        vertical-align: middle;\n",
       "    }\n",
       "\n",
       "    .dataframe tbody tr th {\n",
       "        vertical-align: top;\n",
       "    }\n",
       "\n",
       "    .dataframe thead th {\n",
       "        text-align: right;\n",
       "    }\n",
       "</style>\n",
       "<table border=\"1\" class=\"dataframe\">\n",
       "  <thead>\n",
       "    <tr style=\"text-align: right;\">\n",
       "      <th></th>\n",
       "      <th>x</th>\n",
       "      <th>y</th>\n",
       "      <th>from_id</th>\n",
       "      <th>geometry</th>\n",
       "      <th>pt_r_t_Jumbo</th>\n",
       "      <th>car_r_t_Jumbo</th>\n",
       "      <th>pt_r_t_Dixi</th>\n",
       "      <th>car_r_t_Dixi</th>\n",
       "      <th>pt_r_t_Myyrmanni</th>\n",
       "      <th>car_r_t_Myyrmanni</th>\n",
       "      <th>pt_r_t_Itis</th>\n",
       "      <th>car_r_t_Itis</th>\n",
       "      <th>pt_r_t_Forum</th>\n",
       "      <th>car_r_t_Forum</th>\n",
       "      <th>pt_r_t_IsoOmena</th>\n",
       "      <th>car_r_t_IsoOmena</th>\n",
       "      <th>pt_r_t_Ruoholahti</th>\n",
       "      <th>car_r_t_Ruoholahti</th>\n",
       "    </tr>\n",
       "  </thead>\n",
       "  <tbody>\n",
       "    <tr>\n",
       "      <th>0</th>\n",
       "      <td>381875.0</td>\n",
       "      <td>6697880.0</td>\n",
       "      <td>5785640</td>\n",
       "      <td>POLYGON ((382000.000 6697750.000, 381750.000 6...</td>\n",
       "      <td>101.0</td>\n",
       "      <td>39.0</td>\n",
       "      <td>102.0</td>\n",
       "      <td>45.0</td>\n",
       "      <td>90.0</td>\n",
       "      <td>39.0</td>\n",
       "      <td>132.0</td>\n",
       "      <td>50.0</td>\n",
       "      <td>110.0</td>\n",
       "      <td>49.0</td>\n",
       "      <td>141.0</td>\n",
       "      <td>56.0</td>\n",
       "      <td>118.0</td>\n",
       "      <td>56.0</td>\n",
       "    </tr>\n",
       "    <tr>\n",
       "      <th>1</th>\n",
       "      <td>382125.0</td>\n",
       "      <td>6697880.0</td>\n",
       "      <td>5785641</td>\n",
       "      <td>POLYGON ((382250.000 6697750.000, 382000.000 6...</td>\n",
       "      <td>108.0</td>\n",
       "      <td>39.0</td>\n",
       "      <td>109.0</td>\n",
       "      <td>45.0</td>\n",
       "      <td>93.0</td>\n",
       "      <td>39.0</td>\n",
       "      <td>135.0</td>\n",
       "      <td>51.0</td>\n",
       "      <td>113.0</td>\n",
       "      <td>49.0</td>\n",
       "      <td>143.0</td>\n",
       "      <td>56.0</td>\n",
       "      <td>121.0</td>\n",
       "      <td>56.0</td>\n",
       "    </tr>\n",
       "    <tr>\n",
       "      <th>2</th>\n",
       "      <td>382375.0</td>\n",
       "      <td>6697880.0</td>\n",
       "      <td>5785642</td>\n",
       "      <td>POLYGON ((382500.000 6697750.000, 382250.000 6...</td>\n",
       "      <td>109.0</td>\n",
       "      <td>45.0</td>\n",
       "      <td>111.0</td>\n",
       "      <td>52.0</td>\n",
       "      <td>95.0</td>\n",
       "      <td>47.0</td>\n",
       "      <td>137.0</td>\n",
       "      <td>58.0</td>\n",
       "      <td>115.0</td>\n",
       "      <td>57.0</td>\n",
       "      <td>145.0</td>\n",
       "      <td>64.0</td>\n",
       "      <td>123.0</td>\n",
       "      <td>63.0</td>\n",
       "    </tr>\n",
       "    <tr>\n",
       "      <th>3</th>\n",
       "      <td>382625.0</td>\n",
       "      <td>6697880.0</td>\n",
       "      <td>5785643</td>\n",
       "      <td>POLYGON ((382750.000 6697750.000, 382500.000 6...</td>\n",
       "      <td>114.0</td>\n",
       "      <td>46.0</td>\n",
       "      <td>115.0</td>\n",
       "      <td>48.0</td>\n",
       "      <td>99.0</td>\n",
       "      <td>51.0</td>\n",
       "      <td>141.0</td>\n",
       "      <td>57.0</td>\n",
       "      <td>119.0</td>\n",
       "      <td>60.0</td>\n",
       "      <td>149.0</td>\n",
       "      <td>67.0</td>\n",
       "      <td>127.0</td>\n",
       "      <td>67.0</td>\n",
       "    </tr>\n",
       "    <tr>\n",
       "      <th>4</th>\n",
       "      <td>381125.0</td>\n",
       "      <td>6697630.0</td>\n",
       "      <td>5787544</td>\n",
       "      <td>POLYGON ((381250.000 6697500.000, 381000.000 6...</td>\n",
       "      <td>98.0</td>\n",
       "      <td>38.0</td>\n",
       "      <td>99.0</td>\n",
       "      <td>44.0</td>\n",
       "      <td>83.0</td>\n",
       "      <td>38.0</td>\n",
       "      <td>125.0</td>\n",
       "      <td>50.0</td>\n",
       "      <td>103.0</td>\n",
       "      <td>48.0</td>\n",
       "      <td>134.0</td>\n",
       "      <td>55.0</td>\n",
       "      <td>111.0</td>\n",
       "      <td>55.0</td>\n",
       "    </tr>\n",
       "  </tbody>\n",
       "</table>\n",
       "</div>"
      ],
      "text/plain": [
       "          x          y  from_id  \\\n",
       "0  381875.0  6697880.0  5785640   \n",
       "1  382125.0  6697880.0  5785641   \n",
       "2  382375.0  6697880.0  5785642   \n",
       "3  382625.0  6697880.0  5785643   \n",
       "4  381125.0  6697630.0  5787544   \n",
       "\n",
       "                                            geometry  pt_r_t_Jumbo  \\\n",
       "0  POLYGON ((382000.000 6697750.000, 381750.000 6...         101.0   \n",
       "1  POLYGON ((382250.000 6697750.000, 382000.000 6...         108.0   \n",
       "2  POLYGON ((382500.000 6697750.000, 382250.000 6...         109.0   \n",
       "3  POLYGON ((382750.000 6697750.000, 382500.000 6...         114.0   \n",
       "4  POLYGON ((381250.000 6697500.000, 381000.000 6...          98.0   \n",
       "\n",
       "   car_r_t_Jumbo  pt_r_t_Dixi  car_r_t_Dixi  pt_r_t_Myyrmanni  \\\n",
       "0           39.0        102.0          45.0              90.0   \n",
       "1           39.0        109.0          45.0              93.0   \n",
       "2           45.0        111.0          52.0              95.0   \n",
       "3           46.0        115.0          48.0              99.0   \n",
       "4           38.0         99.0          44.0              83.0   \n",
       "\n",
       "   car_r_t_Myyrmanni  pt_r_t_Itis  car_r_t_Itis  pt_r_t_Forum  car_r_t_Forum  \\\n",
       "0               39.0        132.0          50.0         110.0           49.0   \n",
       "1               39.0        135.0          51.0         113.0           49.0   \n",
       "2               47.0        137.0          58.0         115.0           57.0   \n",
       "3               51.0        141.0          57.0         119.0           60.0   \n",
       "4               38.0        125.0          50.0         103.0           48.0   \n",
       "\n",
       "   pt_r_t_IsoOmena  car_r_t_IsoOmena  pt_r_t_Ruoholahti  car_r_t_Ruoholahti  \n",
       "0            141.0              56.0              118.0                56.0  \n",
       "1            143.0              56.0              121.0                56.0  \n",
       "2            145.0              64.0              123.0                63.0  \n",
       "3            149.0              67.0              127.0                67.0  \n",
       "4            134.0              55.0              111.0                55.0  "
      ]
     },
     "execution_count": 436,
     "metadata": {},
     "output_type": "execute_result"
    }
   ],
   "source": [
    "grid.head()"
   ]
  },
  {
   "cell_type": "code",
   "execution_count": 437,
   "id": "caa63140-c540-4a8d-bfe2-a5d2111a54bf",
   "metadata": {},
   "outputs": [],
   "source": [
    "def get_mall_name(df, col_type):\n",
    "    col_names = [col for col in df.columns if col_type in col]\n",
    "    min_col_idx = df[col_names].idxmin(axis=1).str.split(\"_\", expand=True)\n",
    "    return min_col_idx.iloc[:, -1]"
   ]
  },
  {
   "cell_type": "code",
   "execution_count": 438,
   "id": "202ad06f-1af6-4ef0-95f4-d05806165705",
   "metadata": {},
   "outputs": [
    {
     "data": {
      "text/plain": [
       "x                       0\n",
       "y                       0\n",
       "from_id                 0\n",
       "geometry                0\n",
       "pt_r_t_Jumbo          211\n",
       "car_r_t_Jumbo         211\n",
       "pt_r_t_Dixi           211\n",
       "car_r_t_Dixi          211\n",
       "pt_r_t_Myyrmanni      211\n",
       "car_r_t_Myyrmanni     211\n",
       "pt_r_t_Itis           211\n",
       "car_r_t_Itis          211\n",
       "pt_r_t_Forum          211\n",
       "car_r_t_Forum         211\n",
       "pt_r_t_IsoOmena       211\n",
       "car_r_t_IsoOmena      211\n",
       "pt_r_t_Ruoholahti     211\n",
       "car_r_t_Ruoholahti    211\n",
       "dtype: int64"
      ]
     },
     "execution_count": 438,
     "metadata": {},
     "output_type": "execute_result"
    }
   ],
   "source": [
    "grid.isnull().sum()"
   ]
  },
  {
   "cell_type": "code",
   "execution_count": 431,
   "id": "e2f09f1d-a1bf-47d6-a2ec-168765ea5845",
   "metadata": {},
   "outputs": [
    {
     "data": {
      "text/plain": [
       "0           Jumbo\n",
       "1           Jumbo\n",
       "2           Jumbo\n",
       "3           Jumbo\n",
       "4           Jumbo\n",
       "           ...   \n",
       "13226    IsoOmena\n",
       "13227    IsoOmena\n",
       "13228         NaN\n",
       "13229    IsoOmena\n",
       "13230    IsoOmena\n",
       "Name: 3, Length: 13231, dtype: object"
      ]
     },
     "execution_count": 431,
     "metadata": {},
     "output_type": "execute_result"
    }
   ],
   "source": [
    "get_mall_name(grid, \"car\")"
   ]
  },
  {
   "cell_type": "code",
   "execution_count": null,
   "id": "caea6fbd-992b-472e-879c-8a34f5b893fc",
   "metadata": {},
   "outputs": [],
   "source": []
  },
  {
   "cell_type": "code",
   "execution_count": 443,
   "id": "f5f4c580-be3f-4b1b-9800-e8945463a24a",
   "metadata": {},
   "outputs": [],
   "source": [
    "mall_dominance = (grid\n",
    "                  .dropna(how=\"any\")\n",
    "                  .assign(\n",
    "                      shortest_car = lambda x:x[[col for col in x.columns if \"car\" in col]].min(axis=1),\n",
    "                      shortest_car_mall = lambda x:get_mall_name(x, \"car\"),\n",
    "                      shortest_walk = lambda x:x[[col for col in x.columns if \"pt\" in col]].min(axis=1),\n",
    "                      shortest_walk_mall = lambda x:get_mall_name(x, \"pt\")\n",
    "                  )\n",
    "                  [[\"geometry\", \"shortest_car\", \"shortest_car_mall\", \"shortest_walk\", \"shortest_walk_mall\"]]\n",
    "                 )"
   ]
  },
  {
   "cell_type": "code",
   "execution_count": 444,
   "id": "46a0cbc3-7650-49ec-a77e-00fc372e5e45",
   "metadata": {},
   "outputs": [
    {
     "data": {
      "text/html": [
       "<div>\n",
       "<style scoped>\n",
       "    .dataframe tbody tr th:only-of-type {\n",
       "        vertical-align: middle;\n",
       "    }\n",
       "\n",
       "    .dataframe tbody tr th {\n",
       "        vertical-align: top;\n",
       "    }\n",
       "\n",
       "    .dataframe thead th {\n",
       "        text-align: right;\n",
       "    }\n",
       "</style>\n",
       "<table border=\"1\" class=\"dataframe\">\n",
       "  <thead>\n",
       "    <tr style=\"text-align: right;\">\n",
       "      <th></th>\n",
       "      <th>geometry</th>\n",
       "      <th>shortest_car</th>\n",
       "      <th>shortest_car_mall</th>\n",
       "      <th>shortest_walk</th>\n",
       "      <th>shortest_walk_mall</th>\n",
       "    </tr>\n",
       "  </thead>\n",
       "  <tbody>\n",
       "    <tr>\n",
       "      <th>0</th>\n",
       "      <td>POLYGON ((382000.000 6697750.000, 381750.000 6...</td>\n",
       "      <td>39.0</td>\n",
       "      <td>Jumbo</td>\n",
       "      <td>90.0</td>\n",
       "      <td>Myyrmanni</td>\n",
       "    </tr>\n",
       "    <tr>\n",
       "      <th>1</th>\n",
       "      <td>POLYGON ((382250.000 6697750.000, 382000.000 6...</td>\n",
       "      <td>39.0</td>\n",
       "      <td>Jumbo</td>\n",
       "      <td>93.0</td>\n",
       "      <td>Myyrmanni</td>\n",
       "    </tr>\n",
       "    <tr>\n",
       "      <th>2</th>\n",
       "      <td>POLYGON ((382500.000 6697750.000, 382250.000 6...</td>\n",
       "      <td>45.0</td>\n",
       "      <td>Jumbo</td>\n",
       "      <td>95.0</td>\n",
       "      <td>Myyrmanni</td>\n",
       "    </tr>\n",
       "    <tr>\n",
       "      <th>3</th>\n",
       "      <td>POLYGON ((382750.000 6697750.000, 382500.000 6...</td>\n",
       "      <td>46.0</td>\n",
       "      <td>Jumbo</td>\n",
       "      <td>99.0</td>\n",
       "      <td>Myyrmanni</td>\n",
       "    </tr>\n",
       "    <tr>\n",
       "      <th>4</th>\n",
       "      <td>POLYGON ((381250.000 6697500.000, 381000.000 6...</td>\n",
       "      <td>38.0</td>\n",
       "      <td>Jumbo</td>\n",
       "      <td>83.0</td>\n",
       "      <td>Myyrmanni</td>\n",
       "    </tr>\n",
       "  </tbody>\n",
       "</table>\n",
       "</div>"
      ],
      "text/plain": [
       "                                            geometry  shortest_car  \\\n",
       "0  POLYGON ((382000.000 6697750.000, 381750.000 6...          39.0   \n",
       "1  POLYGON ((382250.000 6697750.000, 382000.000 6...          39.0   \n",
       "2  POLYGON ((382500.000 6697750.000, 382250.000 6...          45.0   \n",
       "3  POLYGON ((382750.000 6697750.000, 382500.000 6...          46.0   \n",
       "4  POLYGON ((381250.000 6697500.000, 381000.000 6...          38.0   \n",
       "\n",
       "  shortest_car_mall  shortest_walk shortest_walk_mall  \n",
       "0             Jumbo           90.0          Myyrmanni  \n",
       "1             Jumbo           93.0          Myyrmanni  \n",
       "2             Jumbo           95.0          Myyrmanni  \n",
       "3             Jumbo           99.0          Myyrmanni  \n",
       "4             Jumbo           83.0          Myyrmanni  "
      ]
     },
     "execution_count": 444,
     "metadata": {},
     "output_type": "execute_result"
    }
   ],
   "source": [
    "mall_dominance.head()"
   ]
  },
  {
   "cell_type": "code",
   "execution_count": 454,
   "id": "58a5c969-60c9-41cf-ac8a-3e7330f1a1f1",
   "metadata": {},
   "outputs": [
    {
     "data": {
      "image/png": "[encoded data removed]",
      "text/plain": [
       "<Figure size 1080x720 with 6 Axes>"
      ]
     },
     "metadata": {
      "needs_background": "light"
     },
     "output_type": "display_data"
    }
   ],
   "source": [
    "_, axes = plt.subplots(2, 2, figsize=(15, 10))\n",
    "\n",
    "axes = axes.ravel()\n",
    "mall_dominance.plot(\n",
    "    ax=axes[0],\n",
    "    column=\"shortest_car_mall\",\n",
    "    cmap=\"Accent\",\n",
    "    legend=True\n",
    ")\n",
    "axes[0].set_title(\"Mall coverage by car\")\n",
    "mall_dominance.plot(\n",
    "    ax=axes[1],\n",
    "    column=\"shortest_car\",\n",
    "    cmap=\"RdYlBu_r\",\n",
    "    legend=True\n",
    ")\n",
    "axes[1].set_title(\"Car travel time to nearest mall\")\n",
    "mall_dominance.plot(\n",
    "    ax=axes[2],\n",
    "    column=\"shortest_walk_mall\",\n",
    "    cmap=\"Accent\",\n",
    "    legend=True\n",
    ")\n",
    "axes[2].set_title(\"Mall coverage on foot\")\n",
    "mall_dominance.plot(\n",
    "    ax=axes[3],\n",
    "    column=\"shortest_walk\",\n",
    "    cmap=\"RdYlBu_r\",\n",
    "    legend=True\n",
    ")\n",
    "axes[3].set_title(\"Walking time to nearest mall\")\n",
    "plt.tight_layout()"
   ]
  },
  {
   "cell_type": "markdown",
   "id": "1410cefb-3505-4822-9e2e-b774bf0786ad",
   "metadata": {},
   "source": [
    "### 3\n"
   ]
  },
  {
   "cell_type": "code",
   "execution_count": 461,
   "id": "d96fd4fb-321f-4814-a065-bd680299f30a",
   "metadata": {},
   "outputs": [],
   "source": [
    "url = \"https://kartta.hsy.fi/geoserver/wfs\"\n",
    "\n",
    "params = dict(service='WFS', \n",
    "              version='2.0.0', \n",
    "              request='GetFeature', \n",
    "              typeName='asuminen_ja_maankaytto:Vaestotietoruudukko_2018', \n",
    "              outputFormat='json')\n",
    "\n",
    "req = requests.get(url, params=params)\n",
    "\n",
    "pop = (gpd.GeoDataFrame.from_features(geojson.loads(req.content))\n",
    "       .rename(\n",
    "           columns={\"asukkaita\": \"population\"}\n",
    "       )\n",
    "       [[\"geometry\", \"population\"]]\n",
    "       .set_crs(epsg=3879)\n",
    "       .to_crs(epsg=3067)\n",
    "      )"
   ]
  },
  {
   "cell_type": "code",
   "execution_count": 462,
   "id": "ce39f4ed-5399-4722-945c-e4dfd399ac5a",
   "metadata": {},
   "outputs": [
    {
     "data": {
      "text/plain": [
       "<Derived Projected CRS: EPSG:3067>\n",
       "Name: ETRS89 / TM35FIN(E,N)\n",
       "Axis Info [cartesian]:\n",
       "- E[east]: Easting (metre)\n",
       "- N[north]: Northing (metre)\n",
       "Area of Use:\n",
       "- name: Finland - onshore and offshore.\n",
       "- bounds: (19.08, 58.84, 31.59, 70.09)\n",
       "Coordinate Operation:\n",
       "- name: TM35FIN\n",
       "- method: Transverse Mercator\n",
       "Datum: European Terrestrial Reference System 1989 ensemble\n",
       "- Ellipsoid: GRS 1980\n",
       "- Prime Meridian: Greenwich"
      ]
     },
     "execution_count": 462,
     "metadata": {},
     "output_type": "execute_result"
    }
   ],
   "source": [
    "pop.crs"
   ]
  },
  {
   "cell_type": "code",
   "execution_count": 460,
   "id": "9605bf12-0bcb-40d9-816a-5201ed57afc7",
   "metadata": {},
   "outputs": [
    {
     "data": {
      "text/plain": [
       "<Derived Projected CRS: EPSG:3067>\n",
       "Name: ETRS89 / TM35FIN(E,N)\n",
       "Axis Info [cartesian]:\n",
       "- E[east]: Easting (metre)\n",
       "- N[north]: Northing (metre)\n",
       "Area of Use:\n",
       "- name: Finland - onshore and offshore.\n",
       "- bounds: (19.08, 58.84, 31.59, 70.09)\n",
       "Coordinate Operation:\n",
       "- name: TM35FIN\n",
       "- method: Transverse Mercator\n",
       "Datum: European Terrestrial Reference System 1989 ensemble\n",
       "- Ellipsoid: GRS 1980\n",
       "- Prime Meridian: Greenwich"
      ]
     },
     "execution_count": 460,
     "metadata": {},
     "output_type": "execute_result"
    }
   ],
   "source": [
    "mall_dominance.crs"
   ]
  },
  {
   "cell_type": "code",
   "execution_count": 469,
   "id": "105edac6-ab0f-482e-b9e2-c4b7732a5ee4",
   "metadata": {},
   "outputs": [],
   "source": [
    "mall_dominance_walk = (mall_dominance\n",
    "                       [[\"geometry\", \"shortest_walk\", \"shortest_walk_mall\"]]\n",
    "                       .dissolve(\n",
    "                           by=\"shortest_walk_mall\",\n",
    "                           aggfunc=\"max\"\n",
    "                       )\n",
    "                       .reset_index()\n",
    "                      )"
   ]
  },
  {
   "cell_type": "code",
   "execution_count": 470,
   "id": "e8f43057-5186-4257-9420-02eae792bb55",
   "metadata": {},
   "outputs": [
    {
     "data": {
      "text/html": [
       "<div>\n",
       "<style scoped>\n",
       "    .dataframe tbody tr th:only-of-type {\n",
       "        vertical-align: middle;\n",
       "    }\n",
       "\n",
       "    .dataframe tbody tr th {\n",
       "        vertical-align: top;\n",
       "    }\n",
       "\n",
       "    .dataframe thead th {\n",
       "        text-align: right;\n",
       "    }\n",
       "</style>\n",
       "<table border=\"1\" class=\"dataframe\">\n",
       "  <thead>\n",
       "    <tr style=\"text-align: right;\">\n",
       "      <th></th>\n",
       "      <th>shortest_walk_mall</th>\n",
       "      <th>geometry</th>\n",
       "      <th>shortest_walk</th>\n",
       "    </tr>\n",
       "  </thead>\n",
       "  <tbody>\n",
       "    <tr>\n",
       "      <th>0</th>\n",
       "      <td>Dixi</td>\n",
       "      <td>MULTIPOLYGON (((384500.000 6675750.000, 384250...</td>\n",
       "      <td>96.0</td>\n",
       "    </tr>\n",
       "    <tr>\n",
       "      <th>1</th>\n",
       "      <td>Forum</td>\n",
       "      <td>MULTIPOLYGON (((377750.000 6676750.000, 378000...</td>\n",
       "      <td>107.0</td>\n",
       "    </tr>\n",
       "    <tr>\n",
       "      <th>2</th>\n",
       "      <td>IsoOmena</td>\n",
       "      <td>MULTIPOLYGON (((363250.000 6676750.000, 363000...</td>\n",
       "      <td>126.0</td>\n",
       "    </tr>\n",
       "    <tr>\n",
       "      <th>3</th>\n",
       "      <td>Itis</td>\n",
       "      <td>MULTIPOLYGON (((389750.000 6672500.000, 389750...</td>\n",
       "      <td>124.0</td>\n",
       "    </tr>\n",
       "    <tr>\n",
       "      <th>4</th>\n",
       "      <td>Jumbo</td>\n",
       "      <td>MULTIPOLYGON (((375250.000 6684750.000, 375250...</td>\n",
       "      <td>104.0</td>\n",
       "    </tr>\n",
       "  </tbody>\n",
       "</table>\n",
       "</div>"
      ],
      "text/plain": [
       "  shortest_walk_mall                                           geometry  \\\n",
       "0               Dixi  MULTIPOLYGON (((384500.000 6675750.000, 384250...   \n",
       "1              Forum  MULTIPOLYGON (((377750.000 6676750.000, 378000...   \n",
       "2           IsoOmena  MULTIPOLYGON (((363250.000 6676750.000, 363000...   \n",
       "3               Itis  MULTIPOLYGON (((389750.000 6672500.000, 389750...   \n",
       "4              Jumbo  MULTIPOLYGON (((375250.000 6684750.000, 375250...   \n",
       "\n",
       "   shortest_walk  \n",
       "0           96.0  \n",
       "1          107.0  \n",
       "2          126.0  \n",
       "3          124.0  \n",
       "4          104.0  "
      ]
     },
     "execution_count": 470,
     "metadata": {},
     "output_type": "execute_result"
    }
   ],
   "source": [
    "mall_dominance_walk.head()"
   ]
  },
  {
   "cell_type": "code",
   "execution_count": 471,
   "id": "31eb1dce-574b-4fbd-b3d6-7117f394ee05",
   "metadata": {},
   "outputs": [],
   "source": [
    "mall_dominance_car = (mall_dominance\n",
    "                      [[\"geometry\", \"shortest_car\", \"shortest_car_mall\"]]\n",
    "                      .dissolve(\n",
    "                          by=\"shortest_car_mall\",\n",
    "                          aggfunc=\"max\"\n",
    "                      )\n",
    "                      .reset_index()\n",
    "                     )"
   ]
  },
  {
   "cell_type": "code",
   "execution_count": 489,
   "id": "340cecd2-c778-47e8-be21-d6024314ac6f",
   "metadata": {},
   "outputs": [
    {
     "data": {
      "text/plain": [
       "geopandas.geodataframe.GeoDataFrame"
      ]
     },
     "execution_count": 489,
     "metadata": {},
     "output_type": "execute_result"
    }
   ],
   "source": [
    "type(mall_dominance_walk)"
   ]
  },
  {
   "cell_type": "code",
   "execution_count": 490,
   "id": "c8632434-1e8c-4f03-a7b9-7b9bbf2a280f",
   "metadata": {},
   "outputs": [
    {
     "data": {
      "text/plain": [
       "geopandas.geodataframe.GeoDataFrame"
      ]
     },
     "execution_count": 490,
     "metadata": {},
     "output_type": "execute_result"
    }
   ],
   "source": [
    "type(pop)"
   ]
  },
  {
   "cell_type": "code",
   "execution_count": 491,
   "id": "cf024a66-f688-4316-9817-34881444acb4",
   "metadata": {},
   "outputs": [],
   "source": [
    "mall_walk_pop = mall_dominance_walk.sjoin(pop,\n",
    "                                          predicate=\"intersects\"\n",
    "                                         )"
   ]
  },
  {
   "cell_type": "code",
   "execution_count": 492,
   "id": "43aa84b2-3fb8-4fa9-bf84-8ce6c5f15239",
   "metadata": {},
   "outputs": [
    {
     "data": {
      "text/html": [
       "<div>\n",
       "<style scoped>\n",
       "    .dataframe tbody tr th:only-of-type {\n",
       "        vertical-align: middle;\n",
       "    }\n",
       "\n",
       "    .dataframe tbody tr th {\n",
       "        vertical-align: top;\n",
       "    }\n",
       "\n",
       "    .dataframe thead th {\n",
       "        text-align: right;\n",
       "    }\n",
       "</style>\n",
       "<table border=\"1\" class=\"dataframe\">\n",
       "  <thead>\n",
       "    <tr style=\"text-align: right;\">\n",
       "      <th></th>\n",
       "      <th>shortest_walk_mall</th>\n",
       "      <th>geometry</th>\n",
       "      <th>shortest_walk</th>\n",
       "      <th>index_right</th>\n",
       "      <th>population</th>\n",
       "    </tr>\n",
       "  </thead>\n",
       "  <tbody>\n",
       "    <tr>\n",
       "      <th>0</th>\n",
       "      <td>Dixi</td>\n",
       "      <td>MULTIPOLYGON (((384500.000 6675750.000, 384250...</td>\n",
       "      <td>96.0</td>\n",
       "      <td>4407</td>\n",
       "      <td>8</td>\n",
       "    </tr>\n",
       "    <tr>\n",
       "      <th>3</th>\n",
       "      <td>Itis</td>\n",
       "      <td>MULTIPOLYGON (((389750.000 6672500.000, 389750...</td>\n",
       "      <td>124.0</td>\n",
       "      <td>4407</td>\n",
       "      <td>8</td>\n",
       "    </tr>\n",
       "    <tr>\n",
       "      <th>0</th>\n",
       "      <td>Dixi</td>\n",
       "      <td>MULTIPOLYGON (((384500.000 6675750.000, 384250...</td>\n",
       "      <td>96.0</td>\n",
       "      <td>3889</td>\n",
       "      <td>525</td>\n",
       "    </tr>\n",
       "    <tr>\n",
       "      <th>3</th>\n",
       "      <td>Itis</td>\n",
       "      <td>MULTIPOLYGON (((389750.000 6672500.000, 389750...</td>\n",
       "      <td>124.0</td>\n",
       "      <td>3889</td>\n",
       "      <td>525</td>\n",
       "    </tr>\n",
       "    <tr>\n",
       "      <th>0</th>\n",
       "      <td>Dixi</td>\n",
       "      <td>MULTIPOLYGON (((384500.000 6675750.000, 384250...</td>\n",
       "      <td>96.0</td>\n",
       "      <td>3853</td>\n",
       "      <td>166</td>\n",
       "    </tr>\n",
       "  </tbody>\n",
       "</table>\n",
       "</div>"
      ],
      "text/plain": [
       "  shortest_walk_mall                                           geometry  \\\n",
       "0               Dixi  MULTIPOLYGON (((384500.000 6675750.000, 384250...   \n",
       "3               Itis  MULTIPOLYGON (((389750.000 6672500.000, 389750...   \n",
       "0               Dixi  MULTIPOLYGON (((384500.000 6675750.000, 384250...   \n",
       "3               Itis  MULTIPOLYGON (((389750.000 6672500.000, 389750...   \n",
       "0               Dixi  MULTIPOLYGON (((384500.000 6675750.000, 384250...   \n",
       "\n",
       "   shortest_walk  index_right  population  \n",
       "0           96.0         4407           8  \n",
       "3          124.0         4407           8  \n",
       "0           96.0         3889         525  \n",
       "3          124.0         3889         525  \n",
       "0           96.0         3853         166  "
      ]
     },
     "execution_count": 492,
     "metadata": {},
     "output_type": "execute_result"
    }
   ],
   "source": [
    "mall_walk_pop.head()"
   ]
  },
  {
   "cell_type": "code",
   "execution_count": 493,
   "id": "7fe01c99-2f9b-42d9-ac51-f7af1c796243",
   "metadata": {},
   "outputs": [
    {
     "data": {
      "text/plain": [
       "geopandas.geodataframe.GeoDataFrame"
      ]
     },
     "execution_count": 493,
     "metadata": {},
     "output_type": "execute_result"
    }
   ],
   "source": [
    "type(mall_walk_pop)"
   ]
  },
  {
   "cell_type": "code",
   "execution_count": 494,
   "id": "519f44fe-6781-492d-83d6-30917cbce43a",
   "metadata": {},
   "outputs": [],
   "source": [
    "mall_walk_pop = (mall_walk_pop\n",
    "                 .groupby(\n",
    "                     by=\"shortest_walk_mall\"\n",
    "                 )\n",
    "                 .agg(\n",
    "                     pop_coverage=(\"population\", sum),\n",
    "                     geometry=(\"geometry\", \"first\")\n",
    "                 )\n",
    "                 .set_geometry(\"geometry\")\n",
    "                 .reset_index()\n",
    "                )"
   ]
  },
  {
   "cell_type": "code",
   "execution_count": 498,
   "id": "da04016b-bc65-4e7b-92d6-2791d622ac1c",
   "metadata": {},
   "outputs": [
    {
     "data": {
      "text/html": [
       "<div>\n",
       "<style scoped>\n",
       "    .dataframe tbody tr th:only-of-type {\n",
       "        vertical-align: middle;\n",
       "    }\n",
       "\n",
       "    .dataframe tbody tr th {\n",
       "        vertical-align: top;\n",
       "    }\n",
       "\n",
       "    .dataframe thead th {\n",
       "        text-align: right;\n",
       "    }\n",
       "</style>\n",
       "<table border=\"1\" class=\"dataframe\">\n",
       "  <thead>\n",
       "    <tr style=\"text-align: right;\">\n",
       "      <th></th>\n",
       "      <th>shortest_walk_mall</th>\n",
       "      <th>pop_coverage</th>\n",
       "      <th>geometry</th>\n",
       "    </tr>\n",
       "  </thead>\n",
       "  <tbody>\n",
       "    <tr>\n",
       "      <th>0</th>\n",
       "      <td>Dixi</td>\n",
       "      <td>223770</td>\n",
       "      <td>MULTIPOLYGON (((384500.000 6675750.000, 384250...</td>\n",
       "    </tr>\n",
       "    <tr>\n",
       "      <th>1</th>\n",
       "      <td>Forum</td>\n",
       "      <td>259697</td>\n",
       "      <td>MULTIPOLYGON (((377750.000 6676750.000, 378000...</td>\n",
       "    </tr>\n",
       "    <tr>\n",
       "      <th>2</th>\n",
       "      <td>IsoOmena</td>\n",
       "      <td>201205</td>\n",
       "      <td>MULTIPOLYGON (((363250.000 6676750.000, 363000...</td>\n",
       "    </tr>\n",
       "    <tr>\n",
       "      <th>3</th>\n",
       "      <td>Itis</td>\n",
       "      <td>212502</td>\n",
       "      <td>MULTIPOLYGON (((389750.000 6672500.000, 389750...</td>\n",
       "    </tr>\n",
       "    <tr>\n",
       "      <th>4</th>\n",
       "      <td>Jumbo</td>\n",
       "      <td>79573</td>\n",
       "      <td>MULTIPOLYGON (((375250.000 6684750.000, 375250...</td>\n",
       "    </tr>\n",
       "    <tr>\n",
       "      <th>5</th>\n",
       "      <td>Myyrmanni</td>\n",
       "      <td>231630</td>\n",
       "      <td>MULTIPOLYGON (((368000.000 6681500.000, 368000...</td>\n",
       "    </tr>\n",
       "    <tr>\n",
       "      <th>6</th>\n",
       "      <td>Ruoholahti</td>\n",
       "      <td>87856</td>\n",
       "      <td>MULTIPOLYGON (((376500.000 6672000.000, 376250...</td>\n",
       "    </tr>\n",
       "  </tbody>\n",
       "</table>\n",
       "</div>"
      ],
      "text/plain": [
       "  shortest_walk_mall  pop_coverage  \\\n",
       "0               Dixi        223770   \n",
       "1              Forum        259697   \n",
       "2           IsoOmena        201205   \n",
       "3               Itis        212502   \n",
       "4              Jumbo         79573   \n",
       "5          Myyrmanni        231630   \n",
       "6         Ruoholahti         87856   \n",
       "\n",
       "                                            geometry  \n",
       "0  MULTIPOLYGON (((384500.000 6675750.000, 384250...  \n",
       "1  MULTIPOLYGON (((377750.000 6676750.000, 378000...  \n",
       "2  MULTIPOLYGON (((363250.000 6676750.000, 363000...  \n",
       "3  MULTIPOLYGON (((389750.000 6672500.000, 389750...  \n",
       "4  MULTIPOLYGON (((375250.000 6684750.000, 375250...  \n",
       "5  MULTIPOLYGON (((368000.000 6681500.000, 368000...  \n",
       "6  MULTIPOLYGON (((376500.000 6672000.000, 376250...  "
      ]
     },
     "execution_count": 498,
     "metadata": {},
     "output_type": "execute_result"
    }
   ],
   "source": [
    "mall_walk_pop"
   ]
  },
  {
   "cell_type": "code",
   "execution_count": 497,
   "id": "6e917251-0e75-48f8-9ad9-f5cd8a7bb300",
   "metadata": {},
   "outputs": [
    {
     "data": {
      "text/plain": [
       "<AxesSubplot:>"
      ]
     },
     "execution_count": 497,
     "metadata": {},
     "output_type": "execute_result"
    },
    {
     "data": {
      "image/png": "[encoded data removed]",
      "text/plain": [
       "<Figure size 432x288 with 2 Axes>"
      ]
     },
     "metadata": {
      "needs_background": "light"
     },
     "output_type": "display_data"
    }
   ],
   "source": [
    "(mall_walk_pop\n",
    " .plot(\n",
    "     column=\"pop_coverage\",\n",
    "     cmap=\"RdYlBu_r\",\n",
    "     legend=True\n",
    " )\n",
    ")"
   ]
  }
 ],
 "metadata": {
  "kernelspec": {
   "display_name": "Python (gis)",
   "language": "python",
   "name": "python-gis"
  },
  "language_info": {
   "codemirror_mode": {
    "name": "ipython",
    "version": 3
   },
   "file_extension": ".py",
   "mimetype": "text/x-python",
   "name": "python",
   "nbconvert_exporter": "python",
   "pygments_lexer": "ipython3",
   "version": "3.8.12"
  }
 },
 "nbformat": 4,
 "nbformat_minor": 5
}
